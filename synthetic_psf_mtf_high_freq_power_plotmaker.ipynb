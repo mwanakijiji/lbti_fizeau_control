{
 "cells": [
  {
   "cell_type": "code",
   "execution_count": null,
   "metadata": {},
   "outputs": [],
   "source": [
    "# This makes plots of synthetic PSFs and the MTFs for the 2019 SPIE article.\n",
    "\n",
    "# Created 2019 Aug 10 by E.S."
   ]
  },
  {
   "cell_type": "code",
   "execution_count": 29,
   "metadata": {},
   "outputs": [],
   "source": [
    "import numpy as np\n",
    "import matplotlib.pyplot as plt\n",
    "import glob\n",
    "from astropy.io import fits\n",
    "from matplotlib.colors import LogNorm\n",
    "%matplotlib inline"
   ]
  },
  {
   "cell_type": "code",
   "execution_count": 30,
   "metadata": {},
   "outputs": [],
   "source": [
    "# get filenames\n",
    "\n",
    "file_list = glob.glob(\"./junk/*sim*fits\")"
   ]
  },
  {
   "cell_type": "code",
   "execution_count": 34,
   "metadata": {},
   "outputs": [
    {
     "name": "stderr",
     "output_type": "stream",
     "text": [
      "/Users/nyumbani/anaconda3/envs/py366/lib/python3.6/site-packages/matplotlib/colors.py:1031: RuntimeWarning: invalid value encountered in less_equal\n",
      "  mask |= resdat <= 0\n"
     ]
    },
    {
     "name": "stdout",
     "output_type": "stream",
     "text": [
      "----------\n",
      "----------\n",
      "----------\n",
      "----------\n",
      "----------\n",
      "----------\n",
      "----------\n",
      "----------\n",
      "----------\n",
      "----------\n",
      "----------\n",
      "----------\n"
     ]
    },
    {
     "data": {
      "text/plain": [
       "<Figure size 432x288 with 0 Axes>"
      ]
     },
     "metadata": {},
     "output_type": "display_data"
    },
    {
     "data": {
      "text/plain": [
       "<Figure size 432x288 with 0 Axes>"
      ]
     },
     "metadata": {},
     "output_type": "display_data"
    },
    {
     "data": {
      "text/plain": [
       "<Figure size 432x288 with 0 Axes>"
      ]
     },
     "metadata": {},
     "output_type": "display_data"
    },
    {
     "data": {
      "text/plain": [
       "<Figure size 432x288 with 0 Axes>"
      ]
     },
     "metadata": {},
     "output_type": "display_data"
    },
    {
     "data": {
      "text/plain": [
       "<Figure size 432x288 with 0 Axes>"
      ]
     },
     "metadata": {},
     "output_type": "display_data"
    },
    {
     "data": {
      "text/plain": [
       "<Figure size 432x288 with 0 Axes>"
      ]
     },
     "metadata": {},
     "output_type": "display_data"
    },
    {
     "data": {
      "text/plain": [
       "<Figure size 432x288 with 0 Axes>"
      ]
     },
     "metadata": {},
     "output_type": "display_data"
    },
    {
     "data": {
      "text/plain": [
       "<Figure size 432x288 with 0 Axes>"
      ]
     },
     "metadata": {},
     "output_type": "display_data"
    },
    {
     "data": {
      "text/plain": [
       "<Figure size 432x288 with 0 Axes>"
      ]
     },
     "metadata": {},
     "output_type": "display_data"
    },
    {
     "data": {
      "text/plain": [
       "<Figure size 432x288 with 0 Axes>"
      ]
     },
     "metadata": {},
     "output_type": "display_data"
    },
    {
     "data": {
      "text/plain": [
       "<Figure size 432x288 with 0 Axes>"
      ]
     },
     "metadata": {},
     "output_type": "display_data"
    },
    {
     "data": {
      "text/plain": [
       "<Figure size 432x288 with 0 Axes>"
      ]
     },
     "metadata": {},
     "output_type": "display_data"
    },
    {
     "data": {
      "text/plain": [
       "<Figure size 432x288 with 0 Axes>"
      ]
     },
     "metadata": {},
     "output_type": "display_data"
    }
   ],
   "source": [
    "for t in range(0,len(file_list)):\n",
    "\n",
    "    plt.clf()\n",
    "    \n",
    "    image, header = fits.getdata(file_list[t], 0, header=True)\n",
    "\n",
    "    N = 50\n",
    "    psf_img = image[0,int(0.5*np.shape(image[0,:,:])[0]-N):int(0.5*np.shape(image[0,:,:])[0]+N),\n",
    "                int(0.5*np.shape(image[0,:,:])[1]-N):int(0.5*np.shape(image[0,:,:])[1]+N)]\n",
    "\n",
    "    fig,ax = plt.subplots(1,2)\n",
    "    ax[0].imshow(psf_img, origin=\"lower\", norm=LogNorm(), cmap=\"gray\")\n",
    "    xy_1 = [10,80]\n",
    "    ax[0].annotate(\"2\", xy=xy_1, xytext=(xy_1[0],xy_1[1]+0.3), color=\"red\", fontsize=20, alpha=1, \n",
    "             arrowprops=dict(arrowstyle=\"-\", color=\"0.5\",\n",
    "                                shrinkA=5, shrinkB=5,\n",
    "                                patchA=None, patchB=None), \n",
    "             bbox=dict(boxstyle='round,pad=0.5', fc='white', alpha=1))\n",
    "    ax[0].set_yticklabels([])\n",
    "    ax[0].set_xticklabels([])\n",
    "    #plt.show()\n",
    "    \n",
    "    mtf_premask = image[1,:,:]\n",
    "    mtf_premask[mtf_premask < 1] = np.nan\n",
    "    mtf_postmask = np.copy(mtf_premask)\n",
    "    ax[1].imshow(mtf_postmask, origin=\"lower\", norm=LogNorm(), cmap=\"gray\")\n",
    "    levels=np.arange(0,10)*2e11\n",
    "    ax[1].contour(mtf_postmask, levels)\n",
    "    ax[1].set_yticklabels([])\n",
    "    ax[1].set_xticklabels([])\n",
    "    \n",
    "    fig.suptitle(str(header[\"OPD_UM\"]))\n",
    "    \n",
    "    plt.tight_layout()\n",
    "    \n",
    "    plt.savefig(\"psf_mtf_demo_\"+str(t)+\".pdf\")\n",
    "    plt.clf()\n",
    "\n",
    "    print(\"----------\")\n"
   ]
  },
  {
   "cell_type": "code",
   "execution_count": 20,
   "metadata": {},
   "outputs": [
    {
     "data": {
      "text/plain": [
       "'/junk/sim_psf_00000001chrom_poly_avgwavel_3699_opd_-1333_tip_0000_tilt_0000_transl_000_PS_10'"
      ]
     },
     "execution_count": 20,
     "metadata": {},
     "output_type": "execute_result"
    }
   ],
   "source": [
    "str(file_list[t]).split(\".\")[1]"
   ]
  },
  {
   "cell_type": "code",
   "execution_count": 19,
   "metadata": {},
   "outputs": [
    {
     "data": {
      "text/plain": [
       "['',\n",
       " '/junk/sim_psf_00000001chrom_poly_avgwavel_3699_opd_-2000_tip_0000_tilt_0000_transl_000_PS_10',\n",
       " 'fits']"
      ]
     },
     "execution_count": 19,
     "metadata": {},
     "output_type": "execute_result"
    }
   ],
   "source": [
    "file_list[0].split(\".\")"
   ]
  },
  {
   "cell_type": "code",
   "execution_count": null,
   "metadata": {},
   "outputs": [],
   "source": []
  }
 ],
 "metadata": {
  "kernelspec": {
   "display_name": "Python 3",
   "language": "python",
   "name": "python3"
  },
  "language_info": {
   "codemirror_mode": {
    "name": "ipython",
    "version": 3
   },
   "file_extension": ".py",
   "mimetype": "text/x-python",
   "name": "python",
   "nbconvert_exporter": "python",
   "pygments_lexer": "ipython3",
   "version": "3.6.6"
  }
 },
 "nbformat": 4,
 "nbformat_minor": 2
}
