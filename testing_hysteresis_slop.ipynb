{
 "cells": [
  {
   "cell_type": "code",
   "execution_count": null,
   "metadata": {
    "collapsed": true
   },
   "outputs": [],
   "source": [
    "# This is for testing for hysteresis and slop using frames\n",
    "# with thermal pinhole images\n",
    "\n",
    "# created 2019 June 23 by E.S."
   ]
  },
  {
   "cell_type": "code",
   "execution_count": 1,
   "metadata": {
    "collapsed": false
   },
   "outputs": [],
   "source": [
    "import matplotlib.pyplot as plt\n",
    "import matplotlib.cm as cm\n",
    "import numpy as np\n",
    "import os\n",
    "import gc\n",
    "from astropy.io import fits\n",
    "import pandas as pd\n",
    "import glob\n",
    "import photutils\n",
    "from photutils import DAOStarFinder\n",
    "%matplotlib qt"
   ]
  },
  {
   "cell_type": "code",
   "execution_count": 2,
   "metadata": {
    "collapsed": true
   },
   "outputs": [],
   "source": [
    "stem = \"/Volumes/seagate_external_drive/lbti_data_reduction/hysteresis_slop/\""
   ]
  },
  {
   "cell_type": "code",
   "execution_count": 3,
   "metadata": {
    "collapsed": false
   },
   "outputs": [],
   "source": [
    "def make_median(date_string, start_frame_num, save_name):\n",
    "    '''\n",
    "    Make median of five frames, starting with the one with the starting frame number\n",
    "    '''\n",
    "    \n",
    "    # initialize cube\n",
    "    frame_cube = np.nan*np.ones((5,2048,2048))\n",
    "    \n",
    "    for t in range(0,5):\n",
    "            \n",
    "        # read in image\n",
    "        sciImg, header = fits.getdata(stem + \"lm_\"+date_string+\"_\"+\n",
    "                                      '%06i'%(start_frame_num+t)+\".fits\",\n",
    "                                      0,header=True)\n",
    "\n",
    "        # take second slice\n",
    "        frame_cube[t,:,:] = sciImg[1,:,:]\n",
    "    \n",
    "        # take median\n",
    "        median_frame_cube = np.median(frame_cube, axis = 0).astype(np.uint16)\n",
    "\n",
    "    hdu = fits.PrimaryHDU(median_frame_cube)\n",
    "    hdulist = fits.HDUList([hdu])\n",
    "    hdu.writeto(save_name, overwrite=True)"
   ]
  },
  {
   "cell_type": "code",
   "execution_count": 4,
   "metadata": {
    "collapsed": false
   },
   "outputs": [],
   "source": [
    "def make_median_dark_subt(date_string, start_frame_num, save_name):\n",
    "    '''\n",
    "    Same as above, but with dark subtraction added in\n",
    "    '''\n",
    "    \n",
    "    # initialize cube\n",
    "    frame_cube = np.nan*np.ones((5,2048,2048))\n",
    "    \n",
    "    for t in range(0,5):\n",
    "            \n",
    "        # read in image\n",
    "        sciImg, header = fits.getdata(stem + \"lm_\"+date_string+\"_\"+\n",
    "                                      '%06i'%(start_frame_num+t)+\".fits\",\n",
    "                                      0,header=True)\n",
    "\n",
    "        # take second slice\n",
    "        frame_cube[t,:,:] = sciImg[1,:,:]\n",
    "    \n",
    "        # take median\n",
    "        median_frame_cube = np.median(frame_cube, axis = 0).astype(np.uint16)\n",
    "        \n",
    "        # dark-subtract\n",
    "        dark, header = fits.getdata(\"med_dark.fits\",\n",
    "                                      0,header=True)\n",
    "        \n",
    "    frame_dark_subt = np.subtract(median_frame_cube,dark)\n",
    "\n",
    "    hdu = fits.PrimaryHDU(frame_dark_subt)\n",
    "    hdulist = fits.HDUList([hdu])\n",
    "    hdu.writeto(save_name, overwrite=True)"
   ]
  },
  {
   "cell_type": "code",
   "execution_count": 7,
   "metadata": {
    "collapsed": false
   },
   "outputs": [],
   "source": [
    "#make_median(\"190217\", 11, \"med_dark.fits\")\n",
    "make_median_dark_subt(\"190217\", 16, \"med_016_020.fits\")\n",
    "make_median_dark_subt(\"190217\", 21, \"med_021_025.fits\")\n",
    "make_median_dark_subt(\"190217\", 26, \"med_026_030.fits\")\n",
    "make_median_dark_subt(\"190217\", 31, \"med_031_035.fits\")\n",
    "make_median_dark_subt(\"190217\", 36, \"med_036_040.fits\")\n",
    "make_median_dark_subt(\"190217\", 41, \"med_041_045.fits\")\n",
    "make_median_dark_subt(\"190217\", 46, \"med_046_050.fits\")"
   ]
  },
  {
   "cell_type": "code",
   "execution_count": 8,
   "metadata": {
    "collapsed": false
   },
   "outputs": [],
   "source": [
    "make_median_dark_subt(\"190218\", 6, \"med_190218_006_010.fits\")\n",
    "make_median_dark_subt(\"190218\", 11, \"med_190218_011_015.fits\")\n",
    "make_median_dark_subt(\"190218\", 16, \"med_190218_016_020.fits\")\n",
    "make_median_dark_subt(\"190218\", 21, \"med_190218_021_025.fits\")\n",
    "make_median_dark_subt(\"190218\", 26, \"med_190218_026_030.fits\")\n",
    "make_median_dark_subt(\"190218\", 31, \"med_190218_031_035.fits\")\n",
    "make_median_dark_subt(\"190218\", 36, \"med_190218_036_040.fits\")\n",
    "make_median_dark_subt(\"190218\", 41, \"med_190218_041_045.fits\")\n",
    "make_median_dark_subt(\"190218\", 46, \"med_190218_046_050.fits\")\n",
    "make_median_dark_subt(\"190218\", 51, \"med_190218_051_055.fits\")\n",
    "make_median_dark_subt(\"190218\", 56, \"med_190218_056_060.fits\")\n",
    "make_median_dark_subt(\"190218\", 61, \"med_190218_061_065.fits\")\n",
    "make_median_dark_subt(\"190218\", 66, \"med_190218_066_070.fits\")\n",
    "make_median_dark_subt(\"190218\", 71, \"med_190218_071_075.fits\")\n",
    "make_median_dark_subt(\"190218\", 76, \"med_190218_076_080.fits\")\n",
    "make_median_dark_subt(\"190218\", 81, \"med_190218_081_085.fits\")\n",
    "make_median_dark_subt(\"190218\", 86, \"med_190218_086_090.fits\")\n",
    "make_median_dark_subt(\"190218\", 91, \"med_190218_091_095.fits\")\n",
    "make_median_dark_subt(\"190218\", 96, \"med_190218_096_100.fits\")\n",
    "make_median_dark_subt(\"190218\", 101, \"med_190218_101_105.fits\")\n",
    "make_median_dark_subt(\"190218\", 106, \"med_190218_106_110.fits\")\n",
    "make_median_dark_subt(\"190218\", 111, \"med_190218_111_115.fits\")\n",
    "make_median_dark_subt(\"190218\", 116, \"med_190218_116_120.fits\")\n",
    "make_median_dark_subt(\"190218\", 121, \"med_190218_121_125.fits\")"
   ]
  },
  {
   "cell_type": "code",
   "execution_count": 54,
   "metadata": {
    "collapsed": true
   },
   "outputs": [],
   "source": [
    "def centroid_psf(file_name, mask=False):\n",
    "    '''\n",
    "    Read in an image and get a precise center of the PSF\n",
    "    '''\n",
    "    \n",
    "    plt.clf()\n",
    "    \n",
    "    # read in image\n",
    "    sciImg, header = fits.getdata(file_name,0,header=True)\n",
    "    \n",
    "    daofind = DAOStarFinder(fwhm=30, threshold=150, exclude_border=True)\n",
    "    \n",
    "    # mask rest of image\n",
    "    if mask:\n",
    "        piece_to_keep_top = sciImg[1095:1180,1518:1614]\n",
    "        piece_to_keep_bottom = sciImg[619:700,1393:1492]\n",
    "        sciImg = np.median(sciImg)*np.ones(np.shape(sciImg))\n",
    "        sciImg[1095:1180,1518:1614] = piece_to_keep_top\n",
    "        sciImg[619:700,1393:1492] = piece_to_keep_bottom   \n",
    "        \n",
    "    # kludge for 1 pixel\n",
    "    sciImg[1135,1567] = sciImg[1135,1566]\n",
    "    \n",
    "    sources = daofind(sciImg)\n",
    "    \n",
    "    plt.imshow(sciImg, origin=\"lower\")\n",
    "    plt.scatter([sources[\"xcentroid\"]],[sources[\"ycentroid\"]])\n",
    "    plt.show()\n",
    "    \n",
    "    print(sources)"
   ]
  },
  {
   "cell_type": "code",
   "execution_count": 12,
   "metadata": {
    "collapsed": false
   },
   "outputs": [
    {
     "name": "stdout",
     "output_type": "stream",
     "text": [
      " id   xcentroid     ycentroid   ...  peak      flux           mag       \n",
      "--- ------------- ------------- ... ----- ------------- ----------------\n",
      "  1 1442.61106461 673.060660987 ... 183.0 1.44518064687  -0.399805342709\n",
      "  2 1557.66587106 1135.60270615 ... 192.0 1.08311592458 -0.0866873528097\n"
     ]
    }
   ],
   "source": [
    "centroid_psf(\"med_016_020.fits\", mask = True)"
   ]
  },
  {
   "cell_type": "code",
   "execution_count": 13,
   "metadata": {
    "collapsed": false
   },
   "outputs": [
    {
     "name": "stdout",
     "output_type": "stream",
     "text": [
      " id   xcentroid     ycentroid   ...  peak      flux           mag      \n",
      "--- ------------- ------------- ... ----- ------------- ---------------\n",
      "  1 1442.43453672  670.14133892 ... 182.0 1.59971679531  -0.51010776114\n",
      "  2 1562.78755879 1134.99355864 ... 194.0 1.11003485226 -0.113341536843\n"
     ]
    }
   ],
   "source": [
    "centroid_psf(\"med_021_025.fits\", mask = True)"
   ]
  },
  {
   "cell_type": "code",
   "execution_count": 14,
   "metadata": {
    "collapsed": false
   },
   "outputs": [
    {
     "name": "stdout",
     "output_type": "stream",
     "text": [
      " id   xcentroid     ycentroid   ...  peak      flux           mag      \n",
      "--- ------------- ------------- ... ----- ------------- ---------------\n",
      "  1 1442.44280197   669.0143762 ... 186.0  1.6528667337 -0.545594597399\n",
      "  2 1568.52076201 1134.83130217 ... 190.0 1.10147299002 -0.104934629954\n"
     ]
    }
   ],
   "source": [
    "centroid_psf(\"med_026_030.fits\", mask = True)"
   ]
  },
  {
   "cell_type": "code",
   "execution_count": 15,
   "metadata": {
    "collapsed": false
   },
   "outputs": [
    {
     "name": "stdout",
     "output_type": "stream",
     "text": [
      " id   xcentroid     ycentroid   ...  peak      flux           mag       \n",
      "--- ------------- ------------- ... ----- ------------- ----------------\n",
      "  1 1442.20903091  667.66081717 ... 188.0 1.70908029866  -0.581906169744\n",
      "  2 1575.71835279 1134.21268847 ... 191.0  1.0881129479 -0.0916849454491\n"
     ]
    }
   ],
   "source": [
    "centroid_psf(\"med_031_035.fits\", mask = True)"
   ]
  },
  {
   "cell_type": "code",
   "execution_count": 16,
   "metadata": {
    "collapsed": false
   },
   "outputs": [
    {
     "name": "stdout",
     "output_type": "stream",
     "text": [
      " id   xcentroid     ycentroid   ...  peak      flux           mag      \n",
      "--- ------------- ------------- ... ----- ------------- ---------------\n",
      "  1 1442.25644211 667.642581035 ... 183.0 1.72578532962 -0.592466932159\n",
      "  2 1571.79233546 1133.90616122 ... 190.0 1.09408814917 -0.097630784787\n"
     ]
    }
   ],
   "source": [
    "centroid_psf(\"med_036_040.fits\", mask = True)"
   ]
  },
  {
   "cell_type": "code",
   "execution_count": 17,
   "metadata": {
    "collapsed": false
   },
   "outputs": [
    {
     "name": "stdout",
     "output_type": "stream",
     "text": [
      " id   xcentroid     ycentroid   ...  peak      flux           mag      \n",
      "--- ------------- ------------- ... ----- ------------- ---------------\n",
      "  1 1442.55230489 667.199841294 ... 183.0 1.72898360429 -0.594477187346\n",
      "  2 1567.45849122 1133.74092645 ... 190.0 1.13239242936 -0.134992393037\n"
     ]
    }
   ],
   "source": [
    "centroid_psf(\"med_041_045.fits\", mask = True)"
   ]
  },
  {
   "cell_type": "code",
   "execution_count": 18,
   "metadata": {
    "collapsed": false
   },
   "outputs": [
    {
     "name": "stdout",
     "output_type": "stream",
     "text": [
      " id   xcentroid     ycentroid   ...  peak      flux           mag       \n",
      "--- ------------- ------------- ... ----- ------------- ----------------\n",
      "  1 1442.56663814 666.291696191 ... 186.0 1.73544165717  -0.598525044881\n",
      "  2 1562.59274538 1133.36879173 ... 191.0 1.08995057592 -0.0935170129941\n"
     ]
    }
   ],
   "source": [
    "centroid_psf(\"med_046_050.fits\", mask = True)"
   ]
  },
  {
   "cell_type": "code",
   "execution_count": 19,
   "metadata": {
    "collapsed": false
   },
   "outputs": [
    {
     "name": "stdout",
     "output_type": "stream",
     "text": [
      " id   xcentroid     ycentroid   ...  peak      flux           mag       \n",
      "--- ------------- ------------- ... ----- ------------- ----------------\n",
      "  1 1442.65971114 665.737573041 ... 181.0 1.77401936806  -0.622395892454\n",
      "  2 1562.08949482 1138.25411073 ... 190.0 1.07345615313 -0.0769607743706\n"
     ]
    }
   ],
   "source": [
    "centroid_psf(\"med_190218_006_010.fits\", mask = True)"
   ]
  },
  {
   "cell_type": "code",
   "execution_count": 20,
   "metadata": {
    "collapsed": false
   },
   "outputs": [
    {
     "name": "stdout",
     "output_type": "stream",
     "text": [
      " id   xcentroid     ycentroid   ...  peak      flux           mag       \n",
      "--- ------------- ------------- ... ----- ------------- ----------------\n",
      "  1 1442.62443566 665.298793384 ... 188.0 1.77675446721  -0.624068540104\n",
      "  2 1561.76388787 1143.69346422 ... 190.0 1.06615581073 -0.0695516955801\n"
     ]
    }
   ],
   "source": [
    "centroid_psf(\"med_190218_011_015.fits\", mask = True)"
   ]
  },
  {
   "cell_type": "code",
   "execution_count": 21,
   "metadata": {
    "collapsed": false
   },
   "outputs": [
    {
     "name": "stdout",
     "output_type": "stream",
     "text": [
      " id   xcentroid     ycentroid   ...  peak      flux            mag        \n",
      "--- ------------- ------------- ... ----- ------------- ------------------\n",
      "  1 1442.72449823 664.907066567 ... 186.0  1.7906694888     -0.63253858434\n",
      "  2 1561.36606657 1150.84746493 ... 192.0 1.00003013983 -3.27234089906e-05\n"
     ]
    }
   ],
   "source": [
    "centroid_psf(\"med_190218_016_020.fits\", mask = True)"
   ]
  },
  {
   "cell_type": "code",
   "execution_count": 25,
   "metadata": {
    "collapsed": false
   },
   "outputs": [
    {
     "name": "stdout",
     "output_type": "stream",
     "text": [
      " id   xcentroid     ycentroid   ...  peak      flux           mag       \n",
      "--- ------------- ------------- ... ----- ------------- ----------------\n",
      "  1  1442.5668857 664.600855583 ... 190.0 1.95685258315  -0.728895274753\n",
      "  2 1561.39267268  1147.6013748 ... 190.0   1.043880546 -0.0466270101194\n"
     ]
    }
   ],
   "source": [
    "centroid_psf(\"med_190218_021_025.fits\", mask = True)"
   ]
  },
  {
   "cell_type": "code",
   "execution_count": 26,
   "metadata": {
    "collapsed": false
   },
   "outputs": [
    {
     "name": "stdout",
     "output_type": "stream",
     "text": [
      " id   xcentroid     ycentroid   ...  peak      flux           mag      \n",
      "--- ------------- ------------- ... ----- ------------- ---------------\n",
      "  1 1442.61019653 664.356085829 ... 189.0 1.96969211826   -0.7359958677\n",
      "  2 1561.60353536 1142.47336763 ... 191.0  1.1206968452 -0.123720373456\n"
     ]
    }
   ],
   "source": [
    "centroid_psf(\"med_190218_026_030.fits\", mask = True)"
   ]
  },
  {
   "cell_type": "code",
   "execution_count": 27,
   "metadata": {
    "collapsed": false
   },
   "outputs": [
    {
     "name": "stdout",
     "output_type": "stream",
     "text": [
      " id   xcentroid     ycentroid   ...  peak      flux           mag      \n",
      "--- ------------- ------------- ... ----- ------------- ---------------\n",
      "  1 1442.49238854 664.010562767 ... 189.0 1.97813247925 -0.740638434381\n",
      "  2 1561.55022534 1137.83979398 ... 191.0 1.16876784935 -0.169320641127\n"
     ]
    }
   ],
   "source": [
    "centroid_psf(\"med_190218_031_035.fits\", mask = True)"
   ]
  },
  {
   "cell_type": "code",
   "execution_count": 28,
   "metadata": {
    "collapsed": false
   },
   "outputs": [
    {
     "name": "stdout",
     "output_type": "stream",
     "text": [
      " id   xcentroid     ycentroid   ...  peak      flux           mag      \n",
      "--- ------------- ------------- ... ----- ------------- ---------------\n",
      "  1 1469.47511727 659.425468574 ... 184.0 1.59812048721 -0.509023797516\n",
      "  2 1561.06948313 1137.44422162 ... 192.0 1.15575082985 -0.157160534854\n"
     ]
    }
   ],
   "source": [
    "centroid_psf(\"med_190218_036_040.fits\", mask = True)"
   ]
  },
  {
   "cell_type": "code",
   "execution_count": 29,
   "metadata": {
    "collapsed": false
   },
   "outputs": [
    {
     "name": "stdout",
     "output_type": "stream",
     "text": [
      " id   xcentroid     ycentroid   ...  peak      flux           mag      \n",
      "--- ------------- ------------- ... ----- ------------- ---------------\n",
      "  1 1449.19735495 659.569348795 ... 186.0 2.10497212409  -0.80811587224\n",
      "  2 1561.00952415 1137.42924744 ... 192.0 1.17658361696 -0.176556992178\n"
     ]
    }
   ],
   "source": [
    "centroid_psf(\"med_190218_041_045.fits\", mask = True)"
   ]
  },
  {
   "cell_type": "code",
   "execution_count": 30,
   "metadata": {
    "collapsed": false
   },
   "outputs": [
    {
     "name": "stdout",
     "output_type": "stream",
     "text": [
      " id   xcentroid     ycentroid   ...  peak      flux           mag      \n",
      "--- ------------- ------------- ... ----- ------------- ---------------\n",
      "  1  1449.0130285 654.314716138 ... 188.0 2.04220634672 -0.775249053872\n",
      "  2 1561.07581152 1137.26372619 ... 191.0 1.16917641496 -0.169700115081\n"
     ]
    }
   ],
   "source": [
    "centroid_psf(\"med_190218_046_050.fits\", mask = True)"
   ]
  },
  {
   "cell_type": "code",
   "execution_count": 31,
   "metadata": {
    "collapsed": false
   },
   "outputs": [
    {
     "name": "stdout",
     "output_type": "stream",
     "text": [
      " id   xcentroid     ycentroid   ...  peak      flux           mag      \n",
      "--- ------------- ------------- ... ----- ------------- ---------------\n",
      "  1  1448.5298193 658.666255349 ... 187.0 2.13868494531 -0.825367030864\n",
      "  2 1561.11247591 1137.06071298 ... 194.0 1.15218220388 -0.153802907536\n"
     ]
    }
   ],
   "source": [
    "centroid_psf(\"med_190218_051_055.fits\", mask = True)"
   ]
  },
  {
   "cell_type": "code",
   "execution_count": 32,
   "metadata": {
    "collapsed": false
   },
   "outputs": [
    {
     "name": "stdout",
     "output_type": "stream",
     "text": [
      " id   xcentroid     ycentroid   ...  peak      flux           mag      \n",
      "--- ------------- ------------- ... ----- ------------- ---------------\n",
      "  1 1448.43748306 658.474184952 ... 187.0  2.1046024213 -0.807925164271\n",
      "  2 1560.87766417  1137.1804002 ... 195.0 1.16708727413  -0.16775833389\n"
     ]
    }
   ],
   "source": [
    "centroid_psf(\"med_190218_056_060.fits\", mask = True)"
   ]
  },
  {
   "cell_type": "code",
   "execution_count": 33,
   "metadata": {
    "collapsed": false
   },
   "outputs": [
    {
     "name": "stdout",
     "output_type": "stream",
     "text": [
      " id   xcentroid     ycentroid   ...  peak      flux           mag      \n",
      "--- ------------- ------------- ... ----- ------------- ---------------\n",
      "  1 1448.57759423 658.382283421 ... 185.0 2.09717205457 -0.804085154947\n",
      "  2 1560.79691565 1136.96595144 ... 197.0 1.16264106971 -0.163614150312\n"
     ]
    }
   ],
   "source": [
    "centroid_psf(\"med_190218_061_065.fits\", mask = True)"
   ]
  },
  {
   "cell_type": "code",
   "execution_count": 34,
   "metadata": {
    "collapsed": false
   },
   "outputs": [
    {
     "name": "stdout",
     "output_type": "stream",
     "text": [
      " id   xcentroid     ycentroid   ...  peak      flux           mag      \n",
      "--- ------------- ------------- ... ----- ------------- ---------------\n",
      "  1 1448.13624498 658.129367144 ... 185.0 2.11267360442 -0.812081015762\n",
      "  2 1560.65362422 1136.88188001 ... 192.0 1.16523010161 -0.166029238276\n"
     ]
    }
   ],
   "source": [
    "centroid_psf(\"med_190218_066_070.fits\", mask = True)"
   ]
  },
  {
   "cell_type": "code",
   "execution_count": 35,
   "metadata": {
    "collapsed": false
   },
   "outputs": [
    {
     "name": "stdout",
     "output_type": "stream",
     "text": [
      " id   xcentroid     ycentroid   ...  peak      flux           mag      \n",
      "--- ------------- ------------- ... ----- ------------- ---------------\n",
      "  1 1448.02512107 658.089196075 ... 185.0 2.09080928215 -0.800786048704\n",
      "  2 1560.62359559 1136.98886772 ... 192.0 1.14778339149  -0.14964984046\n"
     ]
    }
   ],
   "source": [
    "centroid_psf(\"med_190218_071_075.fits\", mask = True)"
   ]
  },
  {
   "cell_type": "code",
   "execution_count": 56,
   "metadata": {
    "collapsed": false
   },
   "outputs": [
    {
     "name": "stdout",
     "output_type": "stream",
     "text": [
      " id   xcentroid     ycentroid   ...  peak      flux           mag      \n",
      "--- ------------- ------------- ... ----- ------------- ---------------\n",
      "  1 1447.53503508 657.317302084 ... 184.0 2.68502365666  -1.07237029111\n",
      "  2 1564.87208182 1136.56457417 ... 192.0 1.64180842794 -0.538306201781\n"
     ]
    }
   ],
   "source": [
    "centroid_psf(\"med_190218_076_080.fits\", mask = True)"
   ]
  },
  {
   "cell_type": "code",
   "execution_count": 57,
   "metadata": {
    "collapsed": false
   },
   "outputs": [
    {
     "name": "stdout",
     "output_type": "stream",
     "text": [
      " id   xcentroid     ycentroid   ...  peak      flux           mag      \n",
      "--- ------------- ------------- ... ----- ------------- ---------------\n",
      "  1 1447.52415548 657.145975123 ... 186.0 2.68631539544  -1.07289250264\n",
      "  2 1565.48331153 1136.54212592 ... 194.0 1.59976221224 -0.510138585414\n"
     ]
    }
   ],
   "source": [
    "centroid_psf(\"med_190218_081_085.fits\", mask = True)"
   ]
  },
  {
   "cell_type": "code",
   "execution_count": 58,
   "metadata": {
    "collapsed": false
   },
   "outputs": [
    {
     "name": "stdout",
     "output_type": "stream",
     "text": [
      " id   xcentroid     ycentroid   ...  peak      flux           mag      \n",
      "--- ------------- ------------- ... ----- ------------- ---------------\n",
      "  1 1447.42993817 657.045795585 ... 185.0 2.68035730994  -1.07048173077\n",
      "  2 1565.93015338 1136.67274415 ... 194.0 1.63948090893 -0.536765909643\n"
     ]
    }
   ],
   "source": [
    "centroid_psf(\"med_190218_086_090.fits\", mask = True)"
   ]
  },
  {
   "cell_type": "code",
   "execution_count": 59,
   "metadata": {
    "collapsed": false
   },
   "outputs": [
    {
     "name": "stdout",
     "output_type": "stream",
     "text": [
      " id   xcentroid     ycentroid   ...  peak      flux           mag      \n",
      "--- ------------- ------------- ... ----- ------------- ---------------\n",
      "  1 1447.37313611  656.96419936 ... 185.0 2.69056957316  -1.07461056645\n",
      "  2 1565.61094604 1136.53699295 ... 193.0 1.65084636796 -0.544266646437\n"
     ]
    }
   ],
   "source": [
    "centroid_psf(\"med_190218_091_095.fits\", mask = True)"
   ]
  },
  {
   "cell_type": "code",
   "execution_count": 60,
   "metadata": {
    "collapsed": false
   },
   "outputs": [
    {
     "name": "stdout",
     "output_type": "stream",
     "text": [
      " id   xcentroid     ycentroid   ...  peak      flux           mag      \n",
      "--- ------------- ------------- ... ----- ------------- ---------------\n",
      "  1 1447.33345175 656.882605983 ... 188.0 2.66609993793  -1.06469106194\n",
      "  2 1565.73654244 1136.90021495 ... 195.0 1.64519572862 -0.540543933228\n"
     ]
    }
   ],
   "source": [
    "centroid_psf(\"med_190218_096_100.fits\", mask = True)"
   ]
  },
  {
   "cell_type": "code",
   "execution_count": 61,
   "metadata": {
    "collapsed": false
   },
   "outputs": [
    {
     "name": "stdout",
     "output_type": "stream",
     "text": [
      " id   xcentroid     ycentroid   ...  peak      flux           mag      \n",
      "--- ------------- ------------- ... ----- ------------- ---------------\n",
      "  1 1447.33982103 656.886723916 ... 183.0 2.64757824253  -1.05712200863\n",
      "  2 1565.62470804 1137.22342468 ... 192.0 1.63091205223 -0.531076355296\n"
     ]
    }
   ],
   "source": [
    "centroid_psf(\"med_190218_101_105.fits\", mask = True)"
   ]
  },
  {
   "cell_type": "code",
   "execution_count": 62,
   "metadata": {
    "collapsed": false
   },
   "outputs": [
    {
     "name": "stdout",
     "output_type": "stream",
     "text": [
      " id   xcentroid     ycentroid   ...  peak      flux           mag      \n",
      "--- ------------- ------------- ... ----- ------------- ---------------\n",
      "  1 1447.34835743   656.7425267 ... 185.0 2.64389842462  -1.05561191517\n",
      "  2 1565.76978036 1136.49068614 ... 194.0 1.64773989445 -0.542221642006\n"
     ]
    }
   ],
   "source": [
    "centroid_psf(\"med_190218_106_110.fits\", mask = True)"
   ]
  },
  {
   "cell_type": "code",
   "execution_count": 63,
   "metadata": {
    "collapsed": false
   },
   "outputs": [
    {
     "name": "stdout",
     "output_type": "stream",
     "text": [
      " id   xcentroid     ycentroid   ...  peak      flux           mag      \n",
      "--- ------------- ------------- ... ----- ------------- ---------------\n",
      "  1  1461.8564016 658.909854484 ... 194.0 2.86127082862  -1.14139741785\n",
      "  2 1566.19925113  1136.2549627 ... 195.0 1.62132093797 -0.524672478196\n"
     ]
    }
   ],
   "source": [
    "centroid_psf(\"med_190218_111_115.fits\", mask = True)"
   ]
  },
  {
   "cell_type": "code",
   "execution_count": 64,
   "metadata": {
    "collapsed": false
   },
   "outputs": [
    {
     "name": "stdout",
     "output_type": "stream",
     "text": [
      " id   xcentroid     ycentroid   ...  peak      flux           mag      \n",
      "--- ------------- ------------- ... ----- ------------- ---------------\n",
      "  1 1475.19254673 660.867380114 ... 190.0 3.46410891917  -1.34897884682\n",
      "  2 1566.09749614 1136.22051073 ... 193.0 1.62335078134 -0.526030935946\n"
     ]
    }
   ],
   "source": [
    "centroid_psf(\"med_190218_116_120.fits\", mask = True)"
   ]
  },
  {
   "cell_type": "code",
   "execution_count": 65,
   "metadata": {
    "collapsed": false
   },
   "outputs": [
    {
     "name": "stdout",
     "output_type": "stream",
     "text": [
      " id   xcentroid     ycentroid   ...  peak      flux          mag     \n",
      "--- ------------- ------------- ... ----- ------------- -------------\n",
      "  1  1446.9324243 656.392151663 ... 185.0 2.57539472984 -1.0271095066\n",
      "  2 1566.20851295 1136.16006459 ... 193.0 1.66643096656 -0.5544683183\n"
     ]
    }
   ],
   "source": [
    "centroid_psf(\"med_190218_121_125.fits\", mask = True)"
   ]
  }
 ],
 "metadata": {
  "kernelspec": {
   "display_name": "Python 2",
   "language": "python",
   "name": "python2"
  },
  "language_info": {
   "codemirror_mode": {
    "name": "ipython",
    "version": 2
   },
   "file_extension": ".py",
   "mimetype": "text/x-python",
   "name": "python",
   "nbconvert_exporter": "python",
   "pygments_lexer": "ipython2",
   "version": "2.7.11"
  }
 },
 "nbformat": 4,
 "nbformat_minor": 2
}
