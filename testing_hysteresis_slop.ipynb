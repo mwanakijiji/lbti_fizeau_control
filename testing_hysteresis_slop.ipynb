{
 "cells": [
  {
   "cell_type": "code",
   "execution_count": null,
   "metadata": {
    "collapsed": true
   },
   "outputs": [],
   "source": [
    "# This is for testing for hysteresis and slop using frames\n",
    "# with thermal pinhole images\n",
    "\n",
    "# created 2019 June 23 by E.S."
   ]
  },
  {
   "cell_type": "code",
   "execution_count": 1,
   "metadata": {
    "collapsed": false
   },
   "outputs": [],
   "source": [
    "import matplotlib.pyplot as plt\n",
    "import matplotlib.cm as cm\n",
    "import numpy as np\n",
    "import os\n",
    "import gc\n",
    "from astropy.io import fits\n",
    "import pandas as pd\n",
    "import glob\n",
    "import photutils\n",
    "from photutils import DAOStarFinder\n",
    "%matplotlib inline\n",
    "#%matplotlib qt"
   ]
  },
  {
   "cell_type": "code",
   "execution_count": 2,
   "metadata": {
    "collapsed": true
   },
   "outputs": [],
   "source": [
    "stem = \"/Volumes/seagate_external_drive/lbti_data_reduction/hysteresis_slop/\""
   ]
  },
  {
   "cell_type": "code",
   "execution_count": 3,
   "metadata": {
    "collapsed": false
   },
   "outputs": [],
   "source": [
    "def make_median(date_string, start_frame_num, save_name):\n",
    "    '''\n",
    "    Make median of five frames, starting with the one with the starting frame number\n",
    "    '''\n",
    "    \n",
    "    # initialize cube\n",
    "    frame_cube = np.nan*np.ones((5,2048,2048))\n",
    "    \n",
    "    for t in range(0,5):\n",
    "            \n",
    "        # read in image\n",
    "        sciImg, header = fits.getdata(stem + \"lm_\"+date_string+\"_\"+\n",
    "                                      '%06i'%(start_frame_num+t)+\".fits\",\n",
    "                                      0,header=True)\n",
    "\n",
    "        # take second slice\n",
    "        frame_cube[t,:,:] = sciImg[1,:,:]\n",
    "    \n",
    "        # take median\n",
    "        median_frame_cube = np.median(frame_cube, axis = 0).astype(np.uint16)\n",
    "\n",
    "    hdu = fits.PrimaryHDU(median_frame_cube)\n",
    "    hdulist = fits.HDUList([hdu])\n",
    "    hdu.writeto(save_name, overwrite=True)"
   ]
  },
  {
   "cell_type": "code",
   "execution_count": 4,
   "metadata": {
    "collapsed": false
   },
   "outputs": [],
   "source": [
    "def make_median_dark_subt(date_string, start_frame_num, save_name):\n",
    "    '''\n",
    "    Same as above, but with dark subtraction added in\n",
    "    '''\n",
    "    \n",
    "    # initialize cube\n",
    "    frame_cube = np.nan*np.ones((5,2048,2048))\n",
    "    \n",
    "    for t in range(0,5):\n",
    "            \n",
    "        # read in image\n",
    "        sciImg, header = fits.getdata(stem + \"lm_\"+date_string+\"_\"+\n",
    "                                      '%06i'%(start_frame_num+t)+\".fits\",\n",
    "                                      0,header=True)\n",
    "\n",
    "        # take second slice\n",
    "        frame_cube[t,:,:] = sciImg[1,:,:]\n",
    "    \n",
    "        # take median\n",
    "        median_frame_cube = np.median(frame_cube, axis = 0).astype(np.uint16)\n",
    "        \n",
    "        # dark-subtract\n",
    "        dark, header = fits.getdata(\"med_dark.fits\",\n",
    "                                      0,header=True)\n",
    "        \n",
    "    frame_dark_subt = np.subtract(median_frame_cube,dark)\n",
    "\n",
    "    hdu = fits.PrimaryHDU(frame_dark_subt)\n",
    "    hdulist = fits.HDUList([hdu])\n",
    "    hdu.writeto(save_name, overwrite=True)"
   ]
  },
  {
   "cell_type": "code",
   "execution_count": 7,
   "metadata": {
    "collapsed": false
   },
   "outputs": [],
   "source": [
    "#make_median(\"190217\", 11, \"med_dark.fits\")\n",
    "make_median_dark_subt(\"190217\", 16, \"med_016_020.fits\")\n",
    "make_median_dark_subt(\"190217\", 21, \"med_021_025.fits\")\n",
    "make_median_dark_subt(\"190217\", 26, \"med_026_030.fits\")\n",
    "make_median_dark_subt(\"190217\", 31, \"med_031_035.fits\")\n",
    "make_median_dark_subt(\"190217\", 36, \"med_036_040.fits\")\n",
    "make_median_dark_subt(\"190217\", 41, \"med_041_045.fits\")\n",
    "make_median_dark_subt(\"190217\", 46, \"med_046_050.fits\")"
   ]
  },
  {
   "cell_type": "code",
   "execution_count": 8,
   "metadata": {
    "collapsed": false
   },
   "outputs": [],
   "source": [
    "make_median_dark_subt(\"190218\", 6, \"med_190218_006_010.fits\")\n",
    "make_median_dark_subt(\"190218\", 11, \"med_190218_011_015.fits\")\n",
    "make_median_dark_subt(\"190218\", 16, \"med_190218_016_020.fits\")\n",
    "make_median_dark_subt(\"190218\", 21, \"med_190218_021_025.fits\")\n",
    "make_median_dark_subt(\"190218\", 26, \"med_190218_026_030.fits\")\n",
    "make_median_dark_subt(\"190218\", 31, \"med_190218_031_035.fits\")\n",
    "make_median_dark_subt(\"190218\", 36, \"med_190218_036_040.fits\")\n",
    "make_median_dark_subt(\"190218\", 41, \"med_190218_041_045.fits\")\n",
    "make_median_dark_subt(\"190218\", 46, \"med_190218_046_050.fits\")\n",
    "make_median_dark_subt(\"190218\", 51, \"med_190218_051_055.fits\")\n",
    "make_median_dark_subt(\"190218\", 56, \"med_190218_056_060.fits\")\n",
    "make_median_dark_subt(\"190218\", 61, \"med_190218_061_065.fits\")\n",
    "make_median_dark_subt(\"190218\", 66, \"med_190218_066_070.fits\")\n",
    "make_median_dark_subt(\"190218\", 71, \"med_190218_071_075.fits\")\n",
    "make_median_dark_subt(\"190218\", 76, \"med_190218_076_080.fits\")\n",
    "make_median_dark_subt(\"190218\", 81, \"med_190218_081_085.fits\")\n",
    "make_median_dark_subt(\"190218\", 86, \"med_190218_086_090.fits\")\n",
    "make_median_dark_subt(\"190218\", 91, \"med_190218_091_095.fits\")\n",
    "make_median_dark_subt(\"190218\", 96, \"med_190218_096_100.fits\")\n",
    "make_median_dark_subt(\"190218\", 101, \"med_190218_101_105.fits\")\n",
    "make_median_dark_subt(\"190218\", 106, \"med_190218_106_110.fits\")\n",
    "make_median_dark_subt(\"190218\", 111, \"med_190218_111_115.fits\")\n",
    "make_median_dark_subt(\"190218\", 116, \"med_190218_116_120.fits\")\n",
    "make_median_dark_subt(\"190218\", 121, \"med_190218_121_125.fits\")"
   ]
  },
  {
   "cell_type": "code",
   "execution_count": 54,
   "metadata": {
    "collapsed": true
   },
   "outputs": [],
   "source": [
    "def centroid_psf(file_name, mask=False):\n",
    "    '''\n",
    "    Read in an image and get a precise center of the PSF\n",
    "    '''\n",
    "    \n",
    "    plt.clf()\n",
    "    \n",
    "    # read in image\n",
    "    sciImg, header = fits.getdata(file_name,0,header=True)\n",
    "    \n",
    "    daofind = DAOStarFinder(fwhm=30, threshold=150, exclude_border=True)\n",
    "    \n",
    "    # mask rest of image\n",
    "    if mask:\n",
    "        piece_to_keep_top = sciImg[1095:1180,1518:1614]\n",
    "        piece_to_keep_bottom = sciImg[619:700,1393:1492]\n",
    "        sciImg = np.median(sciImg)*np.ones(np.shape(sciImg))\n",
    "        sciImg[1095:1180,1518:1614] = piece_to_keep_top\n",
    "        sciImg[619:700,1393:1492] = piece_to_keep_bottom   \n",
    "        \n",
    "    # kludge for 1 pixel\n",
    "    sciImg[1135,1567] = sciImg[1135,1566]\n",
    "    \n",
    "    sources = daofind(sciImg)\n",
    "    \n",
    "    plt.imshow(sciImg, origin=\"lower\")\n",
    "    plt.scatter([sources[\"xcentroid\"]],[sources[\"ycentroid\"]])\n",
    "    plt.show()\n",
    "    \n",
    "    print(sources)"
   ]
  },
  {
   "cell_type": "code",
   "execution_count": 12,
   "metadata": {
    "collapsed": false
   },
   "outputs": [
    {
     "name": "stdout",
     "output_type": "stream",
     "text": [
      " id   xcentroid     ycentroid   ...  peak      flux           mag       \n",
      "--- ------------- ------------- ... ----- ------------- ----------------\n",
      "  1 1442.61106461 673.060660987 ... 183.0 1.44518064687  -0.399805342709\n",
      "  2 1557.66587106 1135.60270615 ... 192.0 1.08311592458 -0.0866873528097\n"
     ]
    }
   ],
   "source": [
    "centroid_psf(\"med_016_020.fits\", mask = True)"
   ]
  },
  {
   "cell_type": "code",
   "execution_count": 13,
   "metadata": {
    "collapsed": false
   },
   "outputs": [
    {
     "name": "stdout",
     "output_type": "stream",
     "text": [
      " id   xcentroid     ycentroid   ...  peak      flux           mag      \n",
      "--- ------------- ------------- ... ----- ------------- ---------------\n",
      "  1 1442.43453672  670.14133892 ... 182.0 1.59971679531  -0.51010776114\n",
      "  2 1562.78755879 1134.99355864 ... 194.0 1.11003485226 -0.113341536843\n"
     ]
    }
   ],
   "source": [
    "centroid_psf(\"med_021_025.fits\", mask = True)"
   ]
  },
  {
   "cell_type": "code",
   "execution_count": 14,
   "metadata": {
    "collapsed": false
   },
   "outputs": [
    {
     "name": "stdout",
     "output_type": "stream",
     "text": [
      " id   xcentroid     ycentroid   ...  peak      flux           mag      \n",
      "--- ------------- ------------- ... ----- ------------- ---------------\n",
      "  1 1442.44280197   669.0143762 ... 186.0  1.6528667337 -0.545594597399\n",
      "  2 1568.52076201 1134.83130217 ... 190.0 1.10147299002 -0.104934629954\n"
     ]
    }
   ],
   "source": [
    "centroid_psf(\"med_026_030.fits\", mask = True)"
   ]
  },
  {
   "cell_type": "code",
   "execution_count": 15,
   "metadata": {
    "collapsed": false
   },
   "outputs": [
    {
     "name": "stdout",
     "output_type": "stream",
     "text": [
      " id   xcentroid     ycentroid   ...  peak      flux           mag       \n",
      "--- ------------- ------------- ... ----- ------------- ----------------\n",
      "  1 1442.20903091  667.66081717 ... 188.0 1.70908029866  -0.581906169744\n",
      "  2 1575.71835279 1134.21268847 ... 191.0  1.0881129479 -0.0916849454491\n"
     ]
    }
   ],
   "source": [
    "centroid_psf(\"med_031_035.fits\", mask = True)"
   ]
  },
  {
   "cell_type": "code",
   "execution_count": 16,
   "metadata": {
    "collapsed": false
   },
   "outputs": [
    {
     "name": "stdout",
     "output_type": "stream",
     "text": [
      " id   xcentroid     ycentroid   ...  peak      flux           mag      \n",
      "--- ------------- ------------- ... ----- ------------- ---------------\n",
      "  1 1442.25644211 667.642581035 ... 183.0 1.72578532962 -0.592466932159\n",
      "  2 1571.79233546 1133.90616122 ... 190.0 1.09408814917 -0.097630784787\n"
     ]
    }
   ],
   "source": [
    "centroid_psf(\"med_036_040.fits\", mask = True)"
   ]
  },
  {
   "cell_type": "code",
   "execution_count": 17,
   "metadata": {
    "collapsed": false
   },
   "outputs": [
    {
     "name": "stdout",
     "output_type": "stream",
     "text": [
      " id   xcentroid     ycentroid   ...  peak      flux           mag      \n",
      "--- ------------- ------------- ... ----- ------------- ---------------\n",
      "  1 1442.55230489 667.199841294 ... 183.0 1.72898360429 -0.594477187346\n",
      "  2 1567.45849122 1133.74092645 ... 190.0 1.13239242936 -0.134992393037\n"
     ]
    }
   ],
   "source": [
    "centroid_psf(\"med_041_045.fits\", mask = True)"
   ]
  },
  {
   "cell_type": "code",
   "execution_count": 18,
   "metadata": {
    "collapsed": false
   },
   "outputs": [
    {
     "name": "stdout",
     "output_type": "stream",
     "text": [
      " id   xcentroid     ycentroid   ...  peak      flux           mag       \n",
      "--- ------------- ------------- ... ----- ------------- ----------------\n",
      "  1 1442.56663814 666.291696191 ... 186.0 1.73544165717  -0.598525044881\n",
      "  2 1562.59274538 1133.36879173 ... 191.0 1.08995057592 -0.0935170129941\n"
     ]
    }
   ],
   "source": [
    "centroid_psf(\"med_046_050.fits\", mask = True)"
   ]
  },
  {
   "cell_type": "code",
   "execution_count": 19,
   "metadata": {
    "collapsed": false
   },
   "outputs": [
    {
     "name": "stdout",
     "output_type": "stream",
     "text": [
      " id   xcentroid     ycentroid   ...  peak      flux           mag       \n",
      "--- ------------- ------------- ... ----- ------------- ----------------\n",
      "  1 1442.65971114 665.737573041 ... 181.0 1.77401936806  -0.622395892454\n",
      "  2 1562.08949482 1138.25411073 ... 190.0 1.07345615313 -0.0769607743706\n"
     ]
    }
   ],
   "source": [
    "centroid_psf(\"med_190218_006_010.fits\", mask = True)"
   ]
  },
  {
   "cell_type": "code",
   "execution_count": 20,
   "metadata": {
    "collapsed": false
   },
   "outputs": [
    {
     "name": "stdout",
     "output_type": "stream",
     "text": [
      " id   xcentroid     ycentroid   ...  peak      flux           mag       \n",
      "--- ------------- ------------- ... ----- ------------- ----------------\n",
      "  1 1442.62443566 665.298793384 ... 188.0 1.77675446721  -0.624068540104\n",
      "  2 1561.76388787 1143.69346422 ... 190.0 1.06615581073 -0.0695516955801\n"
     ]
    }
   ],
   "source": [
    "centroid_psf(\"med_190218_011_015.fits\", mask = True)"
   ]
  },
  {
   "cell_type": "code",
   "execution_count": 21,
   "metadata": {
    "collapsed": false
   },
   "outputs": [
    {
     "name": "stdout",
     "output_type": "stream",
     "text": [
      " id   xcentroid     ycentroid   ...  peak      flux            mag        \n",
      "--- ------------- ------------- ... ----- ------------- ------------------\n",
      "  1 1442.72449823 664.907066567 ... 186.0  1.7906694888     -0.63253858434\n",
      "  2 1561.36606657 1150.84746493 ... 192.0 1.00003013983 -3.27234089906e-05\n"
     ]
    }
   ],
   "source": [
    "centroid_psf(\"med_190218_016_020.fits\", mask = True)"
   ]
  },
  {
   "cell_type": "code",
   "execution_count": 25,
   "metadata": {
    "collapsed": false
   },
   "outputs": [
    {
     "name": "stdout",
     "output_type": "stream",
     "text": [
      " id   xcentroid     ycentroid   ...  peak      flux           mag       \n",
      "--- ------------- ------------- ... ----- ------------- ----------------\n",
      "  1  1442.5668857 664.600855583 ... 190.0 1.95685258315  -0.728895274753\n",
      "  2 1561.39267268  1147.6013748 ... 190.0   1.043880546 -0.0466270101194\n"
     ]
    }
   ],
   "source": [
    "centroid_psf(\"med_190218_021_025.fits\", mask = True)"
   ]
  },
  {
   "cell_type": "code",
   "execution_count": 26,
   "metadata": {
    "collapsed": false
   },
   "outputs": [
    {
     "name": "stdout",
     "output_type": "stream",
     "text": [
      " id   xcentroid     ycentroid   ...  peak      flux           mag      \n",
      "--- ------------- ------------- ... ----- ------------- ---------------\n",
      "  1 1442.61019653 664.356085829 ... 189.0 1.96969211826   -0.7359958677\n",
      "  2 1561.60353536 1142.47336763 ... 191.0  1.1206968452 -0.123720373456\n"
     ]
    }
   ],
   "source": [
    "centroid_psf(\"med_190218_026_030.fits\", mask = True)"
   ]
  },
  {
   "cell_type": "code",
   "execution_count": 27,
   "metadata": {
    "collapsed": false
   },
   "outputs": [
    {
     "name": "stdout",
     "output_type": "stream",
     "text": [
      " id   xcentroid     ycentroid   ...  peak      flux           mag      \n",
      "--- ------------- ------------- ... ----- ------------- ---------------\n",
      "  1 1442.49238854 664.010562767 ... 189.0 1.97813247925 -0.740638434381\n",
      "  2 1561.55022534 1137.83979398 ... 191.0 1.16876784935 -0.169320641127\n"
     ]
    }
   ],
   "source": [
    "centroid_psf(\"med_190218_031_035.fits\", mask = True)"
   ]
  },
  {
   "cell_type": "code",
   "execution_count": 28,
   "metadata": {
    "collapsed": false
   },
   "outputs": [
    {
     "name": "stdout",
     "output_type": "stream",
     "text": [
      " id   xcentroid     ycentroid   ...  peak      flux           mag      \n",
      "--- ------------- ------------- ... ----- ------------- ---------------\n",
      "  1 1469.47511727 659.425468574 ... 184.0 1.59812048721 -0.509023797516\n",
      "  2 1561.06948313 1137.44422162 ... 192.0 1.15575082985 -0.157160534854\n"
     ]
    }
   ],
   "source": [
    "centroid_psf(\"med_190218_036_040.fits\", mask = True)"
   ]
  },
  {
   "cell_type": "code",
   "execution_count": 29,
   "metadata": {
    "collapsed": false
   },
   "outputs": [
    {
     "name": "stdout",
     "output_type": "stream",
     "text": [
      " id   xcentroid     ycentroid   ...  peak      flux           mag      \n",
      "--- ------------- ------------- ... ----- ------------- ---------------\n",
      "  1 1449.19735495 659.569348795 ... 186.0 2.10497212409  -0.80811587224\n",
      "  2 1561.00952415 1137.42924744 ... 192.0 1.17658361696 -0.176556992178\n"
     ]
    }
   ],
   "source": [
    "centroid_psf(\"med_190218_041_045.fits\", mask = True)"
   ]
  },
  {
   "cell_type": "code",
   "execution_count": 30,
   "metadata": {
    "collapsed": false
   },
   "outputs": [
    {
     "name": "stdout",
     "output_type": "stream",
     "text": [
      " id   xcentroid     ycentroid   ...  peak      flux           mag      \n",
      "--- ------------- ------------- ... ----- ------------- ---------------\n",
      "  1  1449.0130285 654.314716138 ... 188.0 2.04220634672 -0.775249053872\n",
      "  2 1561.07581152 1137.26372619 ... 191.0 1.16917641496 -0.169700115081\n"
     ]
    }
   ],
   "source": [
    "centroid_psf(\"med_190218_046_050.fits\", mask = True)"
   ]
  },
  {
   "cell_type": "code",
   "execution_count": 31,
   "metadata": {
    "collapsed": false
   },
   "outputs": [
    {
     "name": "stdout",
     "output_type": "stream",
     "text": [
      " id   xcentroid     ycentroid   ...  peak      flux           mag      \n",
      "--- ------------- ------------- ... ----- ------------- ---------------\n",
      "  1  1448.5298193 658.666255349 ... 187.0 2.13868494531 -0.825367030864\n",
      "  2 1561.11247591 1137.06071298 ... 194.0 1.15218220388 -0.153802907536\n"
     ]
    }
   ],
   "source": [
    "centroid_psf(\"med_190218_051_055.fits\", mask = True)"
   ]
  },
  {
   "cell_type": "code",
   "execution_count": 32,
   "metadata": {
    "collapsed": false
   },
   "outputs": [
    {
     "name": "stdout",
     "output_type": "stream",
     "text": [
      " id   xcentroid     ycentroid   ...  peak      flux           mag      \n",
      "--- ------------- ------------- ... ----- ------------- ---------------\n",
      "  1 1448.43748306 658.474184952 ... 187.0  2.1046024213 -0.807925164271\n",
      "  2 1560.87766417  1137.1804002 ... 195.0 1.16708727413  -0.16775833389\n"
     ]
    }
   ],
   "source": [
    "centroid_psf(\"med_190218_056_060.fits\", mask = True)"
   ]
  },
  {
   "cell_type": "code",
   "execution_count": 33,
   "metadata": {
    "collapsed": false
   },
   "outputs": [
    {
     "name": "stdout",
     "output_type": "stream",
     "text": [
      " id   xcentroid     ycentroid   ...  peak      flux           mag      \n",
      "--- ------------- ------------- ... ----- ------------- ---------------\n",
      "  1 1448.57759423 658.382283421 ... 185.0 2.09717205457 -0.804085154947\n",
      "  2 1560.79691565 1136.96595144 ... 197.0 1.16264106971 -0.163614150312\n"
     ]
    }
   ],
   "source": [
    "centroid_psf(\"med_190218_061_065.fits\", mask = True)"
   ]
  },
  {
   "cell_type": "code",
   "execution_count": 34,
   "metadata": {
    "collapsed": false
   },
   "outputs": [
    {
     "name": "stdout",
     "output_type": "stream",
     "text": [
      " id   xcentroid     ycentroid   ...  peak      flux           mag      \n",
      "--- ------------- ------------- ... ----- ------------- ---------------\n",
      "  1 1448.13624498 658.129367144 ... 185.0 2.11267360442 -0.812081015762\n",
      "  2 1560.65362422 1136.88188001 ... 192.0 1.16523010161 -0.166029238276\n"
     ]
    }
   ],
   "source": [
    "centroid_psf(\"med_190218_066_070.fits\", mask = True)"
   ]
  },
  {
   "cell_type": "code",
   "execution_count": 35,
   "metadata": {
    "collapsed": false
   },
   "outputs": [
    {
     "name": "stdout",
     "output_type": "stream",
     "text": [
      " id   xcentroid     ycentroid   ...  peak      flux           mag      \n",
      "--- ------------- ------------- ... ----- ------------- ---------------\n",
      "  1 1448.02512107 658.089196075 ... 185.0 2.09080928215 -0.800786048704\n",
      "  2 1560.62359559 1136.98886772 ... 192.0 1.14778339149  -0.14964984046\n"
     ]
    }
   ],
   "source": [
    "centroid_psf(\"med_190218_071_075.fits\", mask = True)"
   ]
  },
  {
   "cell_type": "code",
   "execution_count": 56,
   "metadata": {
    "collapsed": false
   },
   "outputs": [
    {
     "name": "stdout",
     "output_type": "stream",
     "text": [
      " id   xcentroid     ycentroid   ...  peak      flux           mag      \n",
      "--- ------------- ------------- ... ----- ------------- ---------------\n",
      "  1 1447.53503508 657.317302084 ... 184.0 2.68502365666  -1.07237029111\n",
      "  2 1564.87208182 1136.56457417 ... 192.0 1.64180842794 -0.538306201781\n"
     ]
    }
   ],
   "source": [
    "centroid_psf(\"med_190218_076_080.fits\", mask = True)"
   ]
  },
  {
   "cell_type": "code",
   "execution_count": 57,
   "metadata": {
    "collapsed": false
   },
   "outputs": [
    {
     "name": "stdout",
     "output_type": "stream",
     "text": [
      " id   xcentroid     ycentroid   ...  peak      flux           mag      \n",
      "--- ------------- ------------- ... ----- ------------- ---------------\n",
      "  1 1447.52415548 657.145975123 ... 186.0 2.68631539544  -1.07289250264\n",
      "  2 1565.48331153 1136.54212592 ... 194.0 1.59976221224 -0.510138585414\n"
     ]
    }
   ],
   "source": [
    "centroid_psf(\"med_190218_081_085.fits\", mask = True)"
   ]
  },
  {
   "cell_type": "code",
   "execution_count": 58,
   "metadata": {
    "collapsed": false
   },
   "outputs": [
    {
     "name": "stdout",
     "output_type": "stream",
     "text": [
      " id   xcentroid     ycentroid   ...  peak      flux           mag      \n",
      "--- ------------- ------------- ... ----- ------------- ---------------\n",
      "  1 1447.42993817 657.045795585 ... 185.0 2.68035730994  -1.07048173077\n",
      "  2 1565.93015338 1136.67274415 ... 194.0 1.63948090893 -0.536765909643\n"
     ]
    }
   ],
   "source": [
    "centroid_psf(\"med_190218_086_090.fits\", mask = True)"
   ]
  },
  {
   "cell_type": "code",
   "execution_count": 59,
   "metadata": {
    "collapsed": false
   },
   "outputs": [
    {
     "name": "stdout",
     "output_type": "stream",
     "text": [
      " id   xcentroid     ycentroid   ...  peak      flux           mag      \n",
      "--- ------------- ------------- ... ----- ------------- ---------------\n",
      "  1 1447.37313611  656.96419936 ... 185.0 2.69056957316  -1.07461056645\n",
      "  2 1565.61094604 1136.53699295 ... 193.0 1.65084636796 -0.544266646437\n"
     ]
    }
   ],
   "source": [
    "centroid_psf(\"med_190218_091_095.fits\", mask = True)"
   ]
  },
  {
   "cell_type": "code",
   "execution_count": 60,
   "metadata": {
    "collapsed": false
   },
   "outputs": [
    {
     "name": "stdout",
     "output_type": "stream",
     "text": [
      " id   xcentroid     ycentroid   ...  peak      flux           mag      \n",
      "--- ------------- ------------- ... ----- ------------- ---------------\n",
      "  1 1447.33345175 656.882605983 ... 188.0 2.66609993793  -1.06469106194\n",
      "  2 1565.73654244 1136.90021495 ... 195.0 1.64519572862 -0.540543933228\n"
     ]
    }
   ],
   "source": [
    "centroid_psf(\"med_190218_096_100.fits\", mask = True)"
   ]
  },
  {
   "cell_type": "code",
   "execution_count": 61,
   "metadata": {
    "collapsed": false
   },
   "outputs": [
    {
     "name": "stdout",
     "output_type": "stream",
     "text": [
      " id   xcentroid     ycentroid   ...  peak      flux           mag      \n",
      "--- ------------- ------------- ... ----- ------------- ---------------\n",
      "  1 1447.33982103 656.886723916 ... 183.0 2.64757824253  -1.05712200863\n",
      "  2 1565.62470804 1137.22342468 ... 192.0 1.63091205223 -0.531076355296\n"
     ]
    }
   ],
   "source": [
    "centroid_psf(\"med_190218_101_105.fits\", mask = True)"
   ]
  },
  {
   "cell_type": "code",
   "execution_count": 62,
   "metadata": {
    "collapsed": false
   },
   "outputs": [
    {
     "name": "stdout",
     "output_type": "stream",
     "text": [
      " id   xcentroid     ycentroid   ...  peak      flux           mag      \n",
      "--- ------------- ------------- ... ----- ------------- ---------------\n",
      "  1 1447.34835743   656.7425267 ... 185.0 2.64389842462  -1.05561191517\n",
      "  2 1565.76978036 1136.49068614 ... 194.0 1.64773989445 -0.542221642006\n"
     ]
    }
   ],
   "source": [
    "centroid_psf(\"med_190218_106_110.fits\", mask = True)"
   ]
  },
  {
   "cell_type": "code",
   "execution_count": 63,
   "metadata": {
    "collapsed": false
   },
   "outputs": [
    {
     "name": "stdout",
     "output_type": "stream",
     "text": [
      " id   xcentroid     ycentroid   ...  peak      flux           mag      \n",
      "--- ------------- ------------- ... ----- ------------- ---------------\n",
      "  1  1461.8564016 658.909854484 ... 194.0 2.86127082862  -1.14139741785\n",
      "  2 1566.19925113  1136.2549627 ... 195.0 1.62132093797 -0.524672478196\n"
     ]
    }
   ],
   "source": [
    "centroid_psf(\"med_190218_111_115.fits\", mask = True)"
   ]
  },
  {
   "cell_type": "code",
   "execution_count": 64,
   "metadata": {
    "collapsed": false
   },
   "outputs": [
    {
     "name": "stdout",
     "output_type": "stream",
     "text": [
      " id   xcentroid     ycentroid   ...  peak      flux           mag      \n",
      "--- ------------- ------------- ... ----- ------------- ---------------\n",
      "  1 1475.19254673 660.867380114 ... 190.0 3.46410891917  -1.34897884682\n",
      "  2 1566.09749614 1136.22051073 ... 193.0 1.62335078134 -0.526030935946\n"
     ]
    }
   ],
   "source": [
    "centroid_psf(\"med_190218_116_120.fits\", mask = True)"
   ]
  },
  {
   "cell_type": "code",
   "execution_count": 65,
   "metadata": {
    "collapsed": false
   },
   "outputs": [
    {
     "name": "stdout",
     "output_type": "stream",
     "text": [
      " id   xcentroid     ycentroid   ...  peak      flux          mag     \n",
      "--- ------------- ------------- ... ----- ------------- -------------\n",
      "  1  1446.9324243 656.392151663 ... 185.0 2.57539472984 -1.0271095066\n",
      "  2 1566.20851295 1136.16006459 ... 193.0 1.66643096656 -0.5544683183\n"
     ]
    }
   ],
   "source": [
    "centroid_psf(\"med_190218_121_125.fits\", mask = True)"
   ]
  },
  {
   "cell_type": "markdown",
   "metadata": {},
   "source": [
    "# Read in csv file of centroid data"
   ]
  },
  {
   "cell_type": "code",
   "execution_count": 19,
   "metadata": {
    "collapsed": true
   },
   "outputs": [],
   "source": [
    "# set plate scale\n",
    "\n",
    "PS = 10.7 # mas/pix"
   ]
  },
  {
   "cell_type": "code",
   "execution_count": 5,
   "metadata": {
    "collapsed": false
   },
   "outputs": [],
   "source": [
    "# hysteresis test 1\n",
    "\n",
    "hysteresis_test = pd.read_csv(\"hysteresis_test_190218.csv\", \n",
    "                              dtype={\"frame_ref\": np.int, \"img_name\": str, \n",
    "                                     \"x1\": np.float64, \"y1\": np.float64,\n",
    "                                     \"x2\": np.float64, \"y2\": np.float64, \n",
    "                                     \"remarks\": str})\n",
    "# include mas equivalents to pixels\n",
    "hysteresis_test[\"mas_x1\"] = PS*hysteresis_test[\"x1\"]\n",
    "hysteresis_test[\"mas_y1\"] = PS*hysteresis_test[\"y1\"]\n",
    "hysteresis_test[\"mas_x2\"] = PS*hysteresis_test[\"x2\"]\n",
    "hysteresis_test[\"mas_y2\"] = PS*hysteresis_test[\"y2\"]"
   ]
  },
  {
   "cell_type": "code",
   "execution_count": 25,
   "metadata": {
    "collapsed": false
   },
   "outputs": [
    {
     "data": {
      "text/plain": [
       "'\\nhysteresis_test_2 = pd.read_csv(\"hysteresis_test_(TBD).csv\", \\n                              dtype={\"frame_ref\": np.int, \"img_name\": str, \\n                                     \"x1\": np.float64, \"y1\": np.float64,\\n                                     \"x2\": np.float64, \"y2\": np.float64, \\n                                     \"remarks\": str})\\n# include mas equivalents to pixels\\nPS = 10.7 # mas/pix\\nhysteresis_test[\"mas_x1\"] = PS*hysteresis_test[\"x1\"]\\nhysteresis_test[\"mas_y1\"] = PS*hysteresis_test[\"y1\"]\\nhysteresis_test[\"mas_x2\"] = PS*hysteresis_test[\"x2\"]\\nhysteresis_test[\"mas_y2\"] = PS*hysteresis_test[\"y2\"]\\n'"
      ]
     },
     "execution_count": 25,
     "metadata": {},
     "output_type": "execute_result"
    }
   ],
   "source": [
    "# hysteresis test 2\n",
    "\n",
    "# placeholder values here\n",
    "hysteresis_test_2 = hysteresis_test.copy()\n",
    "'''\n",
    "hysteresis_test_2 = pd.read_csv(\"hysteresis_test_(TBD).csv\", \n",
    "                              dtype={\"frame_ref\": np.int, \"img_name\": str, \n",
    "                                     \"x1\": np.float64, \"y1\": np.float64,\n",
    "                                     \"x2\": np.float64, \"y2\": np.float64, \n",
    "                                     \"remarks\": str})\n",
    "# include mas equivalents to pixels\n",
    "PS = 10.7 # mas/pix\n",
    "hysteresis_test[\"mas_x1\"] = PS*hysteresis_test[\"x1\"]\n",
    "hysteresis_test[\"mas_y1\"] = PS*hysteresis_test[\"y1\"]\n",
    "hysteresis_test[\"mas_x2\"] = PS*hysteresis_test[\"x2\"]\n",
    "hysteresis_test[\"mas_y2\"] = PS*hysteresis_test[\"y2\"]\n",
    "'''"
   ]
  },
  {
   "cell_type": "code",
   "execution_count": 26,
   "metadata": {
    "collapsed": false
   },
   "outputs": [
    {
     "data": {
      "text/html": [
       "<div>\n",
       "<style scoped>\n",
       "    .dataframe tbody tr th:only-of-type {\n",
       "        vertical-align: middle;\n",
       "    }\n",
       "\n",
       "    .dataframe tbody tr th {\n",
       "        vertical-align: top;\n",
       "    }\n",
       "\n",
       "    .dataframe thead th {\n",
       "        text-align: right;\n",
       "    }\n",
       "</style>\n",
       "<table border=\"1\" class=\"dataframe\">\n",
       "  <thead>\n",
       "    <tr style=\"text-align: right;\">\n",
       "      <th></th>\n",
       "      <th>frame_ref</th>\n",
       "      <th>img_name</th>\n",
       "      <th>x1</th>\n",
       "      <th>y1</th>\n",
       "      <th>x2</th>\n",
       "      <th>y2</th>\n",
       "      <th>remarks</th>\n",
       "      <th>mas_x1</th>\n",
       "      <th>mas_y1</th>\n",
       "      <th>mas_x2</th>\n",
       "      <th>mas_y2</th>\n",
       "    </tr>\n",
       "  </thead>\n",
       "  <tbody>\n",
       "    <tr>\n",
       "      <th>0</th>\n",
       "      <td>0</td>\n",
       "      <td>med_016_020.fits</td>\n",
       "      <td>1442.611065</td>\n",
       "      <td>673.060661</td>\n",
       "      <td>1557.665871</td>\n",
       "      <td>1135.602706</td>\n",
       "      <td>baseline</td>\n",
       "      <td>15435.938391</td>\n",
       "      <td>7201.749073</td>\n",
       "      <td>16667.024820</td>\n",
       "      <td>12150.948956</td>\n",
       "    </tr>\n",
       "    <tr>\n",
       "      <th>1</th>\n",
       "      <td>1</td>\n",
       "      <td>med_021_025.fits</td>\n",
       "      <td>1442.434537</td>\n",
       "      <td>670.141339</td>\n",
       "      <td>1562.787559</td>\n",
       "      <td>1134.993559</td>\n",
       "      <td>FPC (top PSF) tilted to the right by 0.10\" ase...</td>\n",
       "      <td>15434.049543</td>\n",
       "      <td>7170.512326</td>\n",
       "      <td>16721.826879</td>\n",
       "      <td>12144.431077</td>\n",
       "    </tr>\n",
       "    <tr>\n",
       "      <th>2</th>\n",
       "      <td>2</td>\n",
       "      <td>med_026_030.fits</td>\n",
       "      <td>1442.442802</td>\n",
       "      <td>669.014376</td>\n",
       "      <td>1568.520762</td>\n",
       "      <td>1134.831302</td>\n",
       "      <td>another step like the above</td>\n",
       "      <td>15434.137981</td>\n",
       "      <td>7158.453825</td>\n",
       "      <td>16783.172154</td>\n",
       "      <td>12142.694933</td>\n",
       "    </tr>\n",
       "    <tr>\n",
       "      <th>3</th>\n",
       "      <td>3</td>\n",
       "      <td>med_031_035.fits</td>\n",
       "      <td>1442.209031</td>\n",
       "      <td>667.660817</td>\n",
       "      <td>1575.718353</td>\n",
       "      <td>1134.212688</td>\n",
       "      <td>another step like the above</td>\n",
       "      <td>15431.636631</td>\n",
       "      <td>7143.970744</td>\n",
       "      <td>16860.186375</td>\n",
       "      <td>12136.075767</td>\n",
       "    </tr>\n",
       "    <tr>\n",
       "      <th>4</th>\n",
       "      <td>4</td>\n",
       "      <td>med_036_040.fits</td>\n",
       "      <td>1442.256442</td>\n",
       "      <td>667.642581</td>\n",
       "      <td>1571.792335</td>\n",
       "      <td>1133.906161</td>\n",
       "      <td>FPC (top PSF) tilted to the left by 0.10\" asec...</td>\n",
       "      <td>15432.143931</td>\n",
       "      <td>7143.775617</td>\n",
       "      <td>16818.177989</td>\n",
       "      <td>12132.795925</td>\n",
       "    </tr>\n",
       "    <tr>\n",
       "      <th>5</th>\n",
       "      <td>5</td>\n",
       "      <td>med_041_045.fits</td>\n",
       "      <td>1442.552305</td>\n",
       "      <td>667.199841</td>\n",
       "      <td>1567.458491</td>\n",
       "      <td>1133.740926</td>\n",
       "      <td>another step like the above</td>\n",
       "      <td>15435.309662</td>\n",
       "      <td>7139.038302</td>\n",
       "      <td>16771.805856</td>\n",
       "      <td>12131.027913</td>\n",
       "    </tr>\n",
       "    <tr>\n",
       "      <th>6</th>\n",
       "      <td>6</td>\n",
       "      <td>med_046_050.fits</td>\n",
       "      <td>1442.566638</td>\n",
       "      <td>666.291696</td>\n",
       "      <td>1562.592745</td>\n",
       "      <td>1133.368792</td>\n",
       "      <td>another step like the above (should be at star...</td>\n",
       "      <td>15435.463028</td>\n",
       "      <td>7129.321149</td>\n",
       "      <td>16719.742376</td>\n",
       "      <td>12127.046072</td>\n",
       "    </tr>\n",
       "    <tr>\n",
       "      <th>7</th>\n",
       "      <td>7</td>\n",
       "      <td>med_190218_006_010.fits</td>\n",
       "      <td>1442.659711</td>\n",
       "      <td>665.737573</td>\n",
       "      <td>1562.089495</td>\n",
       "      <td>1138.254111</td>\n",
       "      <td>FPC (top PSF) tipped up by 0.10\" asec (i.e. +0...</td>\n",
       "      <td>15436.458909</td>\n",
       "      <td>7123.392032</td>\n",
       "      <td>16714.357595</td>\n",
       "      <td>12179.318985</td>\n",
       "    </tr>\n",
       "    <tr>\n",
       "      <th>8</th>\n",
       "      <td>8</td>\n",
       "      <td>med_190218_011_015.fits</td>\n",
       "      <td>1442.624436</td>\n",
       "      <td>665.298793</td>\n",
       "      <td>1561.763888</td>\n",
       "      <td>1143.693464</td>\n",
       "      <td>another step like the above</td>\n",
       "      <td>15436.081462</td>\n",
       "      <td>7118.697089</td>\n",
       "      <td>16710.873600</td>\n",
       "      <td>12237.520067</td>\n",
       "    </tr>\n",
       "    <tr>\n",
       "      <th>9</th>\n",
       "      <td>9</td>\n",
       "      <td>med_190218_016_020.fits</td>\n",
       "      <td>1442.724498</td>\n",
       "      <td>664.907067</td>\n",
       "      <td>1561.366067</td>\n",
       "      <td>1150.847465</td>\n",
       "      <td>another step like the above</td>\n",
       "      <td>15437.152131</td>\n",
       "      <td>7114.505612</td>\n",
       "      <td>16706.616912</td>\n",
       "      <td>12314.067875</td>\n",
       "    </tr>\n",
       "    <tr>\n",
       "      <th>10</th>\n",
       "      <td>10</td>\n",
       "      <td>med_190218_021_025.fits</td>\n",
       "      <td>1442.566886</td>\n",
       "      <td>664.600856</td>\n",
       "      <td>1561.392673</td>\n",
       "      <td>1147.601375</td>\n",
       "      <td>FPC (top PSF) tipped down by 0.10\" asec (i.e. ...</td>\n",
       "      <td>15435.465677</td>\n",
       "      <td>7111.229155</td>\n",
       "      <td>16706.901598</td>\n",
       "      <td>12279.334710</td>\n",
       "    </tr>\n",
       "    <tr>\n",
       "      <th>11</th>\n",
       "      <td>11</td>\n",
       "      <td>med_190218_026_030.fits</td>\n",
       "      <td>1442.610197</td>\n",
       "      <td>664.356086</td>\n",
       "      <td>1561.603535</td>\n",
       "      <td>1142.473368</td>\n",
       "      <td>another step like the above</td>\n",
       "      <td>15435.929103</td>\n",
       "      <td>7108.610118</td>\n",
       "      <td>16709.157828</td>\n",
       "      <td>12224.465034</td>\n",
       "    </tr>\n",
       "    <tr>\n",
       "      <th>12</th>\n",
       "      <td>12</td>\n",
       "      <td>med_190218_031_035.fits</td>\n",
       "      <td>1442.492389</td>\n",
       "      <td>664.010563</td>\n",
       "      <td>1561.550225</td>\n",
       "      <td>1137.839794</td>\n",
       "      <td>another step like the above (should be at star...</td>\n",
       "      <td>15434.668557</td>\n",
       "      <td>7104.913022</td>\n",
       "      <td>16708.587411</td>\n",
       "      <td>12174.885796</td>\n",
       "    </tr>\n",
       "    <tr>\n",
       "      <th>13</th>\n",
       "      <td>13</td>\n",
       "      <td>med_190218_036_040.fits</td>\n",
       "      <td>1469.475117</td>\n",
       "      <td>659.425469</td>\n",
       "      <td>1561.069483</td>\n",
       "      <td>1137.444222</td>\n",
       "      <td>SPC tilt to the right 0.50\" (after 0.10\" steps)</td>\n",
       "      <td>15723.383755</td>\n",
       "      <td>7055.852514</td>\n",
       "      <td>16703.443469</td>\n",
       "      <td>12170.653171</td>\n",
       "    </tr>\n",
       "    <tr>\n",
       "      <th>14</th>\n",
       "      <td>14</td>\n",
       "      <td>med_190218_041_045.fits</td>\n",
       "      <td>1449.197355</td>\n",
       "      <td>659.569349</td>\n",
       "      <td>1561.009524</td>\n",
       "      <td>1137.429247</td>\n",
       "      <td>moved back (should be at starting point corres...</td>\n",
       "      <td>15506.411698</td>\n",
       "      <td>7057.392032</td>\n",
       "      <td>16702.801908</td>\n",
       "      <td>12170.492948</td>\n",
       "    </tr>\n",
       "    <tr>\n",
       "      <th>15</th>\n",
       "      <td>15</td>\n",
       "      <td>med_190218_046_050.fits</td>\n",
       "      <td>1449.013029</td>\n",
       "      <td>654.314716</td>\n",
       "      <td>1561.075812</td>\n",
       "      <td>1137.263726</td>\n",
       "      <td>SPC tipped down 0.1\"</td>\n",
       "      <td>15504.439405</td>\n",
       "      <td>7001.167463</td>\n",
       "      <td>16703.511183</td>\n",
       "      <td>12168.721870</td>\n",
       "    </tr>\n",
       "    <tr>\n",
       "      <th>16</th>\n",
       "      <td>16</td>\n",
       "      <td>med_190218_051_055.fits</td>\n",
       "      <td>1448.529819</td>\n",
       "      <td>658.666255</td>\n",
       "      <td>1561.112476</td>\n",
       "      <td>1137.060713</td>\n",
       "      <td>SPC tipped up 0.1\" (should be at starting poin...</td>\n",
       "      <td>15499.269067</td>\n",
       "      <td>7047.728932</td>\n",
       "      <td>16703.903492</td>\n",
       "      <td>12166.549629</td>\n",
       "    </tr>\n",
       "    <tr>\n",
       "      <th>17</th>\n",
       "      <td>17</td>\n",
       "      <td>med_190218_056_060.fits</td>\n",
       "      <td>1448.437483</td>\n",
       "      <td>658.474185</td>\n",
       "      <td>1560.877664</td>\n",
       "      <td>1137.180400</td>\n",
       "      <td>SPC translation stage moved 8200 -&gt; 8199.90 um</td>\n",
       "      <td>15498.281069</td>\n",
       "      <td>7045.673779</td>\n",
       "      <td>16701.391007</td>\n",
       "      <td>12167.830282</td>\n",
       "    </tr>\n",
       "    <tr>\n",
       "      <th>18</th>\n",
       "      <td>18</td>\n",
       "      <td>med_190218_061_065.fits</td>\n",
       "      <td>1448.577594</td>\n",
       "      <td>658.382283</td>\n",
       "      <td>1560.796916</td>\n",
       "      <td>1136.965951</td>\n",
       "      <td>8199.90 -&gt; 8189.90 um</td>\n",
       "      <td>15499.780258</td>\n",
       "      <td>7044.690433</td>\n",
       "      <td>16700.526997</td>\n",
       "      <td>12165.535680</td>\n",
       "    </tr>\n",
       "    <tr>\n",
       "      <th>19</th>\n",
       "      <td>19</td>\n",
       "      <td>med_190218_066_070.fits</td>\n",
       "      <td>1448.136245</td>\n",
       "      <td>658.129367</td>\n",
       "      <td>1560.653624</td>\n",
       "      <td>1136.881880</td>\n",
       "      <td>8189.90 -&gt; 8200 um</td>\n",
       "      <td>15495.057821</td>\n",
       "      <td>7041.984228</td>\n",
       "      <td>16698.993779</td>\n",
       "      <td>12164.636116</td>\n",
       "    </tr>\n",
       "    <tr>\n",
       "      <th>20</th>\n",
       "      <td>20</td>\n",
       "      <td>med_190218_071_075.fits</td>\n",
       "      <td>1448.025121</td>\n",
       "      <td>658.089196</td>\n",
       "      <td>1560.623596</td>\n",
       "      <td>1136.988868</td>\n",
       "      <td>71-75: after SPC has shut down</td>\n",
       "      <td>15493.868795</td>\n",
       "      <td>7041.554398</td>\n",
       "      <td>16698.672473</td>\n",
       "      <td>12165.780885</td>\n",
       "    </tr>\n",
       "    <tr>\n",
       "      <th>21</th>\n",
       "      <td>21</td>\n",
       "      <td>med_190218_076_080.fits</td>\n",
       "      <td>1447.535035</td>\n",
       "      <td>657.317302</td>\n",
       "      <td>1564.872082</td>\n",
       "      <td>1136.564574</td>\n",
       "      <td>baseline for small FPC TT</td>\n",
       "      <td>15488.624875</td>\n",
       "      <td>7033.295132</td>\n",
       "      <td>16744.131275</td>\n",
       "      <td>12161.240944</td>\n",
       "    </tr>\n",
       "    <tr>\n",
       "      <th>22</th>\n",
       "      <td>22</td>\n",
       "      <td>med_190218_081_085.fits</td>\n",
       "      <td>1447.524155</td>\n",
       "      <td>657.145975</td>\n",
       "      <td>1565.483312</td>\n",
       "      <td>1136.542126</td>\n",
       "      <td>after tilt of 0.01\"</td>\n",
       "      <td>15488.508464</td>\n",
       "      <td>7031.461934</td>\n",
       "      <td>16750.671433</td>\n",
       "      <td>12161.000747</td>\n",
       "    </tr>\n",
       "    <tr>\n",
       "      <th>23</th>\n",
       "      <td>23</td>\n",
       "      <td>med_190218_086_090.fits</td>\n",
       "      <td>1447.429938</td>\n",
       "      <td>657.045796</td>\n",
       "      <td>1565.930153</td>\n",
       "      <td>1136.672744</td>\n",
       "      <td>another step like the above</td>\n",
       "      <td>15487.500338</td>\n",
       "      <td>7030.390013</td>\n",
       "      <td>16755.452641</td>\n",
       "      <td>12162.398362</td>\n",
       "    </tr>\n",
       "    <tr>\n",
       "      <th>24</th>\n",
       "      <td>24</td>\n",
       "      <td>med_190218_091_095.fits</td>\n",
       "      <td>1447.373136</td>\n",
       "      <td>656.964199</td>\n",
       "      <td>1565.610946</td>\n",
       "      <td>1136.536993</td>\n",
       "      <td>after tilt of -0.02\" (should be at starting po...</td>\n",
       "      <td>15486.892556</td>\n",
       "      <td>7029.516933</td>\n",
       "      <td>16752.037123</td>\n",
       "      <td>12160.945825</td>\n",
       "    </tr>\n",
       "    <tr>\n",
       "      <th>25</th>\n",
       "      <td>25</td>\n",
       "      <td>med_190218_096_100.fits</td>\n",
       "      <td>1447.333452</td>\n",
       "      <td>656.882606</td>\n",
       "      <td>1565.736542</td>\n",
       "      <td>1136.900215</td>\n",
       "      <td>after tip of +0.01\"</td>\n",
       "      <td>15486.467934</td>\n",
       "      <td>7028.643884</td>\n",
       "      <td>16753.381004</td>\n",
       "      <td>12164.832300</td>\n",
       "    </tr>\n",
       "    <tr>\n",
       "      <th>26</th>\n",
       "      <td>26</td>\n",
       "      <td>med_190218_101_105.fits</td>\n",
       "      <td>1447.339821</td>\n",
       "      <td>656.886724</td>\n",
       "      <td>1565.624708</td>\n",
       "      <td>1137.223425</td>\n",
       "      <td>another step like the above</td>\n",
       "      <td>15486.536085</td>\n",
       "      <td>7028.687946</td>\n",
       "      <td>16752.184376</td>\n",
       "      <td>12168.290644</td>\n",
       "    </tr>\n",
       "    <tr>\n",
       "      <th>27</th>\n",
       "      <td>27</td>\n",
       "      <td>med_190218_106_110.fits</td>\n",
       "      <td>1447.348357</td>\n",
       "      <td>656.742527</td>\n",
       "      <td>1565.769780</td>\n",
       "      <td>1136.490686</td>\n",
       "      <td>after tip of -0.02\" (should be at starting poi...</td>\n",
       "      <td>15486.627425</td>\n",
       "      <td>7027.145036</td>\n",
       "      <td>16753.736650</td>\n",
       "      <td>12160.450342</td>\n",
       "    </tr>\n",
       "    <tr>\n",
       "      <th>28</th>\n",
       "      <td>28</td>\n",
       "      <td>med_190218_111_115.fits</td>\n",
       "      <td>1461.856402</td>\n",
       "      <td>658.909854</td>\n",
       "      <td>1566.199251</td>\n",
       "      <td>1136.254963</td>\n",
       "      <td>SPC translation stage moved 8200 -&gt; 7200 um</td>\n",
       "      <td>15641.863497</td>\n",
       "      <td>7050.335443</td>\n",
       "      <td>16758.331987</td>\n",
       "      <td>12157.928101</td>\n",
       "    </tr>\n",
       "    <tr>\n",
       "      <th>29</th>\n",
       "      <td>29</td>\n",
       "      <td>med_190218_116_120.fits</td>\n",
       "      <td>1475.192547</td>\n",
       "      <td>660.867380</td>\n",
       "      <td>1566.097496</td>\n",
       "      <td>1136.220511</td>\n",
       "      <td>7200 -&gt; 4200 um</td>\n",
       "      <td>15784.560250</td>\n",
       "      <td>7071.280967</td>\n",
       "      <td>16757.243209</td>\n",
       "      <td>12157.559465</td>\n",
       "    </tr>\n",
       "    <tr>\n",
       "      <th>30</th>\n",
       "      <td>30</td>\n",
       "      <td>med_190218_121_125.fits</td>\n",
       "      <td>1446.932424</td>\n",
       "      <td>656.392152</td>\n",
       "      <td>1566.208513</td>\n",
       "      <td>1136.160065</td>\n",
       "      <td>4200 -&gt; 8200 um</td>\n",
       "      <td>15482.176940</td>\n",
       "      <td>7023.396023</td>\n",
       "      <td>16758.431089</td>\n",
       "      <td>12156.912691</td>\n",
       "    </tr>\n",
       "  </tbody>\n",
       "</table>\n",
       "</div>"
      ],
      "text/plain": [
       "    frame_ref                 img_name           x1          y1           x2  \\\n",
       "0           0         med_016_020.fits  1442.611065  673.060661  1557.665871   \n",
       "1           1         med_021_025.fits  1442.434537  670.141339  1562.787559   \n",
       "2           2         med_026_030.fits  1442.442802  669.014376  1568.520762   \n",
       "3           3         med_031_035.fits  1442.209031  667.660817  1575.718353   \n",
       "4           4         med_036_040.fits  1442.256442  667.642581  1571.792335   \n",
       "5           5         med_041_045.fits  1442.552305  667.199841  1567.458491   \n",
       "6           6         med_046_050.fits  1442.566638  666.291696  1562.592745   \n",
       "7           7  med_190218_006_010.fits  1442.659711  665.737573  1562.089495   \n",
       "8           8  med_190218_011_015.fits  1442.624436  665.298793  1561.763888   \n",
       "9           9  med_190218_016_020.fits  1442.724498  664.907067  1561.366067   \n",
       "10         10  med_190218_021_025.fits  1442.566886  664.600856  1561.392673   \n",
       "11         11  med_190218_026_030.fits  1442.610197  664.356086  1561.603535   \n",
       "12         12  med_190218_031_035.fits  1442.492389  664.010563  1561.550225   \n",
       "13         13  med_190218_036_040.fits  1469.475117  659.425469  1561.069483   \n",
       "14         14  med_190218_041_045.fits  1449.197355  659.569349  1561.009524   \n",
       "15         15  med_190218_046_050.fits  1449.013029  654.314716  1561.075812   \n",
       "16         16  med_190218_051_055.fits  1448.529819  658.666255  1561.112476   \n",
       "17         17  med_190218_056_060.fits  1448.437483  658.474185  1560.877664   \n",
       "18         18  med_190218_061_065.fits  1448.577594  658.382283  1560.796916   \n",
       "19         19  med_190218_066_070.fits  1448.136245  658.129367  1560.653624   \n",
       "20         20  med_190218_071_075.fits  1448.025121  658.089196  1560.623596   \n",
       "21         21  med_190218_076_080.fits  1447.535035  657.317302  1564.872082   \n",
       "22         22  med_190218_081_085.fits  1447.524155  657.145975  1565.483312   \n",
       "23         23  med_190218_086_090.fits  1447.429938  657.045796  1565.930153   \n",
       "24         24  med_190218_091_095.fits  1447.373136  656.964199  1565.610946   \n",
       "25         25  med_190218_096_100.fits  1447.333452  656.882606  1565.736542   \n",
       "26         26  med_190218_101_105.fits  1447.339821  656.886724  1565.624708   \n",
       "27         27  med_190218_106_110.fits  1447.348357  656.742527  1565.769780   \n",
       "28         28  med_190218_111_115.fits  1461.856402  658.909854  1566.199251   \n",
       "29         29  med_190218_116_120.fits  1475.192547  660.867380  1566.097496   \n",
       "30         30  med_190218_121_125.fits  1446.932424  656.392152  1566.208513   \n",
       "\n",
       "             y2                                            remarks  \\\n",
       "0   1135.602706                                           baseline   \n",
       "1   1134.993559  FPC (top PSF) tilted to the right by 0.10\" ase...   \n",
       "2   1134.831302                        another step like the above   \n",
       "3   1134.212688                        another step like the above   \n",
       "4   1133.906161  FPC (top PSF) tilted to the left by 0.10\" asec...   \n",
       "5   1133.740926                        another step like the above   \n",
       "6   1133.368792  another step like the above (should be at star...   \n",
       "7   1138.254111  FPC (top PSF) tipped up by 0.10\" asec (i.e. +0...   \n",
       "8   1143.693464                        another step like the above   \n",
       "9   1150.847465                        another step like the above   \n",
       "10  1147.601375  FPC (top PSF) tipped down by 0.10\" asec (i.e. ...   \n",
       "11  1142.473368                        another step like the above   \n",
       "12  1137.839794  another step like the above (should be at star...   \n",
       "13  1137.444222    SPC tilt to the right 0.50\" (after 0.10\" steps)   \n",
       "14  1137.429247  moved back (should be at starting point corres...   \n",
       "15  1137.263726                               SPC tipped down 0.1\"   \n",
       "16  1137.060713  SPC tipped up 0.1\" (should be at starting poin...   \n",
       "17  1137.180400     SPC translation stage moved 8200 -> 8199.90 um   \n",
       "18  1136.965951                              8199.90 -> 8189.90 um   \n",
       "19  1136.881880                                 8189.90 -> 8200 um   \n",
       "20  1136.988868                     71-75: after SPC has shut down   \n",
       "21  1136.564574                          baseline for small FPC TT   \n",
       "22  1136.542126                                after tilt of 0.01\"   \n",
       "23  1136.672744                        another step like the above   \n",
       "24  1136.536993  after tilt of -0.02\" (should be at starting po...   \n",
       "25  1136.900215                                after tip of +0.01\"   \n",
       "26  1137.223425                        another step like the above   \n",
       "27  1136.490686  after tip of -0.02\" (should be at starting poi...   \n",
       "28  1136.254963        SPC translation stage moved 8200 -> 7200 um   \n",
       "29  1136.220511                                    7200 -> 4200 um   \n",
       "30  1136.160065                                    4200 -> 8200 um   \n",
       "\n",
       "          mas_x1       mas_y1        mas_x2        mas_y2  \n",
       "0   15435.938391  7201.749073  16667.024820  12150.948956  \n",
       "1   15434.049543  7170.512326  16721.826879  12144.431077  \n",
       "2   15434.137981  7158.453825  16783.172154  12142.694933  \n",
       "3   15431.636631  7143.970744  16860.186375  12136.075767  \n",
       "4   15432.143931  7143.775617  16818.177989  12132.795925  \n",
       "5   15435.309662  7139.038302  16771.805856  12131.027913  \n",
       "6   15435.463028  7129.321149  16719.742376  12127.046072  \n",
       "7   15436.458909  7123.392032  16714.357595  12179.318985  \n",
       "8   15436.081462  7118.697089  16710.873600  12237.520067  \n",
       "9   15437.152131  7114.505612  16706.616912  12314.067875  \n",
       "10  15435.465677  7111.229155  16706.901598  12279.334710  \n",
       "11  15435.929103  7108.610118  16709.157828  12224.465034  \n",
       "12  15434.668557  7104.913022  16708.587411  12174.885796  \n",
       "13  15723.383755  7055.852514  16703.443469  12170.653171  \n",
       "14  15506.411698  7057.392032  16702.801908  12170.492948  \n",
       "15  15504.439405  7001.167463  16703.511183  12168.721870  \n",
       "16  15499.269067  7047.728932  16703.903492  12166.549629  \n",
       "17  15498.281069  7045.673779  16701.391007  12167.830282  \n",
       "18  15499.780258  7044.690433  16700.526997  12165.535680  \n",
       "19  15495.057821  7041.984228  16698.993779  12164.636116  \n",
       "20  15493.868795  7041.554398  16698.672473  12165.780885  \n",
       "21  15488.624875  7033.295132  16744.131275  12161.240944  \n",
       "22  15488.508464  7031.461934  16750.671433  12161.000747  \n",
       "23  15487.500338  7030.390013  16755.452641  12162.398362  \n",
       "24  15486.892556  7029.516933  16752.037123  12160.945825  \n",
       "25  15486.467934  7028.643884  16753.381004  12164.832300  \n",
       "26  15486.536085  7028.687946  16752.184376  12168.290644  \n",
       "27  15486.627425  7027.145036  16753.736650  12160.450342  \n",
       "28  15641.863497  7050.335443  16758.331987  12157.928101  \n",
       "29  15784.560250  7071.280967  16757.243209  12157.559465  \n",
       "30  15482.176940  7023.396023  16758.431089  12156.912691  "
      ]
     },
     "execution_count": 26,
     "metadata": {},
     "output_type": "execute_result"
    }
   ],
   "source": [
    "hysteresis_test_2"
   ]
  },
  {
   "cell_type": "code",
   "execution_count": 7,
   "metadata": {
    "collapsed": false
   },
   "outputs": [
    {
     "data": {
      "text/plain": [
       "0     1557.665871\n",
       "1     1562.787559\n",
       "2     1568.520762\n",
       "3     1575.718353\n",
       "4     1571.792335\n",
       "5     1567.458491\n",
       "6     1562.592745\n",
       "7     1562.089495\n",
       "8     1561.763888\n",
       "9     1561.366067\n",
       "10    1561.392673\n",
       "11    1561.603535\n",
       "12    1561.550225\n",
       "13    1561.069483\n",
       "14    1561.009524\n",
       "15    1561.075812\n",
       "16    1561.112476\n",
       "17    1560.877664\n",
       "18    1560.796916\n",
       "19    1560.653624\n",
       "20    1560.623596\n",
       "21    1564.872082\n",
       "22    1565.483312\n",
       "23    1565.930153\n",
       "24    1565.610946\n",
       "25    1565.736542\n",
       "26    1565.624708\n",
       "27    1565.769780\n",
       "28    1566.199251\n",
       "29    1566.097496\n",
       "30    1566.208513\n",
       "Name: x2, dtype: float64"
      ]
     },
     "execution_count": 7,
     "metadata": {},
     "output_type": "execute_result"
    }
   ],
   "source": [
    "hysteresis_test[\"x2\"]"
   ]
  },
  {
   "cell_type": "markdown",
   "metadata": {
    "collapsed": false
   },
   "source": [
    "# FPC movement tests"
   ]
  },
  {
   "cell_type": "code",
   "execution_count": 128,
   "metadata": {
    "collapsed": true
   },
   "outputs": [],
   "source": [
    "masec_per_rad = np.divide(180*3600*1000,np.pi)\n",
    "\n",
    "# lambda/D (across 8.25 m mirror)\n",
    "lambda_D_1pt5 = np.divide(1.5e-6,8.25)*masec_per_rad\n",
    "lambda_D_5 = np.divide(5e-6,8.25)*masec_per_rad\n",
    "lambda_D_8 = np.divide(8e-6,8.25)*masec_per_rad\n",
    "lambda_D_14 = np.divide(14e-6,8.25)*masec_per_rad\n",
    "\n",
    "# lambda/Bcc (across 14.4 m)\n",
    "lambda_Bcc_1pt5 = np.divide(1.5e-6,14.4)*masec_per_rad\n",
    "lambda_Bcc_5 = np.divide(5e-6,14.4)*masec_per_rad\n",
    "lambda_Bcc_8 = np.divide(8e-6,14.4)*masec_per_rad\n",
    "lambda_Bcc_14 = np.divide(14e-6,14.4)*masec_per_rad\n",
    "\n",
    "# lambda/Bee (across 22.7  m)\n",
    "lambda_Bee_1pt5 = np.divide(1.5e-6,22.7)*masec_per_rad\n",
    "lambda_Bee_5 = np.divide(5e-6,22.7)*masec_per_rad\n",
    "lambda_Bee_8 = np.divide(8e-6,22.7)*masec_per_rad\n",
    "lambda_Bee_14 = np.divide(14e-6,22.7)*masec_per_rad"
   ]
  },
  {
   "cell_type": "markdown",
   "metadata": {},
   "source": [
    "# This is just one plot; don't put this plot into SPIE article"
   ]
  },
  {
   "cell_type": "code",
   "execution_count": 48,
   "metadata": {
    "collapsed": false
   },
   "outputs": [
    {
     "data": {
      "text/plain": [
       "<Figure size 432x288 with 0 Axes>"
      ]
     },
     "metadata": {},
     "output_type": "display_data"
    },
    {
     "data": {
      "image/png": "[encoded data removed]",
      "text/plain": [
       "<Figure size 432x216 with 1 Axes>"
      ]
     },
     "metadata": {
      "needs_background": "light"
     },
     "output_type": "display_data"
    }
   ],
   "source": [
    "# plot one test\n",
    "\n",
    "plt.clf()\n",
    "plt.figure(figsize=(6,3))\n",
    "\n",
    "# empirical test, 1\n",
    "mas_x2_rel_baseline = np.subtract(hysteresis_test[\"mas_x2\"][0:7],\n",
    "                                  hysteresis_test[\"mas_x2\"][0]).values\n",
    "mas_y2_rel_baseline = np.subtract(hysteresis_test[\"mas_y2\"][0:7],\n",
    "                                  hysteresis_test[\"mas_y2\"][0]).values\n",
    "mas_y2_rel_baseline_offset = np.add(mas_y2_rel_baseline,50)\n",
    "\n",
    "# empirical test, 2\n",
    "mas_x2_rel_baseline_2 = np.subtract(hysteresis_test_2[\"mas_x2\"][0:7],\n",
    "                                  hysteresis_test_2[\"mas_x2\"][0]).values\n",
    "mas_y2_rel_baseline_2 = np.subtract(hysteresis_test_2[\"mas_y2\"][0:7],\n",
    "                                  hysteresis_test_2[\"mas_y2\"][0]).values\n",
    "mas_y2_rel_baseline_offset_2 = np.add(mas_y2_rel_baseline_2,100)\n",
    "\n",
    "text_array_emp = [0,1,2,3,4,5,6]\n",
    "\n",
    "# commanded\n",
    "mas_x2_rel_expected = [0,100,200,300]\n",
    "mas_y2_rel_expected = np.ones(4)\n",
    "text_array_expect = [\"0,6\",\"1,5\",\"2,4\",\"3\"]\n",
    "\n",
    "# plot empirical points, 1\n",
    "plt.plot(mas_x2_rel_baseline, mas_y2_rel_baseline_offset, '-o', \n",
    "         markersize = 8, alpha = 1, label=\"Empirical\")\n",
    "\n",
    "# plot empirical points, 2\n",
    "plt.plot(mas_x2_rel_baseline_2, mas_y2_rel_baseline_offset_2, '-o', \n",
    "         markersize = 8, alpha = 1)\n",
    "\n",
    "# plot commanded points\n",
    "plt.plot(mas_x2_rel_expected, mas_y2_rel_expected, '-o', \n",
    "         markersize = 8, color=\"k\", alpha = 0.6, label=\"Commanded\")\n",
    "\n",
    "# plot annotation, empirical 1 and 2\n",
    "for i in range(0,7):\n",
    "    plt.text(mas_x2_rel_baseline[i]+5, mas_y2_rel_baseline_offset[i]+5,\n",
    "             str(text_array_emp[i]), color=\"k\", fontsize=12)\n",
    "    plt.text(mas_x2_rel_baseline_2[i]+5, mas_y2_rel_baseline_offset_2[i]+5,\n",
    "             str(text_array_emp[i]), color=\"k\", fontsize=12)\n",
    "\n",
    "# plot annotation, commanded\n",
    "for i in range(0,4):\n",
    "    plt.text(mas_x2_rel_expected[i]+5, mas_y2_rel_expected[i]+5,\n",
    "             str(text_array_expect[i]), color=\"k\", fontsize=12)\n",
    "\n",
    "major_ticks = np.arange(-200, 401, 50)                                              \n",
    "plt.xticks(major_ticks)                                                       \n",
    "plt.yticks(major_ticks) \n",
    "plt.xlim([-10,350])\n",
    "plt.ylim([-10,150])\n",
    "plt.grid(True)\n",
    "plt.axis(\"equal\")\n",
    "plt.xlabel(\"x (mas)\")\n",
    "plt.ylabel(\"y with offsets (mas)\")\n",
    "plt.tight_layout()\n",
    "plt.legend()\n",
    "plt.title(\"100 mas tilt (x) movements, FPC\")\n",
    "#plt.scatter(hysteresis_test[\"x2\"],hysteresis_test[\"y2\"])\n",
    "plt.show()"
   ]
  },
  {
   "cell_type": "markdown",
   "metadata": {},
   "source": [
    "# This is just one plot; don't put this plot into SPIE article"
   ]
  },
  {
   "cell_type": "code",
   "execution_count": 161,
   "metadata": {
    "collapsed": false
   },
   "outputs": [
    {
     "data": {
      "text/plain": [
       "<Figure size 432x288 with 0 Axes>"
      ]
     },
     "metadata": {},
     "output_type": "display_data"
    },
    {
     "data": {
      "image/png": "[encoded data removed]",
      "text/plain": [
       "<Figure size 360x432 with 1 Axes>"
      ]
     },
     "metadata": {
      "needs_background": "light"
     },
     "output_type": "display_data"
    }
   ],
   "source": [
    "# plot one test\n",
    "\n",
    "plt.clf()\n",
    "plt.figure(figsize=(5,6))\n",
    "\n",
    "# empirical test, 1\n",
    "mas_x2_rel_baseline = np.subtract(hysteresis_test[\"mas_x2\"][6:13],\n",
    "                                  hysteresis_test[\"mas_x2\"][6]).values\n",
    "mas_y2_rel_baseline = np.subtract(hysteresis_test[\"mas_y2\"][6:13],\n",
    "                                  hysteresis_test[\"mas_y2\"][6]).values\n",
    "mas_x2_rel_baseline_offset = np.add(mas_x2_rel_baseline,0)\n",
    "\n",
    "# empirical test, 2\n",
    "mas_x2_rel_baseline_2 = np.subtract(hysteresis_test_2[\"mas_x2\"][6:13],\n",
    "                                  hysteresis_test_2[\"mas_x2\"][6]).values\n",
    "mas_y2_rel_baseline_2 = np.subtract(hysteresis_test_2[\"mas_y2\"][6:13],\n",
    "                                  hysteresis_test_2[\"mas_y2\"][6]).values\n",
    "mas_x2_rel_baseline_offset_2 = np.add(mas_x2_rel_baseline_2,50)\n",
    "\n",
    "text_array_emp = [6,7,8,9,10,11,12]\n",
    "\n",
    "# commanded\n",
    "mas_x2_rel_expected = 100*np.ones(4)\n",
    "mas_y2_rel_expected = [0,100,200,300]\n",
    "text_array_expect = [\"6,12\",\"7,11\",\"8,10\",\"9\"]\n",
    "\n",
    "# plot empirical points, 1\n",
    "plt.plot(mas_x2_rel_baseline_offset, mas_y2_rel_baseline, '-o', \n",
    "         markersize = 8, alpha = 1, label=\"Empirical\")\n",
    "\n",
    "# plot empirical points, 2\n",
    "plt.plot(mas_x2_rel_baseline_offset_2, mas_y2_rel_baseline_2, '-o', \n",
    "         markersize = 8, alpha = 1)\n",
    "\n",
    "# plot commanded points\n",
    "plt.plot(mas_x2_rel_expected, mas_y2_rel_expected, '-o', \n",
    "         markersize = 8, color=\"k\", alpha = 0.6, label=\"Commanded\")\n",
    "\n",
    "# plot annotation, empirical 1 and 2\n",
    "for i in range(0,7):\n",
    "    plt.text(mas_x2_rel_baseline_offset[i]+5, mas_y2_rel_baseline[i]+5,\n",
    "             str(text_array_emp[i]), color=\"k\", fontsize=12)\n",
    "    plt.text(mas_x2_rel_baseline_offset_2[i]+5, mas_y2_rel_baseline_2[i]+5,\n",
    "             str(text_array_emp[i]), color=\"k\", fontsize=12)\n",
    "\n",
    "# plot annotation, commanded\n",
    "for i in range(0,4):\n",
    "    plt.text(mas_x2_rel_expected[i]+5, mas_y2_rel_expected[i]+5,\n",
    "             str(text_array_expect[i]), color=\"k\", fontsize=12)\n",
    "\n",
    "    \n",
    "### plot bars for scale\n",
    "\n",
    "## lambda/D\n",
    "plt.text(-7,290,\n",
    "         \"$\\lambda/D$\", color=\"k\")\n",
    "# LMIR wavelengths\n",
    "plt.text(0,290.5,\n",
    "         \"LMIRcam\", color=\"k\")\n",
    "plt.text(lambda_D_1pt5,288.5,\n",
    "         \"1.5$\\mu m$\", color=\"k\")\n",
    "plt.text(lambda_D_5,288.5,\n",
    "         \"5$\\mu m$\", color=\"k\")\n",
    "# NOMIC wavelengths\n",
    "plt.text(0,292.5,\n",
    "         \"NOMIC\", color=\"k\")\n",
    "plt.text(lambda_D_8,290.5,\n",
    "         \"8$\\mu m$\", color=\"k\")\n",
    "plt.text(lambda_D_14,290.5,\n",
    "         \"14$\\mu m$\", color=\"k\")\n",
    "# lines\n",
    "plt.plot([0,lambda_D_5],[290,290],'o-',linewidth=6,color=\"orange\")\n",
    "plt.plot([0,lambda_D_1pt5],[290,290],'o-',color=\"k\")\n",
    "plt.plot([0,lambda_D_14],[292,292],'o-',linewidth=6,color=\"orange\")\n",
    "plt.plot([0,lambda_D_8],[292,292],'o-',color=\"k\")\n",
    "\n",
    "## lambda/Bcc\n",
    "plt.text(-7,280,\n",
    "         \"$\\lambda/Bcc$\", color=\"k\")\n",
    "# LMIR wavelengths\n",
    "plt.text(0,280.5,\n",
    "         \"LMIRcam\", color=\"k\")\n",
    "plt.text(lambda_Bcc_1pt5,278.5,\n",
    "         \"1.5$\\mu m$\", color=\"k\")\n",
    "plt.text(lambda_Bcc_5,278.5,\n",
    "         \"5$\\mu m$\", color=\"k\")\n",
    "# NOMIC wavelengths\n",
    "plt.text(0,282.5,\n",
    "         \"NOMIC\", color=\"k\")\n",
    "plt.text(lambda_Bcc_8,280.5,\n",
    "         \"8$\\mu m$\", color=\"k\")\n",
    "plt.text(lambda_Bcc_14,280.5,\n",
    "         \"14$\\mu m$\", color=\"k\")\n",
    "# lines\n",
    "plt.plot([0,lambda_Bcc_5],[280,280],'o-',linewidth=6,color=\"orange\")\n",
    "plt.plot([0,lambda_Bcc_1pt5],[280,280],'o-',color=\"k\")\n",
    "plt.plot([0,lambda_Bcc_14],[282,282],'o-',linewidth=6,color=\"orange\")\n",
    "plt.plot([0,lambda_Bcc_8],[282,282],'o-',color=\"k\")\n",
    "\n",
    "## lambda/Bee\n",
    "plt.text(-7,270,\n",
    "         \"$\\lambda/Bee$\", color=\"k\")\n",
    "# LMIR wavelengths\n",
    "plt.text(0,270.5,\n",
    "         \"LMIRcam\", color=\"k\")\n",
    "plt.text(lambda_Bee_1pt5,268.5,\n",
    "         \"1.5$\\mu m$\", color=\"k\")\n",
    "plt.text(lambda_Bee_5+1,268.5,\n",
    "         \"5$\\mu m$\", color=\"k\")\n",
    "# NOMIC wavelengths\n",
    "plt.text(0,272.5,\n",
    "         \"NOMIC\", color=\"k\")\n",
    "plt.text(lambda_Bee_8,270.5,\n",
    "         \"8$\\mu m$\", color=\"k\")\n",
    "plt.text(lambda_Bee_14,270.5,\n",
    "         \"14$\\mu m$\", color=\"k\")\n",
    "# lines\n",
    "plt.plot([0,lambda_Bee_5],[270,270],'o-',linewidth=6,color=\"orange\")\n",
    "plt.plot([0,lambda_Bee_1pt5],[270,270],'o-',color=\"k\")\n",
    "plt.plot([0,lambda_Bee_14],[272,272],'o-',linewidth=6,color=\"orange\")\n",
    "plt.plot([0,lambda_Bee_8],[272,272],'o-',color=\"k\")\n",
    "    \n",
    "\n",
    "    \n",
    "major_ticks_x = np.arange(0, 101, 50)  \n",
    "major_ticks_y = np.arange(0, 401, 50) \n",
    "plt.xticks(major_ticks_x)                                                       \n",
    "plt.yticks(major_ticks_y) \n",
    "plt.xlim([-50,150])\n",
    "plt.ylim([-20,350])\n",
    "plt.grid(True)\n",
    "plt.axis(\"equal\")\n",
    "plt.xlabel(\"x with offsets (mas)\")\n",
    "plt.ylabel(\"y (mas)\")\n",
    "plt.legend()\n",
    "plt.tight_layout()\n",
    "plt.title(\"100 mas tip (y) movements, FPC\")\n",
    "#plt.scatter(hysteresis_test[\"x2\"],hysteresis_test[\"y2\"])\n",
    "plt.show()"
   ]
  },
  {
   "cell_type": "markdown",
   "metadata": {},
   "source": [
    "# Put this plot into SPIE article"
   ]
  },
  {
   "cell_type": "code",
   "execution_count": 171,
   "metadata": {
    "collapsed": false
   },
   "outputs": [
    {
     "data": {
      "text/plain": [
       "<Figure size 432x288 with 0 Axes>"
      ]
     },
     "metadata": {},
     "output_type": "display_data"
    },
    {
     "data": {
      "image/png": "[encoded data removed]",
      "text/plain": [
       "<Figure size 720x432 with 1 Axes>"
      ]
     },
     "metadata": {
      "needs_background": "light"
     },
     "output_type": "display_data"
    }
   ],
   "source": [
    "# plot two tests\n",
    "\n",
    "plt.clf()\n",
    "plt.figure(figsize=(10,6))\n",
    "\n",
    "########################################################################\n",
    "# TIP (y)\n",
    "\n",
    "# empirical test, 1\n",
    "mas_x2_rel_baseline = np.subtract(hysteresis_test[\"mas_x2\"][6:13],\n",
    "                                  hysteresis_test[\"mas_x2\"][6]).values\n",
    "mas_y2_rel_baseline = np.subtract(hysteresis_test[\"mas_y2\"][6:13],\n",
    "                                  hysteresis_test[\"mas_y2\"][6]).values\n",
    "mas_x2_rel_baseline_offset = np.add(mas_x2_rel_baseline,0)\n",
    "\n",
    "# empirical test, 2\n",
    "mas_x2_rel_baseline_2 = np.subtract(hysteresis_test_2[\"mas_x2\"][6:13],\n",
    "                                  hysteresis_test_2[\"mas_x2\"][6]).values\n",
    "mas_y2_rel_baseline_2 = np.subtract(hysteresis_test_2[\"mas_y2\"][6:13],\n",
    "                                  hysteresis_test_2[\"mas_y2\"][6]).values\n",
    "mas_x2_rel_baseline_offset_2 = np.add(mas_x2_rel_baseline_2,50)\n",
    "\n",
    "text_array_emp = [6,7,8,9,10,11,12]\n",
    "\n",
    "# commanded\n",
    "mas_x2_rel_expected = 100*np.ones(4)\n",
    "mas_y2_rel_expected = [0,100,200,300]\n",
    "text_array_expect = [\"6,12\",\"7,11\",\"8,10\",\"9\"]\n",
    "\n",
    "# plot empirical points, 1\n",
    "plt.plot(mas_x2_rel_baseline_offset, mas_y2_rel_baseline, '-o', \n",
    "         markersize = 8, alpha = 1, label=\"Empirical\")\n",
    "\n",
    "# plot empirical points, 2\n",
    "plt.plot(mas_x2_rel_baseline_offset_2, mas_y2_rel_baseline_2, '-o', \n",
    "         markersize = 8, alpha = 1)\n",
    "\n",
    "# plot commanded points\n",
    "plt.plot(mas_x2_rel_expected, mas_y2_rel_expected, '-o', \n",
    "         markersize = 8, color=\"k\", alpha = 0.6, label=\"Commanded\")\n",
    "\n",
    "# plot annotation, empirical 1 and 2\n",
    "for i in range(0,7):\n",
    "    plt.text(mas_x2_rel_baseline_offset[i]+5, mas_y2_rel_baseline[i]+5,\n",
    "             str(text_array_emp[i]), color=\"k\", fontsize=12)\n",
    "    plt.text(mas_x2_rel_baseline_offset_2[i]+5, mas_y2_rel_baseline_2[i]+5,\n",
    "             str(text_array_emp[i]), color=\"k\", fontsize=12)\n",
    "\n",
    "# plot annotation, commanded\n",
    "for i in range(0,4):\n",
    "    plt.text(mas_x2_rel_expected[i]+5, mas_y2_rel_expected[i]+5,\n",
    "             str(text_array_expect[i]), color=\"k\", fontsize=12)\n",
    "\n",
    "    \n",
    "    \n",
    "########################################################################\n",
    "# TILT (x)\n",
    "\n",
    "# empirical test, 1\n",
    "mas_x2_rel_baseline_tilt = np.subtract(hysteresis_test[\"mas_x2\"][0:7],\n",
    "                                  hysteresis_test[\"mas_x2\"][0]).values\n",
    "mas_y2_rel_baseline_tilt = np.subtract(hysteresis_test[\"mas_y2\"][0:7],\n",
    "                                  hysteresis_test[\"mas_y2\"][0]).values\n",
    "mas_y2_rel_baseline_tilt_offset = np.add(mas_y2_rel_baseline_tilt,50)\n",
    "\n",
    "# empirical test, 2\n",
    "mas_x2_rel_baseline_tilt_2 = np.subtract(hysteresis_test_2[\"mas_x2\"][0:7],\n",
    "                                  hysteresis_test_2[\"mas_x2\"][0]).values\n",
    "mas_y2_rel_baseline_tilt_2 = np.subtract(hysteresis_test_2[\"mas_y2\"][0:7],\n",
    "                                  hysteresis_test_2[\"mas_y2\"][0]).values\n",
    "mas_y2_rel_baseline_tilt_offset_2 = np.add(mas_y2_rel_baseline_tilt_2,100)\n",
    "\n",
    "text_array_emp_tilt = [0,1,2,3,4,5,6]\n",
    "\n",
    "# commanded\n",
    "mas_x2_rel_expected_tilt = [0,100,200,300]\n",
    "mas_y2_rel_expected_tilt = np.ones(4)\n",
    "text_array_expect_tilt = [\"0,6\",\"1,5\",\"2,4\",\"3\"]\n",
    "\n",
    "# plot empirical points, 1\n",
    "plt.plot(mas_x2_rel_baseline_tilt+250, mas_y2_rel_baseline_tilt_offset, '-o', \n",
    "         markersize = 8, alpha = 1)\n",
    "\n",
    "# plot empirical points, 2\n",
    "plt.plot(mas_x2_rel_baseline_tilt_2+250, mas_y2_rel_baseline_tilt_offset_2, '-o', \n",
    "         markersize = 8, alpha = 1)\n",
    "\n",
    "# plot commanded points\n",
    "plt.plot(np.add(mas_x2_rel_expected_tilt,250), mas_y2_rel_expected_tilt, '-o', \n",
    "         markersize = 8, color=\"k\", alpha = 0.6)\n",
    "\n",
    "# plot annotation, empirical 1 and 2\n",
    "for i in range(0,7):\n",
    "    plt.text(mas_x2_rel_baseline_tilt[i]+255, mas_y2_rel_baseline_tilt_offset[i]+5,\n",
    "             str(text_array_emp_tilt[i]), color=\"k\", fontsize=12)\n",
    "    plt.text(mas_x2_rel_baseline_tilt_2[i]+255, mas_y2_rel_baseline_tilt_offset_2[i]+5,\n",
    "             str(text_array_emp_tilt[i]), color=\"k\", fontsize=12)\n",
    "\n",
    "# plot annotation, commanded\n",
    "for i in range(0,4):\n",
    "    plt.text(mas_x2_rel_expected_tilt[i]+255, mas_y2_rel_expected_tilt[i]+5,\n",
    "             str(text_array_expect_tilt[i]), color=\"k\", fontsize=12)\n",
    "\n",
    "\n",
    "########################################################################  \n",
    "### plot bars for scale\n",
    "\n",
    "## lambda/D\n",
    "plt.text(-7,290,\n",
    "         \"$\\lambda/D$\", color=\"k\")\n",
    "# LMIR wavelengths\n",
    "plt.text(0,290.5,\n",
    "         \"LMIRcam\", color=\"k\")\n",
    "plt.text(lambda_D_1pt5,288.5,\n",
    "         \"1.5$\\mu m$\", color=\"k\")\n",
    "plt.text(lambda_D_5,288.5,\n",
    "         \"5$\\mu m$\", color=\"k\")\n",
    "# NOMIC wavelengths\n",
    "plt.text(0,292.5,\n",
    "         \"NOMIC\", color=\"k\")\n",
    "plt.text(lambda_D_8,290.5,\n",
    "         \"8$\\mu m$\", color=\"k\")\n",
    "plt.text(lambda_D_14,290.5,\n",
    "         \"14$\\mu m$\", color=\"k\")\n",
    "# lines\n",
    "plt.plot([0,lambda_D_5],[290,290],'o-',linewidth=6,color=\"orange\")\n",
    "plt.plot([0,lambda_D_1pt5],[290,290],'o-',color=\"k\")\n",
    "plt.plot([0,lambda_D_14],[292,292],'o-',linewidth=6,color=\"orange\")\n",
    "plt.plot([0,lambda_D_8],[292,292],'o-',color=\"k\")\n",
    "\n",
    "## lambda/Bcc\n",
    "plt.text(-7,280,\n",
    "         \"$\\lambda/Bcc$\", color=\"k\")\n",
    "# LMIR wavelengths\n",
    "plt.text(0,280.5,\n",
    "         \"LMIRcam\", color=\"k\")\n",
    "plt.text(lambda_Bcc_1pt5,278.5,\n",
    "         \"1.5$\\mu m$\", color=\"k\")\n",
    "plt.text(lambda_Bcc_5,278.5,\n",
    "         \"5$\\mu m$\", color=\"k\")\n",
    "# NOMIC wavelengths\n",
    "plt.text(0,282.5,\n",
    "         \"NOMIC\", color=\"k\")\n",
    "plt.text(lambda_Bcc_8,280.5,\n",
    "         \"8$\\mu m$\", color=\"k\")\n",
    "plt.text(lambda_Bcc_14,280.5,\n",
    "         \"14$\\mu m$\", color=\"k\")\n",
    "# lines\n",
    "plt.plot([0,lambda_Bcc_5],[280,280],'o-',linewidth=6,color=\"orange\")\n",
    "plt.plot([0,lambda_Bcc_1pt5],[280,280],'o-',color=\"k\")\n",
    "plt.plot([0,lambda_Bcc_14],[282,282],'o-',linewidth=6,color=\"orange\")\n",
    "plt.plot([0,lambda_Bcc_8],[282,282],'o-',color=\"k\")\n",
    "\n",
    "## lambda/Bee\n",
    "plt.text(-7,270,\n",
    "         \"$\\lambda/Bee$\", color=\"k\")\n",
    "# LMIR wavelengths\n",
    "plt.text(0,270.5,\n",
    "         \"LMIRcam\", color=\"k\")\n",
    "plt.text(lambda_Bee_1pt5,268.5,\n",
    "         \"1.5$\\mu m$\", color=\"k\")\n",
    "plt.text(lambda_Bee_5+1,268.5,\n",
    "         \"5$\\mu m$\", color=\"k\")\n",
    "# NOMIC wavelengths\n",
    "plt.text(0,272.5,\n",
    "         \"NOMIC\", color=\"k\")\n",
    "plt.text(lambda_Bee_8,270.5,\n",
    "         \"8$\\mu m$\", color=\"k\")\n",
    "plt.text(lambda_Bee_14,270.5,\n",
    "         \"14$\\mu m$\", color=\"k\")\n",
    "# lines\n",
    "plt.plot([0,lambda_Bee_5],[270,270],'o-',linewidth=6,color=\"orange\")\n",
    "plt.plot([0,lambda_Bee_1pt5],[270,270],'o-',color=\"k\")\n",
    "plt.plot([0,lambda_Bee_14],[272,272],'o-',linewidth=6,color=\"orange\")\n",
    "plt.plot([0,lambda_Bee_8],[272,272],'o-',color=\"k\")\n",
    "    \n",
    "\n",
    "    \n",
    "major_ticks_x = np.arange(0, 601, 50)  \n",
    "major_ticks_y = np.arange(0, 401, 50) \n",
    "plt.xticks(major_ticks_x)                                                       \n",
    "plt.yticks(major_ticks_y) \n",
    "plt.xlim([-50,650])\n",
    "plt.ylim([-20,350])\n",
    "plt.grid(True)\n",
    "plt.axis(\"equal\")\n",
    "plt.xlabel(\"x with offsets (mas)\")\n",
    "plt.ylabel(\"y (mas)\")\n",
    "plt.legend()\n",
    "plt.tight_layout()\n",
    "plt.title(\"100 mas tip (y) and tilt (x) movements, FPC\")\n",
    "#plt.scatter(hysteresis_test[\"x2\"],hysteresis_test[\"y2\"])\n",
    "plt.show()"
   ]
  },
  {
   "cell_type": "markdown",
   "metadata": {},
   "source": [
    "# Put this plot into SPIE article"
   ]
  },
  {
   "cell_type": "code",
   "execution_count": 175,
   "metadata": {
    "collapsed": false
   },
   "outputs": [
    {
     "data": {
      "text/plain": [
       "<Figure size 432x288 with 0 Axes>"
      ]
     },
     "metadata": {},
     "output_type": "display_data"
    },
    {
     "data": {
      "image/png": "[encoded data removed]",
      "text/plain": [
       "<Figure size 864x432 with 1 Axes>"
      ]
     },
     "metadata": {
      "needs_background": "light"
     },
     "output_type": "display_data"
    }
   ],
   "source": [
    "# plot one test\n",
    "\n",
    "plt.clf()\n",
    "plt.figure(figsize=(12,6))\n",
    "\n",
    "# empirical test, 1\n",
    "mas_x2_rel_baseline = np.subtract(hysteresis_test[\"mas_x2\"][21:28],\n",
    "                                  hysteresis_test[\"mas_x2\"][21]).values\n",
    "mas_y2_rel_baseline = np.subtract(hysteresis_test[\"mas_y2\"][21:28],\n",
    "                                  hysteresis_test[\"mas_y2\"][21]).values\n",
    "mas_x2_rel_baseline_offset = np.add(mas_x2_rel_baseline,0)\n",
    "\n",
    "# empirical test, 2\n",
    "mas_x2_rel_baseline_2 = np.subtract(hysteresis_test_2[\"mas_x2\"][21:28],\n",
    "                                  hysteresis_test_2[\"mas_x2\"][21]).values\n",
    "mas_y2_rel_baseline_2 = np.subtract(hysteresis_test_2[\"mas_y2\"][21:28],\n",
    "                                  hysteresis_test_2[\"mas_y2\"][21]).values\n",
    "mas_x2_rel_baseline_offset_2 = np.add(mas_x2_rel_baseline_2,30)\n",
    "\n",
    "text_array_emp = [21,22,23,24,25,26,27]\n",
    "\n",
    "# commanded\n",
    "mas_x2_rel_expected = np.add(60,[0,10,20,0,0,0,0])\n",
    "mas_y2_rel_expected = [0,0,0,0,10,20,0]\n",
    "text_array_expect = [\"21,24,27\",\"22\",\"23\",\"\",\"25\",\"26\",\"\"]\n",
    "\n",
    "# plot empirical points, 1\n",
    "plt.plot(mas_x2_rel_baseline_offset, mas_y2_rel_baseline, '-o', \n",
    "         markersize = 8, alpha = 1, label=\"Empirical\")\n",
    "\n",
    "# plot empirical points, 2\n",
    "plt.plot(mas_x2_rel_baseline_offset_2, mas_y2_rel_baseline_2, '-o', \n",
    "         markersize = 8, alpha = 1)\n",
    "\n",
    "# plot commanded points\n",
    "plt.plot(mas_x2_rel_expected, mas_y2_rel_expected, '-o', \n",
    "         markersize = 8, color=\"k\", alpha = 0.6, label=\"Commanded\")\n",
    "\n",
    "# plot annotation, empirical 1 and 2\n",
    "for i in range(0,7):\n",
    "    plt.text(mas_x2_rel_baseline_offset[i]+1, mas_y2_rel_baseline[i]+1,\n",
    "             str(text_array_emp[i]), color=\"k\", fontsize=12)\n",
    "    plt.text(mas_x2_rel_baseline_offset_2[i]+1, mas_y2_rel_baseline_2[i]+1,\n",
    "             str(text_array_emp[i]), color=\"k\", fontsize=12)\n",
    "\n",
    "# plot annotation, commanded\n",
    "for i in range(0,7):\n",
    "    plt.text(mas_x2_rel_expected[i]+1, mas_y2_rel_expected[i]+1,\n",
    "             str(text_array_expect[i]), color=\"k\", fontsize=12)\n",
    "    \n",
    "\n",
    "### plot bars for scale\n",
    "\n",
    "## lambda/D\n",
    "plt.text(-7,40,\n",
    "         \"0.1*$\\lambda/D$\", color=\"k\")\n",
    "# LMIR wavelengths\n",
    "plt.text(0,40.5,\n",
    "         \"LMIRcam\", color=\"k\")\n",
    "plt.text(0.1*lambda_D_1pt5,38.5,\n",
    "         \"1.5$\\mu m$\", color=\"k\")\n",
    "plt.text(0.1*lambda_D_5,38.5,\n",
    "         \"5$\\mu m$\", color=\"k\")\n",
    "# NOMIC wavelengths\n",
    "plt.text(0,42.5,\n",
    "         \"NOMIC\", color=\"k\")\n",
    "plt.text(0.1*lambda_D_8,40.5,\n",
    "         \"8$\\mu m$\", color=\"k\")\n",
    "plt.text(0.1*lambda_D_14,40.5,\n",
    "         \"14$\\mu m$\", color=\"k\")\n",
    "# lines\n",
    "plt.plot([0,0.1*lambda_D_5],[40,40],'o-',linewidth=6,color=\"orange\")\n",
    "plt.plot([0,0.1*lambda_D_1pt5],[40,40],'o-',color=\"k\")\n",
    "plt.plot([0,0.1*lambda_D_14],[42,42],'o-',linewidth=6,color=\"orange\")\n",
    "plt.plot([0,0.1*lambda_D_8],[42,42],'o-',color=\"k\")\n",
    "\n",
    "## lambda/Bcc\n",
    "plt.text(-7,30,\n",
    "         \"0.1*$\\lambda/Bcc$\", color=\"k\")\n",
    "# LMIR wavelengths\n",
    "plt.text(0,30.5,\n",
    "         \"LMIRcam\", color=\"k\")\n",
    "plt.text(0.1*lambda_Bcc_1pt5,28.5,\n",
    "         \"1.5$\\mu m$\", color=\"k\")\n",
    "plt.text(0.1*lambda_Bcc_5,28.5,\n",
    "         \"5$\\mu m$\", color=\"k\")\n",
    "# NOMIC wavelengths\n",
    "plt.text(0,32.5,\n",
    "         \"NOMIC\", color=\"k\")\n",
    "plt.text(0.1*lambda_Bcc_8,30.5,\n",
    "         \"8$\\mu m$\", color=\"k\")\n",
    "plt.text(0.1*lambda_Bcc_14,30.5,\n",
    "         \"14$\\mu m$\", color=\"k\")\n",
    "# lines\n",
    "plt.plot([0,0.1*lambda_Bcc_5],[30,30],'o-',linewidth=6,color=\"orange\")\n",
    "plt.plot([0,0.1*lambda_Bcc_1pt5],[30,30],'o-',color=\"k\")\n",
    "plt.plot([0,0.1*lambda_Bcc_14],[32,32],'o-',linewidth=6,color=\"orange\")\n",
    "plt.plot([0,0.1*lambda_Bcc_8],[32,32],'o-',color=\"k\")\n",
    "\n",
    "## lambda/Bee\n",
    "plt.text(-7,20,\n",
    "         \"0.1*$\\lambda/Bee$\", color=\"k\")\n",
    "# LMIR wavelengths\n",
    "plt.text(0,20.5,\n",
    "         \"LMIRcam\", color=\"k\")\n",
    "plt.text(0.1*lambda_Bee_1pt5,18.5,\n",
    "         \"1.5$\\mu m$\", color=\"k\")\n",
    "plt.text(0.1*lambda_Bee_5+1,18.5,\n",
    "         \"5$\\mu m$\", color=\"k\")\n",
    "# NOMIC wavelengths\n",
    "plt.text(0,22.5,\n",
    "         \"NOMIC\", color=\"k\")\n",
    "plt.text(0.1*lambda_Bee_8,20.5,\n",
    "         \"8$\\mu m$\", color=\"k\")\n",
    "plt.text(0.1*lambda_Bee_14,20.5,\n",
    "         \"14$\\mu m$\", color=\"k\")\n",
    "# lines\n",
    "plt.plot([0,0.1*lambda_Bee_5],[20,20],'o-',linewidth=6,color=\"orange\")\n",
    "plt.plot([0,0.1*lambda_Bee_1pt5],[20,20],'o-',color=\"k\")\n",
    "plt.plot([0,0.1*lambda_Bee_14],[22,22],'o-',linewidth=6,color=\"orange\")\n",
    "plt.plot([0,0.1*lambda_Bee_8],[22,22],'o-',color=\"k\")\n",
    "\n",
    "\n",
    "\n",
    "major_ticks_x = np.arange(0, 101, 10) \n",
    "major_ticks_y = np.arange(0, 401, 10)\n",
    "plt.xticks(major_ticks_x)                                                     \n",
    "plt.yticks(major_ticks_y) \n",
    "plt.xlim([-20,100])\n",
    "plt.ylim([-10,30])\n",
    "plt.grid(True)\n",
    "plt.axis(\"equal\")\n",
    "plt.xlabel(\"x with offsets (mas)\")\n",
    "plt.ylabel(\"y (mas)\")\n",
    "plt.legend()\n",
    "plt.tight_layout()\n",
    "plt.title(\"10-20 mas tip (y) and tilt (x) movements, FPC\")\n",
    "plt.show()"
   ]
  },
  {
   "cell_type": "markdown",
   "metadata": {},
   "source": [
    "# SPC movement tests"
   ]
  },
  {
   "cell_type": "code",
   "execution_count": 183,
   "metadata": {
    "collapsed": false
   },
   "outputs": [
    {
     "data": {
      "text/plain": [
       "<Figure size 432x288 with 0 Axes>"
      ]
     },
     "metadata": {},
     "output_type": "display_data"
    },
    {
     "data": {
      "image/png": "[encoded data removed]",
      "text/plain": [
       "<Figure size 864x432 with 1 Axes>"
      ]
     },
     "metadata": {
      "needs_background": "light"
     },
     "output_type": "display_data"
    }
   ],
   "source": [
    "# plot one test: active movement\n",
    "\n",
    "plt.clf()\n",
    "plt.figure(figsize=(12,6))\n",
    "\n",
    "mas_x1_rel_baseline = np.subtract(hysteresis_test[\"mas_x1\"][12:17],\n",
    "                                  hysteresis_test[\"mas_x1\"][12]).values\n",
    "mas_y1_rel_baseline = np.subtract(hysteresis_test[\"mas_y1\"][12:17],\n",
    "                                  hysteresis_test[\"mas_y1\"][12]).values\n",
    "\n",
    "mas_x1_rel_expected = [0,500,0,0]\n",
    "mas_y1_rel_expected = [0,0,0,-100]\n",
    "\n",
    "text_array_emp = [\"12\",\"13\\n(after 100 mas steps)\",\"14\",\"15\",\"16\"]\n",
    "text_array_expect = [\"12,14,16\",\"13\\n(after 100 mas steps)\",\"\",\"15\"]\n",
    "plt.plot(mas_x1_rel_baseline, mas_y1_rel_baseline, '-o', markersize = 8, alpha = 1)\n",
    "plt.plot(mas_x1_rel_expected, mas_y1_rel_expected, '-o', markersize = 8, \n",
    "         color=\"k\", alpha = 0.6)\n",
    "for i in range(0,5):\n",
    "    plt.text(mas_x1_rel_baseline[i], mas_y1_rel_baseline[i],\n",
    "             str(text_array_emp[i]), color=\"k\", fontsize=12)\n",
    "for i in range(0,4):\n",
    "    plt.text(mas_x1_rel_expected[i]+5, mas_y1_rel_expected[i]+5,\n",
    "             str(text_array_expect[i]), color=\"k\", fontsize=12, alpha = 1)\n",
    "major_ticks = np.arange(-200, 501, 50)                                              \n",
    "plt.xticks(major_ticks)                                                       \n",
    "plt.yticks(major_ticks) \n",
    "#plt.xlim([-30,30])\n",
    "plt.grid(True)\n",
    "plt.axis(\"equal\")\n",
    "plt.xlabel(\"x (mas)\")\n",
    "plt.ylabel(\"y (mas)\")\n",
    "plt.title(\"100-500 mas tip (y) and tilt (x) movements, SPC\")\n",
    "#plt.scatter(hysteresis_test[\"x2\"],hysteresis_test[\"y2\"])\n",
    "plt.show()"
   ]
  },
  {
   "cell_type": "code",
   "execution_count": 94,
   "metadata": {
    "collapsed": false
   },
   "outputs": [
    {
     "data": {
      "image/png": "[encoded data removed]",
      "text/plain": [
       "<matplotlib.figure.Figure at 0x119158890>"
      ]
     },
     "metadata": {},
     "output_type": "display_data"
    }
   ],
   "source": [
    "# plot one test: SPC pathlength movement\n",
    "\n",
    "mas_x1_rel_baseline = np.subtract(hysteresis_test[\"mas_x1\"][16:21],hysteresis_test[\"mas_x1\"][16]).values\n",
    "mas_y1_rel_baseline = np.subtract(hysteresis_test[\"mas_y1\"][16:21],hysteresis_test[\"mas_y1\"][16]).values\n",
    "\n",
    "#mas_x1_rel_expected = [0,500,0,0]\n",
    "#mas_y1_rel_expected = [0,0,0,-100]\n",
    "\n",
    "text_array_emp = [16,17,18,19,20]\n",
    "#text_array_expect = [\"12,14,16\",\"13\",\"\",\"15\"]\n",
    "plt.plot(mas_x1_rel_baseline, mas_y1_rel_baseline, '-o', markersize = 8, alpha = 1)\n",
    "#plt.plot(mas_x1_rel_expected, mas_y1_rel_expected, '-o', markersize = 8, color=\"k\", alpha = 0.6)\n",
    "for i in range(0,5):\n",
    "    plt.text(mas_x1_rel_baseline[i], mas_y1_rel_baseline[i],\n",
    "             str(text_array_emp[i]), color=\"k\", fontsize=12)\n",
    "#for i in range(0,3):\n",
    "#    plt.text(mas_x1_rel_expected[i]+5, mas_y1_rel_expected[i]+5,\n",
    "#             str(text_array_expect[i]), color=\"k\", fontsize=12, alpha = 0.6)\n",
    "major_ticks = np.arange(-200, 401, 10)                                              \n",
    "plt.xticks(major_ticks)                                                       \n",
    "plt.yticks(major_ticks) \n",
    "plt.xlim([-20,20])\n",
    "plt.ylim([-20,20])\n",
    "plt.grid(True)\n",
    "#plt.axis(\"equal\")\n",
    "plt.xlabel(\"x (mas)\")\n",
    "plt.ylabel(\"y (mas)\")\n",
    "plt.title(\"SPC pathlength movement only\")\n",
    "#plt.scatter(hysteresis_test[\"x2\"],hysteresis_test[\"y2\"])\n",
    "plt.show()"
   ]
  },
  {
   "cell_type": "code",
   "execution_count": 100,
   "metadata": {
    "collapsed": false
   },
   "outputs": [
    {
     "data": {
      "image/png": "[encoded data removed]",
      "text/plain": [
       "<matplotlib.figure.Figure at 0x11a84df10>"
      ]
     },
     "metadata": {},
     "output_type": "display_data"
    }
   ],
   "source": [
    "# plot one test: SPC pathlength movement\n",
    "\n",
    "mas_x1_rel_baseline = np.subtract(hysteresis_test[\"mas_x1\"][27:31],hysteresis_test[\"mas_x1\"][27]).values\n",
    "mas_y1_rel_baseline = np.subtract(hysteresis_test[\"mas_y1\"][27:31],hysteresis_test[\"mas_y1\"][27]).values\n",
    "\n",
    "#mas_x1_rel_expected = [0,500,0,0]\n",
    "#mas_y1_rel_expected = [0,0,0,-100]\n",
    "\n",
    "text_array_emp = [27,28,29,30]\n",
    "#text_array_expect = [\"12,14,16\",\"13\",\"\",\"15\"]\n",
    "plt.plot(mas_x1_rel_baseline, mas_y1_rel_baseline, '-o', markersize = 8, alpha = 1)\n",
    "#plt.plot(mas_x1_rel_expected, mas_y1_rel_expected, '-o', markersize = 8, color=\"k\", alpha = 0.6)\n",
    "for i in range(0,4):\n",
    "    plt.text(mas_x1_rel_baseline[i], mas_y1_rel_baseline[i],\n",
    "             str(text_array_emp[i]), color=\"k\", fontsize=12)\n",
    "#for i in range(0,3):\n",
    "#    plt.text(mas_x1_rel_expected[i]+5, mas_y1_rel_expected[i]+5,\n",
    "#             str(text_array_expect[i]), color=\"k\", fontsize=12, alpha = 0.6)\n",
    "major_ticks = np.arange(-200, 401, 10)                                              \n",
    "plt.xticks(major_ticks)                                                       \n",
    "plt.yticks(major_ticks) \n",
    "plt.xlim([-100,400])\n",
    "plt.ylim([-50,50])\n",
    "plt.grid(True)\n",
    "#plt.axis(\"equal\")\n",
    "plt.xlabel(\"x (mas)\")\n",
    "plt.ylabel(\"y (mas)\")\n",
    "plt.title(\"SPC pathlength movement only\")\n",
    "#plt.scatter(hysteresis_test[\"x2\"],hysteresis_test[\"y2\"])\n",
    "plt.show()"
   ]
  }
 ],
 "metadata": {
  "kernelspec": {
   "display_name": "Python 3",
   "language": "python",
   "name": "python3"
  },
  "language_info": {
   "codemirror_mode": {
    "name": "ipython",
    "version": 3
   },
   "file_extension": ".py",
   "mimetype": "text/x-python",
   "name": "python",
   "nbconvert_exporter": "python",
   "pygments_lexer": "ipython3",
   "version": "3.5.4"
  }
 },
 "nbformat": 4,
 "nbformat_minor": 2
}
