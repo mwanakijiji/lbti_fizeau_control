{
 "cells": [
  {
   "cell_type": "code",
   "execution_count": 1,
   "metadata": {
    "collapsed": true
   },
   "outputs": [],
   "source": [
    "# This is for testing for hysteresis and slop using frames\n",
    "# with thermal pinhole images\n",
    "\n",
    "# created 2019 June 23 by E.S."
   ]
  },
  {
   "cell_type": "code",
   "execution_count": 1,
   "metadata": {
    "collapsed": false
   },
   "outputs": [],
   "source": [
    "import matplotlib.pyplot as plt\n",
    "import matplotlib.cm as cm\n",
    "import numpy as np\n",
    "import os\n",
    "import gc\n",
    "from astropy.io import fits\n",
    "import pandas as pd\n",
    "import glob\n",
    "import photutils\n",
    "from matplotlib import patches\n",
    "from matplotlib.patches import Circle\n",
    "from photutils import DAOStarFinder\n",
    "%matplotlib inline\n",
    "#%matplotlib qt"
   ]
  },
  {
   "cell_type": "code",
   "execution_count": 2,
   "metadata": {
    "collapsed": true
   },
   "outputs": [],
   "source": [
    "stem = \"/Volumes/seagate_external_drive/lbti_data_reduction/hysteresis_slop/\""
   ]
  },
  {
   "cell_type": "code",
   "execution_count": 3,
   "metadata": {
    "collapsed": false
   },
   "outputs": [],
   "source": [
    "def make_median(date_string, start_frame_num, save_name):\n",
    "    '''\n",
    "    Make median of five frames, starting with the one with the starting frame number\n",
    "    '''\n",
    "    \n",
    "    # initialize cube\n",
    "    frame_cube = np.nan*np.ones((5,2048,2048))\n",
    "    \n",
    "    for t in range(0,5):\n",
    "            \n",
    "        # read in image\n",
    "        sciImg, header = fits.getdata(stem + \"lm_\"+date_string+\"_\"+\n",
    "                                      '%06i'%(start_frame_num+t)+\".fits\",\n",
    "                                      0,header=True)\n",
    "        \n",
    "        # take first slice if there's just one\n",
    "        frame_cube[t,:,:] = sciImg[0,:,:]\n",
    "        \n",
    "        # take second slice, if it's a cube\n",
    "        #frame_cube[t,:,:] = sciImg[1,:,:]\n",
    "    \n",
    "        # take median\n",
    "        median_frame_cube = np.median(frame_cube, axis = 0).astype(np.uint16)\n",
    "\n",
    "    hdu = fits.PrimaryHDU(median_frame_cube)\n",
    "    hdulist = fits.HDUList([hdu])\n",
    "    hdu.writeto(save_name, overwrite=True)"
   ]
  },
  {
   "cell_type": "code",
   "execution_count": 4,
   "metadata": {
    "collapsed": false
   },
   "outputs": [],
   "source": [
    "def make_median_dark_subt(date_string, start_frame_num, dark_name, save_name):\n",
    "    '''\n",
    "    Same as above, but with dark subtraction added in\n",
    "    '''\n",
    "    \n",
    "    # initialize cube\n",
    "    frame_cube = np.nan*np.ones((5,2048,2048))\n",
    "    \n",
    "    for t in range(0,5):\n",
    "            \n",
    "        # read in image\n",
    "        sciImg, header = fits.getdata(stem + \"lm_\"+date_string+\"_\"+\n",
    "                                      '%06i'%(start_frame_num+t)+\".fits\",\n",
    "                                      0,header=True)\n",
    "        \n",
    "\n",
    "        # if the science frame is just one slice\n",
    "        frame_cube[t,:,:] = sciImg[0,:,:]\n",
    "\n",
    "        # take second slice, if it's a cube\n",
    "        #frame_cube[t,:,:] = sciImg[1,:,:]\n",
    "    \n",
    "        # take median\n",
    "        median_frame_cube = np.median(frame_cube, axis = 0).astype(np.uint16)\n",
    "        \n",
    "        # dark-subtract\n",
    "        dark, header = fits.getdata(dark_name,\n",
    "                                      0,header=True)\n",
    "        \n",
    "    frame_dark_subt = np.subtract(median_frame_cube,dark)\n",
    "\n",
    "    hdu = fits.PrimaryHDU(frame_dark_subt)\n",
    "    hdulist = fits.HDUList([hdu])\n",
    "    hdu.writeto(save_name, overwrite=True)"
   ]
  },
  {
   "cell_type": "code",
   "execution_count": 5,
   "metadata": {
    "collapsed": false
   },
   "outputs": [],
   "source": [
    "def make_median_dark_subt_single(date_string, sci_frame_num, dark_name, save_name):\n",
    "    '''\n",
    "    Same as above, but for single frames\n",
    "    '''\n",
    "    \n",
    "    # initialize cube\n",
    "    frame_cube = np.nan*np.ones((5,2048,2048))\n",
    "            \n",
    "    # read in image\n",
    "    sciImg, header = fits.getdata(stem + \"lm_\"+date_string+\"_\"+\n",
    "                                      '%06i'%(sci_frame_num)+\".fits\",\n",
    "                                      0,header=True)\n",
    "        \n",
    "    # dark-subtract\n",
    "    dark, header = fits.getdata(stem + dark_name,0,header=True)\n",
    "        \n",
    "    frame_dark_subt = np.subtract(sciImg,dark)\n",
    "\n",
    "    hdu = fits.PrimaryHDU(frame_dark_subt)\n",
    "    hdulist = fits.HDUList([hdu])\n",
    "    hdu.writeto(save_name, overwrite=True)"
   ]
  },
  {
   "cell_type": "code",
   "execution_count": 7,
   "metadata": {
    "collapsed": false
   },
   "outputs": [],
   "source": [
    "#make_median(\"190217\", 11, \"med_dark.fits\")\n",
    "make_median_dark_subt(\"190217\", 16, \"med_016_020.fits\")\n",
    "make_median_dark_subt(\"190217\", 21, \"med_021_025.fits\")\n",
    "make_median_dark_subt(\"190217\", 26, \"med_026_030.fits\")\n",
    "make_median_dark_subt(\"190217\", 31, \"med_031_035.fits\")\n",
    "make_median_dark_subt(\"190217\", 36, \"med_036_040.fits\")\n",
    "make_median_dark_subt(\"190217\", 41, \"med_041_045.fits\")\n",
    "make_median_dark_subt(\"190217\", 46, \"med_046_050.fits\")"
   ]
  },
  {
   "cell_type": "code",
   "execution_count": 22,
   "metadata": {
    "collapsed": false
   },
   "outputs": [
    {
     "name": "stderr",
     "output_type": "stream",
     "text": [
      "/Users/nyumbani/anaconda3/lib/python3.5/site-packages/numpy/lib/function_base.py:3250: RuntimeWarning: Invalid value encountered in median for 4194304 results\n",
      "  r = func(a, **kwargs)\n"
     ]
    }
   ],
   "source": [
    "make_median(\"190705\", 11, \"med_dark_190705.fits\")\n",
    "make_median_dark_subt(\"190705\", 16, \"med_dark_190705.fits\", \"med_016_020_190705.fits\")\n",
    "make_median_dark_subt(\"190705\", 21, \"med_dark_190705.fits\", \"med_021_025_190705.fits\")\n",
    "make_median_dark_subt(\"190705\", 26, \"med_dark_190705.fits\", \"med_026_030_190705.fits\")\n",
    "make_median_dark_subt(\"190705\", 31, \"med_dark_190705.fits\", \"med_031_035_190705.fits\")\n",
    "make_median_dark_subt(\"190705\", 36, \"med_dark_190705.fits\", \"med_036_040_190705.fits\")\n",
    "make_median_dark_subt(\"190705\", 41, \"med_dark_190705.fits\", \"med_041_045_190705.fits\")\n",
    "make_median_dark_subt(\"190705\", 46, \"med_dark_190705.fits\", \"med_046_050_190705.fits\")"
   ]
  },
  {
   "cell_type": "code",
   "execution_count": 8,
   "metadata": {
    "collapsed": false
   },
   "outputs": [],
   "source": [
    "make_median_dark_subt(\"190218\", 6, \"med_190218_006_010.fits\")\n",
    "make_median_dark_subt(\"190218\", 11, \"med_190218_011_015.fits\")\n",
    "make_median_dark_subt(\"190218\", 16, \"med_190218_016_020.fits\")\n",
    "make_median_dark_subt(\"190218\", 21, \"med_190218_021_025.fits\")\n",
    "make_median_dark_subt(\"190218\", 26, \"med_190218_026_030.fits\")\n",
    "make_median_dark_subt(\"190218\", 31, \"med_190218_031_035.fits\")\n",
    "make_median_dark_subt(\"190218\", 36, \"med_190218_036_040.fits\")\n",
    "make_median_dark_subt(\"190218\", 41, \"med_190218_041_045.fits\")\n",
    "make_median_dark_subt(\"190218\", 46, \"med_190218_046_050.fits\")\n",
    "make_median_dark_subt(\"190218\", 51, \"med_190218_051_055.fits\")\n",
    "make_median_dark_subt(\"190218\", 56, \"med_190218_056_060.fits\")\n",
    "make_median_dark_subt(\"190218\", 61, \"med_190218_061_065.fits\")\n",
    "make_median_dark_subt(\"190218\", 66, \"med_190218_066_070.fits\")\n",
    "make_median_dark_subt(\"190218\", 71, \"med_190218_071_075.fits\")\n",
    "make_median_dark_subt(\"190218\", 76, \"med_190218_076_080.fits\")\n",
    "make_median_dark_subt(\"190218\", 81, \"med_190218_081_085.fits\")\n",
    "make_median_dark_subt(\"190218\", 86, \"med_190218_086_090.fits\")\n",
    "make_median_dark_subt(\"190218\", 91, \"med_190218_091_095.fits\")\n",
    "make_median_dark_subt(\"190218\", 96, \"med_190218_096_100.fits\")\n",
    "make_median_dark_subt(\"190218\", 101, \"med_190218_101_105.fits\")\n",
    "make_median_dark_subt(\"190218\", 106, \"med_190218_106_110.fits\")\n",
    "make_median_dark_subt(\"190218\", 111, \"med_190218_111_115.fits\")\n",
    "make_median_dark_subt(\"190218\", 116, \"med_190218_116_120.fits\")\n",
    "make_median_dark_subt(\"190218\", 121, \"med_190218_121_125.fits\")"
   ]
  },
  {
   "cell_type": "code",
   "execution_count": 6,
   "metadata": {
    "collapsed": false
   },
   "outputs": [],
   "source": [
    "make_median_dark_subt_single(\"190705\", 231, \"lm_190705_000226.fits\", \"dark_subt_0231.fits\")"
   ]
  },
  {
   "cell_type": "code",
   "execution_count": 13,
   "metadata": {
    "collapsed": true
   },
   "outputs": [],
   "source": [
    "def centroid_psf(file_name, mask=False):\n",
    "    '''\n",
    "    Read in an image and get a precise center of the PSF\n",
    "    '''\n",
    "    \n",
    "    plt.clf()\n",
    "    \n",
    "    # read in image\n",
    "    sciImg, header = fits.getdata(file_name,0,header=True)\n",
    "    \n",
    "    # take 1st slice\n",
    "    sciImg = sciImg[1,:,:]\n",
    "    \n",
    "    daofind = DAOStarFinder(fwhm=40, threshold=1500, exclude_border=True)\n",
    "    \n",
    "    # mask rest of image\n",
    "    if mask:\n",
    "        piece_to_keep_top = sciImg[943:1043,1675:1775]\n",
    "        piece_to_keep_bottom = sciImg[613:713,780:960]\n",
    "        sciImg = np.median(sciImg)*np.ones(np.shape(sciImg))\n",
    "        sciImg[943:1043,1675:1775] = piece_to_keep_top\n",
    "        sciImg[613:713,780:960] = piece_to_keep_bottom   \n",
    "        \n",
    "    # kludge for 1 pixel\n",
    "    sciImg[1135,1567] = sciImg[1135,1566]\n",
    "    \n",
    "    sources = daofind(sciImg)\n",
    "    \n",
    "    plt.imshow(sciImg, origin=\"lower\")\n",
    "    plt.scatter([sources[\"xcentroid\"]],[sources[\"ycentroid\"]])\n",
    "    plt.show()\n",
    "    \n",
    "    print(sources)"
   ]
  },
  {
   "cell_type": "code",
   "execution_count": 16,
   "metadata": {
    "collapsed": false
   },
   "outputs": [
    {
     "data": {
      "image/png": "[encoded data removed]",
      "text/plain": [
       "<matplotlib.figure.Figure at 0x11d50bfd0>"
      ]
     },
     "metadata": {},
     "output_type": "display_data"
    },
    {
     "name": "stdout",
     "output_type": "stream",
     "text": [
      " id   xcentroid     ycentroid   ...  peak       flux          mag      \n",
      "--- ------------- ------------- ... ------ ------------- --------------\n",
      "  1 910.700420257 678.270944825 ... 4795.0 26.4635514852 -3.55662031835\n",
      "  2 1725.22064794 990.789830893 ... 6005.0 19.0674307082 -3.20073044205\n",
      "  3  1764.9490409 1011.44500107 ... 1472.0  5.0010012227 -1.74764240182\n",
      "  4 1702.86754072 1018.37750084 ... 1513.0 6.95739117259 -2.10611605458\n"
     ]
    }
   ],
   "source": [
    "centroid_psf(\"dark_subt_0231.fits\", mask = True)"
   ]
  },
  {
   "cell_type": "code",
   "execution_count": 10,
   "metadata": {
    "collapsed": true
   },
   "outputs": [],
   "source": [
    "make_median_dark_subt_single(\"190705\", 232, \"lm_190705_000226.fits\", \"dark_subt_0232.fits\")"
   ]
  },
  {
   "cell_type": "code",
   "execution_count": 11,
   "metadata": {
    "collapsed": false
   },
   "outputs": [
    {
     "name": "stdout",
     "output_type": "stream",
     "text": [
      " id   xcentroid     ycentroid   ...  peak       flux           mag      \n",
      "--- ------------- ------------- ... ------ ------------- ---------------\n",
      "  1 882.884762764 661.973165556 ... 5072.0 4.69069402896  -1.67809276278\n",
      "  2 1693.60644587 963.357518913 ... 1255.0 1.48032063947 -0.425889485902\n",
      "  3 1730.02094171 985.239906969 ... 5886.0 2.78811832269  -1.11327800122\n",
      "  4 1757.16818855 1021.55782095 ... 1519.0 1.79511968542 -0.635233523632\n",
      "  5 1691.31877723 1028.13833373 ... 1577.0 2.38607361577 -0.944209596272\n"
     ]
    }
   ],
   "source": [
    "centroid_psf(\"dark_subt_0232.fits\", mask = True)"
   ]
  },
  {
   "cell_type": "code",
   "execution_count": 12,
   "metadata": {
    "collapsed": true
   },
   "outputs": [],
   "source": [
    "make_median_dark_subt_single(\"190705\", 233, \"lm_190705_000226.fits\", \"dark_subt_0233.fits\")"
   ]
  },
  {
   "cell_type": "code",
   "execution_count": 13,
   "metadata": {
    "collapsed": false
   },
   "outputs": [
    {
     "name": "stdout",
     "output_type": "stream",
     "text": [
      " id   xcentroid     ycentroid   ...  peak       flux           mag      \n",
      "--- ------------- ------------- ... ------ ------------- ---------------\n",
      "  1 882.381778945 661.746211286 ... 5024.0 4.71287137221  -1.68321396694\n",
      "  2  1692.3196266 962.295169181 ... 1142.0 1.41275123726 -0.375164240795\n",
      "  3  1744.6048372 967.075202404 ... 1941.0  1.9575265631 -0.729269160066\n",
      "  4 1734.94610821 985.498959215 ... 5591.0 2.98203176113  -1.18628066185\n",
      "  5  1757.4813691 1019.19973689 ... 1462.0 1.72197292277 -0.590065795226\n",
      "  6 1692.11739062 1028.61906779 ... 1629.0 2.37541614273 -0.939349258753\n"
     ]
    }
   ],
   "source": [
    "centroid_psf(\"dark_subt_0233.fits\", mask = True)"
   ]
  },
  {
   "cell_type": "code",
   "execution_count": 14,
   "metadata": {
    "collapsed": true
   },
   "outputs": [],
   "source": [
    "make_median_dark_subt_single(\"190705\", 234, \"lm_190705_000226.fits\", \"dark_subt_0234.fits\")"
   ]
  },
  {
   "cell_type": "code",
   "execution_count": 15,
   "metadata": {
    "collapsed": false
   },
   "outputs": [
    {
     "name": "stdout",
     "output_type": "stream",
     "text": [
      " id   xcentroid     ycentroid   ...  peak       flux           mag      \n",
      "--- ------------- ------------- ... ------ ------------- ---------------\n",
      "  1 881.784335192 661.525693397 ... 5121.0 4.73576174365  -1.68847461223\n",
      "  2   1691.598744 962.086310988 ... 1189.0 1.45173535421 -0.404718633398\n",
      "  3 1740.27560162 984.305037509 ... 5614.0  2.9901890494  -1.18924661673\n",
      "  4 1750.11838688  988.39710205 ... 4257.0 3.56219154579  -1.37929317148\n",
      "  5 1757.60730455   1014.156939 ... 1414.0  1.6122525571  -0.51858268605\n",
      "  6 1692.69344075 1028.74962486 ... 1613.0 2.43208623538 -0.964947424536\n"
     ]
    }
   ],
   "source": [
    "centroid_psf(\"dark_subt_0234.fits\", mask = True)"
   ]
  },
  {
   "cell_type": "code",
   "execution_count": 16,
   "metadata": {
    "collapsed": true
   },
   "outputs": [],
   "source": [
    "make_median_dark_subt_single(\"190705\", 235, \"lm_190705_000226.fits\", \"dark_subt_0235.fits\")"
   ]
  },
  {
   "cell_type": "code",
   "execution_count": 17,
   "metadata": {
    "collapsed": false
   },
   "outputs": [
    {
     "name": "stdout",
     "output_type": "stream",
     "text": [
      " id   xcentroid     ycentroid   ...  peak       flux           mag      \n",
      "--- ------------- ------------- ... ------ ------------- ---------------\n",
      "  1 881.448192641  661.21894732 ... 4635.0 4.69788221492  -1.67975530992\n",
      "  2 886.226528746 666.289772259 ... 3801.0 3.32613519673   -1.3048497448\n",
      "  3 1745.07693647 969.608425807 ... 2160.0 1.99972075004 -0.752423382678\n",
      "  4 1736.34407862 984.106709113 ... 5679.0 2.93671225581  -1.16965348919\n",
      "  5 1757.06329137 1018.28332104 ... 1570.0 1.70453920639 -0.579017487401\n",
      "  6 1692.27120643 1028.53418089 ... 1742.0 2.51481177148  -1.00126371138\n"
     ]
    }
   ],
   "source": [
    "centroid_psf(\"dark_subt_0235.fits\", mask = True)"
   ]
  },
  {
   "cell_type": "code",
   "execution_count": 8,
   "metadata": {
    "collapsed": true
   },
   "outputs": [],
   "source": [
    "make_median_dark_subt_single(\"190705\", 236, \"lm_190705_000226.fits\", \"dark_subt_0236.fits\")"
   ]
  },
  {
   "cell_type": "code",
   "execution_count": 9,
   "metadata": {
    "collapsed": false
   },
   "outputs": [
    {
     "name": "stdout",
     "output_type": "stream",
     "text": [
      " id   xcentroid     ycentroid   ...  peak       flux           mag      \n",
      "--- ------------- ------------- ... ------ ------------- ---------------\n",
      "  1 881.118873508 661.057007925 ... 4772.0 4.70840461474  -1.68218444171\n",
      "  2  1746.8409615 963.528643926 ... 1668.0 1.83131829795 -0.656909586903\n",
      "  3  1693.7475682 963.320346486 ... 1192.0 1.36264157025 -0.335954084686\n",
      "  4 1732.53036499 983.745578085 ... 6319.0 2.90652899991  -1.15843665122\n",
      "  5 1757.75250082 1020.65496055 ... 1434.0 1.73886525779 -0.600664826101\n",
      "  6 1692.25159484 1028.42862955 ... 1816.0 2.44276114891 -0.969702510266\n"
     ]
    }
   ],
   "source": [
    "centroid_psf(\"dark_subt_0236.fits\", mask = True)"
   ]
  },
  {
   "cell_type": "code",
   "execution_count": 11,
   "metadata": {
    "collapsed": false
   },
   "outputs": [
    {
     "name": "stdout",
     "output_type": "stream",
     "text": [
      " id   xcentroid     ycentroid   ...  peak       flux           mag      \n",
      "--- ------------- ------------- ... ------ ------------- ---------------\n",
      "  1 880.565375611 660.584073273 ... 4647.0  4.7176490853  -1.68431408364\n",
      "  2 1748.33265381 960.558161547 ... 1571.0 1.86317417908 -0.675633642173\n",
      "  3 1697.94074614 964.877558241 ... 1348.0 1.24125098929   -0.2346490191\n",
      "  4 1728.84818686 983.377365714 ... 5852.0 2.80824910486  -1.12108907281\n",
      "  5 1758.16219617 1022.54195875 ... 1512.0 1.76645184874 -0.617754509027\n",
      "  6  1692.5180936  1028.3413168 ... 1660.0 2.30821657081 -0.908191386312\n"
     ]
    }
   ],
   "source": [
    "make_median_dark_subt_single(\"190705\", 237, \"lm_190705_000226.fits\", \"dark_subt_0237.fits\")\n",
    "centroid_psf(\"dark_subt_0237.fits\", mask = True)"
   ]
  },
  {
   "cell_type": "code",
   "execution_count": 12,
   "metadata": {
    "collapsed": false
   },
   "outputs": [
    {
     "name": "stdout",
     "output_type": "stream",
     "text": [
      " id   xcentroid     ycentroid   ...  peak       flux           mag      \n",
      "--- ------------- ------------- ... ------ ------------- ---------------\n",
      "  1 879.726288398 660.452999414 ... 4587.0 4.64892127322   -1.6683804793\n",
      "  2 1752.47631147 960.146653827 ... 1492.0 1.87690783995  -0.68360737097\n",
      "  3 1694.73341385 964.647565973 ... 1365.0 1.37721424666  -0.34750376659\n",
      "  4   1727.624104 988.293845747 ... 6028.0 2.86356301801  -1.14226686252\n",
      "  5 1756.81351531 1020.70451523 ... 1308.0 1.64277070285 -0.538942372624\n",
      "  6  1692.2236611 1028.19495847 ... 1523.0 2.42594348877   -0.9622016999\n"
     ]
    }
   ],
   "source": [
    "make_median_dark_subt_single(\"190705\", 238, \"lm_190705_000226.fits\", \"dark_subt_0238.fits\")\n",
    "centroid_psf(\"dark_subt_0238.fits\", mask = True)"
   ]
  },
  {
   "cell_type": "code",
   "execution_count": 13,
   "metadata": {
    "collapsed": false
   },
   "outputs": [
    {
     "name": "stdout",
     "output_type": "stream",
     "text": [
      " id   xcentroid     ycentroid   ...  peak       flux           mag      \n",
      "--- ------------- ------------- ... ------ ------------- ---------------\n",
      "  1 879.329902635 660.429499693 ... 4771.0 4.54544999829   -1.6439422118\n",
      "  2 1756.13370584 959.585922697 ... 1530.0 1.95489073963 -0.727806223379\n",
      "  3 1693.71569352 964.907978697 ... 1198.0 1.29146094724 -0.277703194965\n",
      "  4 1727.54482744 993.319693713 ... 5385.0 2.83480978768  -1.13130980893\n",
      "  5 1754.89155174 1019.06611797 ... 1397.0 1.59515332076 -0.507006080804\n"
     ]
    }
   ],
   "source": [
    "make_median_dark_subt_single(\"190705\", 239, \"lm_190705_000226.fits\", \"dark_subt_0239.fits\")\n",
    "centroid_psf(\"dark_subt_0239.fits\", mask = True)"
   ]
  },
  {
   "cell_type": "code",
   "execution_count": 14,
   "metadata": {
    "collapsed": false
   },
   "outputs": [
    {
     "name": "stdout",
     "output_type": "stream",
     "text": [
      " id   xcentroid     ycentroid   ...  peak       flux           mag      \n",
      "--- ------------- ------------- ... ------ ------------- ---------------\n",
      "  1 878.836847909  659.94362093 ... 4740.0 4.50292243338  -1.63373616485\n",
      "  2 883.392157953 666.598843728 ... 4362.0 3.53950492107  -1.37235630119\n",
      "  3 1757.72171739 959.189404551 ... 1298.0 1.91931473132 -0.707865491641\n",
      "  4 1692.59331123 963.817952304 ... 1219.0 1.35140448389 -0.326963388895\n",
      "  5 1726.53674879 1000.48448207 ... 5944.0 2.93963881811  -1.17073493408\n",
      "  6 1750.69673371  1017.0040803 ... 1466.0 1.46371798977  -0.41364352636\n",
      "  7 1696.36464045  1027.6199998 ... 1536.0 2.20326683576 -0.857667743422\n"
     ]
    }
   ],
   "source": [
    "make_median_dark_subt_single(\"190705\", 240, \"lm_190705_000226.fits\", \"dark_subt_0240.fits\")\n",
    "centroid_psf(\"dark_subt_0240.fits\", mask = True)"
   ]
  },
  {
   "cell_type": "code",
   "execution_count": 15,
   "metadata": {
    "collapsed": false
   },
   "outputs": [
    {
     "name": "stdout",
     "output_type": "stream",
     "text": [
      " id   xcentroid     ycentroid   ...  peak       flux           mag      \n",
      "--- ------------- ------------- ... ------ ------------- ---------------\n",
      "  1 878.342931316 659.843901476 ... 4657.0 4.50882941968  -1.63515951292\n",
      "  2 882.903911108 665.877482229 ... 4178.0 3.43106440785  -1.33857217674\n",
      "  3 1756.84199703 959.529492252 ... 1452.0 1.97209693351 -0.737320644482\n",
      "  4 1694.56985652 964.510708327 ... 1173.0 1.24374278442   -0.2368264355\n",
      "  5 1727.27012801 996.141900189 ... 5500.0 2.90893606524  -1.15933544026\n",
      "  6 1753.76707524 1018.30811533 ... 1455.0 1.56972112891  -0.48955626011\n",
      "  7 1694.25108048 1027.82909744 ... 1503.0 2.26574806142 -0.888029042706\n"
     ]
    }
   ],
   "source": [
    "make_median_dark_subt_single(\"190705\", 241, \"lm_190705_000226.fits\", \"dark_subt_0241.fits\")\n",
    "centroid_psf(\"dark_subt_0241.fits\", mask = True)"
   ]
  },
  {
   "cell_type": "code",
   "execution_count": 22,
   "metadata": {
    "collapsed": false
   },
   "outputs": [
    {
     "name": "stdout",
     "output_type": "stream",
     "text": [
      " id   xcentroid     ycentroid   ...  peak       flux          mag      \n",
      "--- ------------- ------------- ... ------ ------------- --------------\n",
      "  1 878.324304296 661.218019468 ... 5218.0 12.8332779082 -2.77084399784\n",
      "  2 1727.30407992 990.751402904 ... 5807.0 8.59277795943 -2.33533397402\n",
      "  3 1702.72988335 1021.12951164 ... 1763.0 4.09622907057 -1.53096058849\n"
     ]
    }
   ],
   "source": [
    "make_median_dark_subt_single(\"190705\", 242, \"lm_190705_000226.fits\", \"dark_subt_0242.fits\")\n",
    "centroid_psf(\"dark_subt_0242.fits\", mask = True)"
   ]
  },
  {
   "cell_type": "code",
   "execution_count": 23,
   "metadata": {
    "collapsed": false
   },
   "outputs": [
    {
     "name": "stdout",
     "output_type": "stream",
     "text": [
      " id   xcentroid     ycentroid   ...  peak       flux          mag      \n",
      "--- ------------- ------------- ... ------ ------------- --------------\n",
      "  1 877.965980339 660.829636804 ... 5118.0 13.0399172161 -2.78818708571\n",
      "  2 1727.68398282 985.769060788 ... 5818.0 8.64200890541 -2.34153677377\n",
      "  3 1699.20519966 1022.40560363 ... 1801.0 4.35308240951 -1.59699222249\n"
     ]
    }
   ],
   "source": [
    "make_median_dark_subt_single(\"190705\", 243, \"lm_190705_000226.fits\", \"dark_subt_0243.fits\")\n",
    "centroid_psf(\"dark_subt_0243.fits\", mask = True)"
   ]
  },
  {
   "cell_type": "code",
   "execution_count": 24,
   "metadata": {
    "collapsed": false
   },
   "outputs": [
    {
     "name": "stdout",
     "output_type": "stream",
     "text": [
      " id   xcentroid     ycentroid   ...  peak       flux           mag      \n",
      "--- ------------- ------------- ... ------ ------------- ---------------\n",
      "  1 900.365865092 658.413360767 ... 4927.0 13.5721490584  -2.83162155178\n",
      "  2 838.653260101 684.912093683 ...   18.0 1.21858942388 -0.214643511427\n",
      "  3 1726.58213445 984.969210298 ... 5707.0 9.31414880389  -2.42285792997\n",
      "  4 1695.20060846 1023.70173316 ... 1922.0 4.74279949858   -1.6900869132\n",
      "  5 1748.05718287 1013.73446626 ... 1581.0 2.93057003651  -1.16738026218\n"
     ]
    }
   ],
   "source": [
    "make_median_dark_subt_single(\"190705\", 244, \"lm_190705_000226.fits\", \"dark_subt_0244.fits\")\n",
    "centroid_psf(\"dark_subt_0244.fits\", mask = True)"
   ]
  },
  {
   "cell_type": "code",
   "execution_count": 25,
   "metadata": {
    "collapsed": false
   },
   "outputs": [
    {
     "name": "stdout",
     "output_type": "stream",
     "text": [
      " id   xcentroid     ycentroid   ...  peak       flux          mag      \n",
      "--- ------------- ------------- ... ------ ------------- --------------\n",
      "  1 878.167290233 659.900585151 ... 4851.0 12.8782392561 -2.77464122323\n",
      "  2  1727.4643339 985.306690641 ... 5898.0 8.67741952267 -2.34597648642\n",
      "  3 1699.16801855 1022.28757732 ... 1794.0 4.39272107394   -1.606834069\n"
     ]
    }
   ],
   "source": [
    "make_median_dark_subt_single(\"190705\", 245, \"lm_190705_000226.fits\", \"dark_subt_0245.fits\")\n",
    "centroid_psf(\"dark_subt_0245.fits\", mask = True)"
   ]
  },
  {
   "cell_type": "code",
   "execution_count": 27,
   "metadata": {
    "collapsed": false
   },
   "outputs": [
    {
     "name": "stdout",
     "output_type": "stream",
     "text": [
      " id   xcentroid     ycentroid   ...  peak       flux           mag      \n",
      "--- ------------- ------------- ... ------ ------------- ---------------\n",
      "  1 900.365865092 658.413360767 ... 4927.0 13.5721490584  -2.83162155178\n",
      "  2 838.653260101 684.912093683 ...   18.0 1.21858942388 -0.214643511427\n",
      "  3 1726.58213445 984.969210298 ... 5707.0 9.31414880389  -2.42285792997\n",
      "  4 1695.20060846 1023.70173316 ... 1922.0 4.74279949858   -1.6900869132\n",
      "  5 1748.05718287 1013.73446626 ... 1581.0 2.93057003651  -1.16738026218\n"
     ]
    }
   ],
   "source": [
    "make_median_dark_subt_single(\"190705\", 244, \"lm_190705_000226.fits\", \"dark_subt_0244.fits\")\n",
    "centroid_psf(\"dark_subt_0244.fits\", mask = True)"
   ]
  },
  {
   "cell_type": "code",
   "execution_count": 28,
   "metadata": {
    "collapsed": false
   },
   "outputs": [
    {
     "name": "stdout",
     "output_type": "stream",
     "text": [
      " id   xcentroid     ycentroid   ...  peak       flux          mag      \n",
      "--- ------------- ------------- ... ------ ------------- --------------\n",
      "  1 878.167290233 659.900585151 ... 4851.0 12.8782392561 -2.77464122323\n",
      "  2  1727.4643339 985.306690641 ... 5898.0 8.67741952267 -2.34597648642\n",
      "  3 1699.16801855 1022.28757732 ... 1794.0 4.39272107394   -1.606834069\n"
     ]
    }
   ],
   "source": [
    "make_median_dark_subt_single(\"190705\", 245, \"lm_190705_000226.fits\", \"dark_subt_0245.fits\")\n",
    "centroid_psf(\"dark_subt_0245.fits\", mask = True)"
   ]
  },
  {
   "cell_type": "code",
   "execution_count": 65,
   "metadata": {
    "collapsed": false
   },
   "outputs": [
    {
     "name": "stdout",
     "output_type": "stream",
     "text": [
      " id   xcentroid     ycentroid   ...  peak       flux           mag      \n",
      "--- ------------- ------------- ... ------ ------------- ---------------\n",
      "  1 859.682989207  647.91030823 ... 5382.0 25.8063699906  -3.52931729885\n",
      "  2 921.198598235 663.702327194 ...  -96.0 1.32315404972 -0.304026025907\n",
      "  3 1725.67419872   979.6050308 ... 5018.0 17.7463277508  -3.12277124523\n",
      "  4 1695.61599883 1019.73803785 ... 1931.0 8.95712480552  -2.38042156392\n",
      "  5  1750.6421822 1012.65369905 ... 1662.0 5.92594082462  -1.93189327595\n"
     ]
    }
   ],
   "source": [
    "make_median_dark_subt_single(\"190705\", 277, \"lm_190705_000226.fits\", \"dark_subt_0277.fits\")\n",
    "centroid_psf(\"dark_subt_0277.fits\", mask = True)"
   ]
  },
  {
   "cell_type": "code",
   "execution_count": 12,
   "metadata": {
    "collapsed": false
   },
   "outputs": [
    {
     "name": "stdout",
     "output_type": "stream",
     "text": [
      " id   xcentroid     ycentroid   ...  peak      flux           mag       \n",
      "--- ------------- ------------- ... ----- ------------- ----------------\n",
      "  1 1442.61106461 673.060660987 ... 183.0 1.44518064687  -0.399805342709\n",
      "  2 1557.66587106 1135.60270615 ... 192.0 1.08311592458 -0.0866873528097\n"
     ]
    }
   ],
   "source": [
    "centroid_psf(\"med_016_020.fits\", mask = True)"
   ]
  },
  {
   "cell_type": "code",
   "execution_count": 13,
   "metadata": {
    "collapsed": false
   },
   "outputs": [
    {
     "name": "stdout",
     "output_type": "stream",
     "text": [
      " id   xcentroid     ycentroid   ...  peak      flux           mag      \n",
      "--- ------------- ------------- ... ----- ------------- ---------------\n",
      "  1 1442.43453672  670.14133892 ... 182.0 1.59971679531  -0.51010776114\n",
      "  2 1562.78755879 1134.99355864 ... 194.0 1.11003485226 -0.113341536843\n"
     ]
    }
   ],
   "source": [
    "centroid_psf(\"med_021_025.fits\", mask = True)"
   ]
  },
  {
   "cell_type": "code",
   "execution_count": 14,
   "metadata": {
    "collapsed": false
   },
   "outputs": [
    {
     "name": "stdout",
     "output_type": "stream",
     "text": [
      " id   xcentroid     ycentroid   ...  peak      flux           mag      \n",
      "--- ------------- ------------- ... ----- ------------- ---------------\n",
      "  1 1442.44280197   669.0143762 ... 186.0  1.6528667337 -0.545594597399\n",
      "  2 1568.52076201 1134.83130217 ... 190.0 1.10147299002 -0.104934629954\n"
     ]
    }
   ],
   "source": [
    "centroid_psf(\"med_026_030.fits\", mask = True)"
   ]
  },
  {
   "cell_type": "code",
   "execution_count": 15,
   "metadata": {
    "collapsed": false
   },
   "outputs": [
    {
     "name": "stdout",
     "output_type": "stream",
     "text": [
      " id   xcentroid     ycentroid   ...  peak      flux           mag       \n",
      "--- ------------- ------------- ... ----- ------------- ----------------\n",
      "  1 1442.20903091  667.66081717 ... 188.0 1.70908029866  -0.581906169744\n",
      "  2 1575.71835279 1134.21268847 ... 191.0  1.0881129479 -0.0916849454491\n"
     ]
    }
   ],
   "source": [
    "centroid_psf(\"med_031_035.fits\", mask = True)"
   ]
  },
  {
   "cell_type": "code",
   "execution_count": 16,
   "metadata": {
    "collapsed": false
   },
   "outputs": [
    {
     "name": "stdout",
     "output_type": "stream",
     "text": [
      " id   xcentroid     ycentroid   ...  peak      flux           mag      \n",
      "--- ------------- ------------- ... ----- ------------- ---------------\n",
      "  1 1442.25644211 667.642581035 ... 183.0 1.72578532962 -0.592466932159\n",
      "  2 1571.79233546 1133.90616122 ... 190.0 1.09408814917 -0.097630784787\n"
     ]
    }
   ],
   "source": [
    "centroid_psf(\"med_036_040.fits\", mask = True)"
   ]
  },
  {
   "cell_type": "code",
   "execution_count": 17,
   "metadata": {
    "collapsed": false
   },
   "outputs": [
    {
     "name": "stdout",
     "output_type": "stream",
     "text": [
      " id   xcentroid     ycentroid   ...  peak      flux           mag      \n",
      "--- ------------- ------------- ... ----- ------------- ---------------\n",
      "  1 1442.55230489 667.199841294 ... 183.0 1.72898360429 -0.594477187346\n",
      "  2 1567.45849122 1133.74092645 ... 190.0 1.13239242936 -0.134992393037\n"
     ]
    }
   ],
   "source": [
    "centroid_psf(\"med_041_045.fits\", mask = True)"
   ]
  },
  {
   "cell_type": "code",
   "execution_count": 18,
   "metadata": {
    "collapsed": false
   },
   "outputs": [
    {
     "name": "stdout",
     "output_type": "stream",
     "text": [
      " id   xcentroid     ycentroid   ...  peak      flux           mag       \n",
      "--- ------------- ------------- ... ----- ------------- ----------------\n",
      "  1 1442.56663814 666.291696191 ... 186.0 1.73544165717  -0.598525044881\n",
      "  2 1562.59274538 1133.36879173 ... 191.0 1.08995057592 -0.0935170129941\n"
     ]
    }
   ],
   "source": [
    "centroid_psf(\"med_046_050.fits\", mask = True)"
   ]
  },
  {
   "cell_type": "code",
   "execution_count": 19,
   "metadata": {
    "collapsed": false
   },
   "outputs": [
    {
     "name": "stdout",
     "output_type": "stream",
     "text": [
      " id   xcentroid     ycentroid   ...  peak      flux           mag       \n",
      "--- ------------- ------------- ... ----- ------------- ----------------\n",
      "  1 1442.65971114 665.737573041 ... 181.0 1.77401936806  -0.622395892454\n",
      "  2 1562.08949482 1138.25411073 ... 190.0 1.07345615313 -0.0769607743706\n"
     ]
    }
   ],
   "source": [
    "centroid_psf(\"med_190218_006_010.fits\", mask = True)"
   ]
  },
  {
   "cell_type": "code",
   "execution_count": 20,
   "metadata": {
    "collapsed": false
   },
   "outputs": [
    {
     "name": "stdout",
     "output_type": "stream",
     "text": [
      " id   xcentroid     ycentroid   ...  peak      flux           mag       \n",
      "--- ------------- ------------- ... ----- ------------- ----------------\n",
      "  1 1442.62443566 665.298793384 ... 188.0 1.77675446721  -0.624068540104\n",
      "  2 1561.76388787 1143.69346422 ... 190.0 1.06615581073 -0.0695516955801\n"
     ]
    }
   ],
   "source": [
    "centroid_psf(\"med_190218_011_015.fits\", mask = True)"
   ]
  },
  {
   "cell_type": "code",
   "execution_count": 21,
   "metadata": {
    "collapsed": false
   },
   "outputs": [
    {
     "name": "stdout",
     "output_type": "stream",
     "text": [
      " id   xcentroid     ycentroid   ...  peak      flux            mag        \n",
      "--- ------------- ------------- ... ----- ------------- ------------------\n",
      "  1 1442.72449823 664.907066567 ... 186.0  1.7906694888     -0.63253858434\n",
      "  2 1561.36606657 1150.84746493 ... 192.0 1.00003013983 -3.27234089906e-05\n"
     ]
    }
   ],
   "source": [
    "centroid_psf(\"med_190218_016_020.fits\", mask = True)"
   ]
  },
  {
   "cell_type": "code",
   "execution_count": 25,
   "metadata": {
    "collapsed": false
   },
   "outputs": [
    {
     "name": "stdout",
     "output_type": "stream",
     "text": [
      " id   xcentroid     ycentroid   ...  peak      flux           mag       \n",
      "--- ------------- ------------- ... ----- ------------- ----------------\n",
      "  1  1442.5668857 664.600855583 ... 190.0 1.95685258315  -0.728895274753\n",
      "  2 1561.39267268  1147.6013748 ... 190.0   1.043880546 -0.0466270101194\n"
     ]
    }
   ],
   "source": [
    "centroid_psf(\"med_190218_021_025.fits\", mask = True)"
   ]
  },
  {
   "cell_type": "code",
   "execution_count": 26,
   "metadata": {
    "collapsed": false
   },
   "outputs": [
    {
     "name": "stdout",
     "output_type": "stream",
     "text": [
      " id   xcentroid     ycentroid   ...  peak      flux           mag      \n",
      "--- ------------- ------------- ... ----- ------------- ---------------\n",
      "  1 1442.61019653 664.356085829 ... 189.0 1.96969211826   -0.7359958677\n",
      "  2 1561.60353536 1142.47336763 ... 191.0  1.1206968452 -0.123720373456\n"
     ]
    }
   ],
   "source": [
    "centroid_psf(\"med_190218_026_030.fits\", mask = True)"
   ]
  },
  {
   "cell_type": "code",
   "execution_count": 27,
   "metadata": {
    "collapsed": false
   },
   "outputs": [
    {
     "name": "stdout",
     "output_type": "stream",
     "text": [
      " id   xcentroid     ycentroid   ...  peak      flux           mag      \n",
      "--- ------------- ------------- ... ----- ------------- ---------------\n",
      "  1 1442.49238854 664.010562767 ... 189.0 1.97813247925 -0.740638434381\n",
      "  2 1561.55022534 1137.83979398 ... 191.0 1.16876784935 -0.169320641127\n"
     ]
    }
   ],
   "source": [
    "centroid_psf(\"med_190218_031_035.fits\", mask = True)"
   ]
  },
  {
   "cell_type": "code",
   "execution_count": 28,
   "metadata": {
    "collapsed": false
   },
   "outputs": [
    {
     "name": "stdout",
     "output_type": "stream",
     "text": [
      " id   xcentroid     ycentroid   ...  peak      flux           mag      \n",
      "--- ------------- ------------- ... ----- ------------- ---------------\n",
      "  1 1469.47511727 659.425468574 ... 184.0 1.59812048721 -0.509023797516\n",
      "  2 1561.06948313 1137.44422162 ... 192.0 1.15575082985 -0.157160534854\n"
     ]
    }
   ],
   "source": [
    "centroid_psf(\"med_190218_036_040.fits\", mask = True)"
   ]
  },
  {
   "cell_type": "code",
   "execution_count": 29,
   "metadata": {
    "collapsed": false
   },
   "outputs": [
    {
     "name": "stdout",
     "output_type": "stream",
     "text": [
      " id   xcentroid     ycentroid   ...  peak      flux           mag      \n",
      "--- ------------- ------------- ... ----- ------------- ---------------\n",
      "  1 1449.19735495 659.569348795 ... 186.0 2.10497212409  -0.80811587224\n",
      "  2 1561.00952415 1137.42924744 ... 192.0 1.17658361696 -0.176556992178\n"
     ]
    }
   ],
   "source": [
    "centroid_psf(\"med_190218_041_045.fits\", mask = True)"
   ]
  },
  {
   "cell_type": "code",
   "execution_count": 30,
   "metadata": {
    "collapsed": false
   },
   "outputs": [
    {
     "name": "stdout",
     "output_type": "stream",
     "text": [
      " id   xcentroid     ycentroid   ...  peak      flux           mag      \n",
      "--- ------------- ------------- ... ----- ------------- ---------------\n",
      "  1  1449.0130285 654.314716138 ... 188.0 2.04220634672 -0.775249053872\n",
      "  2 1561.07581152 1137.26372619 ... 191.0 1.16917641496 -0.169700115081\n"
     ]
    }
   ],
   "source": [
    "centroid_psf(\"med_190218_046_050.fits\", mask = True)"
   ]
  },
  {
   "cell_type": "code",
   "execution_count": 31,
   "metadata": {
    "collapsed": false
   },
   "outputs": [
    {
     "name": "stdout",
     "output_type": "stream",
     "text": [
      " id   xcentroid     ycentroid   ...  peak      flux           mag      \n",
      "--- ------------- ------------- ... ----- ------------- ---------------\n",
      "  1  1448.5298193 658.666255349 ... 187.0 2.13868494531 -0.825367030864\n",
      "  2 1561.11247591 1137.06071298 ... 194.0 1.15218220388 -0.153802907536\n"
     ]
    }
   ],
   "source": [
    "centroid_psf(\"med_190218_051_055.fits\", mask = True)"
   ]
  },
  {
   "cell_type": "code",
   "execution_count": 32,
   "metadata": {
    "collapsed": false
   },
   "outputs": [
    {
     "name": "stdout",
     "output_type": "stream",
     "text": [
      " id   xcentroid     ycentroid   ...  peak      flux           mag      \n",
      "--- ------------- ------------- ... ----- ------------- ---------------\n",
      "  1 1448.43748306 658.474184952 ... 187.0  2.1046024213 -0.807925164271\n",
      "  2 1560.87766417  1137.1804002 ... 195.0 1.16708727413  -0.16775833389\n"
     ]
    }
   ],
   "source": [
    "centroid_psf(\"med_190218_056_060.fits\", mask = True)"
   ]
  },
  {
   "cell_type": "code",
   "execution_count": 33,
   "metadata": {
    "collapsed": false
   },
   "outputs": [
    {
     "name": "stdout",
     "output_type": "stream",
     "text": [
      " id   xcentroid     ycentroid   ...  peak      flux           mag      \n",
      "--- ------------- ------------- ... ----- ------------- ---------------\n",
      "  1 1448.57759423 658.382283421 ... 185.0 2.09717205457 -0.804085154947\n",
      "  2 1560.79691565 1136.96595144 ... 197.0 1.16264106971 -0.163614150312\n"
     ]
    }
   ],
   "source": [
    "centroid_psf(\"med_190218_061_065.fits\", mask = True)"
   ]
  },
  {
   "cell_type": "code",
   "execution_count": 34,
   "metadata": {
    "collapsed": false
   },
   "outputs": [
    {
     "name": "stdout",
     "output_type": "stream",
     "text": [
      " id   xcentroid     ycentroid   ...  peak      flux           mag      \n",
      "--- ------------- ------------- ... ----- ------------- ---------------\n",
      "  1 1448.13624498 658.129367144 ... 185.0 2.11267360442 -0.812081015762\n",
      "  2 1560.65362422 1136.88188001 ... 192.0 1.16523010161 -0.166029238276\n"
     ]
    }
   ],
   "source": [
    "centroid_psf(\"med_190218_066_070.fits\", mask = True)"
   ]
  },
  {
   "cell_type": "code",
   "execution_count": 35,
   "metadata": {
    "collapsed": false
   },
   "outputs": [
    {
     "name": "stdout",
     "output_type": "stream",
     "text": [
      " id   xcentroid     ycentroid   ...  peak      flux           mag      \n",
      "--- ------------- ------------- ... ----- ------------- ---------------\n",
      "  1 1448.02512107 658.089196075 ... 185.0 2.09080928215 -0.800786048704\n",
      "  2 1560.62359559 1136.98886772 ... 192.0 1.14778339149  -0.14964984046\n"
     ]
    }
   ],
   "source": [
    "centroid_psf(\"med_190218_071_075.fits\", mask = True)"
   ]
  },
  {
   "cell_type": "code",
   "execution_count": 56,
   "metadata": {
    "collapsed": false
   },
   "outputs": [
    {
     "name": "stdout",
     "output_type": "stream",
     "text": [
      " id   xcentroid     ycentroid   ...  peak      flux           mag      \n",
      "--- ------------- ------------- ... ----- ------------- ---------------\n",
      "  1 1447.53503508 657.317302084 ... 184.0 2.68502365666  -1.07237029111\n",
      "  2 1564.87208182 1136.56457417 ... 192.0 1.64180842794 -0.538306201781\n"
     ]
    }
   ],
   "source": [
    "centroid_psf(\"med_190218_076_080.fits\", mask = True)"
   ]
  },
  {
   "cell_type": "code",
   "execution_count": 57,
   "metadata": {
    "collapsed": false
   },
   "outputs": [
    {
     "name": "stdout",
     "output_type": "stream",
     "text": [
      " id   xcentroid     ycentroid   ...  peak      flux           mag      \n",
      "--- ------------- ------------- ... ----- ------------- ---------------\n",
      "  1 1447.52415548 657.145975123 ... 186.0 2.68631539544  -1.07289250264\n",
      "  2 1565.48331153 1136.54212592 ... 194.0 1.59976221224 -0.510138585414\n"
     ]
    }
   ],
   "source": [
    "centroid_psf(\"med_190218_081_085.fits\", mask = True)"
   ]
  },
  {
   "cell_type": "code",
   "execution_count": 58,
   "metadata": {
    "collapsed": false
   },
   "outputs": [
    {
     "name": "stdout",
     "output_type": "stream",
     "text": [
      " id   xcentroid     ycentroid   ...  peak      flux           mag      \n",
      "--- ------------- ------------- ... ----- ------------- ---------------\n",
      "  1 1447.42993817 657.045795585 ... 185.0 2.68035730994  -1.07048173077\n",
      "  2 1565.93015338 1136.67274415 ... 194.0 1.63948090893 -0.536765909643\n"
     ]
    }
   ],
   "source": [
    "centroid_psf(\"med_190218_086_090.fits\", mask = True)"
   ]
  },
  {
   "cell_type": "code",
   "execution_count": 59,
   "metadata": {
    "collapsed": false
   },
   "outputs": [
    {
     "name": "stdout",
     "output_type": "stream",
     "text": [
      " id   xcentroid     ycentroid   ...  peak      flux           mag      \n",
      "--- ------------- ------------- ... ----- ------------- ---------------\n",
      "  1 1447.37313611  656.96419936 ... 185.0 2.69056957316  -1.07461056645\n",
      "  2 1565.61094604 1136.53699295 ... 193.0 1.65084636796 -0.544266646437\n"
     ]
    }
   ],
   "source": [
    "centroid_psf(\"med_190218_091_095.fits\", mask = True)"
   ]
  },
  {
   "cell_type": "code",
   "execution_count": 60,
   "metadata": {
    "collapsed": false
   },
   "outputs": [
    {
     "name": "stdout",
     "output_type": "stream",
     "text": [
      " id   xcentroid     ycentroid   ...  peak      flux           mag      \n",
      "--- ------------- ------------- ... ----- ------------- ---------------\n",
      "  1 1447.33345175 656.882605983 ... 188.0 2.66609993793  -1.06469106194\n",
      "  2 1565.73654244 1136.90021495 ... 195.0 1.64519572862 -0.540543933228\n"
     ]
    }
   ],
   "source": [
    "centroid_psf(\"med_190218_096_100.fits\", mask = True)"
   ]
  },
  {
   "cell_type": "code",
   "execution_count": 61,
   "metadata": {
    "collapsed": false
   },
   "outputs": [
    {
     "name": "stdout",
     "output_type": "stream",
     "text": [
      " id   xcentroid     ycentroid   ...  peak      flux           mag      \n",
      "--- ------------- ------------- ... ----- ------------- ---------------\n",
      "  1 1447.33982103 656.886723916 ... 183.0 2.64757824253  -1.05712200863\n",
      "  2 1565.62470804 1137.22342468 ... 192.0 1.63091205223 -0.531076355296\n"
     ]
    }
   ],
   "source": [
    "centroid_psf(\"med_190218_101_105.fits\", mask = True)"
   ]
  },
  {
   "cell_type": "code",
   "execution_count": 62,
   "metadata": {
    "collapsed": false
   },
   "outputs": [
    {
     "name": "stdout",
     "output_type": "stream",
     "text": [
      " id   xcentroid     ycentroid   ...  peak      flux           mag      \n",
      "--- ------------- ------------- ... ----- ------------- ---------------\n",
      "  1 1447.34835743   656.7425267 ... 185.0 2.64389842462  -1.05561191517\n",
      "  2 1565.76978036 1136.49068614 ... 194.0 1.64773989445 -0.542221642006\n"
     ]
    }
   ],
   "source": [
    "centroid_psf(\"med_190218_106_110.fits\", mask = True)"
   ]
  },
  {
   "cell_type": "code",
   "execution_count": 63,
   "metadata": {
    "collapsed": false
   },
   "outputs": [
    {
     "name": "stdout",
     "output_type": "stream",
     "text": [
      " id   xcentroid     ycentroid   ...  peak      flux           mag      \n",
      "--- ------------- ------------- ... ----- ------------- ---------------\n",
      "  1  1461.8564016 658.909854484 ... 194.0 2.86127082862  -1.14139741785\n",
      "  2 1566.19925113  1136.2549627 ... 195.0 1.62132093797 -0.524672478196\n"
     ]
    }
   ],
   "source": [
    "centroid_psf(\"med_190218_111_115.fits\", mask = True)"
   ]
  },
  {
   "cell_type": "code",
   "execution_count": 64,
   "metadata": {
    "collapsed": false
   },
   "outputs": [
    {
     "name": "stdout",
     "output_type": "stream",
     "text": [
      " id   xcentroid     ycentroid   ...  peak      flux           mag      \n",
      "--- ------------- ------------- ... ----- ------------- ---------------\n",
      "  1 1475.19254673 660.867380114 ... 190.0 3.46410891917  -1.34897884682\n",
      "  2 1566.09749614 1136.22051073 ... 193.0 1.62335078134 -0.526030935946\n"
     ]
    }
   ],
   "source": [
    "centroid_psf(\"med_190218_116_120.fits\", mask = True)"
   ]
  },
  {
   "cell_type": "code",
   "execution_count": 65,
   "metadata": {
    "collapsed": false
   },
   "outputs": [
    {
     "name": "stdout",
     "output_type": "stream",
     "text": [
      " id   xcentroid     ycentroid   ...  peak      flux          mag     \n",
      "--- ------------- ------------- ... ----- ------------- -------------\n",
      "  1  1446.9324243 656.392151663 ... 185.0 2.57539472984 -1.0271095066\n",
      "  2 1566.20851295 1136.16006459 ... 193.0 1.66643096656 -0.5544683183\n"
     ]
    }
   ],
   "source": [
    "centroid_psf(\"med_190218_121_125.fits\", mask = True)"
   ]
  },
  {
   "cell_type": "code",
   "execution_count": 16,
   "metadata": {
    "collapsed": false
   },
   "outputs": [
    {
     "ename": "KeyError",
     "evalue": "'xcentroid'",
     "output_type": "error",
     "traceback": [
      "\u001b[0;31m---------------------------------------------------------------------------\u001b[0m",
      "\u001b[0;31mKeyError\u001b[0m                                  Traceback (most recent call last)",
      "\u001b[0;32m<ipython-input-16-084868802af7>\u001b[0m in \u001b[0;36m<module>\u001b[0;34m()\u001b[0m\n\u001b[0;32m----> 1\u001b[0;31m \u001b[0mcentroid_psf2\u001b[0m\u001b[0;34m(\u001b[0m\u001b[0;34m\"med_016_020_190705.fits\"\u001b[0m\u001b[0;34m,\u001b[0m \u001b[0mmask\u001b[0m \u001b[0;34m=\u001b[0m \u001b[0mTrue\u001b[0m\u001b[0;34m)\u001b[0m\u001b[0;34m\u001b[0m\u001b[0m\n\u001b[0m",
      "\u001b[0;32m<ipython-input-15-5673ada00b18>\u001b[0m in \u001b[0;36mcentroid_psf2\u001b[0;34m(file_name, mask)\u001b[0m\n\u001b[1;32m     28\u001b[0m \u001b[0;34m\u001b[0m\u001b[0m\n\u001b[1;32m     29\u001b[0m     \u001b[0mplt\u001b[0m\u001b[0;34m.\u001b[0m\u001b[0mimshow\u001b[0m\u001b[0;34m(\u001b[0m\u001b[0msciImg\u001b[0m\u001b[0;34m,\u001b[0m \u001b[0morigin\u001b[0m\u001b[0;34m=\u001b[0m\u001b[0;34m\"lower\"\u001b[0m\u001b[0;34m)\u001b[0m\u001b[0;34m\u001b[0m\u001b[0m\n\u001b[0;32m---> 30\u001b[0;31m     \u001b[0mplt\u001b[0m\u001b[0;34m.\u001b[0m\u001b[0mscatter\u001b[0m\u001b[0;34m(\u001b[0m\u001b[0;34m[\u001b[0m\u001b[0msources\u001b[0m\u001b[0;34m[\u001b[0m\u001b[0;34m\"xcentroid\"\u001b[0m\u001b[0;34m]\u001b[0m\u001b[0;34m]\u001b[0m\u001b[0;34m,\u001b[0m\u001b[0;34m[\u001b[0m\u001b[0msources\u001b[0m\u001b[0;34m[\u001b[0m\u001b[0;34m\"ycentroid\"\u001b[0m\u001b[0;34m]\u001b[0m\u001b[0;34m]\u001b[0m\u001b[0;34m)\u001b[0m\u001b[0;34m\u001b[0m\u001b[0m\n\u001b[0m\u001b[1;32m     31\u001b[0m     \u001b[0mplt\u001b[0m\u001b[0;34m.\u001b[0m\u001b[0mshow\u001b[0m\u001b[0;34m(\u001b[0m\u001b[0;34m)\u001b[0m\u001b[0;34m\u001b[0m\u001b[0m\n\u001b[1;32m     32\u001b[0m \u001b[0;34m\u001b[0m\u001b[0m\n",
      "\u001b[0;32m/Users/nyumbani/anaconda3/envs/py27/lib/python2.7/site-packages/astropy/table/table.pyc\u001b[0m in \u001b[0;36m__getitem__\u001b[0;34m(self, item)\u001b[0m\n\u001b[1;32m   1220\u001b[0m     \u001b[0;32mdef\u001b[0m \u001b[0m__getitem__\u001b[0m\u001b[0;34m(\u001b[0m\u001b[0mself\u001b[0m\u001b[0;34m,\u001b[0m \u001b[0mitem\u001b[0m\u001b[0;34m)\u001b[0m\u001b[0;34m:\u001b[0m\u001b[0;34m\u001b[0m\u001b[0m\n\u001b[1;32m   1221\u001b[0m         \u001b[0;32mif\u001b[0m \u001b[0misinstance\u001b[0m\u001b[0;34m(\u001b[0m\u001b[0mitem\u001b[0m\u001b[0;34m,\u001b[0m \u001b[0msix\u001b[0m\u001b[0;34m.\u001b[0m\u001b[0mstring_types\u001b[0m\u001b[0;34m)\u001b[0m\u001b[0;34m:\u001b[0m\u001b[0;34m\u001b[0m\u001b[0m\n\u001b[0;32m-> 1222\u001b[0;31m             \u001b[0;32mreturn\u001b[0m \u001b[0mself\u001b[0m\u001b[0;34m.\u001b[0m\u001b[0mcolumns\u001b[0m\u001b[0;34m[\u001b[0m\u001b[0mitem\u001b[0m\u001b[0;34m]\u001b[0m\u001b[0;34m\u001b[0m\u001b[0m\n\u001b[0m\u001b[1;32m   1223\u001b[0m         \u001b[0;32melif\u001b[0m \u001b[0misinstance\u001b[0m\u001b[0;34m(\u001b[0m\u001b[0mitem\u001b[0m\u001b[0;34m,\u001b[0m \u001b[0;34m(\u001b[0m\u001b[0mint\u001b[0m\u001b[0;34m,\u001b[0m \u001b[0mnp\u001b[0m\u001b[0;34m.\u001b[0m\u001b[0minteger\u001b[0m\u001b[0;34m)\u001b[0m\u001b[0;34m)\u001b[0m\u001b[0;34m:\u001b[0m\u001b[0;34m\u001b[0m\u001b[0m\n\u001b[1;32m   1224\u001b[0m             \u001b[0;32mreturn\u001b[0m \u001b[0mself\u001b[0m\u001b[0;34m.\u001b[0m\u001b[0mRow\u001b[0m\u001b[0;34m(\u001b[0m\u001b[0mself\u001b[0m\u001b[0;34m,\u001b[0m \u001b[0mitem\u001b[0m\u001b[0;34m)\u001b[0m\u001b[0;34m\u001b[0m\u001b[0m\n",
      "\u001b[0;32m/Users/nyumbani/anaconda3/envs/py27/lib/python2.7/site-packages/astropy/table/table.pyc\u001b[0m in \u001b[0;36m__getitem__\u001b[0;34m(self, item)\u001b[0m\n\u001b[1;32m    107\u001b[0m         \"\"\"\n\u001b[1;32m    108\u001b[0m         \u001b[0;32mif\u001b[0m \u001b[0misinstance\u001b[0m\u001b[0;34m(\u001b[0m\u001b[0mitem\u001b[0m\u001b[0;34m,\u001b[0m \u001b[0msix\u001b[0m\u001b[0;34m.\u001b[0m\u001b[0mstring_types\u001b[0m\u001b[0;34m)\u001b[0m\u001b[0;34m:\u001b[0m\u001b[0;34m\u001b[0m\u001b[0m\n\u001b[0;32m--> 109\u001b[0;31m             \u001b[0;32mreturn\u001b[0m \u001b[0mOrderedDict\u001b[0m\u001b[0;34m.\u001b[0m\u001b[0m__getitem__\u001b[0m\u001b[0;34m(\u001b[0m\u001b[0mself\u001b[0m\u001b[0;34m,\u001b[0m \u001b[0mitem\u001b[0m\u001b[0;34m)\u001b[0m\u001b[0;34m\u001b[0m\u001b[0m\n\u001b[0m\u001b[1;32m    110\u001b[0m         \u001b[0;32melif\u001b[0m \u001b[0misinstance\u001b[0m\u001b[0;34m(\u001b[0m\u001b[0mitem\u001b[0m\u001b[0;34m,\u001b[0m \u001b[0;34m(\u001b[0m\u001b[0mint\u001b[0m\u001b[0;34m,\u001b[0m \u001b[0mnp\u001b[0m\u001b[0;34m.\u001b[0m\u001b[0minteger\u001b[0m\u001b[0;34m)\u001b[0m\u001b[0;34m)\u001b[0m\u001b[0;34m:\u001b[0m\u001b[0;34m\u001b[0m\u001b[0m\n\u001b[1;32m    111\u001b[0m             \u001b[0;32mreturn\u001b[0m \u001b[0mself\u001b[0m\u001b[0;34m.\u001b[0m\u001b[0mvalues\u001b[0m\u001b[0;34m(\u001b[0m\u001b[0;34m)\u001b[0m\u001b[0;34m[\u001b[0m\u001b[0mitem\u001b[0m\u001b[0;34m]\u001b[0m\u001b[0;34m\u001b[0m\u001b[0m\n",
      "\u001b[0;31mKeyError\u001b[0m: 'xcentroid'"
     ]
    }
   ],
   "source": [
    "centroid_psf2(\"med_016_020_190705.fits\", mask = True)"
   ]
  },
  {
   "cell_type": "markdown",
   "metadata": {},
   "source": [
    "# Read in csv file of centroid data"
   ]
  },
  {
   "cell_type": "code",
   "execution_count": 6,
   "metadata": {
    "collapsed": true
   },
   "outputs": [],
   "source": [
    "# set plate scale\n",
    "\n",
    "PS = 10.7 # mas/pix"
   ]
  },
  {
   "cell_type": "code",
   "execution_count": 7,
   "metadata": {
    "collapsed": false
   },
   "outputs": [],
   "source": [
    "# hysteresis test 1\n",
    "\n",
    "hysteresis_test = pd.read_csv(\"hysteresis_test_190218.csv\", \n",
    "                              dtype={\"frame_ref\": np.int, \"img_name\": str, \n",
    "                                     \"x1\": np.float64, \"y1\": np.float64,\n",
    "                                     \"x2\": np.float64, \"y2\": np.float64, \n",
    "                                     \"remarks\": str})\n",
    "# include mas equivalents to pixels\n",
    "hysteresis_test[\"mas_x1\"] = PS*hysteresis_test[\"x1\"]\n",
    "hysteresis_test[\"mas_y1\"] = PS*hysteresis_test[\"y1\"]\n",
    "hysteresis_test[\"mas_x2\"] = PS*hysteresis_test[\"x2\"]\n",
    "hysteresis_test[\"mas_y2\"] = PS*hysteresis_test[\"y2\"]"
   ]
  },
  {
   "cell_type": "code",
   "execution_count": 9,
   "metadata": {
    "collapsed": false
   },
   "outputs": [],
   "source": [
    "# hysteresis test 2\n",
    "\n",
    "# placeholder values here\n",
    "hysteresis_test_2 = pd.read_csv(\"hysteresis_test_190705.csv\", \n",
    "                              dtype={\"frame_ref\": np.int, \"img_name\": str, \n",
    "                                     \"x1\": np.float64, \"y1\": np.float64,\n",
    "                                     \"x2\": np.float64, \"y2\": np.float64, \n",
    "                                     \"remarks\": str})\n",
    "# include mas equivalents to pixels\n",
    "hysteresis_test_2[\"mas_x1\"] = PS*hysteresis_test_2[\"x_ll\"]\n",
    "hysteresis_test_2[\"mas_y1\"] = PS*hysteresis_test_2[\"y_ll\"]\n",
    "hysteresis_test_2[\"mas_x2\"] = PS*hysteresis_test_2[\"x_ur\"]\n",
    "hysteresis_test_2[\"mas_y2\"] = PS*hysteresis_test_2[\"y_ur\"]"
   ]
  },
  {
   "cell_type": "markdown",
   "metadata": {
    "collapsed": false
   },
   "source": [
    "# FPC movement tests"
   ]
  },
  {
   "cell_type": "code",
   "execution_count": 10,
   "metadata": {
    "collapsed": true
   },
   "outputs": [],
   "source": [
    "masec_per_rad = np.divide(180*3600*1000,np.pi)\n",
    "\n",
    "# lambda/D (across 8.25 m mirror)\n",
    "lambda_D_1pt5 = np.divide(1.5e-6,8.25)*masec_per_rad\n",
    "lambda_D_5 = np.divide(5e-6,8.25)*masec_per_rad\n",
    "lambda_D_8 = np.divide(8e-6,8.25)*masec_per_rad\n",
    "lambda_D_14 = np.divide(14e-6,8.25)*masec_per_rad\n",
    "\n",
    "# lambda/Bcc (across 14.4 m)\n",
    "lambda_Bcc_1pt5 = np.divide(1.5e-6,14.4)*masec_per_rad\n",
    "lambda_Bcc_5 = np.divide(5e-6,14.4)*masec_per_rad\n",
    "lambda_Bcc_8 = np.divide(8e-6,14.4)*masec_per_rad\n",
    "lambda_Bcc_14 = np.divide(14e-6,14.4)*masec_per_rad\n",
    "\n",
    "# lambda/Bee (across 22.7  m)\n",
    "lambda_Bee_1pt5 = np.divide(1.5e-6,22.7)*masec_per_rad\n",
    "lambda_Bee_5 = np.divide(5e-6,22.7)*masec_per_rad\n",
    "lambda_Bee_8 = np.divide(8e-6,22.7)*masec_per_rad\n",
    "lambda_Bee_14 = np.divide(14e-6,22.7)*masec_per_rad"
   ]
  },
  {
   "cell_type": "markdown",
   "metadata": {},
   "source": [
    "# This is just one plot; don't put this plot into SPIE article"
   ]
  },
  {
   "cell_type": "code",
   "execution_count": 20,
   "metadata": {
    "collapsed": false
   },
   "outputs": [
    {
     "data": {
      "text/plain": [
       "<matplotlib.figure.Figure at 0x11db54450>"
      ]
     },
     "metadata": {},
     "output_type": "display_data"
    },
    {
     "data": {
      "image/png": "[encoded data removed]",
      "text/plain": [
       "<matplotlib.figure.Figure at 0x11db54950>"
      ]
     },
     "metadata": {},
     "output_type": "display_data"
    }
   ],
   "source": [
    "# plot one test\n",
    "\n",
    "plt.clf()\n",
    "plt.figure(figsize=(6,3))\n",
    "\n",
    "# empirical test, 1\n",
    "mas_x2_rel_baseline = np.subtract(hysteresis_test[\"mas_x2\"][0:7],\n",
    "                                  hysteresis_test[\"mas_x2\"][0]).values\n",
    "mas_y2_rel_baseline = np.subtract(hysteresis_test[\"mas_y2\"][0:7],\n",
    "                                  hysteresis_test[\"mas_y2\"][0]).values\n",
    "mas_y2_rel_baseline_offset = np.add(mas_y2_rel_baseline,50)\n",
    "\n",
    "# empirical test, 2\n",
    "mas_x2_rel_baseline_2 = np.subtract(hysteresis_test_2[\"mas_x2\"][0:7],\n",
    "                                  hysteresis_test_2[\"mas_x2\"][0]).values\n",
    "mas_y2_rel_baseline_2 = np.subtract(hysteresis_test_2[\"mas_y2\"][0:7],\n",
    "                                  hysteresis_test_2[\"mas_y2\"][0]).values\n",
    "mas_y2_rel_baseline_offset_2 = np.add(mas_y2_rel_baseline_2,150)\n",
    "\n",
    "text_array_emp = [0,1,2,3,4,5,6]\n",
    "\n",
    "# commanded\n",
    "mas_x2_rel_expected = [0,100,200,300]\n",
    "mas_y2_rel_expected = np.ones(4)\n",
    "text_array_expect = [\"0,6\",\"1,5\",\"2,4\",\"3\"]\n",
    "\n",
    "# plot empirical points, 1\n",
    "plt.plot(mas_x2_rel_baseline, mas_y2_rel_baseline_offset, '-o', \n",
    "         markersize = 8, alpha = 1, label=\"Empirical\")\n",
    "\n",
    "# plot empirical points, 2\n",
    "plt.plot(mas_x2_rel_baseline_2, mas_y2_rel_baseline_offset_2, '-o', \n",
    "         markersize = 8, alpha = 1)\n",
    "\n",
    "# plot commanded points\n",
    "plt.plot(mas_x2_rel_expected, mas_y2_rel_expected, '-o', \n",
    "         markersize = 8, color=\"k\", alpha = 0.6, label=\"Commanded\")\n",
    "\n",
    "# plot annotation, empirical 1 and 2\n",
    "for i in range(0,7):\n",
    "    plt.text(mas_x2_rel_baseline[i]+5, mas_y2_rel_baseline_offset[i]+5,\n",
    "             str(text_array_emp[i]), color=\"k\", fontsize=12)\n",
    "    plt.text(mas_x2_rel_baseline_2[i]+5, mas_y2_rel_baseline_offset_2[i]+5,\n",
    "             str(text_array_emp[i]), color=\"k\", fontsize=12)\n",
    "\n",
    "# plot annotation, commanded\n",
    "for i in range(0,4):\n",
    "    plt.text(mas_x2_rel_expected[i]+5, mas_y2_rel_expected[i]+5,\n",
    "             str(text_array_expect[i]), color=\"k\", fontsize=12)\n",
    "\n",
    "major_ticks = np.arange(-200, 401, 50)                                              \n",
    "plt.xticks(major_ticks)                                                       \n",
    "plt.yticks(major_ticks) \n",
    "plt.xlim([-10,350])\n",
    "plt.ylim([-51,201])\n",
    "plt.grid(True)\n",
    "plt.axis(\"equal\")\n",
    "plt.xlabel(\"x (mas)\")\n",
    "plt.ylabel(\"y with offsets (mas)\")\n",
    "plt.tight_layout()\n",
    "plt.legend()\n",
    "plt.title(\"100 mas tilt (x) movements, FPC\")\n",
    "#plt.scatter(hysteresis_test[\"x2\"],hysteresis_test[\"y2\"])\n",
    "plt.show()"
   ]
  },
  {
   "cell_type": "markdown",
   "metadata": {},
   "source": [
    "# This is just one plot; don't put this plot into SPIE article"
   ]
  },
  {
   "cell_type": "code",
   "execution_count": 161,
   "metadata": {
    "collapsed": false
   },
   "outputs": [
    {
     "data": {
      "text/plain": [
       "<Figure size 432x288 with 0 Axes>"
      ]
     },
     "metadata": {},
     "output_type": "display_data"
    },
    {
     "data": {
      "image/png": "[encoded data removed]",
      "text/plain": [
       "<Figure size 360x432 with 1 Axes>"
      ]
     },
     "metadata": {
      "needs_background": "light"
     },
     "output_type": "display_data"
    }
   ],
   "source": [
    "# plot one test\n",
    "\n",
    "plt.clf()\n",
    "plt.figure(figsize=(5,6))\n",
    "\n",
    "# empirical test, 1\n",
    "mas_x2_rel_baseline = np.subtract(hysteresis_test[\"mas_x2\"][6:13],\n",
    "                                  hysteresis_test[\"mas_x2\"][6]).values\n",
    "mas_y2_rel_baseline = np.subtract(hysteresis_test[\"mas_y2\"][6:13],\n",
    "                                  hysteresis_test[\"mas_y2\"][6]).values\n",
    "mas_x2_rel_baseline_offset = np.add(mas_x2_rel_baseline,0)\n",
    "\n",
    "# empirical test, 2\n",
    "mas_x2_rel_baseline_2 = np.subtract(hysteresis_test_2[\"mas_x2\"][6:13],\n",
    "                                  hysteresis_test_2[\"mas_x2\"][6]).values\n",
    "mas_y2_rel_baseline_2 = np.subtract(hysteresis_test_2[\"mas_y2\"][6:13],\n",
    "                                  hysteresis_test_2[\"mas_y2\"][6]).values\n",
    "mas_x2_rel_baseline_offset_2 = np.add(mas_x2_rel_baseline_2,50)\n",
    "\n",
    "text_array_emp = [6,7,8,9,10,11,12]\n",
    "\n",
    "# commanded\n",
    "mas_x2_rel_expected = 100*np.ones(4)\n",
    "mas_y2_rel_expected = [0,100,200,300]\n",
    "text_array_expect = [\"6,12\",\"7,11\",\"8,10\",\"9\"]\n",
    "\n",
    "# plot empirical points, 1\n",
    "plt.plot(mas_x2_rel_baseline_offset, mas_y2_rel_baseline, '-o', \n",
    "         markersize = 8, alpha = 1, label=\"Empirical\")\n",
    "\n",
    "# plot empirical points, 2\n",
    "plt.plot(mas_x2_rel_baseline_offset_2, mas_y2_rel_baseline_2, '-o', \n",
    "         markersize = 8, alpha = 1)\n",
    "\n",
    "# plot commanded points\n",
    "plt.plot(mas_x2_rel_expected, mas_y2_rel_expected, '-o', \n",
    "         markersize = 8, color=\"k\", alpha = 0.6, label=\"Commanded\")\n",
    "\n",
    "# plot annotation, empirical 1 and 2\n",
    "for i in range(0,7):\n",
    "    plt.text(mas_x2_rel_baseline_offset[i]+5, mas_y2_rel_baseline[i]+5,\n",
    "             str(text_array_emp[i]), color=\"k\", fontsize=12)\n",
    "    plt.text(mas_x2_rel_baseline_offset_2[i]+5, mas_y2_rel_baseline_2[i]+5,\n",
    "             str(text_array_emp[i]), color=\"k\", fontsize=12)\n",
    "\n",
    "# plot annotation, commanded\n",
    "for i in range(0,4):\n",
    "    plt.text(mas_x2_rel_expected[i]+5, mas_y2_rel_expected[i]+5,\n",
    "             str(text_array_expect[i]), color=\"k\", fontsize=12)\n",
    "\n",
    "    \n",
    "### plot bars for scale\n",
    "\n",
    "## lambda/D\n",
    "plt.text(-7,290,\n",
    "         \"$\\lambda/D$\", color=\"k\")\n",
    "# LMIR wavelengths\n",
    "plt.text(0,290.5,\n",
    "         \"LMIRcam\", color=\"k\")\n",
    "plt.text(lambda_D_1pt5,288.5,\n",
    "         \"1.5$\\mu m$\", color=\"k\")\n",
    "plt.text(lambda_D_5,288.5,\n",
    "         \"5$\\mu m$\", color=\"k\")\n",
    "# NOMIC wavelengths\n",
    "plt.text(0,292.5,\n",
    "         \"NOMIC\", color=\"k\")\n",
    "plt.text(lambda_D_8,290.5,\n",
    "         \"8$\\mu m$\", color=\"k\")\n",
    "plt.text(lambda_D_14,290.5,\n",
    "         \"14$\\mu m$\", color=\"k\")\n",
    "# lines\n",
    "plt.plot([0,lambda_D_5],[290,290],'o-',linewidth=6,color=\"orange\")\n",
    "plt.plot([0,lambda_D_1pt5],[290,290],'o-',color=\"k\")\n",
    "plt.plot([0,lambda_D_14],[292,292],'o-',linewidth=6,color=\"orange\")\n",
    "plt.plot([0,lambda_D_8],[292,292],'o-',color=\"k\")\n",
    "\n",
    "## lambda/Bcc\n",
    "plt.text(-7,280,\n",
    "         \"$\\lambda/Bcc$\", color=\"k\")\n",
    "# LMIR wavelengths\n",
    "plt.text(0,280.5,\n",
    "         \"LMIRcam\", color=\"k\")\n",
    "plt.text(lambda_Bcc_1pt5,278.5,\n",
    "         \"1.5$\\mu m$\", color=\"k\")\n",
    "plt.text(lambda_Bcc_5,278.5,\n",
    "         \"5$\\mu m$\", color=\"k\")\n",
    "# NOMIC wavelengths\n",
    "plt.text(0,282.5,\n",
    "         \"NOMIC\", color=\"k\")\n",
    "plt.text(lambda_Bcc_8,280.5,\n",
    "         \"8$\\mu m$\", color=\"k\")\n",
    "plt.text(lambda_Bcc_14,280.5,\n",
    "         \"14$\\mu m$\", color=\"k\")\n",
    "# lines\n",
    "plt.plot([0,lambda_Bcc_5],[280,280],'o-',linewidth=6,color=\"orange\")\n",
    "plt.plot([0,lambda_Bcc_1pt5],[280,280],'o-',color=\"k\")\n",
    "plt.plot([0,lambda_Bcc_14],[282,282],'o-',linewidth=6,color=\"orange\")\n",
    "plt.plot([0,lambda_Bcc_8],[282,282],'o-',color=\"k\")\n",
    "\n",
    "## lambda/Bee\n",
    "plt.text(-7,270,\n",
    "         \"$\\lambda/Bee$\", color=\"k\")\n",
    "# LMIR wavelengths\n",
    "plt.text(0,270.5,\n",
    "         \"LMIRcam\", color=\"k\")\n",
    "plt.text(lambda_Bee_1pt5,268.5,\n",
    "         \"1.5$\\mu m$\", color=\"k\")\n",
    "plt.text(lambda_Bee_5+1,268.5,\n",
    "         \"5$\\mu m$\", color=\"k\")\n",
    "# NOMIC wavelengths\n",
    "plt.text(0,272.5,\n",
    "         \"NOMIC\", color=\"k\")\n",
    "plt.text(lambda_Bee_8,270.5,\n",
    "         \"8$\\mu m$\", color=\"k\")\n",
    "plt.text(lambda_Bee_14,270.5,\n",
    "         \"14$\\mu m$\", color=\"k\")\n",
    "# lines\n",
    "plt.plot([0,lambda_Bee_5],[270,270],'o-',linewidth=6,color=\"orange\")\n",
    "plt.plot([0,lambda_Bee_1pt5],[270,270],'o-',color=\"k\")\n",
    "plt.plot([0,lambda_Bee_14],[272,272],'o-',linewidth=6,color=\"orange\")\n",
    "plt.plot([0,lambda_Bee_8],[272,272],'o-',color=\"k\")\n",
    "    \n",
    "\n",
    "    \n",
    "major_ticks_x = np.arange(0, 101, 50)  \n",
    "major_ticks_y = np.arange(0, 401, 50) \n",
    "plt.xticks(major_ticks_x)                                                       \n",
    "plt.yticks(major_ticks_y) \n",
    "plt.xlim([-50,150])\n",
    "plt.ylim([-20,350])\n",
    "plt.grid(True)\n",
    "plt.axis(\"equal\")\n",
    "plt.xlabel(\"x with offsets (mas)\")\n",
    "plt.ylabel(\"y (mas)\")\n",
    "plt.legend()\n",
    "plt.tight_layout()\n",
    "plt.title(\"100 mas tip (y) movements, FPC\")\n",
    "#plt.scatter(hysteresis_test[\"x2\"],hysteresis_test[\"y2\"])\n",
    "plt.show()"
   ]
  },
  {
   "cell_type": "markdown",
   "metadata": {},
   "source": [
    "# Put this plot into SPIE article"
   ]
  },
  {
   "cell_type": "code",
   "execution_count": 11,
   "metadata": {
    "collapsed": false
   },
   "outputs": [
    {
     "data": {
      "text/plain": [
       "<matplotlib.figure.Figure at 0x1167c1c10>"
      ]
     },
     "metadata": {},
     "output_type": "display_data"
    },
    {
     "data": {
      "image/png": "[encoded data removed]",
      "text/plain": [
       "<matplotlib.figure.Figure at 0x1167c1bd0>"
      ]
     },
     "metadata": {},
     "output_type": "display_data"
    }
   ],
   "source": [
    "# plot two tests\n",
    "\n",
    "plt.clf()\n",
    "plt.figure(figsize=(10,6))\n",
    "\n",
    "########################################################################\n",
    "# TIP (y)\n",
    "\n",
    "# empirical test, 1\n",
    "mas_x2_rel_baseline = np.subtract(hysteresis_test[\"mas_x2\"][6:13],\n",
    "                                  hysteresis_test[\"mas_x2\"][6]).values\n",
    "mas_y2_rel_baseline = np.subtract(hysteresis_test[\"mas_y2\"][6:13],\n",
    "                                  hysteresis_test[\"mas_y2\"][6]).values\n",
    "mas_x2_rel_baseline_offset = np.add(mas_x2_rel_baseline,0)\n",
    "\n",
    "# empirical test, 2\n",
    "mas_x2_rel_baseline_2 = np.subtract(hysteresis_test_2[\"mas_x2\"][6:13],\n",
    "                                  hysteresis_test_2[\"mas_x2\"][6]).values\n",
    "mas_y2_rel_baseline_2 = np.subtract(hysteresis_test_2[\"mas_y2\"][6:13],\n",
    "                                  hysteresis_test_2[\"mas_y2\"][6]).values\n",
    "mas_x2_rel_baseline_offset_2 = np.add(mas_x2_rel_baseline_2,50)\n",
    "\n",
    "#text_array_emp = [6,7,8,9,10,11,12]\n",
    "text_array_emp = [0,1,2,3,4,5,6]\n",
    "\n",
    "# commanded\n",
    "mas_x2_rel_expected = 100*np.ones(4)\n",
    "mas_y2_rel_expected = [0,100,200,300]\n",
    "#text_array_expect = [\"6,12\",\"7,11\",\"8,10\",\"9\"]\n",
    "text_array_expect = [\"0,6\",\"1,5\",\"2,4\",\"3\"]\n",
    "# plot empirical points, 1\n",
    "plt.plot(mas_x2_rel_baseline_offset, mas_y2_rel_baseline, '-o', \n",
    "         markersize = 8, alpha = 1, color=\"r\", label=\"Empirical\")\n",
    "\n",
    "# plot empirical points, 2\n",
    "plt.plot(mas_x2_rel_baseline_offset_2, mas_y2_rel_baseline_2, '-o', \n",
    "         markersize = 8, alpha = 1, color=\"r\")\n",
    "\n",
    "# plot commanded points\n",
    "plt.plot(mas_x2_rel_expected, mas_y2_rel_expected, '-o', \n",
    "         markersize = 8, color=\"k\", alpha = 0.6, label=\"Commanded\")\n",
    "\n",
    "# plot annotation, empirical 1 and 2\n",
    "for i in range(0,7):\n",
    "    plt.text(mas_x2_rel_baseline_offset[i]+5, mas_y2_rel_baseline[i]+5,\n",
    "             str(text_array_emp[i]), color=\"k\", fontsize=12)\n",
    "    plt.text(mas_x2_rel_baseline_offset_2[i]+5, mas_y2_rel_baseline_2[i]+5,\n",
    "             str(text_array_emp[i]), color=\"k\", fontsize=12)\n",
    "\n",
    "# plot annotation, commanded\n",
    "for i in range(0,4):\n",
    "    plt.text(mas_x2_rel_expected[i]+5, mas_y2_rel_expected[i]+5,\n",
    "             str(text_array_expect[i]), color=\"k\", fontsize=12)\n",
    "\n",
    "    \n",
    "    \n",
    "########################################################################\n",
    "# TILT (x)\n",
    "\n",
    "# empirical test, 1\n",
    "mas_x2_rel_baseline_tilt = np.subtract(hysteresis_test[\"mas_x2\"][0:7],\n",
    "                                  hysteresis_test[\"mas_x2\"][0]).values\n",
    "mas_y2_rel_baseline_tilt = np.subtract(hysteresis_test[\"mas_y2\"][0:7],\n",
    "                                  hysteresis_test[\"mas_y2\"][0]).values\n",
    "mas_y2_rel_baseline_tilt_offset = np.add(mas_y2_rel_baseline_tilt,50)\n",
    "\n",
    "# empirical test, 2\n",
    "mas_x2_rel_baseline_tilt_2 = np.subtract(hysteresis_test_2[\"mas_x2\"][0:7],\n",
    "                                  hysteresis_test_2[\"mas_x2\"][0]).values\n",
    "mas_y2_rel_baseline_tilt_2 = np.subtract(hysteresis_test_2[\"mas_y2\"][0:7],\n",
    "                                  hysteresis_test_2[\"mas_y2\"][0]).values\n",
    "mas_y2_rel_baseline_tilt_offset_2 = np.add(mas_y2_rel_baseline_tilt_2,150)\n",
    "\n",
    "text_array_emp_tilt = [0,1,2,3,4,5,6]\n",
    "\n",
    "# commanded\n",
    "mas_x2_rel_expected_tilt = [0,100,200,300]\n",
    "mas_y2_rel_expected_tilt = np.ones(4)\n",
    "text_array_expect_tilt = [\"0,6\",\"1,5\",\"2,4\",\"3\"]\n",
    "\n",
    "# plot empirical points, 1\n",
    "plt.plot(mas_x2_rel_baseline_tilt+250, mas_y2_rel_baseline_tilt_offset, '-o', \n",
    "         markersize = 8, color=\"r\", alpha = 1)\n",
    "\n",
    "# plot empirical points, 2\n",
    "plt.plot(mas_x2_rel_baseline_tilt_2+250, mas_y2_rel_baseline_tilt_offset_2, '-o', \n",
    "         markersize = 8, color=\"r\", alpha = 1)\n",
    "\n",
    "# plot commanded points\n",
    "plt.plot(np.add(mas_x2_rel_expected_tilt,250), mas_y2_rel_expected_tilt, '-o', \n",
    "         markersize = 8, color=\"k\", alpha = 0.6)\n",
    "\n",
    "# plot annotation, empirical 1 and 2\n",
    "for i in range(0,7):\n",
    "    plt.text(mas_x2_rel_baseline_tilt[i]+255, mas_y2_rel_baseline_tilt_offset[i]+5,\n",
    "             str(text_array_emp_tilt[i]), color=\"k\", fontsize=12)\n",
    "    plt.text(mas_x2_rel_baseline_tilt_2[i]+255, mas_y2_rel_baseline_tilt_offset_2[i]+5,\n",
    "             str(text_array_emp_tilt[i]), color=\"k\", fontsize=12)\n",
    "\n",
    "# plot annotation, commanded\n",
    "for i in range(0,4):\n",
    "    plt.text(mas_x2_rel_expected_tilt[i]+255, mas_y2_rel_expected_tilt[i]+5,\n",
    "             str(text_array_expect_tilt[i]), color=\"k\", fontsize=12)\n",
    "\n",
    "\n",
    "########################################################################  \n",
    "### plot bars for scale\n",
    "\n",
    "## lambda/D\n",
    "plt.text(150,304,\n",
    "         \"$\\lambda/D$\", color=\"k\")\n",
    "# LMIR wavelengths\n",
    "plt.text(180,304,\n",
    "         \"LMIRcam\", color=\"k\")\n",
    "plt.text(180+lambda_D_1pt5,285,\n",
    "         \"1.5$\\mu m$\", color=\"k\")\n",
    "plt.text(180+lambda_D_5,285,\n",
    "         \"5$\\mu m$\", color=\"k\")\n",
    "# NOMIC wavelengths\n",
    "plt.text(180,320,\n",
    "         \"NOMIC\", color=\"k\")\n",
    "plt.text(180+lambda_D_8,300,\n",
    "         \"8$\\mu m$\", color=\"k\")\n",
    "plt.text(180+lambda_D_14,300,\n",
    "         \"14$\\mu m$\", color=\"k\")\n",
    "# lines\n",
    "plt.plot([180,180+lambda_D_5],[300,300],'o-',linewidth=6,color=\"orange\")\n",
    "plt.plot([180,180+lambda_D_1pt5],[300,300],'o-',color=\"k\")\n",
    "plt.plot([180,180+lambda_D_14],[315,315],'o-',linewidth=6,color=\"orange\")\n",
    "plt.plot([180,180+lambda_D_8],[315,315],'o-',color=\"k\")\n",
    "\n",
    "## lambda/Bcc\n",
    "plt.text(150,254,\n",
    "         \"$\\lambda/Bcc$\", color=\"k\")\n",
    "# LMIR wavelengths\n",
    "plt.text(180,254,\n",
    "         \"LMIRcam\", color=\"k\")\n",
    "plt.text(180+lambda_Bcc_1pt5,235,\n",
    "         \"1.5$\\mu m$\", color=\"k\")\n",
    "plt.text(180+lambda_Bcc_5,235,\n",
    "         \"5$\\mu m$\", color=\"k\")\n",
    "# NOMIC wavelengths\n",
    "plt.text(180,270,\n",
    "         \"NOMIC\", color=\"k\")\n",
    "plt.text(180+lambda_Bcc_8,250,\n",
    "         \"8$\\mu m$\", color=\"k\")\n",
    "plt.text(180+lambda_Bcc_14,250,\n",
    "         \"14$\\mu m$\", color=\"k\")\n",
    "# lines\n",
    "plt.plot([180,180+lambda_Bcc_5],[250,250],'o-',linewidth=6,color=\"orange\")\n",
    "plt.plot([180,180+lambda_Bcc_1pt5],[250,250],'o-',color=\"k\")\n",
    "plt.plot([180,180+lambda_Bcc_14],[265,265],'o-',linewidth=6,color=\"orange\")\n",
    "plt.plot([180,180+lambda_Bcc_8],[265,265],'o-',color=\"k\")\n",
    "\n",
    "## lambda/Bee\n",
    "plt.text(150,204,\n",
    "         \"$\\lambda/Bee$\", color=\"k\")\n",
    "# LMIR wavelengths\n",
    "plt.text(180,204,\n",
    "         \"LMIRcam\", color=\"k\")\n",
    "plt.text(180+lambda_Bee_1pt5,185,\n",
    "         \"1.5$\\mu m$\", color=\"k\")\n",
    "plt.text(180+lambda_Bee_5+1,185,\n",
    "         \"5$\\mu m$\", color=\"k\")\n",
    "# NOMIC wavelengths\n",
    "plt.text(180,219,\n",
    "         \"NOMIC\", color=\"k\")\n",
    "plt.text(180+lambda_Bee_8,200,\n",
    "         \"8$\\mu m$\", color=\"k\")\n",
    "plt.text(180+lambda_Bee_14,200,\n",
    "         \"14$\\mu m$\", color=\"k\")\n",
    "# lines\n",
    "plt.plot([180,180+lambda_Bee_5],[200,200],'o-',linewidth=6,color=\"orange\")\n",
    "plt.plot([180,180+lambda_Bee_1pt5],[200,200],'o-',color=\"k\")\n",
    "plt.plot([180,180+lambda_Bee_14],[215,215],'o-',linewidth=6,color=\"orange\")\n",
    "plt.plot([180,180+lambda_Bee_8],[215,215],'o-',color=\"k\")\n",
    "\n",
    "# circle to show uncertainty\n",
    "plt.gca().add_patch(patches.Circle((500,200),\n",
    "                             radius=6.63212469226,\n",
    "                             color='k', linewidth=1, linestyle=\"-\", fill=False))\n",
    "    \n",
    "major_ticks_x = np.arange(-50, 601, 50)  \n",
    "major_ticks_y = np.arange(-50, 401, 50) \n",
    "plt.xticks(major_ticks_x)                                                       \n",
    "plt.yticks(major_ticks_y) \n",
    "plt.xlim([-51,620])\n",
    "plt.ylim([-20,350])\n",
    "plt.grid(True)\n",
    "plt.gca().set_aspect('equal')\n",
    "plt.xlabel(\"x with offsets (mas)\")\n",
    "plt.ylabel(\"y (mas)\")\n",
    "plt.legend(loc=\"upper left\")\n",
    "plt.tight_layout()\n",
    "plt.title(\"100 mas tip (y) and tilt (x) movements, FPC\")\n",
    "#plt.scatter(hysteresis_test[\"x2\"],hysteresis_test[\"y2\"])\n",
    "plt.savefig(\"fpc_large.pdf\")\n",
    "#plt.show()"
   ]
  },
  {
   "cell_type": "markdown",
   "metadata": {
    "collapsed": false
   },
   "source": [
    "hysteresis_test_2"
   ]
  },
  {
   "cell_type": "code",
   "execution_count": 90,
   "metadata": {
    "collapsed": false
   },
   "outputs": [
    {
     "name": "stdout",
     "output_type": "stream",
     "text": [
      "18480.4994075\n",
      "10535.4695597\n"
     ]
    },
    {
     "data": {
      "image/png": "[encoded data removed]",
      "text/plain": [
       "<matplotlib.figure.Figure at 0x116881fd0>"
      ]
     },
     "metadata": {},
     "output_type": "display_data"
    },
    {
     "name": "stdout",
     "output_type": "stream",
     "text": [
      "13     7.109792\n",
      "14     8.050821\n",
      "15     4.814095\n",
      "16     3.113848\n",
      "17     6.740728\n",
      "18     4.088416\n",
      "19     6.641304\n",
      "20    12.497993\n",
      "Name: mas_x2, dtype: float64\n",
      "6.63212469226\n"
     ]
    }
   ],
   "source": [
    "# find a rough uncertainty with PSFs when they don't move\n",
    "\n",
    "# SPC: no movement frames 231-243\n",
    "# (I'm worried about this sequence, because there appears to be real drift in the PSF)\n",
    "#plt.clf()\n",
    "#plt.scatter(hysteresis_test_2[\"mas_x1\"][1:13],hysteresis_test_2[\"mas_y1\"][1:13])\n",
    "#plt.show()\n",
    "\n",
    "# FPC: no movement frames 244-251\n",
    "plt.clf()\n",
    "plt.scatter(hysteresis_test_2[\"mas_x2\"][13:21],hysteresis_test_2[\"mas_y2\"][13:21])\n",
    "#plt.show()\n",
    "\n",
    "# find central x,y\n",
    "x_ave = np.mean(hysteresis_test_2[\"mas_x2\"][13:21])\n",
    "y_ave = np.mean(hysteresis_test_2[\"mas_y2\"][13:21])\n",
    "print(x_ave)\n",
    "print(y_ave)\n",
    "\n",
    "# find radial distances\n",
    "# r = sqrt((x-x_ave)^2 + (y-y_ave)^2)\n",
    "\n",
    "x_sqd_term = np.power(np.subtract(hysteresis_test_2[\"mas_x2\"][13:21],x_ave),2)\n",
    "\n",
    "y_sqd_term = np.power(np.subtract(hysteresis_test_2[\"mas_y2\"][13:21],y_ave),2)\n",
    "\n",
    "r_array = np.sqrt(np.add(x_sqd_term,y_sqd_term))\n",
    "\n",
    "plt.scatter([x_ave],[y_ave], color=\"r\")\n",
    "plt.show()\n",
    "\n",
    "print(r_array)\n",
    "print(np.mean(r_array))"
   ]
  },
  {
   "cell_type": "code",
   "execution_count": 160,
   "metadata": {
    "collapsed": false
   },
   "outputs": [
    {
     "name": "stdout",
     "output_type": "stream",
     "text": [
      "16701.6555387\n",
      "12167.5250727\n"
     ]
    },
    {
     "data": {
      "image/png": "[encoded data removed]",
      "text/plain": [
       "<matplotlib.figure.Figure at 0x11aa3f650>"
      ]
     },
     "metadata": {},
     "output_type": "display_data"
    },
    {
     "name": "stdout",
     "output_type": "stream",
     "text": [
      "13    3.603012\n",
      "14    3.181579\n",
      "15    2.208108\n",
      "16    2.450466\n",
      "17    0.403894\n",
      "18    2.287201\n",
      "19    3.928235\n",
      "20    3.455557\n",
      "Name: mas_x2, dtype: float64\n",
      "2.68975656939\n"
     ]
    }
   ],
   "source": [
    "# find a rough uncertainty with PSFs when they don't move\n",
    "\n",
    "# SPC: no movement frames 231-243\n",
    "# (I'm worried about this sequence, because there appears to be real drift in the PSF)\n",
    "#plt.clf()\n",
    "#plt.scatter(hysteresis_test_2[\"mas_x1\"][1:13],hysteresis_test_2[\"mas_y1\"][1:13])\n",
    "#plt.show()\n",
    "\n",
    "# FPC: no movement frames 244-251\n",
    "plt.clf()\n",
    "plt.scatter(hysteresis_test[\"mas_x2\"][13:21],hysteresis_test[\"mas_y2\"][13:21])\n",
    "#plt.show()\n",
    "\n",
    "# find central x,y\n",
    "x_ave = np.mean(hysteresis_test[\"mas_x2\"][13:21])\n",
    "y_ave = np.mean(hysteresis_test[\"mas_y2\"][13:21])\n",
    "print(x_ave)\n",
    "print(y_ave)\n",
    "\n",
    "# find radial distances\n",
    "# r = sqrt((x-x_ave)^2 + (y-y_ave)^2)\n",
    "\n",
    "x_sqd_term = np.power(np.subtract(hysteresis_test[\"mas_x2\"][13:21],x_ave),2)\n",
    "\n",
    "y_sqd_term = np.power(np.subtract(hysteresis_test[\"mas_y2\"][13:21],y_ave),2)\n",
    "\n",
    "r_array = np.sqrt(np.add(x_sqd_term,y_sqd_term))\n",
    "\n",
    "plt.scatter([x_ave],[y_ave], color=\"r\")\n",
    "plt.show()\n",
    "\n",
    "print(r_array)\n",
    "print(np.mean(r_array))"
   ]
  },
  {
   "cell_type": "code",
   "execution_count": 36,
   "metadata": {
    "collapsed": false
   },
   "outputs": [
    {
     "data": {
      "text/html": [
       "<div>\n",
       "<table border=\"1\" class=\"dataframe\">\n",
       "  <thead>\n",
       "    <tr style=\"text-align: right;\">\n",
       "      <th></th>\n",
       "      <th>frame_ref</th>\n",
       "      <th>img_name</th>\n",
       "      <th>x_ll</th>\n",
       "      <th>y_ll</th>\n",
       "      <th>x_ur</th>\n",
       "      <th>y_ur</th>\n",
       "      <th>remarks</th>\n",
       "      <th>mas_x1</th>\n",
       "      <th>mas_y1</th>\n",
       "      <th>mas_x2</th>\n",
       "      <th>mas_y2</th>\n",
       "    </tr>\n",
       "  </thead>\n",
       "  <tbody>\n",
       "    <tr>\n",
       "      <th>0</th>\n",
       "      <td>0</td>\n",
       "      <td>dark_subt_0231.fits</td>\n",
       "      <td>910.261567</td>\n",
       "      <td>676.905840</td>\n",
       "      <td>1725.342532</td>\n",
       "      <td>990.567171</td>\n",
       "      <td>baseline</td>\n",
       "      <td>9739.798771</td>\n",
       "      <td>7242.892491</td>\n",
       "      <td>18461.165091</td>\n",
       "      <td>10599.068733</td>\n",
       "    </tr>\n",
       "    <tr>\n",
       "      <th>1</th>\n",
       "      <td>1</td>\n",
       "      <td>dark_subt_0232.fits</td>\n",
       "      <td>882.884763</td>\n",
       "      <td>661.973166</td>\n",
       "      <td>1730.020942</td>\n",
       "      <td>985.239907</td>\n",
       "      <td>FPC (top PSF) tilted to the right by 0.10 asec</td>\n",
       "      <td>9446.866962</td>\n",
       "      <td>7083.112871</td>\n",
       "      <td>18511.224076</td>\n",
       "      <td>10542.067005</td>\n",
       "    </tr>\n",
       "    <tr>\n",
       "      <th>2</th>\n",
       "      <td>2</td>\n",
       "      <td>dark_subt_0233.fits</td>\n",
       "      <td>882.381779</td>\n",
       "      <td>661.746211</td>\n",
       "      <td>1734.946108</td>\n",
       "      <td>985.498959</td>\n",
       "      <td>another step like the above</td>\n",
       "      <td>9441.485035</td>\n",
       "      <td>7080.684461</td>\n",
       "      <td>18563.923358</td>\n",
       "      <td>10544.838864</td>\n",
       "    </tr>\n",
       "    <tr>\n",
       "      <th>3</th>\n",
       "      <td>3</td>\n",
       "      <td>dark_subt_0234.fits</td>\n",
       "      <td>881.784335</td>\n",
       "      <td>661.525693</td>\n",
       "      <td>1740.275602</td>\n",
       "      <td>984.305038</td>\n",
       "      <td>another step like the above</td>\n",
       "      <td>9435.092387</td>\n",
       "      <td>7078.324919</td>\n",
       "      <td>18620.948937</td>\n",
       "      <td>10532.063901</td>\n",
       "    </tr>\n",
       "    <tr>\n",
       "      <th>4</th>\n",
       "      <td>4</td>\n",
       "      <td>dark_subt_0235.fits</td>\n",
       "      <td>881.448193</td>\n",
       "      <td>661.218947</td>\n",
       "      <td>1736.344079</td>\n",
       "      <td>984.106709</td>\n",
       "      <td>FPC (top PSF) tilted to the left by 0.10 asec</td>\n",
       "      <td>9431.495661</td>\n",
       "      <td>7075.042736</td>\n",
       "      <td>18578.881641</td>\n",
       "      <td>10529.941788</td>\n",
       "    </tr>\n",
       "    <tr>\n",
       "      <th>5</th>\n",
       "      <td>5</td>\n",
       "      <td>dark_subt_0236.fits</td>\n",
       "      <td>881.118874</td>\n",
       "      <td>661.057008</td>\n",
       "      <td>1732.530365</td>\n",
       "      <td>983.745578</td>\n",
       "      <td>another step like the above</td>\n",
       "      <td>9427.971947</td>\n",
       "      <td>7073.309985</td>\n",
       "      <td>18538.074905</td>\n",
       "      <td>10526.077686</td>\n",
       "    </tr>\n",
       "    <tr>\n",
       "      <th>6</th>\n",
       "      <td>6</td>\n",
       "      <td>dark_subt_0237.fits</td>\n",
       "      <td>880.565376</td>\n",
       "      <td>660.584073</td>\n",
       "      <td>1728.848187</td>\n",
       "      <td>983.377366</td>\n",
       "      <td>another step like the above (should be at star...</td>\n",
       "      <td>9422.049519</td>\n",
       "      <td>7068.249584</td>\n",
       "      <td>18498.675599</td>\n",
       "      <td>10522.137813</td>\n",
       "    </tr>\n",
       "    <tr>\n",
       "      <th>7</th>\n",
       "      <td>7</td>\n",
       "      <td>dark_subt_0238.fits</td>\n",
       "      <td>879.726288</td>\n",
       "      <td>660.452999</td>\n",
       "      <td>1727.624104</td>\n",
       "      <td>988.293846</td>\n",
       "      <td>FPC (top PSF) tipped up by 0.10 asec</td>\n",
       "      <td>9413.071286</td>\n",
       "      <td>7066.847094</td>\n",
       "      <td>18485.577913</td>\n",
       "      <td>10574.744149</td>\n",
       "    </tr>\n",
       "    <tr>\n",
       "      <th>8</th>\n",
       "      <td>8</td>\n",
       "      <td>dark_subt_0239.fits</td>\n",
       "      <td>879.329903</td>\n",
       "      <td>660.429500</td>\n",
       "      <td>1727.544827</td>\n",
       "      <td>993.319694</td>\n",
       "      <td>another step like the above</td>\n",
       "      <td>9408.829958</td>\n",
       "      <td>7066.595647</td>\n",
       "      <td>18484.729654</td>\n",
       "      <td>10628.520723</td>\n",
       "    </tr>\n",
       "    <tr>\n",
       "      <th>9</th>\n",
       "      <td>9</td>\n",
       "      <td>dark_subt_0240.fits</td>\n",
       "      <td>878.836848</td>\n",
       "      <td>659.943621</td>\n",
       "      <td>1726.536749</td>\n",
       "      <td>1000.484482</td>\n",
       "      <td>another step like the above</td>\n",
       "      <td>9403.554273</td>\n",
       "      <td>7061.396744</td>\n",
       "      <td>18473.943212</td>\n",
       "      <td>10705.183958</td>\n",
       "    </tr>\n",
       "    <tr>\n",
       "      <th>10</th>\n",
       "      <td>10</td>\n",
       "      <td>dark_subt_0241.fits</td>\n",
       "      <td>878.342931</td>\n",
       "      <td>659.843901</td>\n",
       "      <td>1727.270128</td>\n",
       "      <td>996.141900</td>\n",
       "      <td>FPC (top PSF) tipped down by 0.10 asec</td>\n",
       "      <td>9398.269365</td>\n",
       "      <td>7060.329746</td>\n",
       "      <td>18481.790370</td>\n",
       "      <td>10658.718332</td>\n",
       "    </tr>\n",
       "    <tr>\n",
       "      <th>11</th>\n",
       "      <td>11</td>\n",
       "      <td>dark_subt_0242.fits</td>\n",
       "      <td>878.010880</td>\n",
       "      <td>659.661111</td>\n",
       "      <td>1727.304080</td>\n",
       "      <td>990.751403</td>\n",
       "      <td>another step like the above</td>\n",
       "      <td>9394.716418</td>\n",
       "      <td>7058.373884</td>\n",
       "      <td>18482.153655</td>\n",
       "      <td>10601.040011</td>\n",
       "    </tr>\n",
       "    <tr>\n",
       "      <th>12</th>\n",
       "      <td>12</td>\n",
       "      <td>dark_subt_0243.fits</td>\n",
       "      <td>877.965980</td>\n",
       "      <td>660.829637</td>\n",
       "      <td>1727.683983</td>\n",
       "      <td>985.769061</td>\n",
       "      <td>another step like the above (should be at star...</td>\n",
       "      <td>9394.235990</td>\n",
       "      <td>7070.877114</td>\n",
       "      <td>18486.218616</td>\n",
       "      <td>10547.728950</td>\n",
       "    </tr>\n",
       "    <tr>\n",
       "      <th>13</th>\n",
       "      <td>13</td>\n",
       "      <td>dark_subt_0244.fits</td>\n",
       "      <td>900.365865</td>\n",
       "      <td>658.413361</td>\n",
       "      <td>1726.582134</td>\n",
       "      <td>984.969210</td>\n",
       "      <td>SPC tilt to the right 0.50 asec (in 0.10 asec ...</td>\n",
       "      <td>9633.914756</td>\n",
       "      <td>7045.022960</td>\n",
       "      <td>18474.428839</td>\n",
       "      <td>10539.170550</td>\n",
       "    </tr>\n",
       "    <tr>\n",
       "      <th>14</th>\n",
       "      <td>14</td>\n",
       "      <td>dark_subt_0245.fits</td>\n",
       "      <td>878.167290</td>\n",
       "      <td>659.900585</td>\n",
       "      <td>1727.464334</td>\n",
       "      <td>985.306691</td>\n",
       "      <td>SPC moved back (should be at starting point)</td>\n",
       "      <td>9396.390005</td>\n",
       "      <td>7060.936261</td>\n",
       "      <td>18483.868373</td>\n",
       "      <td>10542.781590</td>\n",
       "    </tr>\n",
       "    <tr>\n",
       "      <th>15</th>\n",
       "      <td>15</td>\n",
       "      <td>dark_subt_0246.fits</td>\n",
       "      <td>876.693000</td>\n",
       "      <td>652.494000</td>\n",
       "      <td>1727.504369</td>\n",
       "      <td>984.899866</td>\n",
       "      <td>SPC tipped down 0.1 asec</td>\n",
       "      <td>9380.615100</td>\n",
       "      <td>6981.685800</td>\n",
       "      <td>18484.296749</td>\n",
       "      <td>10538.428565</td>\n",
       "    </tr>\n",
       "    <tr>\n",
       "      <th>16</th>\n",
       "      <td>16</td>\n",
       "      <td>dark_subt_0247.fits</td>\n",
       "      <td>876.320925</td>\n",
       "      <td>657.163055</td>\n",
       "      <td>1727.301000</td>\n",
       "      <td>984.871778</td>\n",
       "      <td>SPC tipped up 0.1 (should be at starting point)</td>\n",
       "      <td>9376.633901</td>\n",
       "      <td>7031.644687</td>\n",
       "      <td>18482.120704</td>\n",
       "      <td>10538.128026</td>\n",
       "    </tr>\n",
       "    <tr>\n",
       "      <th>17</th>\n",
       "      <td>17</td>\n",
       "      <td>dark_subt_0248.fits</td>\n",
       "      <td>875.500384</td>\n",
       "      <td>656.565806</td>\n",
       "      <td>1727.593484</td>\n",
       "      <td>985.070231</td>\n",
       "      <td>SPC translation stage moved -40000.00 um to -4...</td>\n",
       "      <td>9367.854110</td>\n",
       "      <td>7025.254121</td>\n",
       "      <td>18485.250277</td>\n",
       "      <td>10540.251469</td>\n",
       "    </tr>\n",
       "    <tr>\n",
       "      <th>18</th>\n",
       "      <td>18</td>\n",
       "      <td>dark_subt_0249.fits</td>\n",
       "      <td>875.125272</td>\n",
       "      <td>656.031560</td>\n",
       "      <td>1726.874047</td>\n",
       "      <td>984.358494</td>\n",
       "      <td>SPC translation stage moved -40000.10 um to -4...</td>\n",
       "      <td>9363.840412</td>\n",
       "      <td>7019.537692</td>\n",
       "      <td>18477.552298</td>\n",
       "      <td>10532.635889</td>\n",
       "    </tr>\n",
       "    <tr>\n",
       "      <th>19</th>\n",
       "      <td>19</td>\n",
       "      <td>dark_subt_0250.fits</td>\n",
       "      <td>873.190693</td>\n",
       "      <td>655.560221</td>\n",
       "      <td>1726.966680</td>\n",
       "      <td>984.030169</td>\n",
       "      <td>SPC translation stage moved -40010.10 um to -4...</td>\n",
       "      <td>9343.140416</td>\n",
       "      <td>7014.494367</td>\n",
       "      <td>18478.543480</td>\n",
       "      <td>10529.122807</td>\n",
       "    </tr>\n",
       "    <tr>\n",
       "      <th>20</th>\n",
       "      <td>20</td>\n",
       "      <td>dark_subt_0251.fits</td>\n",
       "      <td>870.652869</td>\n",
       "      <td>654.304449</td>\n",
       "      <td>1726.909770</td>\n",
       "      <td>983.480148</td>\n",
       "      <td>after SPC has shut down</td>\n",
       "      <td>9315.985699</td>\n",
       "      <td>7001.057606</td>\n",
       "      <td>18477.934541</td>\n",
       "      <td>10523.237581</td>\n",
       "    </tr>\n",
       "    <tr>\n",
       "      <th>21</th>\n",
       "      <td>21</td>\n",
       "      <td>dark_subt_0252.fits</td>\n",
       "      <td>869.930729</td>\n",
       "      <td>653.846853</td>\n",
       "      <td>1726.515385</td>\n",
       "      <td>983.071123</td>\n",
       "      <td>baseline1 for small FPC TT</td>\n",
       "      <td>9308.258796</td>\n",
       "      <td>6996.161329</td>\n",
       "      <td>18473.714625</td>\n",
       "      <td>10518.861018</td>\n",
       "    </tr>\n",
       "    <tr>\n",
       "      <th>22</th>\n",
       "      <td>25</td>\n",
       "      <td>dark_subt_0256.fits</td>\n",
       "      <td>868.775484</td>\n",
       "      <td>653.277960</td>\n",
       "      <td>1728.252373</td>\n",
       "      <td>983.505947</td>\n",
       "      <td>after FPC tip (y) of +0.01 asec</td>\n",
       "      <td>9295.897677</td>\n",
       "      <td>6990.074169</td>\n",
       "      <td>18492.300392</td>\n",
       "      <td>10523.513637</td>\n",
       "    </tr>\n",
       "    <tr>\n",
       "      <th>23</th>\n",
       "      <td>26</td>\n",
       "      <td>dark_subt_0257.fits</td>\n",
       "      <td>868.640543</td>\n",
       "      <td>653.194886</td>\n",
       "      <td>1728.022769</td>\n",
       "      <td>983.826238</td>\n",
       "      <td>another step like the above</td>\n",
       "      <td>9294.453812</td>\n",
       "      <td>6989.185284</td>\n",
       "      <td>18489.843632</td>\n",
       "      <td>10526.940746</td>\n",
       "    </tr>\n",
       "    <tr>\n",
       "      <th>24</th>\n",
       "      <td>27</td>\n",
       "      <td>dark_subt_0258.fits</td>\n",
       "      <td>868.665039</td>\n",
       "      <td>654.352461</td>\n",
       "      <td>1728.741463</td>\n",
       "      <td>983.951627</td>\n",
       "      <td>after tip of -0.02 asec (should be at starting...</td>\n",
       "      <td>9294.715920</td>\n",
       "      <td>7001.571329</td>\n",
       "      <td>18497.533657</td>\n",
       "      <td>10528.282409</td>\n",
       "    </tr>\n",
       "    <tr>\n",
       "      <th>25</th>\n",
       "      <td>99</td>\n",
       "      <td>dark_subt_0259.fits</td>\n",
       "      <td>867.771235</td>\n",
       "      <td>653.898789</td>\n",
       "      <td>1727.022528</td>\n",
       "      <td>983.782309</td>\n",
       "      <td>baseline2 for small FPC TT</td>\n",
       "      <td>9285.152211</td>\n",
       "      <td>6996.717046</td>\n",
       "      <td>18479.141045</td>\n",
       "      <td>10526.470708</td>\n",
       "    </tr>\n",
       "    <tr>\n",
       "      <th>26</th>\n",
       "      <td>22</td>\n",
       "      <td>dark_subt_0260.fits</td>\n",
       "      <td>867.483630</td>\n",
       "      <td>653.562353</td>\n",
       "      <td>1726.712886</td>\n",
       "      <td>983.676284</td>\n",
       "      <td>after tilt (x) of 0.01 asec</td>\n",
       "      <td>9282.074837</td>\n",
       "      <td>6993.117174</td>\n",
       "      <td>18475.827883</td>\n",
       "      <td>10525.336234</td>\n",
       "    </tr>\n",
       "    <tr>\n",
       "      <th>27</th>\n",
       "      <td>23</td>\n",
       "      <td>dark_subt_0261.fits</td>\n",
       "      <td>867.415842</td>\n",
       "      <td>653.590205</td>\n",
       "      <td>1727.898952</td>\n",
       "      <td>983.561173</td>\n",
       "      <td>another step like the above</td>\n",
       "      <td>9281.349511</td>\n",
       "      <td>6993.415197</td>\n",
       "      <td>18488.518787</td>\n",
       "      <td>10524.104553</td>\n",
       "    </tr>\n",
       "    <tr>\n",
       "      <th>28</th>\n",
       "      <td>24</td>\n",
       "      <td>dark_subt_0262.fits</td>\n",
       "      <td>867.206077</td>\n",
       "      <td>653.475296</td>\n",
       "      <td>1726.460822</td>\n",
       "      <td>983.590381</td>\n",
       "      <td>after tilt (x) of -0.02 asec (should be at sta...</td>\n",
       "      <td>9279.105027</td>\n",
       "      <td>6992.185664</td>\n",
       "      <td>18473.130796</td>\n",
       "      <td>10524.417080</td>\n",
       "    </tr>\n",
       "    <tr>\n",
       "      <th>29</th>\n",
       "      <td>99</td>\n",
       "      <td>dark_subt_0266.fits</td>\n",
       "      <td>863.904389</td>\n",
       "      <td>651.591282</td>\n",
       "      <td>1726.887854</td>\n",
       "      <td>982.892465</td>\n",
       "      <td>baseline3</td>\n",
       "      <td>9243.776962</td>\n",
       "      <td>6972.026721</td>\n",
       "      <td>18477.700037</td>\n",
       "      <td>10516.949375</td>\n",
       "    </tr>\n",
       "    <tr>\n",
       "      <th>30</th>\n",
       "      <td>28</td>\n",
       "      <td>dark_subt_0267.fits</td>\n",
       "      <td>876.758328</td>\n",
       "      <td>647.881361</td>\n",
       "      <td>1726.591245</td>\n",
       "      <td>982.914842</td>\n",
       "      <td>SPC translation stage moved -40000 to -41000 um</td>\n",
       "      <td>9381.314107</td>\n",
       "      <td>6932.330568</td>\n",
       "      <td>18474.526325</td>\n",
       "      <td>10517.188809</td>\n",
       "    </tr>\n",
       "    <tr>\n",
       "      <th>31</th>\n",
       "      <td>29</td>\n",
       "      <td>dark_subt_0268.fits</td>\n",
       "      <td>898.716615</td>\n",
       "      <td>649.526226</td>\n",
       "      <td>1726.527688</td>\n",
       "      <td>982.711988</td>\n",
       "      <td>SPC translation stage moved -41000 to -44000</td>\n",
       "      <td>9616.267784</td>\n",
       "      <td>6949.930614</td>\n",
       "      <td>18473.846260</td>\n",
       "      <td>10515.018272</td>\n",
       "    </tr>\n",
       "    <tr>\n",
       "      <th>32</th>\n",
       "      <td>30</td>\n",
       "      <td>dark_subt_0269.fits</td>\n",
       "      <td>863.183832</td>\n",
       "      <td>651.082171</td>\n",
       "      <td>1726.411938</td>\n",
       "      <td>982.673087</td>\n",
       "      <td>SPC translation stage moved -44000 to -40000 a...</td>\n",
       "      <td>9236.067002</td>\n",
       "      <td>6966.579229</td>\n",
       "      <td>18472.607738</td>\n",
       "      <td>10514.602029</td>\n",
       "    </tr>\n",
       "    <tr>\n",
       "      <th>33</th>\n",
       "      <td>99</td>\n",
       "      <td>dark_subt_0270.fits</td>\n",
       "      <td>857.486982</td>\n",
       "      <td>650.594716</td>\n",
       "      <td>1721.467617</td>\n",
       "      <td>982.410389</td>\n",
       "      <td>FPC and HPC moved to left by 0.1 asec (step 1)</td>\n",
       "      <td>9175.110704</td>\n",
       "      <td>6961.363462</td>\n",
       "      <td>18419.703501</td>\n",
       "      <td>10511.791166</td>\n",
       "    </tr>\n",
       "    <tr>\n",
       "      <th>34</th>\n",
       "      <td>99</td>\n",
       "      <td>dark_subt_0271.fits</td>\n",
       "      <td>856.645037</td>\n",
       "      <td>645.256576</td>\n",
       "      <td>1720.517631</td>\n",
       "      <td>974.176008</td>\n",
       "      <td>FPC and HPC moved down by 0.1 asec (step 2)</td>\n",
       "      <td>9166.101894</td>\n",
       "      <td>6904.245368</td>\n",
       "      <td>18409.538655</td>\n",
       "      <td>10423.683284</td>\n",
       "    </tr>\n",
       "    <tr>\n",
       "      <th>35</th>\n",
       "      <td>99</td>\n",
       "      <td>dark_subt_0272.fits</td>\n",
       "      <td>855.792476</td>\n",
       "      <td>639.561524</td>\n",
       "      <td>1720.531710</td>\n",
       "      <td>968.853178</td>\n",
       "      <td>FPC and HPC moved down again by 0.1 asec (step 3)</td>\n",
       "      <td>9156.979494</td>\n",
       "      <td>6843.308306</td>\n",
       "      <td>18409.689298</td>\n",
       "      <td>10366.729000</td>\n",
       "    </tr>\n",
       "    <tr>\n",
       "      <th>36</th>\n",
       "      <td>99</td>\n",
       "      <td>dark_subt_0273.fits</td>\n",
       "      <td>860.196007</td>\n",
       "      <td>639.073460</td>\n",
       "      <td>1725.203928</td>\n",
       "      <td>968.876868</td>\n",
       "      <td>FPC and HPC moved to right by 0.1 asec (step 4)</td>\n",
       "      <td>9204.097272</td>\n",
       "      <td>6838.086019</td>\n",
       "      <td>18459.682026</td>\n",
       "      <td>10366.982487</td>\n",
       "    </tr>\n",
       "    <tr>\n",
       "      <th>37</th>\n",
       "      <td>99</td>\n",
       "      <td>dark_subt_0274.fits</td>\n",
       "      <td>864.762156</td>\n",
       "      <td>638.325410</td>\n",
       "      <td>1729.978277</td>\n",
       "      <td>968.466492</td>\n",
       "      <td>FPC and HPC moved to right again by 0.1 asec (...</td>\n",
       "      <td>9252.955067</td>\n",
       "      <td>6830.081885</td>\n",
       "      <td>18510.767566</td>\n",
       "      <td>10362.591463</td>\n",
       "    </tr>\n",
       "    <tr>\n",
       "      <th>38</th>\n",
       "      <td>99</td>\n",
       "      <td>dark_subt_0275.fits</td>\n",
       "      <td>864.480934</td>\n",
       "      <td>642.968476</td>\n",
       "      <td>1730.172409</td>\n",
       "      <td>972.547966</td>\n",
       "      <td>FPC and HPC moved up by 0.1 asec (step 6)</td>\n",
       "      <td>9249.945996</td>\n",
       "      <td>6879.762691</td>\n",
       "      <td>18512.844774</td>\n",
       "      <td>10406.263239</td>\n",
       "    </tr>\n",
       "    <tr>\n",
       "      <th>39</th>\n",
       "      <td>99</td>\n",
       "      <td>dark_subt_0276.fits</td>\n",
       "      <td>864.610888</td>\n",
       "      <td>647.892024</td>\n",
       "      <td>1731.245190</td>\n",
       "      <td>980.971586</td>\n",
       "      <td>FPC and HPC moved up again by 0.1 asec (step 7)</td>\n",
       "      <td>9251.336506</td>\n",
       "      <td>6932.444656</td>\n",
       "      <td>18524.323537</td>\n",
       "      <td>10496.395975</td>\n",
       "    </tr>\n",
       "    <tr>\n",
       "      <th>40</th>\n",
       "      <td>99</td>\n",
       "      <td>dark_subt_0277.fits</td>\n",
       "      <td>859.682989</td>\n",
       "      <td>647.910308</td>\n",
       "      <td>1725.674199</td>\n",
       "      <td>979.605031</td>\n",
       "      <td>FPC and HPC moved to left by 0.1 asec (step 8)</td>\n",
       "      <td>9198.607985</td>\n",
       "      <td>6932.640298</td>\n",
       "      <td>18464.713926</td>\n",
       "      <td>10481.773830</td>\n",
       "    </tr>\n",
       "  </tbody>\n",
       "</table>\n",
       "</div>"
      ],
      "text/plain": [
       "    frame_ref             img_name        x_ll        y_ll         x_ur  \\\n",
       "0           0  dark_subt_0231.fits  910.261567  676.905840  1725.342532   \n",
       "1           1  dark_subt_0232.fits  882.884763  661.973166  1730.020942   \n",
       "2           2  dark_subt_0233.fits  882.381779  661.746211  1734.946108   \n",
       "3           3  dark_subt_0234.fits  881.784335  661.525693  1740.275602   \n",
       "4           4  dark_subt_0235.fits  881.448193  661.218947  1736.344079   \n",
       "5           5  dark_subt_0236.fits  881.118874  661.057008  1732.530365   \n",
       "6           6  dark_subt_0237.fits  880.565376  660.584073  1728.848187   \n",
       "7           7  dark_subt_0238.fits  879.726288  660.452999  1727.624104   \n",
       "8           8  dark_subt_0239.fits  879.329903  660.429500  1727.544827   \n",
       "9           9  dark_subt_0240.fits  878.836848  659.943621  1726.536749   \n",
       "10         10  dark_subt_0241.fits  878.342931  659.843901  1727.270128   \n",
       "11         11  dark_subt_0242.fits  878.010880  659.661111  1727.304080   \n",
       "12         12  dark_subt_0243.fits  877.965980  660.829637  1727.683983   \n",
       "13         13  dark_subt_0244.fits  900.365865  658.413361  1726.582134   \n",
       "14         14  dark_subt_0245.fits  878.167290  659.900585  1727.464334   \n",
       "15         15  dark_subt_0246.fits  876.693000  652.494000  1727.504369   \n",
       "16         16  dark_subt_0247.fits  876.320925  657.163055  1727.301000   \n",
       "17         17  dark_subt_0248.fits  875.500384  656.565806  1727.593484   \n",
       "18         18  dark_subt_0249.fits  875.125272  656.031560  1726.874047   \n",
       "19         19  dark_subt_0250.fits  873.190693  655.560221  1726.966680   \n",
       "20         20  dark_subt_0251.fits  870.652869  654.304449  1726.909770   \n",
       "21         21  dark_subt_0252.fits  869.930729  653.846853  1726.515385   \n",
       "22         25  dark_subt_0256.fits  868.775484  653.277960  1728.252373   \n",
       "23         26  dark_subt_0257.fits  868.640543  653.194886  1728.022769   \n",
       "24         27  dark_subt_0258.fits  868.665039  654.352461  1728.741463   \n",
       "25         99  dark_subt_0259.fits  867.771235  653.898789  1727.022528   \n",
       "26         22  dark_subt_0260.fits  867.483630  653.562353  1726.712886   \n",
       "27         23  dark_subt_0261.fits  867.415842  653.590205  1727.898952   \n",
       "28         24  dark_subt_0262.fits  867.206077  653.475296  1726.460822   \n",
       "29         99  dark_subt_0266.fits  863.904389  651.591282  1726.887854   \n",
       "30         28  dark_subt_0267.fits  876.758328  647.881361  1726.591245   \n",
       "31         29  dark_subt_0268.fits  898.716615  649.526226  1726.527688   \n",
       "32         30  dark_subt_0269.fits  863.183832  651.082171  1726.411938   \n",
       "33         99  dark_subt_0270.fits  857.486982  650.594716  1721.467617   \n",
       "34         99  dark_subt_0271.fits  856.645037  645.256576  1720.517631   \n",
       "35         99  dark_subt_0272.fits  855.792476  639.561524  1720.531710   \n",
       "36         99  dark_subt_0273.fits  860.196007  639.073460  1725.203928   \n",
       "37         99  dark_subt_0274.fits  864.762156  638.325410  1729.978277   \n",
       "38         99  dark_subt_0275.fits  864.480934  642.968476  1730.172409   \n",
       "39         99  dark_subt_0276.fits  864.610888  647.892024  1731.245190   \n",
       "40         99  dark_subt_0277.fits  859.682989  647.910308  1725.674199   \n",
       "\n",
       "           y_ur                                            remarks  \\\n",
       "0    990.567171                                           baseline   \n",
       "1    985.239907     FPC (top PSF) tilted to the right by 0.10 asec   \n",
       "2    985.498959                        another step like the above   \n",
       "3    984.305038                        another step like the above   \n",
       "4    984.106709      FPC (top PSF) tilted to the left by 0.10 asec   \n",
       "5    983.745578                        another step like the above   \n",
       "6    983.377366  another step like the above (should be at star...   \n",
       "7    988.293846               FPC (top PSF) tipped up by 0.10 asec   \n",
       "8    993.319694                        another step like the above   \n",
       "9   1000.484482                        another step like the above   \n",
       "10   996.141900             FPC (top PSF) tipped down by 0.10 asec   \n",
       "11   990.751403                        another step like the above   \n",
       "12   985.769061  another step like the above (should be at star...   \n",
       "13   984.969210  SPC tilt to the right 0.50 asec (in 0.10 asec ...   \n",
       "14   985.306691       SPC moved back (should be at starting point)   \n",
       "15   984.899866                           SPC tipped down 0.1 asec   \n",
       "16   984.871778    SPC tipped up 0.1 (should be at starting point)   \n",
       "17   985.070231  SPC translation stage moved -40000.00 um to -4...   \n",
       "18   984.358494  SPC translation stage moved -40000.10 um to -4...   \n",
       "19   984.030169  SPC translation stage moved -40010.10 um to -4...   \n",
       "20   983.480148                            after SPC has shut down   \n",
       "21   983.071123                         baseline1 for small FPC TT   \n",
       "22   983.505947                    after FPC tip (y) of +0.01 asec   \n",
       "23   983.826238                        another step like the above   \n",
       "24   983.951627  after tip of -0.02 asec (should be at starting...   \n",
       "25   983.782309                         baseline2 for small FPC TT   \n",
       "26   983.676284                        after tilt (x) of 0.01 asec   \n",
       "27   983.561173                        another step like the above   \n",
       "28   983.590381  after tilt (x) of -0.02 asec (should be at sta...   \n",
       "29   982.892465                                          baseline3   \n",
       "30   982.914842    SPC translation stage moved -40000 to -41000 um   \n",
       "31   982.711988       SPC translation stage moved -41000 to -44000   \n",
       "32   982.673087  SPC translation stage moved -44000 to -40000 a...   \n",
       "33   982.410389     FPC and HPC moved to left by 0.1 asec (step 1)   \n",
       "34   974.176008        FPC and HPC moved down by 0.1 asec (step 2)   \n",
       "35   968.853178  FPC and HPC moved down again by 0.1 asec (step 3)   \n",
       "36   968.876868    FPC and HPC moved to right by 0.1 asec (step 4)   \n",
       "37   968.466492  FPC and HPC moved to right again by 0.1 asec (...   \n",
       "38   972.547966          FPC and HPC moved up by 0.1 asec (step 6)   \n",
       "39   980.971586    FPC and HPC moved up again by 0.1 asec (step 7)   \n",
       "40   979.605031     FPC and HPC moved to left by 0.1 asec (step 8)   \n",
       "\n",
       "         mas_x1       mas_y1        mas_x2        mas_y2  \n",
       "0   9739.798771  7242.892491  18461.165091  10599.068733  \n",
       "1   9446.866962  7083.112871  18511.224076  10542.067005  \n",
       "2   9441.485035  7080.684461  18563.923358  10544.838864  \n",
       "3   9435.092387  7078.324919  18620.948937  10532.063901  \n",
       "4   9431.495661  7075.042736  18578.881641  10529.941788  \n",
       "5   9427.971947  7073.309985  18538.074905  10526.077686  \n",
       "6   9422.049519  7068.249584  18498.675599  10522.137813  \n",
       "7   9413.071286  7066.847094  18485.577913  10574.744149  \n",
       "8   9408.829958  7066.595647  18484.729654  10628.520723  \n",
       "9   9403.554273  7061.396744  18473.943212  10705.183958  \n",
       "10  9398.269365  7060.329746  18481.790370  10658.718332  \n",
       "11  9394.716418  7058.373884  18482.153655  10601.040011  \n",
       "12  9394.235990  7070.877114  18486.218616  10547.728950  \n",
       "13  9633.914756  7045.022960  18474.428839  10539.170550  \n",
       "14  9396.390005  7060.936261  18483.868373  10542.781590  \n",
       "15  9380.615100  6981.685800  18484.296749  10538.428565  \n",
       "16  9376.633901  7031.644687  18482.120704  10538.128026  \n",
       "17  9367.854110  7025.254121  18485.250277  10540.251469  \n",
       "18  9363.840412  7019.537692  18477.552298  10532.635889  \n",
       "19  9343.140416  7014.494367  18478.543480  10529.122807  \n",
       "20  9315.985699  7001.057606  18477.934541  10523.237581  \n",
       "21  9308.258796  6996.161329  18473.714625  10518.861018  \n",
       "22  9295.897677  6990.074169  18492.300392  10523.513637  \n",
       "23  9294.453812  6989.185284  18489.843632  10526.940746  \n",
       "24  9294.715920  7001.571329  18497.533657  10528.282409  \n",
       "25  9285.152211  6996.717046  18479.141045  10526.470708  \n",
       "26  9282.074837  6993.117174  18475.827883  10525.336234  \n",
       "27  9281.349511  6993.415197  18488.518787  10524.104553  \n",
       "28  9279.105027  6992.185664  18473.130796  10524.417080  \n",
       "29  9243.776962  6972.026721  18477.700037  10516.949375  \n",
       "30  9381.314107  6932.330568  18474.526325  10517.188809  \n",
       "31  9616.267784  6949.930614  18473.846260  10515.018272  \n",
       "32  9236.067002  6966.579229  18472.607738  10514.602029  \n",
       "33  9175.110704  6961.363462  18419.703501  10511.791166  \n",
       "34  9166.101894  6904.245368  18409.538655  10423.683284  \n",
       "35  9156.979494  6843.308306  18409.689298  10366.729000  \n",
       "36  9204.097272  6838.086019  18459.682026  10366.982487  \n",
       "37  9252.955067  6830.081885  18510.767566  10362.591463  \n",
       "38  9249.945996  6879.762691  18512.844774  10406.263239  \n",
       "39  9251.336506  6932.444656  18524.323537  10496.395975  \n",
       "40  9198.607985  6932.640298  18464.713926  10481.773830  "
      ]
     },
     "execution_count": 36,
     "metadata": {},
     "output_type": "execute_result"
    }
   ],
   "source": [
    "hysteresis_test_2"
   ]
  },
  {
   "cell_type": "code",
   "execution_count": 12,
   "metadata": {
    "collapsed": false
   },
   "outputs": [],
   "source": [
    "# kludge to get non-consecutive values together in the right order\n",
    "\n",
    "pt_21_x2 = hysteresis_test_2[\"mas_x2\"][21]\n",
    "pt_25_x2 = hysteresis_test_2[\"mas_x2\"][22]\n",
    "pt_26_x2 = hysteresis_test_2[\"mas_x2\"][23]\n",
    "pt_27_x2 = hysteresis_test_2[\"mas_x2\"][24]\n",
    "pt_base2_x2 = hysteresis_test_2[\"mas_x2\"][25] # this point should be overlapped with the previous one, as it is a renorm\n",
    "pt_22_x2 = hysteresis_test_2[\"mas_x2\"][26]\n",
    "pt_23_x2 = hysteresis_test_2[\"mas_x2\"][27]\n",
    "pt_24_x2 = hysteresis_test_2[\"mas_x2\"][28]\n",
    "\n",
    "pt_21_y2 = hysteresis_test_2[\"mas_y2\"][21]\n",
    "pt_25_y2 = hysteresis_test_2[\"mas_y2\"][22]\n",
    "pt_26_y2 = hysteresis_test_2[\"mas_y2\"][23]\n",
    "pt_27_y2 = hysteresis_test_2[\"mas_y2\"][24]\n",
    "pt_base2_y2 = hysteresis_test_2[\"mas_y2\"][25] # this point should be overlapped with the previous one, as it is a renorm\n",
    "pt_22_y2 = hysteresis_test_2[\"mas_y2\"][26]\n",
    "pt_23_y2 = hysteresis_test_2[\"mas_y2\"][27]\n",
    "pt_24_y2 = hysteresis_test_2[\"mas_y2\"][28]\n",
    "\n",
    "frames_21_to_27_x2 = [pt_21_x2,pt_25_x2,pt_26_x2,pt_27_x2]\n",
    "frames_21_to_27_y2 = [pt_21_y2,pt_25_y2,pt_26_y2,pt_27_y2]\n",
    "\n",
    "frames_21_to_27_x2_norm = np.subtract(frames_21_to_27_x2,frames_21_to_27_x2[0])\n",
    "frames_21_to_27_y2_norm = np.subtract(frames_21_to_27_y2,frames_21_to_27_y2[0])\n",
    "\n",
    "frames_base2_to_24_x2 = [pt_base2_x2,pt_22_x2,pt_23_x2,pt_24_x2]\n",
    "frames_base2_to_24_y2 = [pt_base2_y2,pt_22_y2,pt_23_y2,pt_24_y2]\n",
    "\n",
    "frames_base2_to_24_x2_norm = np.add(np.subtract(frames_base2_to_24_x2,frames_base2_to_24_x2[0]),\n",
    "                                    frames_21_to_27_x2_norm[-1])\n",
    "frames_base2_to_24_y2_norm = np.add(np.subtract(frames_base2_to_24_y2,frames_base2_to_24_y2[0]),\n",
    "                                    frames_21_to_27_y2_norm[-1])\n",
    "\n",
    "# n.b. the [1:] is necessary because the first point of frames_base2_to_24_x2_norm is the new baseline and\n",
    "# is the same as the last of frames_21_to_27_x2_norm,\n",
    "conc_x2 = np.concatenate((frames_21_to_27_x2_norm,frames_base2_to_24_x2_norm[1:]), axis=0)\n",
    "conc_y2 = np.concatenate((frames_21_to_27_y2_norm,frames_base2_to_24_y2_norm[1:]), axis=0)"
   ]
  },
  {
   "cell_type": "markdown",
   "metadata": {},
   "source": [
    "# Put this plot into SPIE article"
   ]
  },
  {
   "cell_type": "code",
   "execution_count": 13,
   "metadata": {
    "collapsed": false
   },
   "outputs": [
    {
     "data": {
      "text/plain": [
       "<matplotlib.figure.Figure at 0x119631190>"
      ]
     },
     "metadata": {},
     "output_type": "display_data"
    },
    {
     "data": {
      "image/png": "[encoded data removed]",
      "text/plain": [
       "<matplotlib.figure.Figure at 0x119631150>"
      ]
     },
     "metadata": {},
     "output_type": "display_data"
    }
   ],
   "source": [
    "# plot one test\n",
    "\n",
    "plt.clf()\n",
    "plt.figure(figsize=(12,6))\n",
    "\n",
    "# empirical test, 1\n",
    "mas_x2_rel_baseline = np.subtract(hysteresis_test[\"mas_x2\"][21:28],\n",
    "                                  hysteresis_test[\"mas_x2\"][21]).values\n",
    "mas_y2_rel_baseline = np.subtract(hysteresis_test[\"mas_y2\"][21:28],\n",
    "                                  hysteresis_test[\"mas_y2\"][21]).values\n",
    "mas_x2_rel_baseline_offset = np.add(mas_x2_rel_baseline,0)\n",
    "\n",
    "# empirical test, 2\n",
    "mas_x2_rel_baseline_2 = conc_x2\n",
    "mas_y2_rel_baseline_2 = conc_y2\n",
    "mas_x2_rel_baseline_offset_2 = np.add(mas_x2_rel_baseline_2,20)\n",
    "\n",
    "#text_array_emp = [21,22,23,24,25,26,27]\n",
    "text_array_emp = [0,1,2,3,4,5,6]\n",
    "\n",
    "# commanded\n",
    "mas_x2_rel_expected = np.add(60,[0,10,20,0,0,0,0])\n",
    "mas_y2_rel_expected = [0,0,0,0,10,20,0]\n",
    "#text_array_expect = [\"21,24,27\",\"22\",\"23\",\"\",\"25\",\"26\",\"\"]\n",
    "text_array_expect = [\"0,3,6\",\"1\",\"2\",\"\",\"4\",\"5\",\"\"]\n",
    "\n",
    "# plot empirical points, 1\n",
    "plt.plot(mas_x2_rel_baseline_offset, mas_y2_rel_baseline, '-o', \n",
    "         markersize = 8, alpha = 1, label=\"Empirical\", color=\"r\")\n",
    "\n",
    "# plot empirical points, 2\n",
    "plt.plot(mas_x2_rel_baseline_offset_2, mas_y2_rel_baseline_2, '-o', \n",
    "         markersize = 8, alpha = 1, color=\"r\")\n",
    "\n",
    "# plot commanded points\n",
    "plt.plot(mas_x2_rel_expected, mas_y2_rel_expected, '-o', \n",
    "         markersize = 8, color=\"k\", alpha = 0.6, label=\"Commanded\")\n",
    "\n",
    "# plot annotation, empirical 1 and 2\n",
    "for i in range(0,7):\n",
    "    plt.text(mas_x2_rel_baseline_offset[i]+1, mas_y2_rel_baseline[i]+1,\n",
    "             str(text_array_emp[i]), color=\"k\", fontsize=12)\n",
    "    plt.text(mas_x2_rel_baseline_offset_2[i]+1, mas_y2_rel_baseline_2[i]+1,\n",
    "             str(text_array_emp[i]), color=\"k\", fontsize=12)\n",
    "\n",
    "# plot annotation, commanded\n",
    "for i in range(0,7):\n",
    "    plt.text(mas_x2_rel_expected[i]+1, mas_y2_rel_expected[i]+1,\n",
    "             str(text_array_expect[i]), color=\"k\", fontsize=12)\n",
    "    \n",
    "\n",
    "### plot bars for scale\n",
    "\n",
    "## lambda/D\n",
    "plt.text(-9,40,\n",
    "         \"0.1*$\\lambda/D$\", color=\"k\")\n",
    "# LMIR wavelengths\n",
    "plt.text(0,40.5,\n",
    "         \"LMIRcam\", color=\"k\")\n",
    "plt.text(0.1*lambda_D_1pt5,38.5,\n",
    "         \"1.5$\\mu m$\", color=\"k\")\n",
    "plt.text(0.1*lambda_D_5,38.5,\n",
    "         \"5$\\mu m$\", color=\"k\")\n",
    "# NOMIC wavelengths\n",
    "plt.text(0,42.5,\n",
    "         \"NOMIC\", color=\"k\")\n",
    "plt.text(0.1*lambda_D_8,40.5,\n",
    "         \"8$\\mu m$\", color=\"k\")\n",
    "plt.text(0.1*lambda_D_14,40.5,\n",
    "         \"14$\\mu m$\", color=\"k\")\n",
    "# lines\n",
    "plt.plot([0,0.1*lambda_D_5],[40,40],'o-',linewidth=6,color=\"orange\")\n",
    "plt.plot([0,0.1*lambda_D_1pt5],[40,40],'o-',color=\"k\")\n",
    "plt.plot([0,0.1*lambda_D_14],[42,42],'o-',linewidth=6,color=\"orange\")\n",
    "plt.plot([0,0.1*lambda_D_8],[42,42],'o-',color=\"k\")\n",
    "\n",
    "## lambda/Bcc\n",
    "plt.text(-9,30,\n",
    "         \"0.1*$\\lambda/Bcc$\", color=\"k\")\n",
    "# LMIR wavelengths\n",
    "plt.text(0,30.5,\n",
    "         \"LMIRcam\", color=\"k\")\n",
    "plt.text(0.1*lambda_Bcc_1pt5,28.5,\n",
    "         \"1.5$\\mu m$\", color=\"k\")\n",
    "plt.text(0.1*lambda_Bcc_5,28.5,\n",
    "         \"5$\\mu m$\", color=\"k\")\n",
    "# NOMIC wavelengths\n",
    "plt.text(0,32.5,\n",
    "         \"NOMIC\", color=\"k\")\n",
    "plt.text(0.1*lambda_Bcc_8,30.5,\n",
    "         \"8$\\mu m$\", color=\"k\")\n",
    "plt.text(0.1*lambda_Bcc_14,30.5,\n",
    "         \"14$\\mu m$\", color=\"k\")\n",
    "# lines\n",
    "plt.plot([0,0.1*lambda_Bcc_5],[30,30],'o-',linewidth=6,color=\"orange\")\n",
    "plt.plot([0,0.1*lambda_Bcc_1pt5],[30,30],'o-',color=\"k\")\n",
    "plt.plot([0,0.1*lambda_Bcc_14],[32,32],'o-',linewidth=6,color=\"orange\")\n",
    "plt.plot([0,0.1*lambda_Bcc_8],[32,32],'o-',color=\"k\")\n",
    "\n",
    "## lambda/Bee\n",
    "plt.text(-9,20,\n",
    "         \"0.1*$\\lambda/Bee$\", color=\"k\")\n",
    "# LMIR wavelengths\n",
    "plt.text(0,20.5,\n",
    "         \"LMIRcam\", color=\"k\")\n",
    "plt.text(0.1*lambda_Bee_1pt5,18.5,\n",
    "         \"1.5$\\mu m$\", color=\"k\")\n",
    "plt.text(0.1*lambda_Bee_5+1,18.5,\n",
    "         \"5$\\mu m$\", color=\"k\")\n",
    "# NOMIC wavelengths\n",
    "plt.text(0,22.5,\n",
    "         \"NOMIC\", color=\"k\")\n",
    "plt.text(0.1*lambda_Bee_8,20.5,\n",
    "         \"8$\\mu m$\", color=\"k\")\n",
    "plt.text(0.1*lambda_Bee_14,20.5,\n",
    "         \"14$\\mu m$\", color=\"k\")\n",
    "# lines\n",
    "plt.plot([0,0.1*lambda_Bee_5],[20,20],'o-',linewidth=6,color=\"orange\")\n",
    "plt.plot([0,0.1*lambda_Bee_1pt5],[20,20],'o-',color=\"k\")\n",
    "plt.plot([0,0.1*lambda_Bee_14],[22,22],'o-',linewidth=6,color=\"orange\")\n",
    "plt.plot([0,0.1*lambda_Bee_8],[22,22],'o-',color=\"k\")\n",
    "\n",
    "# circle to show uncertainty\n",
    "plt.gca().add_patch(patches.Circle((40,30),\n",
    "                             radius=6.63212469226,\n",
    "                             color='k', linewidth=1, linestyle=\"-\", fill=False))\n",
    "\n",
    "major_ticks_x = np.arange(-20, 91, 10) \n",
    "major_ticks_y = np.arange(-20, 401, 10)\n",
    "plt.xticks(major_ticks_x)                                                     \n",
    "plt.yticks(major_ticks_y) \n",
    "plt.xlim([-10,90])\n",
    "plt.ylim([-5,45])\n",
    "plt.grid(True)\n",
    "#plt.axis(\"equal\")\n",
    "plt.gca().set_aspect('equal')\n",
    "plt.xlabel(\"x with offsets (mas)\")\n",
    "plt.ylabel(\"y (mas)\")\n",
    "plt.legend()\n",
    "plt.tight_layout()\n",
    "plt.title(\"10-20 mas tip (y) and tilt (x) movements, FPC\")\n",
    "plt.savefig(\"fpc_small.pdf\")\n",
    "#plt.show()"
   ]
  },
  {
   "cell_type": "markdown",
   "metadata": {},
   "source": [
    "# SPC movement tests"
   ]
  },
  {
   "cell_type": "code",
   "execution_count": 19,
   "metadata": {
    "collapsed": false
   },
   "outputs": [
    {
     "data": {
      "text/plain": [
       "<matplotlib.figure.Figure at 0x11a968f10>"
      ]
     },
     "metadata": {},
     "output_type": "display_data"
    },
    {
     "data": {
      "image/png": "[encoded data removed]",
      "text/plain": [
       "<matplotlib.figure.Figure at 0x116901810>"
      ]
     },
     "metadata": {},
     "output_type": "display_data"
    }
   ],
   "source": [
    "# plot one test: active movement\n",
    "\n",
    "plt.clf()\n",
    "plt.figure(figsize=(12,6))\n",
    "\n",
    "mas_x1_rel_baseline = np.subtract(hysteresis_test[\"mas_x1\"][12:17],\n",
    "                                  hysteresis_test[\"mas_x1\"][12]).values\n",
    "mas_y1_rel_baseline = np.subtract(hysteresis_test[\"mas_y1\"][12:17],\n",
    "                                  hysteresis_test[\"mas_y1\"][12]).values\n",
    "\n",
    "mas_x2_rel_baseline = np.subtract(hysteresis_test_2[\"mas_x1\"][12:17],\n",
    "                                  hysteresis_test_2[\"mas_x1\"][12]).values\n",
    "mas_y2_rel_baseline = np.subtract(hysteresis_test_2[\"mas_y1\"][12:17],\n",
    "                                  hysteresis_test_2[\"mas_y1\"][12]).values\n",
    "\n",
    "mas_x1_rel_expected = [0,500,0,0]\n",
    "mas_y1_rel_expected = [0,0,0,-100]\n",
    "\n",
    "#text_array_emp = [\"12\",\"13\\n(after 100 mas steps)\",\"14\",\"15\",\"16\"]\n",
    "#text_array_expect = [\"12,14,16\",\"13\\n(after 100 mas steps)\",\"\",\"15\"]\n",
    "text_array_emp = [\"0\",\"1\\n(after steps\\nof 100 mas)\",\"2\",\"3\",\"4\"]\n",
    "text_array_expect = [\"0,2,4\",\"1\\n(after steps\\nof 100 mas)\",\"\",\"3\"]\n",
    "\n",
    "plt.plot(mas_x1_rel_baseline, np.add(mas_y1_rel_baseline,150), \n",
    "         '-o', markersize = 8, alpha = 1, color=\"r\")\n",
    "plt.plot(mas_x2_rel_baseline, np.add(mas_y2_rel_baseline,300), \n",
    "         '-o', markersize = 8, alpha = 1, color=\"r\")\n",
    "plt.plot(mas_x1_rel_expected, mas_y1_rel_expected, '-o', markersize = 8, \n",
    "         color=\"k\", alpha = 0.6)\n",
    "\n",
    "for i in range(0,5):\n",
    "    plt.text(np.add(mas_x1_rel_baseline[i],10), np.add(mas_y1_rel_baseline[i],150),\n",
    "             str(text_array_emp[i]), color=\"k\", fontsize=12)\n",
    "    plt.text(np.add(mas_x2_rel_baseline[i],10), np.add(mas_y2_rel_baseline[i],300),\n",
    "             str(text_array_emp[i]), color=\"k\", fontsize=12)\n",
    "for i in range(0,4):\n",
    "    plt.text(mas_x1_rel_expected[i], mas_y1_rel_expected[i]+5,\n",
    "             str(text_array_expect[i]), color=\"k\", fontsize=12, alpha = 1)\n",
    "    \n",
    "# circle to show uncertainty\n",
    "plt.gca().add_patch(patches.Circle((250,-50),\n",
    "                             radius=6.63212469226,\n",
    "                             color='k', linewidth=1, linestyle=\"-\", fill=False))\n",
    "    \n",
    "major_ticks = np.arange(-200, 501, 50)                                              \n",
    "plt.xticks(major_ticks)                                                       \n",
    "plt.yticks(major_ticks) \n",
    "plt.xlim([-100,550])\n",
    "plt.ylim([-150,350])\n",
    "plt.grid(True)\n",
    "plt.gca().set_aspect('equal')\n",
    "plt.xlabel(\"x (mas)\")\n",
    "plt.ylabel(\"y with offsets (mas)\")\n",
    "plt.title(\"100-500 mas tip (y) and tilt (x) movements, SPC\")\n",
    "#plt.scatter(hysteresis_test[\"x2\"],hysteresis_test[\"y2\"])\n",
    "plt.savefig(\"spc_cross.pdf\")\n",
    "plt.show()"
   ]
  },
  {
   "cell_type": "code",
   "execution_count": 15,
   "metadata": {
    "collapsed": false
   },
   "outputs": [
    {
     "data": {
      "text/plain": [
       "<matplotlib.figure.Figure at 0x11962cf10>"
      ]
     },
     "metadata": {},
     "output_type": "display_data"
    },
    {
     "data": {
      "image/png": "[encoded data removed]",
      "text/plain": [
       "<matplotlib.figure.Figure at 0x11962cdd0>"
      ]
     },
     "metadata": {},
     "output_type": "display_data"
    }
   ],
   "source": [
    "# plot one test: SPC pathlength movement\n",
    "\n",
    "plt.clf()\n",
    "plt.figure(figsize=(12,6))\n",
    "\n",
    "mas_x1_rel_baseline = np.subtract(hysteresis_test[\"mas_x1\"][16:21],\n",
    "                                  hysteresis_test[\"mas_x1\"][16]).values\n",
    "mas_y1_rel_baseline = np.subtract(hysteresis_test[\"mas_y1\"][16:21],\n",
    "                                  hysteresis_test[\"mas_y1\"][16]).values\n",
    "\n",
    "mas_x2_rel_baseline = np.subtract(hysteresis_test_2[\"mas_x1\"][16:21],\n",
    "                                  hysteresis_test_2[\"mas_x1\"][16]).values\n",
    "mas_y2_rel_baseline = np.subtract(hysteresis_test_2[\"mas_y1\"][16:21],\n",
    "                                  hysteresis_test_2[\"mas_y1\"][16]).values\n",
    "\n",
    "#mas_x1_rel_expected = [0,500,0,0]\n",
    "#mas_y1_rel_expected = [0,0,0,-100]\n",
    "\n",
    "#text_array_emp = [16,17,18,19,20]\n",
    "text_array_emp = [0,1,2,3,4]\n",
    "\n",
    "#text_array_expect = [\"12,14,16\",\"13\",\"\",\"15\"]\n",
    "plt.plot(mas_x1_rel_baseline, mas_y1_rel_baseline, \n",
    "         '-o', markersize = 8, alpha = 1, color=\"r\")\n",
    "plt.plot(np.add(mas_x2_rel_baseline,20), mas_y2_rel_baseline, \n",
    "         '-o', markersize = 8, alpha = 1, color=\"r\")\n",
    "#plt.plot(mas_x1_rel_expected, mas_y1_rel_expected, '-o', markersize = 8, color=\"k\", alpha = 0.6)\n",
    "for i in range(0,5):\n",
    "    plt.text(np.add(mas_x1_rel_baseline[i],2), mas_y1_rel_baseline[i],\n",
    "             str(text_array_emp[i]), color=\"k\", fontsize=12)\n",
    "for i in range(0,5):\n",
    "    plt.text(np.add(mas_x2_rel_baseline[i],22), mas_y2_rel_baseline[i],\n",
    "             str(text_array_emp[i]), color=\"k\", fontsize=12)\n",
    "#for i in range(0,3):\n",
    "#    plt.text(mas_x1_rel_expected[i]+5, mas_y1_rel_expected[i]+5,\n",
    "#             str(text_array_expect[i]), color=\"k\", fontsize=12, alpha = 0.6)\n",
    "\n",
    "# circle to show uncertainty\n",
    "plt.gca().add_patch(patches.Circle((-10,10),\n",
    "                             radius=6.63212469226,\n",
    "                             color='k', linewidth=1, linestyle=\"-\", fill=False))\n",
    "\n",
    "major_ticks = np.arange(-200, 401, 10)                                              \n",
    "plt.xticks(major_ticks)                                                       \n",
    "plt.yticks(major_ticks) \n",
    "plt.xlim([-50,40])\n",
    "plt.ylim([-40,30])\n",
    "plt.grid(True)\n",
    "plt.gca().set_aspect('equal')\n",
    "plt.xlabel(\"x with offsets (mas)\")\n",
    "plt.ylabel(\"y (mas)\")\n",
    "plt.title(\"SPC small pathlength movement only\")\n",
    "plt.savefig(\"spc_small_pl.pdf\")\n",
    "#plt.show()"
   ]
  },
  {
   "cell_type": "code",
   "execution_count": 16,
   "metadata": {
    "collapsed": false
   },
   "outputs": [
    {
     "data": {
      "text/plain": [
       "<matplotlib.figure.Figure at 0x11a3e1210>"
      ]
     },
     "metadata": {},
     "output_type": "display_data"
    },
    {
     "data": {
      "image/png": "[encoded data removed]",
      "text/plain": [
       "<matplotlib.figure.Figure at 0x11a3e1190>"
      ]
     },
     "metadata": {},
     "output_type": "display_data"
    }
   ],
   "source": [
    "# plot one test: SPC pathlength movement\n",
    "\n",
    "plt.clf()\n",
    "plt.figure(figsize=(12,6))\n",
    "\n",
    "mas_x1_rel_baseline = np.subtract(hysteresis_test[\"mas_x1\"][27:31],\n",
    "                                  hysteresis_test[\"mas_x1\"][27]).values\n",
    "mas_y1_rel_baseline = np.subtract(hysteresis_test[\"mas_y1\"][27:31],\n",
    "                                  hysteresis_test[\"mas_y1\"][27]).values\n",
    "\n",
    "mas_x2_rel_baseline = np.subtract(hysteresis_test_2[\"mas_x1\"][29:33],\n",
    "                                  hysteresis_test_2[\"mas_x1\"][29]).values\n",
    "mas_y2_rel_baseline = np.subtract(hysteresis_test_2[\"mas_y1\"][29:33],\n",
    "                                  hysteresis_test_2[\"mas_y1\"][29]).values\n",
    "\n",
    "\n",
    "\n",
    "#text_array_emp = [27,28,29,30]\n",
    "text_array_emp = [0,1,2,3]\n",
    "\n",
    "#text_array_expect = [\"12,14,16\",\"13\",\"\",\"15\"]\n",
    "plt.plot(mas_x1_rel_baseline, mas_y1_rel_baseline, \n",
    "         '-o', markersize = 8, alpha = 1, color=\"r\")\n",
    "plt.plot(mas_x2_rel_baseline, np.add(mas_y2_rel_baseline,100), \n",
    "         '-o', markersize = 8, alpha = 1, color=\"r\")\n",
    "#plt.plot(mas_x1_rel_expected, mas_y1_rel_expected, '-o', markersize = 8, color=\"k\", alpha = 0.6)\n",
    "for i in range(0,4):\n",
    "    plt.text(np.add(mas_x1_rel_baseline[i],10), mas_y1_rel_baseline[i],\n",
    "             str(text_array_emp[i]), color=\"k\", fontsize=12)\n",
    "    plt.text(np.add(mas_x2_rel_baseline[i],10), np.add(mas_y2_rel_baseline[i],100),\n",
    "             str(text_array_emp[i]), color=\"k\", fontsize=12)\n",
    "\n",
    "# circle to show uncertainty\n",
    "plt.gca().add_patch(patches.Circle((150,-50),\n",
    "                             radius=6.63212469226,\n",
    "                             color='k', linewidth=1, linestyle=\"-\", fill=False))\n",
    "    \n",
    "major_ticks = np.arange(-200, 401, 100)                                              \n",
    "plt.xticks(major_ticks)                                                       \n",
    "plt.yticks(major_ticks) \n",
    "plt.xlim([-100,400])\n",
    "plt.ylim([-100,150])\n",
    "plt.grid(True)\n",
    "plt.gca().set_aspect('equal')\n",
    "plt.title(\"SPC large pathlength movement only\")\n",
    "plt.xlabel(\"x (mas)\")\n",
    "plt.ylabel(\"y, with offsets (mas)\")\n",
    "plt.savefig(\"spc_large_pl.pdf\")\n",
    "#plt.show()"
   ]
  },
  {
   "cell_type": "code",
   "execution_count": 52,
   "metadata": {
    "collapsed": false
   },
   "outputs": [
    {
     "data": {
      "text/plain": [
       "<matplotlib.figure.Figure at 0x11a0bdfd0>"
      ]
     },
     "metadata": {},
     "output_type": "display_data"
    },
    {
     "data": {
      "image/png": "[encoded data removed]",
      "text/plain": [
       "<matplotlib.figure.Figure at 0x11a0bddd0>"
      ]
     },
     "metadata": {},
     "output_type": "display_data"
    }
   ],
   "source": [
    "# plot one test: FPC and SPC tip-tilt loop\n",
    "\n",
    "plt.clf()\n",
    "plt.figure(figsize=(12,6))\n",
    "\n",
    "mas_fpc_x_rel_baseline = np.subtract(hysteresis_test_2[\"mas_x2\"][32:],\n",
    "                                  hysteresis_test_2[\"mas_x2\"][32]).values\n",
    "mas_fpc_y_rel_baseline = np.subtract(hysteresis_test_2[\"mas_y2\"][32:],\n",
    "                                  hysteresis_test_2[\"mas_y2\"][32]).values\n",
    "\n",
    "mas_spc_x_rel_baseline = np.subtract(hysteresis_test_2[\"mas_x1\"][32:],\n",
    "                                  hysteresis_test_2[\"mas_x1\"][32]).values\n",
    "mas_spc_y_rel_baseline = np.subtract(hysteresis_test_2[\"mas_y1\"][32:],\n",
    "                                  hysteresis_test_2[\"mas_y1\"][32]).values\n",
    "\n",
    "mas_x_expected = [0,-100,-100,-100,0,100,100,100,0]\n",
    "mas_y_expected = [0,0,-100,-200,-200,-200,-100,0,0]\n",
    "\n",
    "\n",
    "text_array_emp = [0,1,2,3,4,5,6,7,8]\n",
    "text_array_expect = [\"0,8\",\"1\",\"2\",\"3\",\"4\",\"5\",\"6\",\"7\",\"\"]\n",
    "\n",
    "plt.plot(mas_fpc_x_rel_baseline, mas_fpc_y_rel_baseline, \n",
    "         '-o', markersize = 8, alpha = 1, label=\"Empirical, FPC\")\n",
    "plt.plot(np.add(mas_spc_x_rel_baseline,200), mas_spc_y_rel_baseline, \n",
    "         '-o', markersize = 8, alpha = 1, label=\"Empirical, SPC\")\n",
    "plt.plot(np.add(mas_x_expected,400), mas_y_expected, \n",
    "         '-o', markersize = 8, color=\"k\", alpha = 0.6, label=\"Commanded\")\n",
    "#plt.plot(mas_x1_rel_expected, mas_y1_rel_expected, '-o', markersize = 8, color=\"k\", alpha = 0.6)\n",
    "for i in range(0,9):\n",
    "    plt.text(np.add(mas_fpc_x_rel_baseline[i],5), np.add(mas_fpc_y_rel_baseline[i],5),\n",
    "             str(text_array_emp[i]), color=\"k\", fontsize=12)\n",
    "    plt.text(np.add(mas_spc_x_rel_baseline[i],205), np.add(mas_spc_y_rel_baseline[i],5),\n",
    "             str(text_array_emp[i]), color=\"k\", fontsize=12)\n",
    "for i in range(0,8):\n",
    "    plt.text(np.add(mas_x_expected[i],405), np.add(mas_y_expected[i],5), str(text_array_expect[i]), color=\"k\", fontsize=12)\n",
    "\n",
    "# circle to show uncertainty\n",
    "plt.gca().add_patch(patches.Circle((90,-70),\n",
    "                             radius=6.63212469226,\n",
    "                             color='k', linewidth=1, linestyle=\"-\", fill=False))\n",
    "\n",
    "major_ticks = np.arange(-200, 601, 100)                                              \n",
    "plt.xticks(major_ticks)                                                       \n",
    "plt.yticks(major_ticks) \n",
    "plt.xlim([-100,600])\n",
    "plt.ylim([-250,50])\n",
    "plt.grid(True)\n",
    "plt.gca().set_aspect('equal')\n",
    "plt.legend(loc=\"lower left\")\n",
    "plt.xlabel(\"x, with offsets (mas)\")\n",
    "plt.ylabel(\"y (mas)\")\n",
    "plt.savefig(\"fpc_spc_loop.pdf\")\n",
    "#plt.show()"
   ]
  },
  {
   "cell_type": "code",
   "execution_count": 20,
   "metadata": {
    "collapsed": false
   },
   "outputs": [
    {
     "data": {
      "text/html": [
       "<div>\n",
       "<table border=\"1\" class=\"dataframe\">\n",
       "  <thead>\n",
       "    <tr style=\"text-align: right;\">\n",
       "      <th></th>\n",
       "      <th>frame_ref</th>\n",
       "      <th>img_name</th>\n",
       "      <th>x_ll</th>\n",
       "      <th>y_ll</th>\n",
       "      <th>x_ur</th>\n",
       "      <th>y_ur</th>\n",
       "      <th>remarks</th>\n",
       "      <th>mas_x1</th>\n",
       "      <th>mas_y1</th>\n",
       "      <th>mas_x2</th>\n",
       "      <th>mas_y2</th>\n",
       "    </tr>\n",
       "  </thead>\n",
       "  <tbody>\n",
       "    <tr>\n",
       "      <th>0</th>\n",
       "      <td>0</td>\n",
       "      <td>dark_subt_0231.fits</td>\n",
       "      <td>910.261567</td>\n",
       "      <td>676.905840</td>\n",
       "      <td>1725.342532</td>\n",
       "      <td>990.567171</td>\n",
       "      <td>baseline</td>\n",
       "      <td>9739.798771</td>\n",
       "      <td>7242.892491</td>\n",
       "      <td>18461.165091</td>\n",
       "      <td>10599.068733</td>\n",
       "    </tr>\n",
       "    <tr>\n",
       "      <th>1</th>\n",
       "      <td>1</td>\n",
       "      <td>dark_subt_0232.fits</td>\n",
       "      <td>882.884763</td>\n",
       "      <td>661.973166</td>\n",
       "      <td>1730.020942</td>\n",
       "      <td>985.239907</td>\n",
       "      <td>FPC (top PSF) tilted to the right by 0.10 asec</td>\n",
       "      <td>9446.866962</td>\n",
       "      <td>7083.112871</td>\n",
       "      <td>18511.224076</td>\n",
       "      <td>10542.067005</td>\n",
       "    </tr>\n",
       "    <tr>\n",
       "      <th>2</th>\n",
       "      <td>2</td>\n",
       "      <td>dark_subt_0233.fits</td>\n",
       "      <td>882.381779</td>\n",
       "      <td>661.746211</td>\n",
       "      <td>1734.946108</td>\n",
       "      <td>985.498959</td>\n",
       "      <td>another step like the above</td>\n",
       "      <td>9441.485035</td>\n",
       "      <td>7080.684461</td>\n",
       "      <td>18563.923358</td>\n",
       "      <td>10544.838864</td>\n",
       "    </tr>\n",
       "    <tr>\n",
       "      <th>3</th>\n",
       "      <td>3</td>\n",
       "      <td>dark_subt_0234.fits</td>\n",
       "      <td>881.784335</td>\n",
       "      <td>661.525693</td>\n",
       "      <td>1740.275602</td>\n",
       "      <td>984.305038</td>\n",
       "      <td>another step like the above</td>\n",
       "      <td>9435.092387</td>\n",
       "      <td>7078.324919</td>\n",
       "      <td>18620.948937</td>\n",
       "      <td>10532.063901</td>\n",
       "    </tr>\n",
       "    <tr>\n",
       "      <th>4</th>\n",
       "      <td>4</td>\n",
       "      <td>dark_subt_0235.fits</td>\n",
       "      <td>881.448193</td>\n",
       "      <td>661.218947</td>\n",
       "      <td>1736.344079</td>\n",
       "      <td>984.106709</td>\n",
       "      <td>FPC (top PSF) tilted to the left by 0.10 asec</td>\n",
       "      <td>9431.495661</td>\n",
       "      <td>7075.042736</td>\n",
       "      <td>18578.881641</td>\n",
       "      <td>10529.941788</td>\n",
       "    </tr>\n",
       "    <tr>\n",
       "      <th>5</th>\n",
       "      <td>5</td>\n",
       "      <td>dark_subt_0236.fits</td>\n",
       "      <td>881.118874</td>\n",
       "      <td>661.057008</td>\n",
       "      <td>1732.530365</td>\n",
       "      <td>983.745578</td>\n",
       "      <td>another step like the above</td>\n",
       "      <td>9427.971947</td>\n",
       "      <td>7073.309985</td>\n",
       "      <td>18538.074905</td>\n",
       "      <td>10526.077686</td>\n",
       "    </tr>\n",
       "    <tr>\n",
       "      <th>6</th>\n",
       "      <td>6</td>\n",
       "      <td>dark_subt_0237.fits</td>\n",
       "      <td>880.565376</td>\n",
       "      <td>660.584073</td>\n",
       "      <td>1728.848187</td>\n",
       "      <td>983.377366</td>\n",
       "      <td>another step like the above (should be at star...</td>\n",
       "      <td>9422.049519</td>\n",
       "      <td>7068.249584</td>\n",
       "      <td>18498.675599</td>\n",
       "      <td>10522.137813</td>\n",
       "    </tr>\n",
       "    <tr>\n",
       "      <th>7</th>\n",
       "      <td>7</td>\n",
       "      <td>dark_subt_0238.fits</td>\n",
       "      <td>879.726288</td>\n",
       "      <td>660.452999</td>\n",
       "      <td>1727.624104</td>\n",
       "      <td>988.293846</td>\n",
       "      <td>FPC (top PSF) tipped up by 0.10 asec</td>\n",
       "      <td>9413.071286</td>\n",
       "      <td>7066.847094</td>\n",
       "      <td>18485.577913</td>\n",
       "      <td>10574.744149</td>\n",
       "    </tr>\n",
       "    <tr>\n",
       "      <th>8</th>\n",
       "      <td>8</td>\n",
       "      <td>dark_subt_0239.fits</td>\n",
       "      <td>879.329903</td>\n",
       "      <td>660.429500</td>\n",
       "      <td>1727.544827</td>\n",
       "      <td>993.319694</td>\n",
       "      <td>another step like the above</td>\n",
       "      <td>9408.829958</td>\n",
       "      <td>7066.595647</td>\n",
       "      <td>18484.729654</td>\n",
       "      <td>10628.520723</td>\n",
       "    </tr>\n",
       "    <tr>\n",
       "      <th>9</th>\n",
       "      <td>9</td>\n",
       "      <td>dark_subt_0240.fits</td>\n",
       "      <td>878.836848</td>\n",
       "      <td>659.943621</td>\n",
       "      <td>1726.536749</td>\n",
       "      <td>1000.484482</td>\n",
       "      <td>another step like the above</td>\n",
       "      <td>9403.554273</td>\n",
       "      <td>7061.396744</td>\n",
       "      <td>18473.943212</td>\n",
       "      <td>10705.183958</td>\n",
       "    </tr>\n",
       "    <tr>\n",
       "      <th>10</th>\n",
       "      <td>10</td>\n",
       "      <td>dark_subt_0241.fits</td>\n",
       "      <td>878.342931</td>\n",
       "      <td>659.843901</td>\n",
       "      <td>1727.270128</td>\n",
       "      <td>996.141900</td>\n",
       "      <td>FPC (top PSF) tipped down by 0.10 asec</td>\n",
       "      <td>9398.269365</td>\n",
       "      <td>7060.329746</td>\n",
       "      <td>18481.790370</td>\n",
       "      <td>10658.718332</td>\n",
       "    </tr>\n",
       "    <tr>\n",
       "      <th>11</th>\n",
       "      <td>11</td>\n",
       "      <td>dark_subt_0242.fits</td>\n",
       "      <td>878.010880</td>\n",
       "      <td>659.661111</td>\n",
       "      <td>1727.304080</td>\n",
       "      <td>990.751403</td>\n",
       "      <td>another step like the above</td>\n",
       "      <td>9394.716418</td>\n",
       "      <td>7058.373884</td>\n",
       "      <td>18482.153655</td>\n",
       "      <td>10601.040011</td>\n",
       "    </tr>\n",
       "    <tr>\n",
       "      <th>12</th>\n",
       "      <td>12</td>\n",
       "      <td>dark_subt_0243.fits</td>\n",
       "      <td>877.965980</td>\n",
       "      <td>660.829637</td>\n",
       "      <td>1727.683983</td>\n",
       "      <td>985.769061</td>\n",
       "      <td>another step like the above (should be at star...</td>\n",
       "      <td>9394.235990</td>\n",
       "      <td>7070.877114</td>\n",
       "      <td>18486.218616</td>\n",
       "      <td>10547.728950</td>\n",
       "    </tr>\n",
       "    <tr>\n",
       "      <th>13</th>\n",
       "      <td>13</td>\n",
       "      <td>dark_subt_0244.fits</td>\n",
       "      <td>900.365865</td>\n",
       "      <td>658.413361</td>\n",
       "      <td>1726.582134</td>\n",
       "      <td>984.969210</td>\n",
       "      <td>SPC tilt to the right 0.50 asec (in 0.10 asec ...</td>\n",
       "      <td>9633.914756</td>\n",
       "      <td>7045.022960</td>\n",
       "      <td>18474.428839</td>\n",
       "      <td>10539.170550</td>\n",
       "    </tr>\n",
       "    <tr>\n",
       "      <th>14</th>\n",
       "      <td>14</td>\n",
       "      <td>dark_subt_0245.fits</td>\n",
       "      <td>878.167290</td>\n",
       "      <td>659.900585</td>\n",
       "      <td>1727.464334</td>\n",
       "      <td>985.306691</td>\n",
       "      <td>SPC moved back (should be at starting point)</td>\n",
       "      <td>9396.390005</td>\n",
       "      <td>7060.936261</td>\n",
       "      <td>18483.868373</td>\n",
       "      <td>10542.781590</td>\n",
       "    </tr>\n",
       "    <tr>\n",
       "      <th>15</th>\n",
       "      <td>15</td>\n",
       "      <td>dark_subt_0246.fits</td>\n",
       "      <td>876.693000</td>\n",
       "      <td>652.494000</td>\n",
       "      <td>1727.504369</td>\n",
       "      <td>984.899866</td>\n",
       "      <td>SPC tipped down 0.1 asec</td>\n",
       "      <td>9380.615100</td>\n",
       "      <td>6981.685800</td>\n",
       "      <td>18484.296749</td>\n",
       "      <td>10538.428565</td>\n",
       "    </tr>\n",
       "    <tr>\n",
       "      <th>16</th>\n",
       "      <td>16</td>\n",
       "      <td>dark_subt_0247.fits</td>\n",
       "      <td>876.320925</td>\n",
       "      <td>657.163055</td>\n",
       "      <td>1727.301000</td>\n",
       "      <td>984.871778</td>\n",
       "      <td>SPC tipped up 0.1 (should be at starting point)</td>\n",
       "      <td>9376.633901</td>\n",
       "      <td>7031.644687</td>\n",
       "      <td>18482.120704</td>\n",
       "      <td>10538.128026</td>\n",
       "    </tr>\n",
       "    <tr>\n",
       "      <th>17</th>\n",
       "      <td>17</td>\n",
       "      <td>dark_subt_0248.fits</td>\n",
       "      <td>875.500384</td>\n",
       "      <td>656.565806</td>\n",
       "      <td>1727.593484</td>\n",
       "      <td>985.070231</td>\n",
       "      <td>SPC translation stage moved -40000.00 um to -4...</td>\n",
       "      <td>9367.854110</td>\n",
       "      <td>7025.254121</td>\n",
       "      <td>18485.250277</td>\n",
       "      <td>10540.251469</td>\n",
       "    </tr>\n",
       "    <tr>\n",
       "      <th>18</th>\n",
       "      <td>18</td>\n",
       "      <td>dark_subt_0249.fits</td>\n",
       "      <td>875.125272</td>\n",
       "      <td>656.031560</td>\n",
       "      <td>1726.874047</td>\n",
       "      <td>984.358494</td>\n",
       "      <td>SPC translation stage moved -40000.10 um to -4...</td>\n",
       "      <td>9363.840412</td>\n",
       "      <td>7019.537692</td>\n",
       "      <td>18477.552298</td>\n",
       "      <td>10532.635889</td>\n",
       "    </tr>\n",
       "    <tr>\n",
       "      <th>19</th>\n",
       "      <td>19</td>\n",
       "      <td>dark_subt_0250.fits</td>\n",
       "      <td>873.190693</td>\n",
       "      <td>655.560221</td>\n",
       "      <td>1726.966680</td>\n",
       "      <td>984.030169</td>\n",
       "      <td>SPC translation stage moved -40010.10 um to -4...</td>\n",
       "      <td>9343.140416</td>\n",
       "      <td>7014.494367</td>\n",
       "      <td>18478.543480</td>\n",
       "      <td>10529.122807</td>\n",
       "    </tr>\n",
       "    <tr>\n",
       "      <th>20</th>\n",
       "      <td>20</td>\n",
       "      <td>dark_subt_0251.fits</td>\n",
       "      <td>870.652869</td>\n",
       "      <td>654.304449</td>\n",
       "      <td>1726.909770</td>\n",
       "      <td>983.480148</td>\n",
       "      <td>after SPC has shut down</td>\n",
       "      <td>9315.985699</td>\n",
       "      <td>7001.057606</td>\n",
       "      <td>18477.934541</td>\n",
       "      <td>10523.237581</td>\n",
       "    </tr>\n",
       "    <tr>\n",
       "      <th>21</th>\n",
       "      <td>21</td>\n",
       "      <td>dark_subt_0252.fits</td>\n",
       "      <td>869.930729</td>\n",
       "      <td>653.846853</td>\n",
       "      <td>1726.515385</td>\n",
       "      <td>983.071123</td>\n",
       "      <td>baseline1 for small FPC TT</td>\n",
       "      <td>9308.258796</td>\n",
       "      <td>6996.161329</td>\n",
       "      <td>18473.714625</td>\n",
       "      <td>10518.861018</td>\n",
       "    </tr>\n",
       "    <tr>\n",
       "      <th>22</th>\n",
       "      <td>25</td>\n",
       "      <td>dark_subt_0256.fits</td>\n",
       "      <td>868.775484</td>\n",
       "      <td>653.277960</td>\n",
       "      <td>1728.252373</td>\n",
       "      <td>983.505947</td>\n",
       "      <td>after FPC tip (y) of +0.01 asec</td>\n",
       "      <td>9295.897677</td>\n",
       "      <td>6990.074169</td>\n",
       "      <td>18492.300392</td>\n",
       "      <td>10523.513637</td>\n",
       "    </tr>\n",
       "    <tr>\n",
       "      <th>23</th>\n",
       "      <td>26</td>\n",
       "      <td>dark_subt_0257.fits</td>\n",
       "      <td>868.640543</td>\n",
       "      <td>653.194886</td>\n",
       "      <td>1728.022769</td>\n",
       "      <td>983.826238</td>\n",
       "      <td>another step like the above</td>\n",
       "      <td>9294.453812</td>\n",
       "      <td>6989.185284</td>\n",
       "      <td>18489.843632</td>\n",
       "      <td>10526.940746</td>\n",
       "    </tr>\n",
       "    <tr>\n",
       "      <th>24</th>\n",
       "      <td>27</td>\n",
       "      <td>dark_subt_0258.fits</td>\n",
       "      <td>868.665039</td>\n",
       "      <td>654.352461</td>\n",
       "      <td>1728.741463</td>\n",
       "      <td>983.951627</td>\n",
       "      <td>after tip of -0.02 asec (should be at starting...</td>\n",
       "      <td>9294.715920</td>\n",
       "      <td>7001.571329</td>\n",
       "      <td>18497.533657</td>\n",
       "      <td>10528.282409</td>\n",
       "    </tr>\n",
       "    <tr>\n",
       "      <th>25</th>\n",
       "      <td>99</td>\n",
       "      <td>dark_subt_0259.fits</td>\n",
       "      <td>867.771235</td>\n",
       "      <td>653.898789</td>\n",
       "      <td>1727.022528</td>\n",
       "      <td>983.782309</td>\n",
       "      <td>baseline2 for small FPC TT</td>\n",
       "      <td>9285.152211</td>\n",
       "      <td>6996.717046</td>\n",
       "      <td>18479.141045</td>\n",
       "      <td>10526.470708</td>\n",
       "    </tr>\n",
       "    <tr>\n",
       "      <th>26</th>\n",
       "      <td>22</td>\n",
       "      <td>dark_subt_0260.fits</td>\n",
       "      <td>867.483630</td>\n",
       "      <td>653.562353</td>\n",
       "      <td>1726.712886</td>\n",
       "      <td>983.676284</td>\n",
       "      <td>after tilt (x) of 0.01 asec</td>\n",
       "      <td>9282.074837</td>\n",
       "      <td>6993.117174</td>\n",
       "      <td>18475.827883</td>\n",
       "      <td>10525.336234</td>\n",
       "    </tr>\n",
       "    <tr>\n",
       "      <th>27</th>\n",
       "      <td>23</td>\n",
       "      <td>dark_subt_0261.fits</td>\n",
       "      <td>867.415842</td>\n",
       "      <td>653.590205</td>\n",
       "      <td>1727.898952</td>\n",
       "      <td>983.561173</td>\n",
       "      <td>another step like the above</td>\n",
       "      <td>9281.349511</td>\n",
       "      <td>6993.415197</td>\n",
       "      <td>18488.518787</td>\n",
       "      <td>10524.104553</td>\n",
       "    </tr>\n",
       "    <tr>\n",
       "      <th>28</th>\n",
       "      <td>24</td>\n",
       "      <td>dark_subt_0262.fits</td>\n",
       "      <td>867.206077</td>\n",
       "      <td>653.475296</td>\n",
       "      <td>1726.460822</td>\n",
       "      <td>983.590381</td>\n",
       "      <td>after tilt (x) of -0.02 asec (should be at sta...</td>\n",
       "      <td>9279.105027</td>\n",
       "      <td>6992.185664</td>\n",
       "      <td>18473.130796</td>\n",
       "      <td>10524.417080</td>\n",
       "    </tr>\n",
       "    <tr>\n",
       "      <th>29</th>\n",
       "      <td>99</td>\n",
       "      <td>dark_subt_0266.fits</td>\n",
       "      <td>863.904389</td>\n",
       "      <td>651.591282</td>\n",
       "      <td>1726.887854</td>\n",
       "      <td>982.892465</td>\n",
       "      <td>baseline3</td>\n",
       "      <td>9243.776962</td>\n",
       "      <td>6972.026721</td>\n",
       "      <td>18477.700037</td>\n",
       "      <td>10516.949375</td>\n",
       "    </tr>\n",
       "    <tr>\n",
       "      <th>30</th>\n",
       "      <td>28</td>\n",
       "      <td>dark_subt_0267.fits</td>\n",
       "      <td>876.758328</td>\n",
       "      <td>647.881361</td>\n",
       "      <td>1726.591245</td>\n",
       "      <td>982.914842</td>\n",
       "      <td>SPC translation stage moved -40000 to -41000 um</td>\n",
       "      <td>9381.314107</td>\n",
       "      <td>6932.330568</td>\n",
       "      <td>18474.526325</td>\n",
       "      <td>10517.188809</td>\n",
       "    </tr>\n",
       "    <tr>\n",
       "      <th>31</th>\n",
       "      <td>29</td>\n",
       "      <td>dark_subt_0268.fits</td>\n",
       "      <td>898.716615</td>\n",
       "      <td>649.526226</td>\n",
       "      <td>1726.527688</td>\n",
       "      <td>982.711988</td>\n",
       "      <td>SPC translation stage moved -41000 to -44000</td>\n",
       "      <td>9616.267784</td>\n",
       "      <td>6949.930614</td>\n",
       "      <td>18473.846260</td>\n",
       "      <td>10515.018272</td>\n",
       "    </tr>\n",
       "    <tr>\n",
       "      <th>32</th>\n",
       "      <td>30</td>\n",
       "      <td>dark_subt_0269.fits</td>\n",
       "      <td>863.183832</td>\n",
       "      <td>651.082171</td>\n",
       "      <td>1726.411938</td>\n",
       "      <td>982.673087</td>\n",
       "      <td>SPC translation stage moved -44000 to -40000 a...</td>\n",
       "      <td>9236.067002</td>\n",
       "      <td>6966.579229</td>\n",
       "      <td>18472.607738</td>\n",
       "      <td>10514.602029</td>\n",
       "    </tr>\n",
       "    <tr>\n",
       "      <th>33</th>\n",
       "      <td>99</td>\n",
       "      <td>dark_subt_0270.fits</td>\n",
       "      <td>857.486982</td>\n",
       "      <td>650.594716</td>\n",
       "      <td>1721.467617</td>\n",
       "      <td>982.410389</td>\n",
       "      <td>FPC and HPC moved to left by 0.1 asec (step 1)</td>\n",
       "      <td>9175.110704</td>\n",
       "      <td>6961.363462</td>\n",
       "      <td>18419.703501</td>\n",
       "      <td>10511.791166</td>\n",
       "    </tr>\n",
       "    <tr>\n",
       "      <th>34</th>\n",
       "      <td>99</td>\n",
       "      <td>dark_subt_0271.fits</td>\n",
       "      <td>856.645037</td>\n",
       "      <td>645.256576</td>\n",
       "      <td>1720.517631</td>\n",
       "      <td>974.176008</td>\n",
       "      <td>FPC and HPC moved down by 0.1 asec (step 2)</td>\n",
       "      <td>9166.101894</td>\n",
       "      <td>6904.245368</td>\n",
       "      <td>18409.538655</td>\n",
       "      <td>10423.683284</td>\n",
       "    </tr>\n",
       "    <tr>\n",
       "      <th>35</th>\n",
       "      <td>99</td>\n",
       "      <td>dark_subt_0272.fits</td>\n",
       "      <td>855.792476</td>\n",
       "      <td>639.561524</td>\n",
       "      <td>1720.531710</td>\n",
       "      <td>968.853178</td>\n",
       "      <td>FPC and HPC moved down again by 0.1 asec (step 3)</td>\n",
       "      <td>9156.979494</td>\n",
       "      <td>6843.308306</td>\n",
       "      <td>18409.689298</td>\n",
       "      <td>10366.729000</td>\n",
       "    </tr>\n",
       "    <tr>\n",
       "      <th>36</th>\n",
       "      <td>99</td>\n",
       "      <td>dark_subt_0273.fits</td>\n",
       "      <td>860.196007</td>\n",
       "      <td>639.073460</td>\n",
       "      <td>1725.203928</td>\n",
       "      <td>968.876868</td>\n",
       "      <td>FPC and HPC moved to right by 0.1 asec (step 4)</td>\n",
       "      <td>9204.097272</td>\n",
       "      <td>6838.086019</td>\n",
       "      <td>18459.682026</td>\n",
       "      <td>10366.982487</td>\n",
       "    </tr>\n",
       "    <tr>\n",
       "      <th>37</th>\n",
       "      <td>99</td>\n",
       "      <td>dark_subt_0274.fits</td>\n",
       "      <td>864.762156</td>\n",
       "      <td>638.325410</td>\n",
       "      <td>1729.978277</td>\n",
       "      <td>968.466492</td>\n",
       "      <td>FPC and HPC moved to right again by 0.1 asec (...</td>\n",
       "      <td>9252.955067</td>\n",
       "      <td>6830.081885</td>\n",
       "      <td>18510.767566</td>\n",
       "      <td>10362.591463</td>\n",
       "    </tr>\n",
       "    <tr>\n",
       "      <th>38</th>\n",
       "      <td>99</td>\n",
       "      <td>dark_subt_0275.fits</td>\n",
       "      <td>864.480934</td>\n",
       "      <td>642.968476</td>\n",
       "      <td>1730.172409</td>\n",
       "      <td>972.547966</td>\n",
       "      <td>FPC and HPC moved up by 0.1 asec (step 6)</td>\n",
       "      <td>9249.945996</td>\n",
       "      <td>6879.762691</td>\n",
       "      <td>18512.844774</td>\n",
       "      <td>10406.263239</td>\n",
       "    </tr>\n",
       "    <tr>\n",
       "      <th>39</th>\n",
       "      <td>99</td>\n",
       "      <td>dark_subt_0276.fits</td>\n",
       "      <td>864.610888</td>\n",
       "      <td>647.892024</td>\n",
       "      <td>1731.245190</td>\n",
       "      <td>980.971586</td>\n",
       "      <td>FPC and HPC moved up again by 0.1 asec (step 7)</td>\n",
       "      <td>9251.336506</td>\n",
       "      <td>6932.444656</td>\n",
       "      <td>18524.323537</td>\n",
       "      <td>10496.395975</td>\n",
       "    </tr>\n",
       "    <tr>\n",
       "      <th>40</th>\n",
       "      <td>99</td>\n",
       "      <td>dark_subt_0277.fits</td>\n",
       "      <td>859.682989</td>\n",
       "      <td>647.910308</td>\n",
       "      <td>1725.674199</td>\n",
       "      <td>979.605031</td>\n",
       "      <td>FPC and HPC moved to left by 0.1 asec (step 8)</td>\n",
       "      <td>9198.607985</td>\n",
       "      <td>6932.640298</td>\n",
       "      <td>18464.713926</td>\n",
       "      <td>10481.773830</td>\n",
       "    </tr>\n",
       "  </tbody>\n",
       "</table>\n",
       "</div>"
      ],
      "text/plain": [
       "    frame_ref             img_name        x_ll        y_ll         x_ur  \\\n",
       "0           0  dark_subt_0231.fits  910.261567  676.905840  1725.342532   \n",
       "1           1  dark_subt_0232.fits  882.884763  661.973166  1730.020942   \n",
       "2           2  dark_subt_0233.fits  882.381779  661.746211  1734.946108   \n",
       "3           3  dark_subt_0234.fits  881.784335  661.525693  1740.275602   \n",
       "4           4  dark_subt_0235.fits  881.448193  661.218947  1736.344079   \n",
       "5           5  dark_subt_0236.fits  881.118874  661.057008  1732.530365   \n",
       "6           6  dark_subt_0237.fits  880.565376  660.584073  1728.848187   \n",
       "7           7  dark_subt_0238.fits  879.726288  660.452999  1727.624104   \n",
       "8           8  dark_subt_0239.fits  879.329903  660.429500  1727.544827   \n",
       "9           9  dark_subt_0240.fits  878.836848  659.943621  1726.536749   \n",
       "10         10  dark_subt_0241.fits  878.342931  659.843901  1727.270128   \n",
       "11         11  dark_subt_0242.fits  878.010880  659.661111  1727.304080   \n",
       "12         12  dark_subt_0243.fits  877.965980  660.829637  1727.683983   \n",
       "13         13  dark_subt_0244.fits  900.365865  658.413361  1726.582134   \n",
       "14         14  dark_subt_0245.fits  878.167290  659.900585  1727.464334   \n",
       "15         15  dark_subt_0246.fits  876.693000  652.494000  1727.504369   \n",
       "16         16  dark_subt_0247.fits  876.320925  657.163055  1727.301000   \n",
       "17         17  dark_subt_0248.fits  875.500384  656.565806  1727.593484   \n",
       "18         18  dark_subt_0249.fits  875.125272  656.031560  1726.874047   \n",
       "19         19  dark_subt_0250.fits  873.190693  655.560221  1726.966680   \n",
       "20         20  dark_subt_0251.fits  870.652869  654.304449  1726.909770   \n",
       "21         21  dark_subt_0252.fits  869.930729  653.846853  1726.515385   \n",
       "22         25  dark_subt_0256.fits  868.775484  653.277960  1728.252373   \n",
       "23         26  dark_subt_0257.fits  868.640543  653.194886  1728.022769   \n",
       "24         27  dark_subt_0258.fits  868.665039  654.352461  1728.741463   \n",
       "25         99  dark_subt_0259.fits  867.771235  653.898789  1727.022528   \n",
       "26         22  dark_subt_0260.fits  867.483630  653.562353  1726.712886   \n",
       "27         23  dark_subt_0261.fits  867.415842  653.590205  1727.898952   \n",
       "28         24  dark_subt_0262.fits  867.206077  653.475296  1726.460822   \n",
       "29         99  dark_subt_0266.fits  863.904389  651.591282  1726.887854   \n",
       "30         28  dark_subt_0267.fits  876.758328  647.881361  1726.591245   \n",
       "31         29  dark_subt_0268.fits  898.716615  649.526226  1726.527688   \n",
       "32         30  dark_subt_0269.fits  863.183832  651.082171  1726.411938   \n",
       "33         99  dark_subt_0270.fits  857.486982  650.594716  1721.467617   \n",
       "34         99  dark_subt_0271.fits  856.645037  645.256576  1720.517631   \n",
       "35         99  dark_subt_0272.fits  855.792476  639.561524  1720.531710   \n",
       "36         99  dark_subt_0273.fits  860.196007  639.073460  1725.203928   \n",
       "37         99  dark_subt_0274.fits  864.762156  638.325410  1729.978277   \n",
       "38         99  dark_subt_0275.fits  864.480934  642.968476  1730.172409   \n",
       "39         99  dark_subt_0276.fits  864.610888  647.892024  1731.245190   \n",
       "40         99  dark_subt_0277.fits  859.682989  647.910308  1725.674199   \n",
       "\n",
       "           y_ur                                            remarks  \\\n",
       "0    990.567171                                           baseline   \n",
       "1    985.239907     FPC (top PSF) tilted to the right by 0.10 asec   \n",
       "2    985.498959                        another step like the above   \n",
       "3    984.305038                        another step like the above   \n",
       "4    984.106709      FPC (top PSF) tilted to the left by 0.10 asec   \n",
       "5    983.745578                        another step like the above   \n",
       "6    983.377366  another step like the above (should be at star...   \n",
       "7    988.293846               FPC (top PSF) tipped up by 0.10 asec   \n",
       "8    993.319694                        another step like the above   \n",
       "9   1000.484482                        another step like the above   \n",
       "10   996.141900             FPC (top PSF) tipped down by 0.10 asec   \n",
       "11   990.751403                        another step like the above   \n",
       "12   985.769061  another step like the above (should be at star...   \n",
       "13   984.969210  SPC tilt to the right 0.50 asec (in 0.10 asec ...   \n",
       "14   985.306691       SPC moved back (should be at starting point)   \n",
       "15   984.899866                           SPC tipped down 0.1 asec   \n",
       "16   984.871778    SPC tipped up 0.1 (should be at starting point)   \n",
       "17   985.070231  SPC translation stage moved -40000.00 um to -4...   \n",
       "18   984.358494  SPC translation stage moved -40000.10 um to -4...   \n",
       "19   984.030169  SPC translation stage moved -40010.10 um to -4...   \n",
       "20   983.480148                            after SPC has shut down   \n",
       "21   983.071123                         baseline1 for small FPC TT   \n",
       "22   983.505947                    after FPC tip (y) of +0.01 asec   \n",
       "23   983.826238                        another step like the above   \n",
       "24   983.951627  after tip of -0.02 asec (should be at starting...   \n",
       "25   983.782309                         baseline2 for small FPC TT   \n",
       "26   983.676284                        after tilt (x) of 0.01 asec   \n",
       "27   983.561173                        another step like the above   \n",
       "28   983.590381  after tilt (x) of -0.02 asec (should be at sta...   \n",
       "29   982.892465                                          baseline3   \n",
       "30   982.914842    SPC translation stage moved -40000 to -41000 um   \n",
       "31   982.711988       SPC translation stage moved -41000 to -44000   \n",
       "32   982.673087  SPC translation stage moved -44000 to -40000 a...   \n",
       "33   982.410389     FPC and HPC moved to left by 0.1 asec (step 1)   \n",
       "34   974.176008        FPC and HPC moved down by 0.1 asec (step 2)   \n",
       "35   968.853178  FPC and HPC moved down again by 0.1 asec (step 3)   \n",
       "36   968.876868    FPC and HPC moved to right by 0.1 asec (step 4)   \n",
       "37   968.466492  FPC and HPC moved to right again by 0.1 asec (...   \n",
       "38   972.547966          FPC and HPC moved up by 0.1 asec (step 6)   \n",
       "39   980.971586    FPC and HPC moved up again by 0.1 asec (step 7)   \n",
       "40   979.605031     FPC and HPC moved to left by 0.1 asec (step 8)   \n",
       "\n",
       "         mas_x1       mas_y1        mas_x2        mas_y2  \n",
       "0   9739.798771  7242.892491  18461.165091  10599.068733  \n",
       "1   9446.866962  7083.112871  18511.224076  10542.067005  \n",
       "2   9441.485035  7080.684461  18563.923358  10544.838864  \n",
       "3   9435.092387  7078.324919  18620.948937  10532.063901  \n",
       "4   9431.495661  7075.042736  18578.881641  10529.941788  \n",
       "5   9427.971947  7073.309985  18538.074905  10526.077686  \n",
       "6   9422.049519  7068.249584  18498.675599  10522.137813  \n",
       "7   9413.071286  7066.847094  18485.577913  10574.744149  \n",
       "8   9408.829958  7066.595647  18484.729654  10628.520723  \n",
       "9   9403.554273  7061.396744  18473.943212  10705.183958  \n",
       "10  9398.269365  7060.329746  18481.790370  10658.718332  \n",
       "11  9394.716418  7058.373884  18482.153655  10601.040011  \n",
       "12  9394.235990  7070.877114  18486.218616  10547.728950  \n",
       "13  9633.914756  7045.022960  18474.428839  10539.170550  \n",
       "14  9396.390005  7060.936261  18483.868373  10542.781590  \n",
       "15  9380.615100  6981.685800  18484.296749  10538.428565  \n",
       "16  9376.633901  7031.644687  18482.120704  10538.128026  \n",
       "17  9367.854110  7025.254121  18485.250277  10540.251469  \n",
       "18  9363.840412  7019.537692  18477.552298  10532.635889  \n",
       "19  9343.140416  7014.494367  18478.543480  10529.122807  \n",
       "20  9315.985699  7001.057606  18477.934541  10523.237581  \n",
       "21  9308.258796  6996.161329  18473.714625  10518.861018  \n",
       "22  9295.897677  6990.074169  18492.300392  10523.513637  \n",
       "23  9294.453812  6989.185284  18489.843632  10526.940746  \n",
       "24  9294.715920  7001.571329  18497.533657  10528.282409  \n",
       "25  9285.152211  6996.717046  18479.141045  10526.470708  \n",
       "26  9282.074837  6993.117174  18475.827883  10525.336234  \n",
       "27  9281.349511  6993.415197  18488.518787  10524.104553  \n",
       "28  9279.105027  6992.185664  18473.130796  10524.417080  \n",
       "29  9243.776962  6972.026721  18477.700037  10516.949375  \n",
       "30  9381.314107  6932.330568  18474.526325  10517.188809  \n",
       "31  9616.267784  6949.930614  18473.846260  10515.018272  \n",
       "32  9236.067002  6966.579229  18472.607738  10514.602029  \n",
       "33  9175.110704  6961.363462  18419.703501  10511.791166  \n",
       "34  9166.101894  6904.245368  18409.538655  10423.683284  \n",
       "35  9156.979494  6843.308306  18409.689298  10366.729000  \n",
       "36  9204.097272  6838.086019  18459.682026  10366.982487  \n",
       "37  9252.955067  6830.081885  18510.767566  10362.591463  \n",
       "38  9249.945996  6879.762691  18512.844774  10406.263239  \n",
       "39  9251.336506  6932.444656  18524.323537  10496.395975  \n",
       "40  9198.607985  6932.640298  18464.713926  10481.773830  "
      ]
     },
     "execution_count": 20,
     "metadata": {},
     "output_type": "execute_result"
    }
   ],
   "source": [
    "hysteresis_test_2"
   ]
  },
  {
   "cell_type": "code",
   "execution_count": null,
   "metadata": {
    "collapsed": true
   },
   "outputs": [],
   "source": []
  }
 ],
 "metadata": {
  "kernelspec": {
   "display_name": "Python 2",
   "language": "python",
   "name": "python2"
  },
  "language_info": {
   "codemirror_mode": {
    "name": "ipython",
    "version": 2
   },
   "file_extension": ".py",
   "mimetype": "text/x-python",
   "name": "python",
   "nbconvert_exporter": "python",
   "pygments_lexer": "ipython2",
   "version": "2.7.11"
  }
 },
 "nbformat": 4,
 "nbformat_minor": 2
}
