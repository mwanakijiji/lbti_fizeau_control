{
 "cells": [
  {
   "cell_type": "code",
   "execution_count": null,
   "metadata": {
    "collapsed": true
   },
   "outputs": [],
   "source": [
    "# This makes multiple dictionaries, pickles them, and takes means or medians over the \n",
    "# key values, so as to test functionality for taking medians of PSF FFT quantities\n",
    "\n",
    "# created 2019 Feb 10 by E.S."
   ]
  },
  {
   "cell_type": "code",
   "execution_count": 1,
   "metadata": {
    "collapsed": false
   },
   "outputs": [
    {
     "name": "stderr",
     "output_type": "stream",
     "text": [
      "/Users/nyumbani/anaconda3/envs/py27/lib/python2.7/site-packages/matplotlib/font_manager.py:273: UserWarning: Matplotlib is building the font cache using fc-list. This may take a moment.\n",
      "  warnings.warn('Matplotlib is building the font cache using fc-list. This may take a moment.')\n"
     ]
    }
   ],
   "source": [
    "import numpy as np\n",
    "import glob\n",
    "import time\n",
    "import pickle\n",
    "import pandas as pd\n",
    "import matplotlib.pyplot as plt\n",
    "%matplotlib inline"
   ]
  },
  {
   "cell_type": "code",
   "execution_count": 2,
   "metadata": {
    "collapsed": false
   },
   "outputs": [],
   "source": [
    "# pickle some dictionaries\n",
    "\n",
    "for i in range(0,5):\n",
    "    pickle_stuff = {\"A\": i, \"B\": 5+i, \"C\": 90}\n",
    "    fft_pickle_write_name = \"pickle\" + str(\"{:0>2d}\".format(i)) + \".pkl\"\n",
    "    with open(fft_pickle_write_name, \"w\") as f:\n",
    "        pickle.dump(pickle_stuff, f)"
   ]
  },
  {
   "cell_type": "code",
   "execution_count": 2,
   "metadata": {
    "collapsed": false,
    "scrolled": true
   },
   "outputs": [
    {
     "name": "stdout",
     "output_type": "stream",
     "text": [
      "pickle00.pkl\n",
      "pickle01.pkl\n",
      "pickle02.pkl\n",
      "pickle03.pkl\n",
      "pickle04.pkl\n"
     ]
    }
   ],
   "source": [
    "# retrieve them\n",
    "\n",
    "d = {}\n",
    "for i in range(0,5):\n",
    "    fft_pickle_read_name = \"pickle\" + str(\"{:0>2d}\".format(i)) + \".pkl\"\n",
    "    print(fft_pickle_read_name)\n",
    "    with open(fft_pickle_read_name) as f:\n",
    "        d[\"key_\"+str(i)] = pickle.load(f) "
   ]
  },
  {
   "cell_type": "code",
   "execution_count": 3,
   "metadata": {
    "collapsed": false
   },
   "outputs": [],
   "source": [
    "d_df = pd.DataFrame(d)"
   ]
  },
  {
   "cell_type": "code",
   "execution_count": 4,
   "metadata": {
    "collapsed": false
   },
   "outputs": [
    {
     "data": {
      "text/html": [
       "<div>\n",
       "<table border=\"1\" class=\"dataframe\">\n",
       "  <thead>\n",
       "    <tr style=\"text-align: right;\">\n",
       "      <th></th>\n",
       "      <th>key_0</th>\n",
       "      <th>key_1</th>\n",
       "      <th>key_2</th>\n",
       "      <th>key_3</th>\n",
       "      <th>key_4</th>\n",
       "    </tr>\n",
       "  </thead>\n",
       "  <tbody>\n",
       "    <tr>\n",
       "      <th>A</th>\n",
       "      <td>0</td>\n",
       "      <td>1</td>\n",
       "      <td>2</td>\n",
       "      <td>3</td>\n",
       "      <td>4</td>\n",
       "    </tr>\n",
       "    <tr>\n",
       "      <th>B</th>\n",
       "      <td>5</td>\n",
       "      <td>6</td>\n",
       "      <td>7</td>\n",
       "      <td>8</td>\n",
       "      <td>9</td>\n",
       "    </tr>\n",
       "    <tr>\n",
       "      <th>C</th>\n",
       "      <td>90</td>\n",
       "      <td>90</td>\n",
       "      <td>90</td>\n",
       "      <td>90</td>\n",
       "      <td>90</td>\n",
       "    </tr>\n",
       "  </tbody>\n",
       "</table>\n",
       "</div>"
      ],
      "text/plain": [
       "   key_0  key_1  key_2  key_3  key_4\n",
       "A      0      1      2      3      4\n",
       "B      5      6      7      8      9\n",
       "C     90     90     90     90     90"
      ]
     },
     "execution_count": 4,
     "metadata": {},
     "output_type": "execute_result"
    }
   ],
   "source": [
    "d_df"
   ]
  },
  {
   "cell_type": "code",
   "execution_count": 9,
   "metadata": {
    "collapsed": false
   },
   "outputs": [],
   "source": [
    "test = pd.DataFrame(pd.DataFrame.median(d_df, axis=1)).T"
   ]
  },
  {
   "cell_type": "code",
   "execution_count": 10,
   "metadata": {
    "collapsed": false
   },
   "outputs": [
    {
     "data": {
      "text/html": [
       "<div>\n",
       "<table border=\"1\" class=\"dataframe\">\n",
       "  <thead>\n",
       "    <tr style=\"text-align: right;\">\n",
       "      <th></th>\n",
       "      <th>A</th>\n",
       "      <th>B</th>\n",
       "      <th>C</th>\n",
       "    </tr>\n",
       "  </thead>\n",
       "  <tbody>\n",
       "    <tr>\n",
       "      <th>0</th>\n",
       "      <td>2.0</td>\n",
       "      <td>7.0</td>\n",
       "      <td>90.0</td>\n",
       "    </tr>\n",
       "  </tbody>\n",
       "</table>\n",
       "</div>"
      ],
      "text/plain": [
       "     A    B     C\n",
       "0  2.0  7.0  90.0"
      ]
     },
     "execution_count": 10,
     "metadata": {},
     "output_type": "execute_result"
    }
   ],
   "source": [
    "test"
   ]
  },
  {
   "cell_type": "code",
   "execution_count": 3,
   "metadata": {
    "collapsed": false,
    "scrolled": true
   },
   "outputs": [
    {
     "name": "stdout",
     "output_type": "stream",
     "text": [
      "fft_info_00.pkl\n",
      "fft_info_01.pkl\n",
      "fft_info_02.pkl\n",
      "fft_info_03.pkl\n",
      "fft_info_04.pkl\n"
     ]
    }
   ],
   "source": [
    "# retrieve them\n",
    "\n",
    "d_all_amp = {}\n",
    "d_all_arg = {}\n",
    "for pickle_num in range(0,5):\n",
    "    fft_pickle_read_name = \"fft_info_\" + str(\"{:0>2d}\".format(pickle_num)) + \".pkl\"\n",
    "    print(fft_pickle_read_name)\n",
    "    with open(fft_pickle_read_name) as f:\n",
    "        d_all_amp[\"pickle_\"+ str(\"{:0>2d}\".format(pickle_num))], \\\n",
    "        d_all_arg[\"pickle_\"+ str(\"{:0>2d}\".format(pickle_num))] = pickle.load(f)"
   ]
  },
  {
   "cell_type": "code",
   "execution_count": 9,
   "metadata": {
    "collapsed": false
   },
   "outputs": [],
   "source": [
    "d_df_amp = pd.DataFrame(d_all_amp)\n",
    "d_df_ampT = d_df_amp.T.reset_index()"
   ]
  },
  {
   "cell_type": "code",
   "execution_count": 10,
   "metadata": {
    "collapsed": false
   },
   "outputs": [],
   "source": [
    "#d_df_ampT = d_df_amp.T.reset_index()\n",
    "del d_df_ampT[\"index\"]\n",
    "del d_df_ampT[\"normVec_highFreqPerfect_L_x\"]\n",
    "\n",
    "test = pd.DataFrame(pd.DataFrame.median(d_df_ampT, axis=0)).T"
   ]
  },
  {
   "cell_type": "code",
   "execution_count": 11,
   "metadata": {
    "collapsed": false
   },
   "outputs": [
    {
     "data": {
      "text/html": [
       "<div>\n",
       "<table border=\"1\" class=\"dataframe\">\n",
       "  <thead>\n",
       "    <tr style=\"text-align: right;\">\n",
       "      <th></th>\n",
       "      <th>med_highFreqPerfect_L</th>\n",
       "      <th>med_highFreqPerfect_R</th>\n",
       "      <th>med_lowFreqPerfect</th>\n",
       "      <th>med_rect</th>\n",
       "      <th>normVec_highFreqPerfect_L_y</th>\n",
       "      <th>normVec_highFreqPerfect_L_z</th>\n",
       "      <th>normVec_highFreqPerfect_R_x</th>\n",
       "      <th>normVec_highFreqPerfect_R_y</th>\n",
       "      <th>normVec_highFreqPerfect_R_z</th>\n",
       "      <th>normVec_lowFreqPerfect_x</th>\n",
       "      <th>normVec_lowFreqPerfect_y</th>\n",
       "      <th>normVec_lowFreqPerfect_z</th>\n",
       "      <th>normVec_rect_x</th>\n",
       "      <th>normVec_rect_y</th>\n",
       "      <th>normVec_rect_z</th>\n",
       "      <th>std_highFreqPerfect_L</th>\n",
       "      <th>std_highFreqPerfect_R</th>\n",
       "      <th>std_lowFreqPerfect</th>\n",
       "      <th>std_rect</th>\n",
       "      <th>time</th>\n",
       "    </tr>\n",
       "  </thead>\n",
       "  <tbody>\n",
       "    <tr>\n",
       "      <th>0</th>\n",
       "      <td>509052.695158</td>\n",
       "      <td>509052.695158</td>\n",
       "      <td>4.569452e+06</td>\n",
       "      <td>271880.74227</td>\n",
       "      <td>-555.554282</td>\n",
       "      <td>-707486.246863</td>\n",
       "      <td>-3789.586222</td>\n",
       "      <td>555.554282</td>\n",
       "      <td>3.508187e+06</td>\n",
       "      <td>8.721142e-09</td>\n",
       "      <td>-7.363671e-09</td>\n",
       "      <td>4.913227e+06</td>\n",
       "      <td>5.416010e-11</td>\n",
       "      <td>-5.441779e-11</td>\n",
       "      <td>799073.718536</td>\n",
       "      <td>196912.723754</td>\n",
       "      <td>196912.723754</td>\n",
       "      <td>1.623189e+06</td>\n",
       "      <td>1.401522e+06</td>\n",
       "      <td>1.549846e+09</td>\n",
       "    </tr>\n",
       "  </tbody>\n",
       "</table>\n",
       "</div>"
      ],
      "text/plain": [
       "   med_highFreqPerfect_L  med_highFreqPerfect_R  med_lowFreqPerfect  \\\n",
       "0          509052.695158          509052.695158        4.569452e+06   \n",
       "\n",
       "       med_rect  normVec_highFreqPerfect_L_y  normVec_highFreqPerfect_L_z  \\\n",
       "0  271880.74227                  -555.554282               -707486.246863   \n",
       "\n",
       "   normVec_highFreqPerfect_R_x  normVec_highFreqPerfect_R_y  \\\n",
       "0                 -3789.586222                   555.554282   \n",
       "\n",
       "   normVec_highFreqPerfect_R_z  normVec_lowFreqPerfect_x  \\\n",
       "0                 3.508187e+06              8.721142e-09   \n",
       "\n",
       "   normVec_lowFreqPerfect_y  normVec_lowFreqPerfect_z  normVec_rect_x  \\\n",
       "0             -7.363671e-09              4.913227e+06    5.416010e-11   \n",
       "\n",
       "   normVec_rect_y  normVec_rect_z  std_highFreqPerfect_L  \\\n",
       "0   -5.441779e-11   799073.718536          196912.723754   \n",
       "\n",
       "   std_highFreqPerfect_R  std_lowFreqPerfect      std_rect          time  \n",
       "0          196912.723754        1.623189e+06  1.401522e+06  1.549846e+09  "
      ]
     },
     "execution_count": 11,
     "metadata": {},
     "output_type": "execute_result"
    }
   ],
   "source": [
    "test"
   ]
  },
  {
   "cell_type": "code",
   "execution_count": 9,
   "metadata": {
    "collapsed": false
   },
   "outputs": [],
   "source": [
    "del d_df_ampT[\"index\"]\n",
    "del d_df_ampT[\"normVec_highFreqPerfect_L_x\"]"
   ]
  },
  {
   "cell_type": "code",
   "execution_count": 10,
   "metadata": {
    "collapsed": false
   },
   "outputs": [
    {
     "data": {
      "text/html": [
       "<div>\n",
       "<table border=\"1\" class=\"dataframe\">\n",
       "  <thead>\n",
       "    <tr style=\"text-align: right;\">\n",
       "      <th></th>\n",
       "      <th>med_highFreqPerfect_L</th>\n",
       "      <th>med_highFreqPerfect_R</th>\n",
       "      <th>med_lowFreqPerfect</th>\n",
       "      <th>med_rect</th>\n",
       "      <th>normVec_highFreqPerfect_L_y</th>\n",
       "      <th>normVec_highFreqPerfect_L_z</th>\n",
       "      <th>normVec_highFreqPerfect_R_x</th>\n",
       "      <th>normVec_highFreqPerfect_R_y</th>\n",
       "      <th>normVec_highFreqPerfect_R_z</th>\n",
       "      <th>normVec_lowFreqPerfect_x</th>\n",
       "      <th>normVec_lowFreqPerfect_y</th>\n",
       "      <th>normVec_lowFreqPerfect_z</th>\n",
       "      <th>normVec_rect_x</th>\n",
       "      <th>normVec_rect_y</th>\n",
       "      <th>normVec_rect_z</th>\n",
       "      <th>std_highFreqPerfect_L</th>\n",
       "      <th>std_highFreqPerfect_R</th>\n",
       "      <th>std_lowFreqPerfect</th>\n",
       "      <th>std_rect</th>\n",
       "      <th>time</th>\n",
       "    </tr>\n",
       "  </thead>\n",
       "  <tbody>\n",
       "    <tr>\n",
       "      <th>0</th>\n",
       "      <td>621949</td>\n",
       "      <td>621949</td>\n",
       "      <td>4.54794e+06</td>\n",
       "      <td>291663</td>\n",
       "      <td>-694.151</td>\n",
       "      <td>-480402</td>\n",
       "      <td>-4068.16</td>\n",
       "      <td>694.151</td>\n",
       "      <td>3.56841e+06</td>\n",
       "      <td>8.67109e-09</td>\n",
       "      <td>-7.36367e-09</td>\n",
       "      <td>4.88367e+06</td>\n",
       "      <td>5.71496e-11</td>\n",
       "      <td>-3.99905e-11</td>\n",
       "      <td>803872</td>\n",
       "      <td>261267</td>\n",
       "      <td>261267</td>\n",
       "      <td>1.62319e+06</td>\n",
       "      <td>1.34197e+06</td>\n",
       "      <td>1.54985e+09</td>\n",
       "    </tr>\n",
       "    <tr>\n",
       "      <th>1</th>\n",
       "      <td>509053</td>\n",
       "      <td>509053</td>\n",
       "      <td>4.67399e+06</td>\n",
       "      <td>271881</td>\n",
       "      <td>-177.112</td>\n",
       "      <td>-826782</td>\n",
       "      <td>-3789.59</td>\n",
       "      <td>177.112</td>\n",
       "      <td>3.50819e+06</td>\n",
       "      <td>8.87764e-09</td>\n",
       "      <td>-7.45693e-09</td>\n",
       "      <td>5.00118e+06</td>\n",
       "      <td>5.41601e-11</td>\n",
       "      <td>-6.71209e-11</td>\n",
       "      <td>815483</td>\n",
       "      <td>196913</td>\n",
       "      <td>196913</td>\n",
       "      <td>1.6065e+06</td>\n",
       "      <td>1.40152e+06</td>\n",
       "      <td>1.54985e+09</td>\n",
       "    </tr>\n",
       "    <tr>\n",
       "      <th>2</th>\n",
       "      <td>287507</td>\n",
       "      <td>287507</td>\n",
       "      <td>4.56945e+06</td>\n",
       "      <td>229782</td>\n",
       "      <td>996.617</td>\n",
       "      <td>-885763</td>\n",
       "      <td>-1558.71</td>\n",
       "      <td>-996.617</td>\n",
       "      <td>2.18063e+06</td>\n",
       "      <td>8.72114e-09</td>\n",
       "      <td>-7.3202e-09</td>\n",
       "      <td>4.91323e+06</td>\n",
       "      <td>5.21351e-11</td>\n",
       "      <td>-5.61512e-11</td>\n",
       "      <td>787708</td>\n",
       "      <td>130471</td>\n",
       "      <td>130471</td>\n",
       "      <td>1.62954e+06</td>\n",
       "      <td>1.41702e+06</td>\n",
       "      <td>1.54985e+09</td>\n",
       "    </tr>\n",
       "    <tr>\n",
       "      <th>3</th>\n",
       "      <td>658499</td>\n",
       "      <td>658499</td>\n",
       "      <td>4.41932e+06</td>\n",
       "      <td>285428</td>\n",
       "      <td>-733.005</td>\n",
       "      <td>-707486</td>\n",
       "      <td>-4761.16</td>\n",
       "      <td>733.005</td>\n",
       "      <td>4.1263e+06</td>\n",
       "      <td>8.47848e-09</td>\n",
       "      <td>-7.13898e-09</td>\n",
       "      <td>4.77379e+06</td>\n",
       "      <td>5.02326e-11</td>\n",
       "      <td>-3.68192e-11</td>\n",
       "      <td>791891</td>\n",
       "      <td>257396</td>\n",
       "      <td>257396</td>\n",
       "      <td>1.65109e+06</td>\n",
       "      <td>1.31518e+06</td>\n",
       "      <td>1.54985e+09</td>\n",
       "    </tr>\n",
       "    <tr>\n",
       "      <th>4</th>\n",
       "      <td>314365</td>\n",
       "      <td>314365</td>\n",
       "      <td>4.68515e+06</td>\n",
       "      <td>236544</td>\n",
       "      <td>-555.554</td>\n",
       "      <td>493750</td>\n",
       "      <td>-439.784</td>\n",
       "      <td>555.554</td>\n",
       "      <td>354825</td>\n",
       "      <td>8.90582e-09</td>\n",
       "      <td>-7.53364e-09</td>\n",
       "      <td>5.01745e+06</td>\n",
       "      <td>6.05845e-11</td>\n",
       "      <td>-5.44178e-11</td>\n",
       "      <td>799074</td>\n",
       "      <td>127254</td>\n",
       "      <td>127254</td>\n",
       "      <td>1.60052e+06</td>\n",
       "      <td>1.43478e+06</td>\n",
       "      <td>1.54985e+09</td>\n",
       "    </tr>\n",
       "  </tbody>\n",
       "</table>\n",
       "</div>"
      ],
      "text/plain": [
       "  med_highFreqPerfect_L med_highFreqPerfect_R med_lowFreqPerfect med_rect  \\\n",
       "0                621949                621949        4.54794e+06   291663   \n",
       "1                509053                509053        4.67399e+06   271881   \n",
       "2                287507                287507        4.56945e+06   229782   \n",
       "3                658499                658499        4.41932e+06   285428   \n",
       "4                314365                314365        4.68515e+06   236544   \n",
       "\n",
       "  normVec_highFreqPerfect_L_y normVec_highFreqPerfect_L_z  \\\n",
       "0                    -694.151                     -480402   \n",
       "1                    -177.112                     -826782   \n",
       "2                     996.617                     -885763   \n",
       "3                    -733.005                     -707486   \n",
       "4                    -555.554                      493750   \n",
       "\n",
       "  normVec_highFreqPerfect_R_x normVec_highFreqPerfect_R_y  \\\n",
       "0                    -4068.16                     694.151   \n",
       "1                    -3789.59                     177.112   \n",
       "2                    -1558.71                    -996.617   \n",
       "3                    -4761.16                     733.005   \n",
       "4                    -439.784                     555.554   \n",
       "\n",
       "  normVec_highFreqPerfect_R_z normVec_lowFreqPerfect_x  \\\n",
       "0                 3.56841e+06              8.67109e-09   \n",
       "1                 3.50819e+06              8.87764e-09   \n",
       "2                 2.18063e+06              8.72114e-09   \n",
       "3                  4.1263e+06              8.47848e-09   \n",
       "4                      354825              8.90582e-09   \n",
       "\n",
       "  normVec_lowFreqPerfect_y normVec_lowFreqPerfect_z normVec_rect_x  \\\n",
       "0             -7.36367e-09              4.88367e+06    5.71496e-11   \n",
       "1             -7.45693e-09              5.00118e+06    5.41601e-11   \n",
       "2              -7.3202e-09              4.91323e+06    5.21351e-11   \n",
       "3             -7.13898e-09              4.77379e+06    5.02326e-11   \n",
       "4             -7.53364e-09              5.01745e+06    6.05845e-11   \n",
       "\n",
       "  normVec_rect_y normVec_rect_z std_highFreqPerfect_L std_highFreqPerfect_R  \\\n",
       "0   -3.99905e-11         803872                261267                261267   \n",
       "1   -6.71209e-11         815483                196913                196913   \n",
       "2   -5.61512e-11         787708                130471                130471   \n",
       "3   -3.68192e-11         791891                257396                257396   \n",
       "4   -5.44178e-11         799074                127254                127254   \n",
       "\n",
       "  std_lowFreqPerfect     std_rect         time  \n",
       "0        1.62319e+06  1.34197e+06  1.54985e+09  \n",
       "1         1.6065e+06  1.40152e+06  1.54985e+09  \n",
       "2        1.62954e+06  1.41702e+06  1.54985e+09  \n",
       "3        1.65109e+06  1.31518e+06  1.54985e+09  \n",
       "4        1.60052e+06  1.43478e+06  1.54985e+09  "
      ]
     },
     "execution_count": 10,
     "metadata": {},
     "output_type": "execute_result"
    }
   ],
   "source": [
    "d_df_ampT"
   ]
  },
  {
   "cell_type": "code",
   "execution_count": 7,
   "metadata": {
    "collapsed": false
   },
   "outputs": [
    {
     "data": {
      "text/plain": [
       "509052.69515811227"
      ]
     },
     "execution_count": 7,
     "metadata": {},
     "output_type": "execute_result"
    }
   ],
   "source": [
    "d_df_ampT[\"med_highFreqPerfect_L\"].median()"
   ]
  },
  {
   "cell_type": "code",
   "execution_count": 14,
   "metadata": {
    "collapsed": false
   },
   "outputs": [],
   "source": [
    "#del d_df_ampT[\"normVec_highFreqPerfect_L_x\"]\n",
    "test = pd.DataFrame.median(d_df_ampT, axis=0, skipna=True)"
   ]
  },
  {
   "cell_type": "code",
   "execution_count": 17,
   "metadata": {
    "collapsed": false
   },
   "outputs": [
    {
     "data": {
      "text/plain": [
       "271880.74226969969"
      ]
     },
     "execution_count": 17,
     "metadata": {},
     "output_type": "execute_result"
    }
   ],
   "source": [
    "test[\"med_rect\"]"
   ]
  },
  {
   "cell_type": "code",
   "execution_count": 31,
   "metadata": {
    "collapsed": false
   },
   "outputs": [
    {
     "data": {
      "text/plain": [
       "253204.61594710406"
      ]
     },
     "execution_count": 31,
     "metadata": {},
     "output_type": "execute_result"
    }
   ],
   "source": [
    "d_df_amp[\"pickle_00\"][\"med_rect\"]"
   ]
  },
  {
   "cell_type": "code",
   "execution_count": 47,
   "metadata": {
    "collapsed": true
   },
   "outputs": [],
   "source": [
    "\n",
    "\n",
    "df_concat = pd.concat((d_df_amp['pickle_00'], d_df_amp['pickle_01']))"
   ]
  },
  {
   "cell_type": "code",
   "execution_count": 52,
   "metadata": {
    "collapsed": false
   },
   "outputs": [
    {
     "data": {
      "text/plain": [
       "Series([], dtype: float64)"
      ]
     },
     "execution_count": 52,
     "metadata": {},
     "output_type": "execute_result"
    }
   ],
   "source": [
    "pd.DataFrame.median(d_df_amp.T)"
   ]
  },
  {
   "cell_type": "code",
   "execution_count": 56,
   "metadata": {
    "collapsed": false
   },
   "outputs": [
    {
     "data": {
      "text/html": [
       "<div>\n",
       "<table border=\"1\" class=\"dataframe\">\n",
       "  <thead>\n",
       "    <tr style=\"text-align: right;\">\n",
       "      <th></th>\n",
       "      <th>index</th>\n",
       "      <th>med_highFreqPerfect_L</th>\n",
       "      <th>med_highFreqPerfect_R</th>\n",
       "      <th>med_lowFreqPerfect</th>\n",
       "      <th>med_rect</th>\n",
       "      <th>normVec_highFreqPerfect_L</th>\n",
       "      <th>normVec_highFreqPerfect_R</th>\n",
       "      <th>normVec_highFreqPerfect_R_x</th>\n",
       "      <th>normVec_highFreqPerfect_R_y</th>\n",
       "      <th>normVec_lowFreqPerfect</th>\n",
       "      <th>normVec_lowFreqPerfect_x</th>\n",
       "      <th>normVec_lowFreqPerfect_y</th>\n",
       "      <th>normVec_rect</th>\n",
       "      <th>std_highFreqPerfect_L</th>\n",
       "      <th>std_highFreqPerfect_R</th>\n",
       "      <th>std_lowFreqPerfect</th>\n",
       "      <th>std_rect</th>\n",
       "      <th>time</th>\n",
       "    </tr>\n",
       "  </thead>\n",
       "  <tbody>\n",
       "    <tr>\n",
       "      <th>0</th>\n",
       "      <td>pickle_00</td>\n",
       "      <td>376154</td>\n",
       "      <td>376154</td>\n",
       "      <td>4.59994e+06</td>\n",
       "      <td>253205</td>\n",
       "      <td>[3229.91890036, -306.57564716, -667090.683073]</td>\n",
       "      <td>[-3229.91890036, 306.575647158, 2840921.22077]</td>\n",
       "      <td>3229.92</td>\n",
       "      <td>-306.576</td>\n",
       "      <td>[8.78123618264e-09, -7.4214590029e-09, 4944971...</td>\n",
       "      <td>8.78124e-09</td>\n",
       "      <td>-7.42146e-09</td>\n",
       "      <td>[5.67496440465e-11, -6.87074494521e-11, 808819...</td>\n",
       "      <td>155139</td>\n",
       "      <td>155139</td>\n",
       "      <td>1.60394e+06</td>\n",
       "      <td>1.41134e+06</td>\n",
       "      <td>1.54984e+09</td>\n",
       "    </tr>\n",
       "    <tr>\n",
       "      <th>1</th>\n",
       "      <td>pickle_01</td>\n",
       "      <td>376154</td>\n",
       "      <td>376154</td>\n",
       "      <td>4.59994e+06</td>\n",
       "      <td>253205</td>\n",
       "      <td>[3229.91890036, -306.57564716, -667090.683073]</td>\n",
       "      <td>[-3229.91890036, 306.575647158, 2840921.22077]</td>\n",
       "      <td>3229.92</td>\n",
       "      <td>-306.576</td>\n",
       "      <td>[8.78123618264e-09, -7.4214590029e-09, 4944971...</td>\n",
       "      <td>8.78124e-09</td>\n",
       "      <td>-7.42146e-09</td>\n",
       "      <td>[5.67496440465e-11, -6.87074494521e-11, 808819...</td>\n",
       "      <td>155139</td>\n",
       "      <td>155139</td>\n",
       "      <td>1.60394e+06</td>\n",
       "      <td>1.41134e+06</td>\n",
       "      <td>1.54984e+09</td>\n",
       "    </tr>\n",
       "    <tr>\n",
       "      <th>2</th>\n",
       "      <td>pickle_02</td>\n",
       "      <td>376154</td>\n",
       "      <td>376154</td>\n",
       "      <td>4.59994e+06</td>\n",
       "      <td>253205</td>\n",
       "      <td>[3229.91890036, -306.57564716, -667090.683073]</td>\n",
       "      <td>[-3229.91890036, 306.575647158, 2840921.22077]</td>\n",
       "      <td>3229.92</td>\n",
       "      <td>-306.576</td>\n",
       "      <td>[8.78123618264e-09, -7.4214590029e-09, 4944971...</td>\n",
       "      <td>8.78124e-09</td>\n",
       "      <td>-7.42146e-09</td>\n",
       "      <td>[5.67496440465e-11, -6.87074494521e-11, 808819...</td>\n",
       "      <td>155139</td>\n",
       "      <td>155139</td>\n",
       "      <td>1.60394e+06</td>\n",
       "      <td>1.41134e+06</td>\n",
       "      <td>1.54984e+09</td>\n",
       "    </tr>\n",
       "    <tr>\n",
       "      <th>3</th>\n",
       "      <td>pickle_03</td>\n",
       "      <td>376154</td>\n",
       "      <td>376154</td>\n",
       "      <td>4.59994e+06</td>\n",
       "      <td>253205</td>\n",
       "      <td>[3229.91890036, -306.57564716, -667090.683073]</td>\n",
       "      <td>[-3229.91890036, 306.575647158, 2840921.22077]</td>\n",
       "      <td>3229.92</td>\n",
       "      <td>-306.576</td>\n",
       "      <td>[8.78123618264e-09, -7.4214590029e-09, 4944971...</td>\n",
       "      <td>8.78124e-09</td>\n",
       "      <td>-7.42146e-09</td>\n",
       "      <td>[5.67496440465e-11, -6.87074494521e-11, 808819...</td>\n",
       "      <td>155139</td>\n",
       "      <td>155139</td>\n",
       "      <td>1.60394e+06</td>\n",
       "      <td>1.41134e+06</td>\n",
       "      <td>1.54984e+09</td>\n",
       "    </tr>\n",
       "    <tr>\n",
       "      <th>4</th>\n",
       "      <td>pickle_04</td>\n",
       "      <td>376154</td>\n",
       "      <td>376154</td>\n",
       "      <td>4.59994e+06</td>\n",
       "      <td>253205</td>\n",
       "      <td>[3229.91890036, -306.57564716, -667090.683073]</td>\n",
       "      <td>[-3229.91890036, 306.575647158, 2840921.22077]</td>\n",
       "      <td>3229.92</td>\n",
       "      <td>-306.576</td>\n",
       "      <td>[8.78123618264e-09, -7.4214590029e-09, 4944971...</td>\n",
       "      <td>8.78124e-09</td>\n",
       "      <td>-7.42146e-09</td>\n",
       "      <td>[5.67496440465e-11, -6.87074494521e-11, 808819...</td>\n",
       "      <td>155139</td>\n",
       "      <td>155139</td>\n",
       "      <td>1.60394e+06</td>\n",
       "      <td>1.41134e+06</td>\n",
       "      <td>1.54984e+09</td>\n",
       "    </tr>\n",
       "  </tbody>\n",
       "</table>\n",
       "</div>"
      ],
      "text/plain": [
       "       index med_highFreqPerfect_L med_highFreqPerfect_R med_lowFreqPerfect  \\\n",
       "0  pickle_00                376154                376154        4.59994e+06   \n",
       "1  pickle_01                376154                376154        4.59994e+06   \n",
       "2  pickle_02                376154                376154        4.59994e+06   \n",
       "3  pickle_03                376154                376154        4.59994e+06   \n",
       "4  pickle_04                376154                376154        4.59994e+06   \n",
       "\n",
       "  med_rect                       normVec_highFreqPerfect_L  \\\n",
       "0   253205  [3229.91890036, -306.57564716, -667090.683073]   \n",
       "1   253205  [3229.91890036, -306.57564716, -667090.683073]   \n",
       "2   253205  [3229.91890036, -306.57564716, -667090.683073]   \n",
       "3   253205  [3229.91890036, -306.57564716, -667090.683073]   \n",
       "4   253205  [3229.91890036, -306.57564716, -667090.683073]   \n",
       "\n",
       "                        normVec_highFreqPerfect_R normVec_highFreqPerfect_R_x  \\\n",
       "0  [-3229.91890036, 306.575647158, 2840921.22077]                     3229.92   \n",
       "1  [-3229.91890036, 306.575647158, 2840921.22077]                     3229.92   \n",
       "2  [-3229.91890036, 306.575647158, 2840921.22077]                     3229.92   \n",
       "3  [-3229.91890036, 306.575647158, 2840921.22077]                     3229.92   \n",
       "4  [-3229.91890036, 306.575647158, 2840921.22077]                     3229.92   \n",
       "\n",
       "  normVec_highFreqPerfect_R_y  \\\n",
       "0                    -306.576   \n",
       "1                    -306.576   \n",
       "2                    -306.576   \n",
       "3                    -306.576   \n",
       "4                    -306.576   \n",
       "\n",
       "                              normVec_lowFreqPerfect normVec_lowFreqPerfect_x  \\\n",
       "0  [8.78123618264e-09, -7.4214590029e-09, 4944971...              8.78124e-09   \n",
       "1  [8.78123618264e-09, -7.4214590029e-09, 4944971...              8.78124e-09   \n",
       "2  [8.78123618264e-09, -7.4214590029e-09, 4944971...              8.78124e-09   \n",
       "3  [8.78123618264e-09, -7.4214590029e-09, 4944971...              8.78124e-09   \n",
       "4  [8.78123618264e-09, -7.4214590029e-09, 4944971...              8.78124e-09   \n",
       "\n",
       "  normVec_lowFreqPerfect_y                                       normVec_rect  \\\n",
       "0             -7.42146e-09  [5.67496440465e-11, -6.87074494521e-11, 808819...   \n",
       "1             -7.42146e-09  [5.67496440465e-11, -6.87074494521e-11, 808819...   \n",
       "2             -7.42146e-09  [5.67496440465e-11, -6.87074494521e-11, 808819...   \n",
       "3             -7.42146e-09  [5.67496440465e-11, -6.87074494521e-11, 808819...   \n",
       "4             -7.42146e-09  [5.67496440465e-11, -6.87074494521e-11, 808819...   \n",
       "\n",
       "  std_highFreqPerfect_L std_highFreqPerfect_R std_lowFreqPerfect     std_rect  \\\n",
       "0                155139                155139        1.60394e+06  1.41134e+06   \n",
       "1                155139                155139        1.60394e+06  1.41134e+06   \n",
       "2                155139                155139        1.60394e+06  1.41134e+06   \n",
       "3                155139                155139        1.60394e+06  1.41134e+06   \n",
       "4                155139                155139        1.60394e+06  1.41134e+06   \n",
       "\n",
       "          time  \n",
       "0  1.54984e+09  \n",
       "1  1.54984e+09  \n",
       "2  1.54984e+09  \n",
       "3  1.54984e+09  \n",
       "4  1.54984e+09  "
      ]
     },
     "execution_count": 56,
     "metadata": {},
     "output_type": "execute_result"
    }
   ],
   "source": [
    "d_df_amp.T.reset_index()"
   ]
  },
  {
   "cell_type": "code",
   "execution_count": 60,
   "metadata": {
    "collapsed": false
   },
   "outputs": [
    {
     "data": {
      "text/html": [
       "<div>\n",
       "<table border=\"1\" class=\"dataframe\">\n",
       "  <thead>\n",
       "    <tr style=\"text-align: right;\">\n",
       "      <th></th>\n",
       "      <th>index</th>\n",
       "      <th>med_highFreqPerfect_L</th>\n",
       "      <th>med_highFreqPerfect_R</th>\n",
       "      <th>med_lowFreqPerfect</th>\n",
       "      <th>med_rect</th>\n",
       "      <th>normVec_highFreqPerfect_L</th>\n",
       "      <th>normVec_highFreqPerfect_R</th>\n",
       "      <th>normVec_highFreqPerfect_R_x</th>\n",
       "      <th>normVec_highFreqPerfect_R_y</th>\n",
       "      <th>normVec_lowFreqPerfect</th>\n",
       "      <th>normVec_lowFreqPerfect_x</th>\n",
       "      <th>normVec_lowFreqPerfect_y</th>\n",
       "      <th>normVec_rect</th>\n",
       "      <th>std_highFreqPerfect_L</th>\n",
       "      <th>std_highFreqPerfect_R</th>\n",
       "      <th>std_lowFreqPerfect</th>\n",
       "      <th>std_rect</th>\n",
       "      <th>time</th>\n",
       "    </tr>\n",
       "  </thead>\n",
       "  <tbody>\n",
       "    <tr>\n",
       "      <th>0</th>\n",
       "      <td>pickle_00</td>\n",
       "      <td>376154</td>\n",
       "      <td>376154</td>\n",
       "      <td>4.59994e+06</td>\n",
       "      <td>253205</td>\n",
       "      <td>[3229.91890036, -306.57564716, -667090.683073]</td>\n",
       "      <td>[-3229.91890036, 306.575647158, 2840921.22077]</td>\n",
       "      <td>3229.92</td>\n",
       "      <td>-306.576</td>\n",
       "      <td>[8.78123618264e-09, -7.4214590029e-09, 4944971...</td>\n",
       "      <td>8.78124e-09</td>\n",
       "      <td>-7.42146e-09</td>\n",
       "      <td>[5.67496440465e-11, -6.87074494521e-11, 808819...</td>\n",
       "      <td>155139</td>\n",
       "      <td>155139</td>\n",
       "      <td>1.60394e+06</td>\n",
       "      <td>1.41134e+06</td>\n",
       "      <td>1.54984e+09</td>\n",
       "    </tr>\n",
       "    <tr>\n",
       "      <th>1</th>\n",
       "      <td>pickle_01</td>\n",
       "      <td>376154</td>\n",
       "      <td>376154</td>\n",
       "      <td>4.59994e+06</td>\n",
       "      <td>253205</td>\n",
       "      <td>[3229.91890036, -306.57564716, -667090.683073]</td>\n",
       "      <td>[-3229.91890036, 306.575647158, 2840921.22077]</td>\n",
       "      <td>3229.92</td>\n",
       "      <td>-306.576</td>\n",
       "      <td>[8.78123618264e-09, -7.4214590029e-09, 4944971...</td>\n",
       "      <td>8.78124e-09</td>\n",
       "      <td>-7.42146e-09</td>\n",
       "      <td>[5.67496440465e-11, -6.87074494521e-11, 808819...</td>\n",
       "      <td>155139</td>\n",
       "      <td>155139</td>\n",
       "      <td>1.60394e+06</td>\n",
       "      <td>1.41134e+06</td>\n",
       "      <td>1.54984e+09</td>\n",
       "    </tr>\n",
       "    <tr>\n",
       "      <th>2</th>\n",
       "      <td>pickle_02</td>\n",
       "      <td>376154</td>\n",
       "      <td>376154</td>\n",
       "      <td>4.59994e+06</td>\n",
       "      <td>253205</td>\n",
       "      <td>[3229.91890036, -306.57564716, -667090.683073]</td>\n",
       "      <td>[-3229.91890036, 306.575647158, 2840921.22077]</td>\n",
       "      <td>3229.92</td>\n",
       "      <td>-306.576</td>\n",
       "      <td>[8.78123618264e-09, -7.4214590029e-09, 4944971...</td>\n",
       "      <td>8.78124e-09</td>\n",
       "      <td>-7.42146e-09</td>\n",
       "      <td>[5.67496440465e-11, -6.87074494521e-11, 808819...</td>\n",
       "      <td>155139</td>\n",
       "      <td>155139</td>\n",
       "      <td>1.60394e+06</td>\n",
       "      <td>1.41134e+06</td>\n",
       "      <td>1.54984e+09</td>\n",
       "    </tr>\n",
       "    <tr>\n",
       "      <th>3</th>\n",
       "      <td>pickle_03</td>\n",
       "      <td>376154</td>\n",
       "      <td>376154</td>\n",
       "      <td>4.59994e+06</td>\n",
       "      <td>253205</td>\n",
       "      <td>[3229.91890036, -306.57564716, -667090.683073]</td>\n",
       "      <td>[-3229.91890036, 306.575647158, 2840921.22077]</td>\n",
       "      <td>3229.92</td>\n",
       "      <td>-306.576</td>\n",
       "      <td>[8.78123618264e-09, -7.4214590029e-09, 4944971...</td>\n",
       "      <td>8.78124e-09</td>\n",
       "      <td>-7.42146e-09</td>\n",
       "      <td>[5.67496440465e-11, -6.87074494521e-11, 808819...</td>\n",
       "      <td>155139</td>\n",
       "      <td>155139</td>\n",
       "      <td>1.60394e+06</td>\n",
       "      <td>1.41134e+06</td>\n",
       "      <td>1.54984e+09</td>\n",
       "    </tr>\n",
       "    <tr>\n",
       "      <th>4</th>\n",
       "      <td>pickle_04</td>\n",
       "      <td>376154</td>\n",
       "      <td>376154</td>\n",
       "      <td>4.59994e+06</td>\n",
       "      <td>253205</td>\n",
       "      <td>[3229.91890036, -306.57564716, -667090.683073]</td>\n",
       "      <td>[-3229.91890036, 306.575647158, 2840921.22077]</td>\n",
       "      <td>3229.92</td>\n",
       "      <td>-306.576</td>\n",
       "      <td>[8.78123618264e-09, -7.4214590029e-09, 4944971...</td>\n",
       "      <td>8.78124e-09</td>\n",
       "      <td>-7.42146e-09</td>\n",
       "      <td>[5.67496440465e-11, -6.87074494521e-11, 808819...</td>\n",
       "      <td>155139</td>\n",
       "      <td>155139</td>\n",
       "      <td>1.60394e+06</td>\n",
       "      <td>1.41134e+06</td>\n",
       "      <td>1.54984e+09</td>\n",
       "    </tr>\n",
       "  </tbody>\n",
       "</table>\n",
       "</div>"
      ],
      "text/plain": [
       "       index med_highFreqPerfect_L med_highFreqPerfect_R med_lowFreqPerfect  \\\n",
       "0  pickle_00                376154                376154        4.59994e+06   \n",
       "1  pickle_01                376154                376154        4.59994e+06   \n",
       "2  pickle_02                376154                376154        4.59994e+06   \n",
       "3  pickle_03                376154                376154        4.59994e+06   \n",
       "4  pickle_04                376154                376154        4.59994e+06   \n",
       "\n",
       "  med_rect                       normVec_highFreqPerfect_L  \\\n",
       "0   253205  [3229.91890036, -306.57564716, -667090.683073]   \n",
       "1   253205  [3229.91890036, -306.57564716, -667090.683073]   \n",
       "2   253205  [3229.91890036, -306.57564716, -667090.683073]   \n",
       "3   253205  [3229.91890036, -306.57564716, -667090.683073]   \n",
       "4   253205  [3229.91890036, -306.57564716, -667090.683073]   \n",
       "\n",
       "                        normVec_highFreqPerfect_R normVec_highFreqPerfect_R_x  \\\n",
       "0  [-3229.91890036, 306.575647158, 2840921.22077]                     3229.92   \n",
       "1  [-3229.91890036, 306.575647158, 2840921.22077]                     3229.92   \n",
       "2  [-3229.91890036, 306.575647158, 2840921.22077]                     3229.92   \n",
       "3  [-3229.91890036, 306.575647158, 2840921.22077]                     3229.92   \n",
       "4  [-3229.91890036, 306.575647158, 2840921.22077]                     3229.92   \n",
       "\n",
       "  normVec_highFreqPerfect_R_y  \\\n",
       "0                    -306.576   \n",
       "1                    -306.576   \n",
       "2                    -306.576   \n",
       "3                    -306.576   \n",
       "4                    -306.576   \n",
       "\n",
       "                              normVec_lowFreqPerfect normVec_lowFreqPerfect_x  \\\n",
       "0  [8.78123618264e-09, -7.4214590029e-09, 4944971...              8.78124e-09   \n",
       "1  [8.78123618264e-09, -7.4214590029e-09, 4944971...              8.78124e-09   \n",
       "2  [8.78123618264e-09, -7.4214590029e-09, 4944971...              8.78124e-09   \n",
       "3  [8.78123618264e-09, -7.4214590029e-09, 4944971...              8.78124e-09   \n",
       "4  [8.78123618264e-09, -7.4214590029e-09, 4944971...              8.78124e-09   \n",
       "\n",
       "  normVec_lowFreqPerfect_y                                       normVec_rect  \\\n",
       "0             -7.42146e-09  [5.67496440465e-11, -6.87074494521e-11, 808819...   \n",
       "1             -7.42146e-09  [5.67496440465e-11, -6.87074494521e-11, 808819...   \n",
       "2             -7.42146e-09  [5.67496440465e-11, -6.87074494521e-11, 808819...   \n",
       "3             -7.42146e-09  [5.67496440465e-11, -6.87074494521e-11, 808819...   \n",
       "4             -7.42146e-09  [5.67496440465e-11, -6.87074494521e-11, 808819...   \n",
       "\n",
       "  std_highFreqPerfect_L std_highFreqPerfect_R std_lowFreqPerfect     std_rect  \\\n",
       "0                155139                155139        1.60394e+06  1.41134e+06   \n",
       "1                155139                155139        1.60394e+06  1.41134e+06   \n",
       "2                155139                155139        1.60394e+06  1.41134e+06   \n",
       "3                155139                155139        1.60394e+06  1.41134e+06   \n",
       "4                155139                155139        1.60394e+06  1.41134e+06   \n",
       "\n",
       "          time  \n",
       "0  1.54984e+09  \n",
       "1  1.54984e+09  \n",
       "2  1.54984e+09  \n",
       "3  1.54984e+09  \n",
       "4  1.54984e+09  "
      ]
     },
     "execution_count": 60,
     "metadata": {},
     "output_type": "execute_result"
    }
   ],
   "source": [
    "d_df_amp.T.reset_index()"
   ]
  },
  {
   "cell_type": "code",
   "execution_count": 58,
   "metadata": {
    "collapsed": false
   },
   "outputs": [
    {
     "data": {
      "text/plain": [
       "Series([], dtype: float64)"
      ]
     },
     "execution_count": 58,
     "metadata": {},
     "output_type": "execute_result"
    }
   ],
   "source": [
    "pd.DataFrame.median(d_df_amp.T, skipna=True)"
   ]
  },
  {
   "cell_type": "code",
   "execution_count": 82,
   "metadata": {
    "collapsed": false
   },
   "outputs": [
    {
     "ename": "TypeError",
     "evalue": "'DataFrame' object is not callable",
     "output_type": "error",
     "traceback": [
      "\u001b[0;31m---------------------------------------------------------------------------\u001b[0m",
      "\u001b[0;31mTypeError\u001b[0m                                 Traceback (most recent call last)",
      "\u001b[0;32m<ipython-input-82-928ee3dff903>\u001b[0m in \u001b[0;36m<module>\u001b[0;34m()\u001b[0m\n\u001b[0;32m----> 1\u001b[0;31m \u001b[0md_df_amp\u001b[0m\u001b[0;34m.\u001b[0m\u001b[0mT\u001b[0m\u001b[0;34m(\u001b[0m\u001b[0;34m[\u001b[0m\u001b[0;34m\"med_highFreqPerfect_L\"\u001b[0m\u001b[0;34m]\u001b[0m\u001b[0;34m,\u001b[0m\u001b[0;34m[\u001b[0m\u001b[0;34m\"med_highFreqPerfect_R\"\u001b[0m\u001b[0;34m]\u001b[0m\u001b[0;34m)\u001b[0m\u001b[0;34m\u001b[0m\u001b[0m\n\u001b[0m",
      "\u001b[0;31mTypeError\u001b[0m: 'DataFrame' object is not callable"
     ]
    }
   ],
   "source": [
    "d_df_amp.T([\"med_highFreqPerfect_L\"],[\"med_highFreqPerfect_R\"]"
   ]
  },
  {
   "cell_type": "code",
   "execution_count": 98,
   "metadata": {
    "collapsed": false
   },
   "outputs": [],
   "source": [
    "test_df = pd.DataFrame(d_df_amp.T.iloc[:,-5:-1])"
   ]
  },
  {
   "cell_type": "code",
   "execution_count": 99,
   "metadata": {
    "collapsed": false
   },
   "outputs": [
    {
     "data": {
      "text/html": [
       "<div>\n",
       "<table border=\"1\" class=\"dataframe\">\n",
       "  <thead>\n",
       "    <tr style=\"text-align: right;\">\n",
       "      <th></th>\n",
       "      <th>std_highFreqPerfect_L</th>\n",
       "      <th>std_highFreqPerfect_R</th>\n",
       "      <th>std_lowFreqPerfect</th>\n",
       "      <th>std_rect</th>\n",
       "    </tr>\n",
       "  </thead>\n",
       "  <tbody>\n",
       "    <tr>\n",
       "      <th>pickle_00</th>\n",
       "      <td>155139</td>\n",
       "      <td>155139</td>\n",
       "      <td>1.60394e+06</td>\n",
       "      <td>1.41134e+06</td>\n",
       "    </tr>\n",
       "    <tr>\n",
       "      <th>pickle_01</th>\n",
       "      <td>155139</td>\n",
       "      <td>155139</td>\n",
       "      <td>1.60394e+06</td>\n",
       "      <td>1.41134e+06</td>\n",
       "    </tr>\n",
       "    <tr>\n",
       "      <th>pickle_02</th>\n",
       "      <td>155139</td>\n",
       "      <td>155139</td>\n",
       "      <td>1.60394e+06</td>\n",
       "      <td>1.41134e+06</td>\n",
       "    </tr>\n",
       "    <tr>\n",
       "      <th>pickle_03</th>\n",
       "      <td>155139</td>\n",
       "      <td>155139</td>\n",
       "      <td>1.60394e+06</td>\n",
       "      <td>1.41134e+06</td>\n",
       "    </tr>\n",
       "    <tr>\n",
       "      <th>pickle_04</th>\n",
       "      <td>155139</td>\n",
       "      <td>155139</td>\n",
       "      <td>1.60394e+06</td>\n",
       "      <td>1.41134e+06</td>\n",
       "    </tr>\n",
       "  </tbody>\n",
       "</table>\n",
       "</div>"
      ],
      "text/plain": [
       "          std_highFreqPerfect_L std_highFreqPerfect_R std_lowFreqPerfect  \\\n",
       "pickle_00                155139                155139        1.60394e+06   \n",
       "pickle_01                155139                155139        1.60394e+06   \n",
       "pickle_02                155139                155139        1.60394e+06   \n",
       "pickle_03                155139                155139        1.60394e+06   \n",
       "pickle_04                155139                155139        1.60394e+06   \n",
       "\n",
       "              std_rect  \n",
       "pickle_00  1.41134e+06  \n",
       "pickle_01  1.41134e+06  \n",
       "pickle_02  1.41134e+06  \n",
       "pickle_03  1.41134e+06  \n",
       "pickle_04  1.41134e+06  "
      ]
     },
     "execution_count": 99,
     "metadata": {},
     "output_type": "execute_result"
    }
   ],
   "source": [
    "test_df"
   ]
  },
  {
   "cell_type": "code",
   "execution_count": 100,
   "metadata": {
    "collapsed": false
   },
   "outputs": [
    {
     "data": {
      "text/plain": [
       "std_highFreqPerfect_L    1.551390e+05\n",
       "std_highFreqPerfect_R    1.551390e+05\n",
       "std_lowFreqPerfect       1.603935e+06\n",
       "std_rect                 1.411342e+06\n",
       "dtype: float64"
      ]
     },
     "execution_count": 100,
     "metadata": {},
     "output_type": "execute_result"
    }
   ],
   "source": [
    "pd.DataFrame.median(test_df)"
   ]
  },
  {
   "cell_type": "code",
   "execution_count": null,
   "metadata": {
    "collapsed": true
   },
   "outputs": [],
   "source": []
  }
 ],
 "metadata": {
  "kernelspec": {
   "display_name": "Python 2",
   "language": "python",
   "name": "python2"
  },
  "language_info": {
   "codemirror_mode": {
    "name": "ipython",
    "version": 2
   },
   "file_extension": ".py",
   "mimetype": "text/x-python",
   "name": "python",
   "nbconvert_exporter": "python",
   "pygments_lexer": "ipython2",
   "version": "2.7.11"
  }
 },
 "nbformat": 4,
 "nbformat_minor": 0
}
