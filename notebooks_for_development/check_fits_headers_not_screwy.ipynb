{
 "cells": [
  {
   "cell_type": "code",
   "execution_count": null,
   "metadata": {
    "collapsed": true
   },
   "outputs": [],
   "source": [
    "# go through frames, read headers, check to make sure they look OK\n",
    "\n",
    "# created 2019 Jan 29 by E.S."
   ]
  },
  {
   "cell_type": "code",
   "execution_count": null,
   "metadata": {
    "collapsed": true
   },
   "outputs": [],
   "source": [
    "import pyfits\n",
    "import numpy as np"
   ]
  },
  {
   "cell_type": "code",
   "execution_count": null,
   "metadata": {
    "collapsed": true
   },
   "outputs": [],
   "source": [
    "# first frame\n",
    "\n",
    "framenum = 0\n",
    "img_string = 'lm_190130_'+str(\"{:0>6d}\".format(framenum))+'.fits'\n",
    "sciImg1, header1 = fits.getdata(img_string,0,header=True)"
   ]
  },
  {
   "cell_type": "code",
   "execution_count": null,
   "metadata": {
    "collapsed": true
   },
   "outputs": [],
   "source": [
    "for framenum in range(0,4700):\n",
    "    \n",
    "    img_string = 'lm_190130_'+str(\"{:0>6d}\".format(framenum))+'.fits'\n",
    "    sciImg, header = pyfits.getdata(img_string,0,header=True)\n",
    "    \n",
    "    # loop through header keys and see if they're all in the first frame's header\n",
    "    for hdr_num in range(0,len(header)):\n",
    "        \n",
    "        if header[hdr_num] not in header1:\n",
    "            print('----------')\n",
    "            print(framenum)\n",
    "            print(header[hdr_num])"
   ]
  }
 ],
 "metadata": {
  "kernelspec": {
   "display_name": "Python 2",
   "language": "python",
   "name": "python2"
  },
  "language_info": {
   "codemirror_mode": {
    "name": "ipython",
    "version": 2
   },
   "file_extension": ".py",
   "mimetype": "text/x-python",
   "name": "python",
   "nbconvert_exporter": "python",
   "pygments_lexer": "ipython2",
   "version": "2.7.11"
  }
 },
 "nbformat": 4,
 "nbformat_minor": 0
}
