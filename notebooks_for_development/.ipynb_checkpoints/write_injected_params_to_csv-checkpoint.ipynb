{
 "cells": [
  {
   "cell_type": "code",
   "execution_count": null,
   "metadata": {},
   "outputs": [],
   "source": [
    "# This reads in FITS files and extracts injected parameters (OPD, tip, tilt, x, y)\n",
    "# and writes them to a csv\n",
    "\n",
    "# Created 2020 Jan 1 by E.S."
   ]
  },
  {
   "cell_type": "code",
   "execution_count": 1,
   "metadata": {},
   "outputs": [],
   "source": [
    "import glob\n",
    "from astropy.io import fits\n",
    "import pandas as pd"
   ]
  },
  {
   "cell_type": "code",
   "execution_count": 2,
   "metadata": {},
   "outputs": [],
   "source": [
    "# trial1 synthetic dataset\n",
    "\n",
    "file_list = glob.glob(\"*trial5*.fits\")\n",
    "\n",
    "# initialize, considering elements strings\n",
    "df = pd.DataFrame('', index=range(0,len(file_list)), \n",
    "                  columns=['filename','opd','tip','tilt','x_shift','y_shift'])\n",
    "\n",
    "for f in range(0,len(file_list)):\n",
    "\n",
    "    image, hdr = fits.getdata(file_list[f],0,header=True)\n",
    "    \n",
    "    df.iloc[f][\"filename\"] = str(file_list[f])\n",
    "    df.iloc[f][\"opd\"] = hdr[\"OPD_UM\"]\n",
    "    df.iloc[f][\"tip\"] = hdr[\"TIPY_MAS\"]\n",
    "    df.iloc[f][\"tilt\"] = hdr[\"TILTXMAS\"]\n",
    "    \n",
    "    # some datasets have these too\n",
    "    if (\"X_SHIFT\" in list(hdr.keys())):\n",
    "        df.iloc[f][\"x_shift\"] = hdr[\"X_SHIFT\"]\n",
    "        df.iloc[f][\"y_shift\"] = hdr[\"Y_SHIFT\"]\n",
    "        \n",
    "    \n",
    "# write out\n",
    "df.to_csv(\"junk2.csv\", index=False)"
   ]
  },
  {
   "cell_type": "code",
   "execution_count": null,
   "metadata": {},
   "outputs": [],
   "source": []
  }
 ],
 "metadata": {
  "kernelspec": {
   "display_name": "Python 3",
   "language": "python",
   "name": "python3"
  },
  "language_info": {
   "codemirror_mode": {
    "name": "ipython",
    "version": 3
   },
   "file_extension": ".py",
   "mimetype": "text/x-python",
   "name": "python",
   "nbconvert_exporter": "python",
   "pygments_lexer": "ipython3",
   "version": "3.6.6"
  }
 },
 "nbformat": 4,
 "nbformat_minor": 2
}
