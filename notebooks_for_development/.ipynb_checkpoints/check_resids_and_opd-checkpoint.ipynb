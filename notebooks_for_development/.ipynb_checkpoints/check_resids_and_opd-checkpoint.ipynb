{
 "cells": [
  {
   "cell_type": "code",
   "execution_count": 1,
   "metadata": {
    "collapsed": true
   },
   "outputs": [],
   "source": [
    "# This notebook reads in .csvs containing correlation residuals from Fizeau\n",
    "# grism PSFs and plots them as a function of OPD (or translation/piezo piston)\n",
    "# to see if we really have passed over zero OPD\n",
    "\n",
    "# created 2018 Dec 21 by E.S."
   ]
  },
  {
   "cell_type": "code",
   "execution_count": 1,
   "metadata": {},
   "outputs": [],
   "source": [
    "import numpy as np\n",
    "import matplotlib.pyplot as plt\n",
    "import pandas as pd\n",
    "% matplotlib inline"
   ]
  },
  {
   "cell_type": "code",
   "execution_count": 2,
   "metadata": {},
   "outputs": [],
   "source": [
    "###################################"
   ]
  },
  {
   "cell_type": "markdown",
   "metadata": {},
   "source": [
    "# Test residuals of grism scan"
   ]
  },
  {
   "cell_type": "code",
   "execution_count": 3,
   "metadata": {},
   "outputs": [],
   "source": [
    "df = pd.read_csv(\"resids_test.csv\")"
   ]
  },
  {
   "cell_type": "code",
   "execution_count": 4,
   "metadata": {},
   "outputs": [
    {
     "name": "stderr",
     "output_type": "stream",
     "text": [
      "/Users/nyumbani/anaconda3/envs/py366/lib/python3.6/site-packages/ipykernel_launcher.py:3: RankWarning: Polyfit may be poorly conditioned\n",
      "  This is separate from the ipykernel package so we can avoid doing imports until\n"
     ]
    }
   ],
   "source": [
    "# fit a second-order polynomial\n",
    "\n",
    "coeffs = np.polyfit(df[\"spc_trans_position\"], df[\"resid\"], 2)"
   ]
  },
  {
   "cell_type": "code",
   "execution_count": 4,
   "metadata": {},
   "outputs": [
    {
     "data": {
      "text/plain": [
       "Index(['Unnamed: 0', 'step', 'spc_trans_position', 'spc_trans_position_opd_um',\n",
       "       'hpc_piezo_piston', 'hpc_piezo_piston_opd_um', 'fpc_piezo_piston',\n",
       "       'fpc_piezo_piston_opd_um', 'resid'],\n",
       "      dtype='object')"
      ]
     },
     "execution_count": 4,
     "metadata": {},
     "output_type": "execute_result"
    }
   ],
   "source": [
    "df.keys()"
   ]
  },
  {
   "cell_type": "code",
   "execution_count": 5,
   "metadata": {},
   "outputs": [
    {
     "data": {
      "text/plain": [
       "array([-1.45133772e+09, -9.79652962e+11, -6.61265750e+14])"
      ]
     },
     "execution_count": 5,
     "metadata": {},
     "output_type": "execute_result"
    }
   ],
   "source": [
    "coeffs"
   ]
  },
  {
   "cell_type": "code",
   "execution_count": 7,
   "metadata": {
    "collapsed": true
   },
   "outputs": [],
   "source": [
    "# coefficients of fit\n",
    "\n",
    "coeffs = [1.09819684e+05, -8.94695081e+10,  1.82191771e+16]"
   ]
  },
  {
   "cell_type": "code",
   "execution_count": 8,
   "metadata": {},
   "outputs": [],
   "source": [
    "y_series = coeffs[2] + coeffs[1]*df[\"spc_trans_position\"] + coeffs[0]*df[\"spc_trans_position\"]**2"
   ]
  },
  {
   "cell_type": "code",
   "execution_count": 10,
   "metadata": {},
   "outputs": [
    {
     "data": {
      "image/png": "[encoded data removed]",
      "text/plain": [
       "<Figure size 432x288 with 1 Axes>"
      ]
     },
     "metadata": {
      "needs_background": "light"
     },
     "output_type": "display_data"
    }
   ],
   "source": [
    "## do I want np.abs(df[\"resid\"]) instead?\n",
    "\n",
    "plt.plot(df[\"spc_trans_position\"],df[\"resid\"])\n",
    "plt.scatter(df[\"spc_trans_position\"],df[\"resid\"])\n",
    "plt.plot(df[\"spc_trans_position\"], y_series)\n",
    "plt.xlabel(\"SPC position\")\n",
    "plt.ylabel(\"residuals\")\n",
    "plt.show()\n",
    "#plt.savefig('scan_test_polyn.png')"
   ]
  },
  {
   "cell_type": "code",
   "execution_count": 23,
   "metadata": {},
   "outputs": [
    {
     "data": {
      "text/plain": [
       "0    416851.0\n",
       "1    416876.0\n",
       "2    416901.0\n",
       "3    416926.0\n",
       "Name: spc_trans_position, dtype: float64"
      ]
     },
     "execution_count": 23,
     "metadata": {},
     "output_type": "execute_result"
    }
   ],
   "source": [
    "df[\"spc_trans_position\"]"
   ]
  },
  {
   "cell_type": "markdown",
   "metadata": {
    "collapsed": true
   },
   "source": [
    "# Test FFT quantities from a series of Fizeau Airy PSFs, to see of it makes sense to base a correction off a median"
   ]
  },
  {
   "cell_type": "code",
   "execution_count": 9,
   "metadata": {},
   "outputs": [],
   "source": [
    "fftInfo_amp = pd.read_csv(\"fft_amp_3.csv\")\n",
    "fftInfo_arg = pd.read_csv(\"fft_arg_3.csv\")\n",
    "fftInfo_amp2 = pd.read_csv(\"fft_amp_2.csv\")\n",
    "fftInfo_amp1 = pd.read_csv(\"fft_amp_1.csv\")"
   ]
  },
  {
   "cell_type": "code",
   "execution_count": 6,
   "metadata": {},
   "outputs": [
    {
     "data": {
      "text/html": [
       "<div>\n",
       "<style scoped>\n",
       "    .dataframe tbody tr th:only-of-type {\n",
       "        vertical-align: middle;\n",
       "    }\n",
       "\n",
       "    .dataframe tbody tr th {\n",
       "        vertical-align: top;\n",
       "    }\n",
       "\n",
       "    .dataframe thead th {\n",
       "        text-align: right;\n",
       "    }\n",
       "</style>\n",
       "<table border=\"1\" class=\"dataframe\">\n",
       "  <thead>\n",
       "    <tr style=\"text-align: right;\">\n",
       "      <th></th>\n",
       "      <th>Unnamed: 0</th>\n",
       "      <th>dummy</th>\n",
       "      <th>med_highFreqPerfect_L</th>\n",
       "      <th>med_highFreqPerfect_R</th>\n",
       "      <th>med_lowFreqPerfect</th>\n",
       "      <th>med_rect</th>\n",
       "      <th>normVec_highFreqPerfect_L_x</th>\n",
       "      <th>normVec_highFreqPerfect_L_y</th>\n",
       "      <th>normVec_highFreqPerfect_L_z</th>\n",
       "      <th>normVec_highFreqPerfect_R_x</th>\n",
       "      <th>...</th>\n",
       "      <th>normVec_lowFreqPerfect_y</th>\n",
       "      <th>normVec_lowFreqPerfect_z</th>\n",
       "      <th>normVec_rect_x</th>\n",
       "      <th>normVec_rect_y</th>\n",
       "      <th>normVec_rect_z</th>\n",
       "      <th>std_highFreqPerfect_L</th>\n",
       "      <th>std_highFreqPerfect_R</th>\n",
       "      <th>std_lowFreqPerfect</th>\n",
       "      <th>std_rect</th>\n",
       "      <th>time</th>\n",
       "    </tr>\n",
       "  </thead>\n",
       "  <tbody>\n",
       "    <tr>\n",
       "      <th>0</th>\n",
       "      <td>0</td>\n",
       "      <td>0.1</td>\n",
       "      <td>237277.819684</td>\n",
       "      <td>237277.819684</td>\n",
       "      <td>252662.300611</td>\n",
       "      <td>239570.910326</td>\n",
       "      <td>-529.206615</td>\n",
       "      <td>-140.542383</td>\n",
       "      <td>5.651358e+05</td>\n",
       "      <td>529.206615</td>\n",
       "      <td>...</td>\n",
       "      <td>-1.316312e-09</td>\n",
       "      <td>804922.121712</td>\n",
       "      <td>5.458430e-13</td>\n",
       "      <td>-1.466947e-10</td>\n",
       "      <td>543043.665491</td>\n",
       "      <td>122309.552155</td>\n",
       "      <td>122309.552155</td>\n",
       "      <td>2.044471e+06</td>\n",
       "      <td>1.474533e+06</td>\n",
       "      <td>1.555722e+09</td>\n",
       "    </tr>\n",
       "    <tr>\n",
       "      <th>1</th>\n",
       "      <td>1</td>\n",
       "      <td>0.1</td>\n",
       "      <td>225599.337010</td>\n",
       "      <td>225599.337010</td>\n",
       "      <td>257380.114113</td>\n",
       "      <td>246653.748687</td>\n",
       "      <td>-1138.157265</td>\n",
       "      <td>-2703.490605</td>\n",
       "      <td>2.334902e+06</td>\n",
       "      <td>1138.157265</td>\n",
       "      <td>...</td>\n",
       "      <td>-1.007078e-09</td>\n",
       "      <td>797502.603334</td>\n",
       "      <td>-2.908375e-12</td>\n",
       "      <td>-1.423972e-12</td>\n",
       "      <td>509429.780836</td>\n",
       "      <td>107780.688901</td>\n",
       "      <td>107780.688901</td>\n",
       "      <td>2.028824e+06</td>\n",
       "      <td>1.377292e+06</td>\n",
       "      <td>1.555722e+09</td>\n",
       "    </tr>\n",
       "    <tr>\n",
       "      <th>2</th>\n",
       "      <td>2</td>\n",
       "      <td>0.1</td>\n",
       "      <td>206614.824325</td>\n",
       "      <td>206614.824325</td>\n",
       "      <td>252946.295180</td>\n",
       "      <td>229783.574149</td>\n",
       "      <td>-606.507385</td>\n",
       "      <td>-443.271777</td>\n",
       "      <td>7.359176e+05</td>\n",
       "      <td>606.507385</td>\n",
       "      <td>...</td>\n",
       "      <td>-1.133470e-09</td>\n",
       "      <td>802464.855688</td>\n",
       "      <td>-3.159105e-12</td>\n",
       "      <td>-5.409007e-13</td>\n",
       "      <td>501717.753566</td>\n",
       "      <td>82972.475355</td>\n",
       "      <td>82972.475355</td>\n",
       "      <td>2.033601e+06</td>\n",
       "      <td>1.393909e+06</td>\n",
       "      <td>1.555722e+09</td>\n",
       "    </tr>\n",
       "    <tr>\n",
       "      <th>3</th>\n",
       "      <td>3</td>\n",
       "      <td>0.1</td>\n",
       "      <td>224464.790315</td>\n",
       "      <td>224464.790315</td>\n",
       "      <td>253329.619209</td>\n",
       "      <td>227953.309894</td>\n",
       "      <td>-615.926612</td>\n",
       "      <td>-1584.198271</td>\n",
       "      <td>1.437171e+06</td>\n",
       "      <td>615.926612</td>\n",
       "      <td>...</td>\n",
       "      <td>-1.761410e-09</td>\n",
       "      <td>805225.460955</td>\n",
       "      <td>-1.291398e-12</td>\n",
       "      <td>-4.088374e-11</td>\n",
       "      <td>501597.156089</td>\n",
       "      <td>90296.183186</td>\n",
       "      <td>90296.183186</td>\n",
       "      <td>2.054083e+06</td>\n",
       "      <td>1.411089e+06</td>\n",
       "      <td>1.555722e+09</td>\n",
       "    </tr>\n",
       "  </tbody>\n",
       "</table>\n",
       "<p>4 rows × 23 columns</p>\n",
       "</div>"
      ],
      "text/plain": [
       "   Unnamed: 0  dummy  med_highFreqPerfect_L  med_highFreqPerfect_R  \\\n",
       "0           0    0.1          237277.819684          237277.819684   \n",
       "1           1    0.1          225599.337010          225599.337010   \n",
       "2           2    0.1          206614.824325          206614.824325   \n",
       "3           3    0.1          224464.790315          224464.790315   \n",
       "\n",
       "   med_lowFreqPerfect       med_rect  normVec_highFreqPerfect_L_x  \\\n",
       "0       252662.300611  239570.910326                  -529.206615   \n",
       "1       257380.114113  246653.748687                 -1138.157265   \n",
       "2       252946.295180  229783.574149                  -606.507385   \n",
       "3       253329.619209  227953.309894                  -615.926612   \n",
       "\n",
       "   normVec_highFreqPerfect_L_y  normVec_highFreqPerfect_L_z  \\\n",
       "0                  -140.542383                 5.651358e+05   \n",
       "1                 -2703.490605                 2.334902e+06   \n",
       "2                  -443.271777                 7.359176e+05   \n",
       "3                 -1584.198271                 1.437171e+06   \n",
       "\n",
       "   normVec_highFreqPerfect_R_x      ...       normVec_lowFreqPerfect_y  \\\n",
       "0                   529.206615      ...                  -1.316312e-09   \n",
       "1                  1138.157265      ...                  -1.007078e-09   \n",
       "2                   606.507385      ...                  -1.133470e-09   \n",
       "3                   615.926612      ...                  -1.761410e-09   \n",
       "\n",
       "   normVec_lowFreqPerfect_z  normVec_rect_x  normVec_rect_y  normVec_rect_z  \\\n",
       "0             804922.121712    5.458430e-13   -1.466947e-10   543043.665491   \n",
       "1             797502.603334   -2.908375e-12   -1.423972e-12   509429.780836   \n",
       "2             802464.855688   -3.159105e-12   -5.409007e-13   501717.753566   \n",
       "3             805225.460955   -1.291398e-12   -4.088374e-11   501597.156089   \n",
       "\n",
       "   std_highFreqPerfect_L  std_highFreqPerfect_R  std_lowFreqPerfect  \\\n",
       "0          122309.552155          122309.552155        2.044471e+06   \n",
       "1          107780.688901          107780.688901        2.028824e+06   \n",
       "2           82972.475355           82972.475355        2.033601e+06   \n",
       "3           90296.183186           90296.183186        2.054083e+06   \n",
       "\n",
       "       std_rect          time  \n",
       "0  1.474533e+06  1.555722e+09  \n",
       "1  1.377292e+06  1.555722e+09  \n",
       "2  1.393909e+06  1.555722e+09  \n",
       "3  1.411089e+06  1.555722e+09  \n",
       "\n",
       "[4 rows x 23 columns]"
      ]
     },
     "execution_count": 6,
     "metadata": {},
     "output_type": "execute_result"
    }
   ],
   "source": [
    "fftInfo_amp"
   ]
  },
  {
   "cell_type": "code",
   "execution_count": 8,
   "metadata": {},
   "outputs": [
    {
     "data": {
      "text/html": [
       "<div>\n",
       "<style scoped>\n",
       "    .dataframe tbody tr th:only-of-type {\n",
       "        vertical-align: middle;\n",
       "    }\n",
       "\n",
       "    .dataframe tbody tr th {\n",
       "        vertical-align: top;\n",
       "    }\n",
       "\n",
       "    .dataframe thead th {\n",
       "        text-align: right;\n",
       "    }\n",
       "</style>\n",
       "<table border=\"1\" class=\"dataframe\">\n",
       "  <thead>\n",
       "    <tr style=\"text-align: right;\">\n",
       "      <th></th>\n",
       "      <th>Unnamed: 0</th>\n",
       "      <th>dummy</th>\n",
       "      <th>med_highFreqPerfect_L</th>\n",
       "      <th>med_highFreqPerfect_R</th>\n",
       "      <th>med_lowFreqPerfect</th>\n",
       "      <th>med_rect</th>\n",
       "      <th>normVec_highFreqPerfect_L_x</th>\n",
       "      <th>normVec_highFreqPerfect_L_y</th>\n",
       "      <th>normVec_highFreqPerfect_L_z</th>\n",
       "      <th>normVec_highFreqPerfect_R_x</th>\n",
       "      <th>...</th>\n",
       "      <th>normVec_lowFreqPerfect_y</th>\n",
       "      <th>normVec_lowFreqPerfect_z</th>\n",
       "      <th>normVec_rect_x</th>\n",
       "      <th>normVec_rect_y</th>\n",
       "      <th>normVec_rect_z</th>\n",
       "      <th>std_highFreqPerfect_L</th>\n",
       "      <th>std_highFreqPerfect_R</th>\n",
       "      <th>std_lowFreqPerfect</th>\n",
       "      <th>std_rect</th>\n",
       "      <th>time</th>\n",
       "    </tr>\n",
       "  </thead>\n",
       "  <tbody>\n",
       "    <tr>\n",
       "      <th>0</th>\n",
       "      <td>0</td>\n",
       "      <td>0.1</td>\n",
       "      <td>237277.819684</td>\n",
       "      <td>237277.819684</td>\n",
       "      <td>252662.300611</td>\n",
       "      <td>239570.910326</td>\n",
       "      <td>-529.206615</td>\n",
       "      <td>-140.542383</td>\n",
       "      <td>5.651358e+05</td>\n",
       "      <td>529.206615</td>\n",
       "      <td>...</td>\n",
       "      <td>-1.316312e-09</td>\n",
       "      <td>804922.121712</td>\n",
       "      <td>5.458430e-13</td>\n",
       "      <td>-1.466947e-10</td>\n",
       "      <td>543043.665491</td>\n",
       "      <td>122309.552155</td>\n",
       "      <td>122309.552155</td>\n",
       "      <td>2.044471e+06</td>\n",
       "      <td>1.474533e+06</td>\n",
       "      <td>1.555722e+09</td>\n",
       "    </tr>\n",
       "    <tr>\n",
       "      <th>1</th>\n",
       "      <td>1</td>\n",
       "      <td>0.1</td>\n",
       "      <td>225599.337010</td>\n",
       "      <td>225599.337010</td>\n",
       "      <td>257380.114113</td>\n",
       "      <td>246653.748687</td>\n",
       "      <td>-1138.157265</td>\n",
       "      <td>-2703.490605</td>\n",
       "      <td>2.334902e+06</td>\n",
       "      <td>1138.157265</td>\n",
       "      <td>...</td>\n",
       "      <td>-1.007078e-09</td>\n",
       "      <td>797502.603334</td>\n",
       "      <td>-2.908375e-12</td>\n",
       "      <td>-1.423972e-12</td>\n",
       "      <td>509429.780836</td>\n",
       "      <td>107780.688901</td>\n",
       "      <td>107780.688901</td>\n",
       "      <td>2.028824e+06</td>\n",
       "      <td>1.377292e+06</td>\n",
       "      <td>1.555722e+09</td>\n",
       "    </tr>\n",
       "    <tr>\n",
       "      <th>2</th>\n",
       "      <td>2</td>\n",
       "      <td>0.1</td>\n",
       "      <td>206614.824325</td>\n",
       "      <td>206614.824325</td>\n",
       "      <td>252946.295180</td>\n",
       "      <td>229783.574149</td>\n",
       "      <td>-606.507385</td>\n",
       "      <td>-443.271777</td>\n",
       "      <td>7.359176e+05</td>\n",
       "      <td>606.507385</td>\n",
       "      <td>...</td>\n",
       "      <td>-1.133470e-09</td>\n",
       "      <td>802464.855688</td>\n",
       "      <td>-3.159105e-12</td>\n",
       "      <td>-5.409007e-13</td>\n",
       "      <td>501717.753566</td>\n",
       "      <td>82972.475355</td>\n",
       "      <td>82972.475355</td>\n",
       "      <td>2.033601e+06</td>\n",
       "      <td>1.393909e+06</td>\n",
       "      <td>1.555722e+09</td>\n",
       "    </tr>\n",
       "  </tbody>\n",
       "</table>\n",
       "<p>3 rows × 23 columns</p>\n",
       "</div>"
      ],
      "text/plain": [
       "   Unnamed: 0  dummy  med_highFreqPerfect_L  med_highFreqPerfect_R  \\\n",
       "0           0    0.1          237277.819684          237277.819684   \n",
       "1           1    0.1          225599.337010          225599.337010   \n",
       "2           2    0.1          206614.824325          206614.824325   \n",
       "\n",
       "   med_lowFreqPerfect       med_rect  normVec_highFreqPerfect_L_x  \\\n",
       "0       252662.300611  239570.910326                  -529.206615   \n",
       "1       257380.114113  246653.748687                 -1138.157265   \n",
       "2       252946.295180  229783.574149                  -606.507385   \n",
       "\n",
       "   normVec_highFreqPerfect_L_y  normVec_highFreqPerfect_L_z  \\\n",
       "0                  -140.542383                 5.651358e+05   \n",
       "1                 -2703.490605                 2.334902e+06   \n",
       "2                  -443.271777                 7.359176e+05   \n",
       "\n",
       "   normVec_highFreqPerfect_R_x      ...       normVec_lowFreqPerfect_y  \\\n",
       "0                   529.206615      ...                  -1.316312e-09   \n",
       "1                  1138.157265      ...                  -1.007078e-09   \n",
       "2                   606.507385      ...                  -1.133470e-09   \n",
       "\n",
       "   normVec_lowFreqPerfect_z  normVec_rect_x  normVec_rect_y  normVec_rect_z  \\\n",
       "0             804922.121712    5.458430e-13   -1.466947e-10   543043.665491   \n",
       "1             797502.603334   -2.908375e-12   -1.423972e-12   509429.780836   \n",
       "2             802464.855688   -3.159105e-12   -5.409007e-13   501717.753566   \n",
       "\n",
       "   std_highFreqPerfect_L  std_highFreqPerfect_R  std_lowFreqPerfect  \\\n",
       "0          122309.552155          122309.552155        2.044471e+06   \n",
       "1          107780.688901          107780.688901        2.028824e+06   \n",
       "2           82972.475355           82972.475355        2.033601e+06   \n",
       "\n",
       "       std_rect          time  \n",
       "0  1.474533e+06  1.555722e+09  \n",
       "1  1.377292e+06  1.555722e+09  \n",
       "2  1.393909e+06  1.555722e+09  \n",
       "\n",
       "[3 rows x 23 columns]"
      ]
     },
     "execution_count": 8,
     "metadata": {},
     "output_type": "execute_result"
    }
   ],
   "source": [
    "fftInfo_amp2"
   ]
  },
  {
   "cell_type": "code",
   "execution_count": 10,
   "metadata": {},
   "outputs": [
    {
     "data": {
      "text/html": [
       "<div>\n",
       "<style scoped>\n",
       "    .dataframe tbody tr th:only-of-type {\n",
       "        vertical-align: middle;\n",
       "    }\n",
       "\n",
       "    .dataframe tbody tr th {\n",
       "        vertical-align: top;\n",
       "    }\n",
       "\n",
       "    .dataframe thead th {\n",
       "        text-align: right;\n",
       "    }\n",
       "</style>\n",
       "<table border=\"1\" class=\"dataframe\">\n",
       "  <thead>\n",
       "    <tr style=\"text-align: right;\">\n",
       "      <th></th>\n",
       "      <th>Unnamed: 0</th>\n",
       "      <th>dummy</th>\n",
       "      <th>med_highFreqPerfect_L</th>\n",
       "      <th>med_highFreqPerfect_R</th>\n",
       "      <th>med_lowFreqPerfect</th>\n",
       "      <th>med_rect</th>\n",
       "      <th>normVec_highFreqPerfect_L_x</th>\n",
       "      <th>normVec_highFreqPerfect_L_y</th>\n",
       "      <th>normVec_highFreqPerfect_L_z</th>\n",
       "      <th>normVec_highFreqPerfect_R_x</th>\n",
       "      <th>...</th>\n",
       "      <th>normVec_lowFreqPerfect_y</th>\n",
       "      <th>normVec_lowFreqPerfect_z</th>\n",
       "      <th>normVec_rect_x</th>\n",
       "      <th>normVec_rect_y</th>\n",
       "      <th>normVec_rect_z</th>\n",
       "      <th>std_highFreqPerfect_L</th>\n",
       "      <th>std_highFreqPerfect_R</th>\n",
       "      <th>std_lowFreqPerfect</th>\n",
       "      <th>std_rect</th>\n",
       "      <th>time</th>\n",
       "    </tr>\n",
       "  </thead>\n",
       "  <tbody>\n",
       "    <tr>\n",
       "      <th>0</th>\n",
       "      <td>0</td>\n",
       "      <td>0.1</td>\n",
       "      <td>237277.819684</td>\n",
       "      <td>237277.819684</td>\n",
       "      <td>252662.300611</td>\n",
       "      <td>239570.910326</td>\n",
       "      <td>-529.206615</td>\n",
       "      <td>-140.542383</td>\n",
       "      <td>5.651358e+05</td>\n",
       "      <td>529.206615</td>\n",
       "      <td>...</td>\n",
       "      <td>-1.316312e-09</td>\n",
       "      <td>804922.121712</td>\n",
       "      <td>5.458430e-13</td>\n",
       "      <td>-1.466947e-10</td>\n",
       "      <td>543043.665491</td>\n",
       "      <td>122309.552155</td>\n",
       "      <td>122309.552155</td>\n",
       "      <td>2.044471e+06</td>\n",
       "      <td>1.474533e+06</td>\n",
       "      <td>1.555722e+09</td>\n",
       "    </tr>\n",
       "    <tr>\n",
       "      <th>1</th>\n",
       "      <td>1</td>\n",
       "      <td>0.1</td>\n",
       "      <td>225599.337010</td>\n",
       "      <td>225599.337010</td>\n",
       "      <td>257380.114113</td>\n",
       "      <td>246653.748687</td>\n",
       "      <td>-1138.157265</td>\n",
       "      <td>-2703.490605</td>\n",
       "      <td>2.334902e+06</td>\n",
       "      <td>1138.157265</td>\n",
       "      <td>...</td>\n",
       "      <td>-1.007078e-09</td>\n",
       "      <td>797502.603334</td>\n",
       "      <td>-2.908375e-12</td>\n",
       "      <td>-1.423972e-12</td>\n",
       "      <td>509429.780836</td>\n",
       "      <td>107780.688901</td>\n",
       "      <td>107780.688901</td>\n",
       "      <td>2.028824e+06</td>\n",
       "      <td>1.377292e+06</td>\n",
       "      <td>1.555722e+09</td>\n",
       "    </tr>\n",
       "  </tbody>\n",
       "</table>\n",
       "<p>2 rows × 23 columns</p>\n",
       "</div>"
      ],
      "text/plain": [
       "   Unnamed: 0  dummy  med_highFreqPerfect_L  med_highFreqPerfect_R  \\\n",
       "0           0    0.1          237277.819684          237277.819684   \n",
       "1           1    0.1          225599.337010          225599.337010   \n",
       "\n",
       "   med_lowFreqPerfect       med_rect  normVec_highFreqPerfect_L_x  \\\n",
       "0       252662.300611  239570.910326                  -529.206615   \n",
       "1       257380.114113  246653.748687                 -1138.157265   \n",
       "\n",
       "   normVec_highFreqPerfect_L_y  normVec_highFreqPerfect_L_z  \\\n",
       "0                  -140.542383                 5.651358e+05   \n",
       "1                 -2703.490605                 2.334902e+06   \n",
       "\n",
       "   normVec_highFreqPerfect_R_x      ...       normVec_lowFreqPerfect_y  \\\n",
       "0                   529.206615      ...                  -1.316312e-09   \n",
       "1                  1138.157265      ...                  -1.007078e-09   \n",
       "\n",
       "   normVec_lowFreqPerfect_z  normVec_rect_x  normVec_rect_y  normVec_rect_z  \\\n",
       "0             804922.121712    5.458430e-13   -1.466947e-10   543043.665491   \n",
       "1             797502.603334   -2.908375e-12   -1.423972e-12   509429.780836   \n",
       "\n",
       "   std_highFreqPerfect_L  std_highFreqPerfect_R  std_lowFreqPerfect  \\\n",
       "0          122309.552155          122309.552155        2.044471e+06   \n",
       "1          107780.688901          107780.688901        2.028824e+06   \n",
       "\n",
       "       std_rect          time  \n",
       "0  1.474533e+06  1.555722e+09  \n",
       "1  1.377292e+06  1.555722e+09  \n",
       "\n",
       "[2 rows x 23 columns]"
      ]
     },
     "execution_count": 10,
     "metadata": {},
     "output_type": "execute_result"
    }
   ],
   "source": [
    "fftInfo_amp1"
   ]
  },
  {
   "cell_type": "code",
   "execution_count": 4,
   "metadata": {},
   "outputs": [
    {
     "data": {
      "text/plain": [
       "Index(['Unnamed: 0', 'dummy', 'med_highFreqPerfect_L', 'med_highFreqPerfect_R',\n",
       "       'med_lowFreqPerfect', 'med_rect', 'normVec_highFreqPerfect_L_x',\n",
       "       'normVec_highFreqPerfect_L_y', 'normVec_highFreqPerfect_L_z',\n",
       "       'normVec_highFreqPerfect_R_x', 'normVec_highFreqPerfect_R_y',\n",
       "       'normVec_highFreqPerfect_R_z', 'normVec_lowFreqPerfect_x',\n",
       "       'normVec_lowFreqPerfect_y', 'normVec_lowFreqPerfect_z',\n",
       "       'normVec_rect_x', 'normVec_rect_y', 'normVec_rect_z',\n",
       "       'std_highFreqPerfect_L', 'std_highFreqPerfect_R', 'std_lowFreqPerfect',\n",
       "       'std_rect', 'time'],\n",
       "      dtype='object')"
      ]
     },
     "execution_count": 4,
     "metadata": {},
     "output_type": "execute_result"
    }
   ],
   "source": [
    "fftInfo_arg.keys()"
   ]
  },
  {
   "cell_type": "markdown",
   "metadata": {},
   "source": [
    "# Overlap of the Airy PSF, or TT in Fizeau PSF: med_highFreqPerfect_R\n",
    "# (see also phase gradient further below; this can indicate TT)"
   ]
  },
  {
   "cell_type": "code",
   "execution_count": 13,
   "metadata": {},
   "outputs": [
    {
     "data": {
      "image/png": "[encoded data removed]",
      "text/plain": [
       "<Figure size 432x288 with 1 Axes>"
      ]
     },
     "metadata": {
      "needs_background": "light"
     },
     "output_type": "display_data"
    }
   ],
   "source": [
    "plt.title(\"Overlap of the Airy PSF, or TT in \\nFizeau PSF: std_lowFreqPerfect\")\n",
    "plt.scatter(fftInfo_arg.index,fftInfo_arg[\"std_lowFreqPerfect\"])\n",
    "plt.axhline(np.median(fftInfo_arg[\"std_lowFreqPerfect\"]), linestyle='--')\n",
    "#plt.scatter(df[\"spc_trans_position\"],df[\"resid\"])\n",
    "plt.show()\n",
    "#plt.savefig('')"
   ]
  },
  {
   "cell_type": "markdown",
   "metadata": {},
   "source": [
    "# High-freq fringe visibility (median)"
   ]
  },
  {
   "cell_type": "code",
   "execution_count": 6,
   "metadata": {},
   "outputs": [
    {
     "data": {
      "image/png": "[encoded data removed]",
      "text/plain": [
       "<Figure size 432x288 with 1 Axes>"
      ]
     },
     "metadata": {
      "needs_background": "light"
     },
     "output_type": "display_data"
    }
   ],
   "source": [
    "plt.title(\"Overlap of the Airy PSF, or TT in \\nFizeau PSF: med_highFreqPerfect_R\")\n",
    "plt.plot(fftInfo_amp[\"med_highFreqPerfect_R\"])\n",
    "plt.axhline(np.median(fftInfo_amp[\"med_highFreqPerfect_R\"]), linestyle='--')\n",
    "#plt.scatter(df[\"spc_trans_position\"],df[\"resid\"])\n",
    "plt.show()\n",
    "#plt.savefig('')"
   ]
  },
  {
   "cell_type": "markdown",
   "metadata": {},
   "source": [
    "# Staircase phase? (can indicate nonzero OPD)"
   ]
  },
  {
   "cell_type": "code",
   "execution_count": 7,
   "metadata": {},
   "outputs": [
    {
     "data": {
      "image/png": "[encoded data removed]",
      "text/plain": [
       "<Figure size 432x288 with 1 Axes>"
      ]
     },
     "metadata": {
      "needs_background": "light"
     },
     "output_type": "display_data"
    }
   ],
   "source": [
    "plt.title(\"Check for staircase phase\")\n",
    "plt.plot(fftInfo_arg[\"med_highFreqPerfect_R\"], color = 'blue')\n",
    "plt.plot(fftInfo_arg[\"med_lowFreqPerfect\"], color = 'red')\n",
    "#plt.scatter(df[\"spc_trans_position\"],df[\"resid\"])\n",
    "plt.show()\n",
    "#plt.savefig('')"
   ]
  },
  {
   "cell_type": "markdown",
   "metadata": {},
   "source": [
    "# Phase gradients"
   ]
  },
  {
   "cell_type": "code",
   "execution_count": 8,
   "metadata": {},
   "outputs": [],
   "source": [
    "# high-freq node\n",
    "x_grad_high = fftInfo_arg[\"normVec_highFreqPerfect_R_x\"]\n",
    "y_grad_high = fftInfo_arg[\"normVec_highFreqPerfect_R_y\"]\n",
    "sqrtx2y2_high = np.sqrt(np.add(np.power(x_grad_high,2),np.power(y_grad_high,2)))\n",
    "\n",
    "# low-freq node\n",
    "x_grad_low = fftInfo_arg[\"normVec_lowFreqPerfect_x\"]\n",
    "y_grad_low = fftInfo_arg[\"normVec_lowFreqPerfect_y\"]\n",
    "sqrtx2y2_low = np.sqrt(np.add(np.power(x_grad_low,2),np.power(y_grad_low,2)))"
   ]
  },
  {
   "cell_type": "code",
   "execution_count": 9,
   "metadata": {},
   "outputs": [
    {
     "data": {
      "text/html": [
       "<div>\n",
       "<style scoped>\n",
       "    .dataframe tbody tr th:only-of-type {\n",
       "        vertical-align: middle;\n",
       "    }\n",
       "\n",
       "    .dataframe tbody tr th {\n",
       "        vertical-align: top;\n",
       "    }\n",
       "\n",
       "    .dataframe thead th {\n",
       "        text-align: right;\n",
       "    }\n",
       "</style>\n",
       "<table border=\"1\" class=\"dataframe\">\n",
       "  <thead>\n",
       "    <tr style=\"text-align: right;\">\n",
       "      <th></th>\n",
       "      <th>Unnamed: 0</th>\n",
       "      <th>dummy</th>\n",
       "      <th>med_highFreqPerfect_L</th>\n",
       "      <th>med_highFreqPerfect_R</th>\n",
       "      <th>med_lowFreqPerfect</th>\n",
       "      <th>med_rect</th>\n",
       "      <th>normVec_highFreqPerfect_L_x</th>\n",
       "      <th>normVec_highFreqPerfect_L_y</th>\n",
       "      <th>normVec_highFreqPerfect_L_z</th>\n",
       "      <th>normVec_highFreqPerfect_R_x</th>\n",
       "      <th>...</th>\n",
       "      <th>normVec_lowFreqPerfect_y</th>\n",
       "      <th>normVec_lowFreqPerfect_z</th>\n",
       "      <th>normVec_rect_x</th>\n",
       "      <th>normVec_rect_y</th>\n",
       "      <th>normVec_rect_z</th>\n",
       "      <th>std_highFreqPerfect_L</th>\n",
       "      <th>std_highFreqPerfect_R</th>\n",
       "      <th>std_lowFreqPerfect</th>\n",
       "      <th>std_rect</th>\n",
       "      <th>time</th>\n",
       "    </tr>\n",
       "  </thead>\n",
       "  <tbody>\n",
       "    <tr>\n",
       "      <th>0</th>\n",
       "      <td>0</td>\n",
       "      <td>0.1</td>\n",
       "      <td>0.011339</td>\n",
       "      <td>-0.011339</td>\n",
       "      <td>0.0</td>\n",
       "      <td>0.0</td>\n",
       "      <td>-0.012447</td>\n",
       "      <td>-7.059627e-08</td>\n",
       "      <td>5.245253</td>\n",
       "      <td>-0.012447</td>\n",
       "      <td>...</td>\n",
       "      <td>-5.717756e-08</td>\n",
       "      <td>7.470558</td>\n",
       "      <td>-0.003287</td>\n",
       "      <td>2.820503e-07</td>\n",
       "      <td>1.972174</td>\n",
       "      <td>0.373745</td>\n",
       "      <td>0.373745</td>\n",
       "      <td>0.37299</td>\n",
       "      <td>1.329061</td>\n",
       "      <td>1.555568e+09</td>\n",
       "    </tr>\n",
       "    <tr>\n",
       "      <th>1</th>\n",
       "      <td>1</td>\n",
       "      <td>0.1</td>\n",
       "      <td>0.011339</td>\n",
       "      <td>-0.011339</td>\n",
       "      <td>0.0</td>\n",
       "      <td>0.0</td>\n",
       "      <td>-0.012447</td>\n",
       "      <td>-7.059627e-08</td>\n",
       "      <td>5.245253</td>\n",
       "      <td>-0.012447</td>\n",
       "      <td>...</td>\n",
       "      <td>-5.717756e-08</td>\n",
       "      <td>7.470558</td>\n",
       "      <td>-0.003287</td>\n",
       "      <td>2.820503e-07</td>\n",
       "      <td>1.972174</td>\n",
       "      <td>0.373745</td>\n",
       "      <td>0.373745</td>\n",
       "      <td>0.37299</td>\n",
       "      <td>1.329061</td>\n",
       "      <td>1.555568e+09</td>\n",
       "    </tr>\n",
       "    <tr>\n",
       "      <th>2</th>\n",
       "      <td>2</td>\n",
       "      <td>0.1</td>\n",
       "      <td>0.011339</td>\n",
       "      <td>-0.011339</td>\n",
       "      <td>0.0</td>\n",
       "      <td>0.0</td>\n",
       "      <td>-0.012447</td>\n",
       "      <td>-7.059627e-08</td>\n",
       "      <td>5.245253</td>\n",
       "      <td>-0.012447</td>\n",
       "      <td>...</td>\n",
       "      <td>-5.717756e-08</td>\n",
       "      <td>7.470558</td>\n",
       "      <td>-0.003287</td>\n",
       "      <td>2.820503e-07</td>\n",
       "      <td>1.972174</td>\n",
       "      <td>0.373745</td>\n",
       "      <td>0.373745</td>\n",
       "      <td>0.37299</td>\n",
       "      <td>1.329061</td>\n",
       "      <td>1.555568e+09</td>\n",
       "    </tr>\n",
       "    <tr>\n",
       "      <th>3</th>\n",
       "      <td>3</td>\n",
       "      <td>0.1</td>\n",
       "      <td>0.011339</td>\n",
       "      <td>-0.011339</td>\n",
       "      <td>0.0</td>\n",
       "      <td>0.0</td>\n",
       "      <td>-0.012447</td>\n",
       "      <td>-7.059627e-08</td>\n",
       "      <td>5.245253</td>\n",
       "      <td>-0.012447</td>\n",
       "      <td>...</td>\n",
       "      <td>-5.717756e-08</td>\n",
       "      <td>7.470558</td>\n",
       "      <td>-0.003287</td>\n",
       "      <td>2.820503e-07</td>\n",
       "      <td>1.972174</td>\n",
       "      <td>0.373745</td>\n",
       "      <td>0.373745</td>\n",
       "      <td>0.37299</td>\n",
       "      <td>1.329061</td>\n",
       "      <td>1.555568e+09</td>\n",
       "    </tr>\n",
       "  </tbody>\n",
       "</table>\n",
       "<p>4 rows × 23 columns</p>\n",
       "</div>"
      ],
      "text/plain": [
       "   Unnamed: 0  dummy  med_highFreqPerfect_L  med_highFreqPerfect_R  \\\n",
       "0           0    0.1               0.011339              -0.011339   \n",
       "1           1    0.1               0.011339              -0.011339   \n",
       "2           2    0.1               0.011339              -0.011339   \n",
       "3           3    0.1               0.011339              -0.011339   \n",
       "\n",
       "   med_lowFreqPerfect  med_rect  normVec_highFreqPerfect_L_x  \\\n",
       "0                 0.0       0.0                    -0.012447   \n",
       "1                 0.0       0.0                    -0.012447   \n",
       "2                 0.0       0.0                    -0.012447   \n",
       "3                 0.0       0.0                    -0.012447   \n",
       "\n",
       "   normVec_highFreqPerfect_L_y  normVec_highFreqPerfect_L_z  \\\n",
       "0                -7.059627e-08                     5.245253   \n",
       "1                -7.059627e-08                     5.245253   \n",
       "2                -7.059627e-08                     5.245253   \n",
       "3                -7.059627e-08                     5.245253   \n",
       "\n",
       "   normVec_highFreqPerfect_R_x      ...       normVec_lowFreqPerfect_y  \\\n",
       "0                    -0.012447      ...                  -5.717756e-08   \n",
       "1                    -0.012447      ...                  -5.717756e-08   \n",
       "2                    -0.012447      ...                  -5.717756e-08   \n",
       "3                    -0.012447      ...                  -5.717756e-08   \n",
       "\n",
       "   normVec_lowFreqPerfect_z  normVec_rect_x  normVec_rect_y  normVec_rect_z  \\\n",
       "0                  7.470558       -0.003287    2.820503e-07        1.972174   \n",
       "1                  7.470558       -0.003287    2.820503e-07        1.972174   \n",
       "2                  7.470558       -0.003287    2.820503e-07        1.972174   \n",
       "3                  7.470558       -0.003287    2.820503e-07        1.972174   \n",
       "\n",
       "   std_highFreqPerfect_L  std_highFreqPerfect_R  std_lowFreqPerfect  std_rect  \\\n",
       "0               0.373745               0.373745             0.37299  1.329061   \n",
       "1               0.373745               0.373745             0.37299  1.329061   \n",
       "2               0.373745               0.373745             0.37299  1.329061   \n",
       "3               0.373745               0.373745             0.37299  1.329061   \n",
       "\n",
       "           time  \n",
       "0  1.555568e+09  \n",
       "1  1.555568e+09  \n",
       "2  1.555568e+09  \n",
       "3  1.555568e+09  \n",
       "\n",
       "[4 rows x 23 columns]"
      ]
     },
     "execution_count": 9,
     "metadata": {},
     "output_type": "execute_result"
    }
   ],
   "source": [
    "fftInfo_arg"
   ]
  },
  {
   "cell_type": "code",
   "execution_count": 9,
   "metadata": {},
   "outputs": [
    {
     "data": {
      "image/png": "[encoded data removed]",
      "text/plain": [
       "<Figure size 432x288 with 1 Axes>"
      ]
     },
     "metadata": {
      "needs_background": "light"
     },
     "output_type": "display_data"
    }
   ],
   "source": [
    "plt.title(\"Phase gradients of high freq node\\nred: x; blue: y\")\n",
    "plt.plot(x_grad_high, color=\"red\")\n",
    "plt.plot(y_grad_high, color=\"blue\")\n",
    "plt.plot(sqrtx2y2_high, color=\"k\")\n",
    "plt.axhline(np.median(x_grad_high), linestyle='--')\n",
    "plt.axhline(np.median(y_grad_high), linestyle=':')\n",
    "#plt.scatter(df[\"spc_trans_position\"],df[\"resid\"])\n",
    "plt.show()\n",
    "#plt.savefig('')"
   ]
  },
  {
   "cell_type": "code",
   "execution_count": 18,
   "metadata": {},
   "outputs": [
    {
     "data": {
      "image/png": "[encoded data removed]",
      "text/plain": [
       "<Figure size 432x288 with 1 Axes>"
      ]
     },
     "metadata": {
      "needs_background": "light"
     },
     "output_type": "display_data"
    }
   ],
   "source": [
    "plt.title(\"Phase gradients of low freq node\\nred: x; blue: y\")\n",
    "plt.plot(x_grad_low, color=\"red\")\n",
    "plt.plot(y_grad_low, color=\"blue\")\n",
    "plt.plot(sqrtx2y2_low, color=\"k\")\n",
    "plt.axhline(np.median(x_grad_low), linestyle='--')\n",
    "plt.axhline(np.median(y_grad_low), linestyle=':')\n",
    "#plt.scatter(df[\"spc_trans_position\"],df[\"resid\"])\n",
    "plt.show()\n",
    "#plt.savefig('')"
   ]
  },
  {
   "cell_type": "code",
   "execution_count": null,
   "metadata": {
    "collapsed": true
   },
   "outputs": [],
   "source": []
  }
 ],
 "metadata": {
  "kernelspec": {
   "display_name": "Python 3",
   "language": "python",
   "name": "python3"
  },
  "language_info": {
   "codemirror_mode": {
    "name": "ipython",
    "version": 3
   },
   "file_extension": ".py",
   "mimetype": "text/x-python",
   "name": "python",
   "nbconvert_exporter": "python",
   "pygments_lexer": "ipython3",
   "version": "3.6.6"
  }
 },
 "nbformat": 4,
 "nbformat_minor": 1
}
