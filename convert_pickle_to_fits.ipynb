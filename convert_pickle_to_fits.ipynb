{
 "cells": [
  {
   "cell_type": "code",
   "execution_count": 1,
   "metadata": {},
   "outputs": [],
   "source": [
    "# This notebook reads in simulated Fizeau PSFs and checks the gradients in the \n",
    "# PTF, so as to try to get a better intuition for what the gradient is saying \n",
    "# about needed tip-tilt offsets\n",
    "\n",
    "# Created 2019 Feb 13 by E.S. (by branching off of (testing_making_set_masks.ipynb)"
   ]
  },
  {
   "cell_type": "code",
   "execution_count": 1,
   "metadata": {},
   "outputs": [],
   "source": [
    "import numpy as np\n",
    "import os.path\n",
    "from astropy.io import fits\n",
    "import pickle \n",
    "import glob\n",
    "% matplotlib inline"
   ]
  },
  {
   "cell_type": "code",
   "execution_count": 2,
   "metadata": {},
   "outputs": [],
   "source": [
    "from lmircam_tools import *\n",
    "from lmircam_tools import overlap_psfs"
   ]
  },
  {
   "cell_type": "code",
   "execution_count": 3,
   "metadata": {},
   "outputs": [],
   "source": [
    "# make list of the available pickle files\n",
    "\n",
    "file_list = glob.glob('./pickle_files/escrow/*pkl')"
   ]
  },
  {
   "cell_type": "code",
   "execution_count": 4,
   "metadata": {},
   "outputs": [
    {
     "data": {
      "text/plain": [
       "['./pickle_files/escrow/chrom_mono_avgwavel_5000_opd_00000_tip_0014_tilt_0000_transl_000_PS_10.pkl',\n",
       " './pickle_files/escrow/chrom_mono_avgwavel_5000_opd_00000_tip_0000_tilt_0008_transl_000_PS_10.pkl',\n",
       " './pickle_files/escrow/chrom_mono_avgwavel_5000_opd_00000_tip_0002_tilt_0000_transl_000_PS_10.pkl',\n",
       " './pickle_files/escrow/chrom_mono_avgwavel_5000_opd_00000_tip_0000_tilt_0002_transl_000_PS_10.pkl',\n",
       " './pickle_files/escrow/chrom_mono_avgwavel_5000_opd_00000_tip_0000_tilt_0014_transl_000_PS_10.pkl',\n",
       " './pickle_files/escrow/chrom_mono_avgwavel_5000_opd_00000_tip_0008_tilt_0000_transl_000_PS_10.pkl']"
      ]
     },
     "execution_count": 4,
     "metadata": {},
     "output_type": "execute_result"
    }
   ],
   "source": [
    "file_list"
   ]
  },
  {
   "cell_type": "code",
   "execution_count": 6,
   "metadata": {},
   "outputs": [
    {
     "name": "stdout",
     "output_type": "stream",
     "text": [
      "./pickle_files/escrow/chrom_mono_avgwavel_5000_opd_00000_tip_0000_tilt_0008_transl_000_PS_10.pkl\n",
      "./pickle_files/escrow/chrom_mono_avgwavel_5000_opd_00000_tip_0002_tilt_0000_transl_000_PS_10.pkl\n",
      "./pickle_files/escrow/chrom_mono_avgwavel_5000_opd_00000_tip_0000_tilt_0002_transl_000_PS_10.pkl\n",
      "./pickle_files/escrow/chrom_mono_avgwavel_5000_opd_00000_tip_0000_tilt_0014_transl_000_PS_10.pkl\n",
      "./pickle_files/escrow/chrom_mono_avgwavel_5000_opd_00000_tip_0008_tilt_0000_transl_000_PS_10.pkl\n"
     ]
    }
   ],
   "source": [
    "# if I want to read in a test frame of a simulated PSF, retrieve the pickle file and save the relevant\n",
    "# array as a FITS file\n",
    "\n",
    "# loop pickle files\n",
    "for i in range(1,len(file_list)):\n",
    "\n",
    "    print(file_list[i])\n",
    "\n",
    "    '''\n",
    "    name_stem = 'chrom_mono_avgwavel_5000_opd_00000_tip_'+\\\n",
    "                     str(\"{:0>4d}\".format(int(tip_array[i])))+\\\n",
    "                     '_tilt_0000_transl_000_PS_10'\n",
    "    '''\n",
    "       \n",
    "    dict_file = open(file_list[i], 'r')\n",
    "    dict_pkld = pickle.load(dict_file)\n",
    "\n",
    "    cube_init = np.zeros((3,np.shape(dict_pkld['PSF_image'])[0],np.shape(dict_pkld['PSF_image'])[1]))\n",
    "    \n",
    "    cube_init[0,:,:] = dict_pkld['PSF_image'].astype(np.float32)\n",
    "    cube_init[1,:,:] = dict_pkld['FTamp_image'].astype(np.float32)\n",
    "    cube_init[2,:,:] = dict_pkld['FTphase_image'].astype(np.float32)\n",
    "\n",
    "    hdu = fits.PrimaryHDU(cube_init) # cubes with PSF, FFT_amp, FFT_arg\n",
    "    #hdu = fits.PrimaryHDU(dict_pkld['PSF_image']) # single frame of PSF\n",
    "    hdul = fits.HDUList([hdu])\n",
    "    \n",
    "    hdr = hdul[0].header\n",
    "    hdr[\"OPD\"] = dict_pkld['OPD']\n",
    "    hdr[\"TIP_Y\"] = dict_pkld['tip']\n",
    "    hdr[\"TILT_X\"] = dict_pkld['tilt']\n",
    "    \n",
    "    file_string = os.path.basename(file_list[i]).split(\".\")[0]\n",
    "    \n",
    "    hdul.writeto('./pickle_files/fits_equivalents/escrow/'+file_string+'.fits', overwrite=True)"
   ]
  },
  {
   "cell_type": "code",
   "execution_count": null,
   "metadata": {},
   "outputs": [],
   "source": []
  },
  {
   "cell_type": "code",
   "execution_count": null,
   "metadata": {},
   "outputs": [],
   "source": [
    "plt.imshow()"
   ]
  }
 ],
 "metadata": {
  "kernelspec": {
   "display_name": "Python 2",
   "language": "python",
   "name": "python2"
  },
  "language_info": {
   "codemirror_mode": {
    "name": "ipython",
    "version": 2
   },
   "file_extension": ".py",
   "mimetype": "text/x-python",
   "name": "python",
   "nbconvert_exporter": "python",
   "pygments_lexer": "ipython2",
   "version": "2.7.15"
  }
 },
 "nbformat": 4,
 "nbformat_minor": 1
}
