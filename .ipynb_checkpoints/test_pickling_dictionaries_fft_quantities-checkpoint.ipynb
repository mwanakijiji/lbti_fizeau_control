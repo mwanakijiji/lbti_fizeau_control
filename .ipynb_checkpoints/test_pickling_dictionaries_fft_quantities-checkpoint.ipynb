{
 "cells": [
  {
   "cell_type": "code",
   "execution_count": null,
   "metadata": {
    "collapsed": true
   },
   "outputs": [],
   "source": [
    "# This makes multiple dictionaries, pickles them, and takes means or medians over the \n",
    "# key values, so as to test functionality for taking medians of PSF FFT quantities\n",
    "\n",
    "# created 2019 Feb 10 by E.S."
   ]
  },
  {
   "cell_type": "code",
   "execution_count": 1,
   "metadata": {
    "collapsed": false
   },
   "outputs": [
    {
     "name": "stderr",
     "output_type": "stream",
     "text": [
      "/Users/nyumbani/anaconda3/envs/py27/lib/python2.7/site-packages/matplotlib/font_manager.py:273: UserWarning: Matplotlib is building the font cache using fc-list. This may take a moment.\n",
      "  warnings.warn('Matplotlib is building the font cache using fc-list. This may take a moment.')\n"
     ]
    }
   ],
   "source": [
    "import numpy as np\n",
    "import glob\n",
    "import time\n",
    "import pickle\n",
    "import pandas as pd\n",
    "import matplotlib.pyplot as plt\n",
    "%matplotlib inline"
   ]
  },
  {
   "cell_type": "code",
   "execution_count": 2,
   "metadata": {
    "collapsed": false
   },
   "outputs": [],
   "source": [
    "# pickle some dictionaries\n",
    "\n",
    "for i in range(0,5):\n",
    "    pickle_stuff = {\"A\": i, \"B\": 5+i, \"C\": 90}\n",
    "    fft_pickle_write_name = \"pickle\" + str(\"{:0>2d}\".format(i)) + \".pkl\"\n",
    "    with open(fft_pickle_write_name, \"w\") as f:\n",
    "        pickle.dump(pickle_stuff, f)"
   ]
  },
  {
   "cell_type": "code",
   "execution_count": 4,
   "metadata": {
    "collapsed": false,
    "scrolled": true
   },
   "outputs": [
    {
     "name": "stdout",
     "output_type": "stream",
     "text": [
      "fft_info_00.pkl\n",
      "fft_info_01.pkl\n",
      "fft_info_02.pkl\n",
      "fft_info_03.pkl\n",
      "fft_info_04.pkl\n"
     ]
    }
   ],
   "source": [
    "# retrieve them\n",
    "\n",
    "d = {}\n",
    "for i in range(0,5):\n",
    "    fft_pickle_read_name = \"pickle\" + str(\"{:0>2d}\".format(i)) + \".pkl\"\n",
    "    print(fft_pickle_read_name)\n",
    "    with open(fft_pickle_read_name) as f:\n",
    "        d[\"key_\"+str(i)] = pickle.load(f) "
   ]
  },
  {
   "cell_type": "code",
   "execution_count": 5,
   "metadata": {
    "collapsed": false
   },
   "outputs": [],
   "source": [
    "d_df = pd.DataFrame(d)"
   ]
  },
  {
   "cell_type": "code",
   "execution_count": 6,
   "metadata": {
    "collapsed": false
   },
   "outputs": [
    {
     "data": {
      "text/html": [
       "<div>\n",
       "<table border=\"1\" class=\"dataframe\">\n",
       "  <thead>\n",
       "    <tr style=\"text-align: right;\">\n",
       "      <th></th>\n",
       "      <th>key_0</th>\n",
       "      <th>key_1</th>\n",
       "      <th>key_2</th>\n",
       "      <th>key_3</th>\n",
       "      <th>key_4</th>\n",
       "    </tr>\n",
       "  </thead>\n",
       "  <tbody>\n",
       "    <tr>\n",
       "      <th>A</th>\n",
       "      <td>0</td>\n",
       "      <td>1</td>\n",
       "      <td>2</td>\n",
       "      <td>3</td>\n",
       "      <td>4</td>\n",
       "    </tr>\n",
       "    <tr>\n",
       "      <th>B</th>\n",
       "      <td>5</td>\n",
       "      <td>6</td>\n",
       "      <td>7</td>\n",
       "      <td>8</td>\n",
       "      <td>9</td>\n",
       "    </tr>\n",
       "    <tr>\n",
       "      <th>C</th>\n",
       "      <td>90</td>\n",
       "      <td>90</td>\n",
       "      <td>90</td>\n",
       "      <td>90</td>\n",
       "      <td>90</td>\n",
       "    </tr>\n",
       "  </tbody>\n",
       "</table>\n",
       "</div>"
      ],
      "text/plain": [
       "   key_0  key_1  key_2  key_3  key_4\n",
       "A      0      1      2      3      4\n",
       "B      5      6      7      8      9\n",
       "C     90     90     90     90     90"
      ]
     },
     "execution_count": 6,
     "metadata": {},
     "output_type": "execute_result"
    }
   ],
   "source": [
    "d_df"
   ]
  },
  {
   "cell_type": "code",
   "execution_count": 9,
   "metadata": {
    "collapsed": false
   },
   "outputs": [],
   "source": [
    "test = pd.DataFrame(pd.DataFrame.median(d_df, axis=1)).T"
   ]
  },
  {
   "cell_type": "code",
   "execution_count": 10,
   "metadata": {
    "collapsed": false
   },
   "outputs": [
    {
     "data": {
      "text/html": [
       "<div>\n",
       "<table border=\"1\" class=\"dataframe\">\n",
       "  <thead>\n",
       "    <tr style=\"text-align: right;\">\n",
       "      <th></th>\n",
       "      <th>A</th>\n",
       "      <th>B</th>\n",
       "      <th>C</th>\n",
       "    </tr>\n",
       "  </thead>\n",
       "  <tbody>\n",
       "    <tr>\n",
       "      <th>0</th>\n",
       "      <td>2.0</td>\n",
       "      <td>7.0</td>\n",
       "      <td>90.0</td>\n",
       "    </tr>\n",
       "  </tbody>\n",
       "</table>\n",
       "</div>"
      ],
      "text/plain": [
       "     A    B     C\n",
       "0  2.0  7.0  90.0"
      ]
     },
     "execution_count": 10,
     "metadata": {},
     "output_type": "execute_result"
    }
   ],
   "source": [
    "test"
   ]
  },
  {
   "cell_type": "code",
   "execution_count": 23,
   "metadata": {
    "collapsed": false,
    "scrolled": true
   },
   "outputs": [
    {
     "name": "stdout",
     "output_type": "stream",
     "text": [
      "fft_info_00.pkl\n",
      "fft_info_00.pkl\n",
      "fft_info_00.pkl\n",
      "fft_info_00.pkl\n",
      "fft_info_00.pkl\n"
     ]
    }
   ],
   "source": [
    "# retrieve them\n",
    "\n",
    "d_all_amp = {}\n",
    "d_all_arg = {}\n",
    "for pickle_num in range(0,5):\n",
    "    fft_pickle_read_name = \"fft_info_\" + str(\"{:0>2d}\".format(i)) + \".pkl\"\n",
    "    print(fft_pickle_read_name)\n",
    "    with open(fft_pickle_read_name) as f:\n",
    "        d_all_amp[\"pickle_\"+ str(\"{:0>2d}\".format(pickle_num))], \\\n",
    "        d_all_arg[\"pickle_\"+ str(\"{:0>2d}\".format(pickle_num))] = pickle.load(f)"
   ]
  },
  {
   "cell_type": "code",
   "execution_count": 27,
   "metadata": {
    "collapsed": false
   },
   "outputs": [],
   "source": [
    "d_df_amp = pd.DataFrame(d_all_amp)"
   ]
  },
  {
   "cell_type": "code",
   "execution_count": 39,
   "metadata": {
    "collapsed": false
   },
   "outputs": [
    {
     "data": {
      "text/plain": [
       "med_highFreqPerfect_L                                                     376154\n",
       "med_highFreqPerfect_R                                                     376154\n",
       "med_lowFreqPerfect                                                   4.59994e+06\n",
       "med_rect                                                                  253205\n",
       "normVec_highFreqPerfect_L         [3229.91890036, -306.57564716, -667090.683073]\n",
       "normVec_highFreqPerfect_R         [-3229.91890036, 306.575647158, 2840921.22077]\n",
       "normVec_highFreqPerfect_R_x                                              3229.92\n",
       "normVec_highFreqPerfect_R_y                                             -306.576\n",
       "normVec_lowFreqPerfect         [8.78123618264e-09, -7.4214590029e-09, 4944971...\n",
       "normVec_lowFreqPerfect_x                                             8.78124e-09\n",
       "normVec_lowFreqPerfect_y                                            -7.42146e-09\n",
       "normVec_rect                   [5.67496440465e-11, -6.87074494521e-11, 808819...\n",
       "std_highFreqPerfect_L                                                     155139\n",
       "std_highFreqPerfect_R                                                     155139\n",
       "std_lowFreqPerfect                                                   1.60394e+06\n",
       "std_rect                                                             1.41134e+06\n",
       "time                                                                 1.54984e+09\n",
       "Name: pickle_00, dtype: object"
      ]
     },
     "execution_count": 39,
     "metadata": {},
     "output_type": "execute_result"
    }
   ],
   "source": [
    "d_df_amp['pickle_00']"
   ]
  },
  {
   "cell_type": "code",
   "execution_count": 45,
   "metadata": {
    "collapsed": false
   },
   "outputs": [],
   "source": [
    "test = pd.DataFrame(pd.DataFrame.median(d_df_amp, axis=1, skipna=True)).T"
   ]
  },
  {
   "cell_type": "code",
   "execution_count": 44,
   "metadata": {
    "collapsed": false
   },
   "outputs": [
    {
     "data": {
      "text/plain": [
       "Index([u'med_highFreqPerfect_L', u'med_highFreqPerfect_R',\n",
       "       u'med_lowFreqPerfect', u'med_rect', u'normVec_highFreqPerfect_L',\n",
       "       u'normVec_highFreqPerfect_R', u'normVec_highFreqPerfect_R_x',\n",
       "       u'normVec_highFreqPerfect_R_y', u'normVec_lowFreqPerfect',\n",
       "       u'normVec_lowFreqPerfect_x', u'normVec_lowFreqPerfect_y',\n",
       "       u'normVec_rect', u'std_highFreqPerfect_L', u'std_highFreqPerfect_R',\n",
       "       u'std_lowFreqPerfect', u'std_rect', u'time'],\n",
       "      dtype='object')"
      ]
     },
     "execution_count": 44,
     "metadata": {},
     "output_type": "execute_result"
    }
   ],
   "source": [
    "pd.DataFrame.median(d_df_amp, axis=1, skipna=True).keys()"
   ]
  },
  {
   "cell_type": "code",
   "execution_count": 46,
   "metadata": {
    "collapsed": false
   },
   "outputs": [
    {
     "data": {
      "text/html": [
       "<div>\n",
       "<table border=\"1\" class=\"dataframe\">\n",
       "  <thead>\n",
       "    <tr style=\"text-align: right;\">\n",
       "      <th></th>\n",
       "      <th>med_highFreqPerfect_L</th>\n",
       "      <th>med_highFreqPerfect_R</th>\n",
       "      <th>med_lowFreqPerfect</th>\n",
       "      <th>med_rect</th>\n",
       "      <th>normVec_highFreqPerfect_L</th>\n",
       "      <th>normVec_highFreqPerfect_R</th>\n",
       "      <th>normVec_highFreqPerfect_R_x</th>\n",
       "      <th>normVec_highFreqPerfect_R_y</th>\n",
       "      <th>normVec_lowFreqPerfect</th>\n",
       "      <th>normVec_lowFreqPerfect_x</th>\n",
       "      <th>normVec_lowFreqPerfect_y</th>\n",
       "      <th>normVec_rect</th>\n",
       "      <th>std_highFreqPerfect_L</th>\n",
       "      <th>std_highFreqPerfect_R</th>\n",
       "      <th>std_lowFreqPerfect</th>\n",
       "      <th>std_rect</th>\n",
       "      <th>time</th>\n",
       "    </tr>\n",
       "  </thead>\n",
       "  <tbody>\n",
       "    <tr>\n",
       "      <th>0</th>\n",
       "      <td>NaN</td>\n",
       "      <td>NaN</td>\n",
       "      <td>NaN</td>\n",
       "      <td>NaN</td>\n",
       "      <td>NaN</td>\n",
       "      <td>NaN</td>\n",
       "      <td>NaN</td>\n",
       "      <td>NaN</td>\n",
       "      <td>NaN</td>\n",
       "      <td>NaN</td>\n",
       "      <td>NaN</td>\n",
       "      <td>NaN</td>\n",
       "      <td>NaN</td>\n",
       "      <td>NaN</td>\n",
       "      <td>NaN</td>\n",
       "      <td>NaN</td>\n",
       "      <td>NaN</td>\n",
       "    </tr>\n",
       "  </tbody>\n",
       "</table>\n",
       "</div>"
      ],
      "text/plain": [
       "   med_highFreqPerfect_L  med_highFreqPerfect_R  med_lowFreqPerfect  med_rect  \\\n",
       "0                    NaN                    NaN                 NaN       NaN   \n",
       "\n",
       "   normVec_highFreqPerfect_L  normVec_highFreqPerfect_R  \\\n",
       "0                        NaN                        NaN   \n",
       "\n",
       "   normVec_highFreqPerfect_R_x  normVec_highFreqPerfect_R_y  \\\n",
       "0                          NaN                          NaN   \n",
       "\n",
       "   normVec_lowFreqPerfect  normVec_lowFreqPerfect_x  normVec_lowFreqPerfect_y  \\\n",
       "0                     NaN                       NaN                       NaN   \n",
       "\n",
       "   normVec_rect  std_highFreqPerfect_L  std_highFreqPerfect_R  \\\n",
       "0           NaN                    NaN                    NaN   \n",
       "\n",
       "   std_lowFreqPerfect  std_rect  time  \n",
       "0                 NaN       NaN   NaN  "
      ]
     },
     "execution_count": 46,
     "metadata": {},
     "output_type": "execute_result"
    }
   ],
   "source": [
    "test"
   ]
  },
  {
   "cell_type": "code",
   "execution_count": 31,
   "metadata": {
    "collapsed": false
   },
   "outputs": [
    {
     "data": {
      "text/plain": [
       "253204.61594710406"
      ]
     },
     "execution_count": 31,
     "metadata": {},
     "output_type": "execute_result"
    }
   ],
   "source": [
    "d_df_amp[\"pickle_00\"][\"med_rect\"]"
   ]
  },
  {
   "cell_type": "code",
   "execution_count": 47,
   "metadata": {
    "collapsed": true
   },
   "outputs": [],
   "source": [
    "\n",
    "\n",
    "df_concat = pd.concat((d_df_amp['pickle_00'], d_df_amp['pickle_01']))"
   ]
  },
  {
   "cell_type": "code",
   "execution_count": 52,
   "metadata": {
    "collapsed": false
   },
   "outputs": [
    {
     "data": {
      "text/plain": [
       "Series([], dtype: float64)"
      ]
     },
     "execution_count": 52,
     "metadata": {},
     "output_type": "execute_result"
    }
   ],
   "source": [
    "pd.DataFrame.median(d_df_amp.T)"
   ]
  },
  {
   "cell_type": "code",
   "execution_count": 56,
   "metadata": {
    "collapsed": false
   },
   "outputs": [
    {
     "data": {
      "text/html": [
       "<div>\n",
       "<table border=\"1\" class=\"dataframe\">\n",
       "  <thead>\n",
       "    <tr style=\"text-align: right;\">\n",
       "      <th></th>\n",
       "      <th>index</th>\n",
       "      <th>med_highFreqPerfect_L</th>\n",
       "      <th>med_highFreqPerfect_R</th>\n",
       "      <th>med_lowFreqPerfect</th>\n",
       "      <th>med_rect</th>\n",
       "      <th>normVec_highFreqPerfect_L</th>\n",
       "      <th>normVec_highFreqPerfect_R</th>\n",
       "      <th>normVec_highFreqPerfect_R_x</th>\n",
       "      <th>normVec_highFreqPerfect_R_y</th>\n",
       "      <th>normVec_lowFreqPerfect</th>\n",
       "      <th>normVec_lowFreqPerfect_x</th>\n",
       "      <th>normVec_lowFreqPerfect_y</th>\n",
       "      <th>normVec_rect</th>\n",
       "      <th>std_highFreqPerfect_L</th>\n",
       "      <th>std_highFreqPerfect_R</th>\n",
       "      <th>std_lowFreqPerfect</th>\n",
       "      <th>std_rect</th>\n",
       "      <th>time</th>\n",
       "    </tr>\n",
       "  </thead>\n",
       "  <tbody>\n",
       "    <tr>\n",
       "      <th>0</th>\n",
       "      <td>pickle_00</td>\n",
       "      <td>376154</td>\n",
       "      <td>376154</td>\n",
       "      <td>4.59994e+06</td>\n",
       "      <td>253205</td>\n",
       "      <td>[3229.91890036, -306.57564716, -667090.683073]</td>\n",
       "      <td>[-3229.91890036, 306.575647158, 2840921.22077]</td>\n",
       "      <td>3229.92</td>\n",
       "      <td>-306.576</td>\n",
       "      <td>[8.78123618264e-09, -7.4214590029e-09, 4944971...</td>\n",
       "      <td>8.78124e-09</td>\n",
       "      <td>-7.42146e-09</td>\n",
       "      <td>[5.67496440465e-11, -6.87074494521e-11, 808819...</td>\n",
       "      <td>155139</td>\n",
       "      <td>155139</td>\n",
       "      <td>1.60394e+06</td>\n",
       "      <td>1.41134e+06</td>\n",
       "      <td>1.54984e+09</td>\n",
       "    </tr>\n",
       "    <tr>\n",
       "      <th>1</th>\n",
       "      <td>pickle_01</td>\n",
       "      <td>376154</td>\n",
       "      <td>376154</td>\n",
       "      <td>4.59994e+06</td>\n",
       "      <td>253205</td>\n",
       "      <td>[3229.91890036, -306.57564716, -667090.683073]</td>\n",
       "      <td>[-3229.91890036, 306.575647158, 2840921.22077]</td>\n",
       "      <td>3229.92</td>\n",
       "      <td>-306.576</td>\n",
       "      <td>[8.78123618264e-09, -7.4214590029e-09, 4944971...</td>\n",
       "      <td>8.78124e-09</td>\n",
       "      <td>-7.42146e-09</td>\n",
       "      <td>[5.67496440465e-11, -6.87074494521e-11, 808819...</td>\n",
       "      <td>155139</td>\n",
       "      <td>155139</td>\n",
       "      <td>1.60394e+06</td>\n",
       "      <td>1.41134e+06</td>\n",
       "      <td>1.54984e+09</td>\n",
       "    </tr>\n",
       "    <tr>\n",
       "      <th>2</th>\n",
       "      <td>pickle_02</td>\n",
       "      <td>376154</td>\n",
       "      <td>376154</td>\n",
       "      <td>4.59994e+06</td>\n",
       "      <td>253205</td>\n",
       "      <td>[3229.91890036, -306.57564716, -667090.683073]</td>\n",
       "      <td>[-3229.91890036, 306.575647158, 2840921.22077]</td>\n",
       "      <td>3229.92</td>\n",
       "      <td>-306.576</td>\n",
       "      <td>[8.78123618264e-09, -7.4214590029e-09, 4944971...</td>\n",
       "      <td>8.78124e-09</td>\n",
       "      <td>-7.42146e-09</td>\n",
       "      <td>[5.67496440465e-11, -6.87074494521e-11, 808819...</td>\n",
       "      <td>155139</td>\n",
       "      <td>155139</td>\n",
       "      <td>1.60394e+06</td>\n",
       "      <td>1.41134e+06</td>\n",
       "      <td>1.54984e+09</td>\n",
       "    </tr>\n",
       "    <tr>\n",
       "      <th>3</th>\n",
       "      <td>pickle_03</td>\n",
       "      <td>376154</td>\n",
       "      <td>376154</td>\n",
       "      <td>4.59994e+06</td>\n",
       "      <td>253205</td>\n",
       "      <td>[3229.91890036, -306.57564716, -667090.683073]</td>\n",
       "      <td>[-3229.91890036, 306.575647158, 2840921.22077]</td>\n",
       "      <td>3229.92</td>\n",
       "      <td>-306.576</td>\n",
       "      <td>[8.78123618264e-09, -7.4214590029e-09, 4944971...</td>\n",
       "      <td>8.78124e-09</td>\n",
       "      <td>-7.42146e-09</td>\n",
       "      <td>[5.67496440465e-11, -6.87074494521e-11, 808819...</td>\n",
       "      <td>155139</td>\n",
       "      <td>155139</td>\n",
       "      <td>1.60394e+06</td>\n",
       "      <td>1.41134e+06</td>\n",
       "      <td>1.54984e+09</td>\n",
       "    </tr>\n",
       "    <tr>\n",
       "      <th>4</th>\n",
       "      <td>pickle_04</td>\n",
       "      <td>376154</td>\n",
       "      <td>376154</td>\n",
       "      <td>4.59994e+06</td>\n",
       "      <td>253205</td>\n",
       "      <td>[3229.91890036, -306.57564716, -667090.683073]</td>\n",
       "      <td>[-3229.91890036, 306.575647158, 2840921.22077]</td>\n",
       "      <td>3229.92</td>\n",
       "      <td>-306.576</td>\n",
       "      <td>[8.78123618264e-09, -7.4214590029e-09, 4944971...</td>\n",
       "      <td>8.78124e-09</td>\n",
       "      <td>-7.42146e-09</td>\n",
       "      <td>[5.67496440465e-11, -6.87074494521e-11, 808819...</td>\n",
       "      <td>155139</td>\n",
       "      <td>155139</td>\n",
       "      <td>1.60394e+06</td>\n",
       "      <td>1.41134e+06</td>\n",
       "      <td>1.54984e+09</td>\n",
       "    </tr>\n",
       "  </tbody>\n",
       "</table>\n",
       "</div>"
      ],
      "text/plain": [
       "       index med_highFreqPerfect_L med_highFreqPerfect_R med_lowFreqPerfect  \\\n",
       "0  pickle_00                376154                376154        4.59994e+06   \n",
       "1  pickle_01                376154                376154        4.59994e+06   \n",
       "2  pickle_02                376154                376154        4.59994e+06   \n",
       "3  pickle_03                376154                376154        4.59994e+06   \n",
       "4  pickle_04                376154                376154        4.59994e+06   \n",
       "\n",
       "  med_rect                       normVec_highFreqPerfect_L  \\\n",
       "0   253205  [3229.91890036, -306.57564716, -667090.683073]   \n",
       "1   253205  [3229.91890036, -306.57564716, -667090.683073]   \n",
       "2   253205  [3229.91890036, -306.57564716, -667090.683073]   \n",
       "3   253205  [3229.91890036, -306.57564716, -667090.683073]   \n",
       "4   253205  [3229.91890036, -306.57564716, -667090.683073]   \n",
       "\n",
       "                        normVec_highFreqPerfect_R normVec_highFreqPerfect_R_x  \\\n",
       "0  [-3229.91890036, 306.575647158, 2840921.22077]                     3229.92   \n",
       "1  [-3229.91890036, 306.575647158, 2840921.22077]                     3229.92   \n",
       "2  [-3229.91890036, 306.575647158, 2840921.22077]                     3229.92   \n",
       "3  [-3229.91890036, 306.575647158, 2840921.22077]                     3229.92   \n",
       "4  [-3229.91890036, 306.575647158, 2840921.22077]                     3229.92   \n",
       "\n",
       "  normVec_highFreqPerfect_R_y  \\\n",
       "0                    -306.576   \n",
       "1                    -306.576   \n",
       "2                    -306.576   \n",
       "3                    -306.576   \n",
       "4                    -306.576   \n",
       "\n",
       "                              normVec_lowFreqPerfect normVec_lowFreqPerfect_x  \\\n",
       "0  [8.78123618264e-09, -7.4214590029e-09, 4944971...              8.78124e-09   \n",
       "1  [8.78123618264e-09, -7.4214590029e-09, 4944971...              8.78124e-09   \n",
       "2  [8.78123618264e-09, -7.4214590029e-09, 4944971...              8.78124e-09   \n",
       "3  [8.78123618264e-09, -7.4214590029e-09, 4944971...              8.78124e-09   \n",
       "4  [8.78123618264e-09, -7.4214590029e-09, 4944971...              8.78124e-09   \n",
       "\n",
       "  normVec_lowFreqPerfect_y                                       normVec_rect  \\\n",
       "0             -7.42146e-09  [5.67496440465e-11, -6.87074494521e-11, 808819...   \n",
       "1             -7.42146e-09  [5.67496440465e-11, -6.87074494521e-11, 808819...   \n",
       "2             -7.42146e-09  [5.67496440465e-11, -6.87074494521e-11, 808819...   \n",
       "3             -7.42146e-09  [5.67496440465e-11, -6.87074494521e-11, 808819...   \n",
       "4             -7.42146e-09  [5.67496440465e-11, -6.87074494521e-11, 808819...   \n",
       "\n",
       "  std_highFreqPerfect_L std_highFreqPerfect_R std_lowFreqPerfect     std_rect  \\\n",
       "0                155139                155139        1.60394e+06  1.41134e+06   \n",
       "1                155139                155139        1.60394e+06  1.41134e+06   \n",
       "2                155139                155139        1.60394e+06  1.41134e+06   \n",
       "3                155139                155139        1.60394e+06  1.41134e+06   \n",
       "4                155139                155139        1.60394e+06  1.41134e+06   \n",
       "\n",
       "          time  \n",
       "0  1.54984e+09  \n",
       "1  1.54984e+09  \n",
       "2  1.54984e+09  \n",
       "3  1.54984e+09  \n",
       "4  1.54984e+09  "
      ]
     },
     "execution_count": 56,
     "metadata": {},
     "output_type": "execute_result"
    }
   ],
   "source": [
    "d_df_amp.T.reset_index()"
   ]
  },
  {
   "cell_type": "code",
   "execution_count": 60,
   "metadata": {
    "collapsed": false
   },
   "outputs": [
    {
     "data": {
      "text/html": [
       "<div>\n",
       "<table border=\"1\" class=\"dataframe\">\n",
       "  <thead>\n",
       "    <tr style=\"text-align: right;\">\n",
       "      <th></th>\n",
       "      <th>index</th>\n",
       "      <th>med_highFreqPerfect_L</th>\n",
       "      <th>med_highFreqPerfect_R</th>\n",
       "      <th>med_lowFreqPerfect</th>\n",
       "      <th>med_rect</th>\n",
       "      <th>normVec_highFreqPerfect_L</th>\n",
       "      <th>normVec_highFreqPerfect_R</th>\n",
       "      <th>normVec_highFreqPerfect_R_x</th>\n",
       "      <th>normVec_highFreqPerfect_R_y</th>\n",
       "      <th>normVec_lowFreqPerfect</th>\n",
       "      <th>normVec_lowFreqPerfect_x</th>\n",
       "      <th>normVec_lowFreqPerfect_y</th>\n",
       "      <th>normVec_rect</th>\n",
       "      <th>std_highFreqPerfect_L</th>\n",
       "      <th>std_highFreqPerfect_R</th>\n",
       "      <th>std_lowFreqPerfect</th>\n",
       "      <th>std_rect</th>\n",
       "      <th>time</th>\n",
       "    </tr>\n",
       "  </thead>\n",
       "  <tbody>\n",
       "    <tr>\n",
       "      <th>0</th>\n",
       "      <td>pickle_00</td>\n",
       "      <td>376154</td>\n",
       "      <td>376154</td>\n",
       "      <td>4.59994e+06</td>\n",
       "      <td>253205</td>\n",
       "      <td>[3229.91890036, -306.57564716, -667090.683073]</td>\n",
       "      <td>[-3229.91890036, 306.575647158, 2840921.22077]</td>\n",
       "      <td>3229.92</td>\n",
       "      <td>-306.576</td>\n",
       "      <td>[8.78123618264e-09, -7.4214590029e-09, 4944971...</td>\n",
       "      <td>8.78124e-09</td>\n",
       "      <td>-7.42146e-09</td>\n",
       "      <td>[5.67496440465e-11, -6.87074494521e-11, 808819...</td>\n",
       "      <td>155139</td>\n",
       "      <td>155139</td>\n",
       "      <td>1.60394e+06</td>\n",
       "      <td>1.41134e+06</td>\n",
       "      <td>1.54984e+09</td>\n",
       "    </tr>\n",
       "    <tr>\n",
       "      <th>1</th>\n",
       "      <td>pickle_01</td>\n",
       "      <td>376154</td>\n",
       "      <td>376154</td>\n",
       "      <td>4.59994e+06</td>\n",
       "      <td>253205</td>\n",
       "      <td>[3229.91890036, -306.57564716, -667090.683073]</td>\n",
       "      <td>[-3229.91890036, 306.575647158, 2840921.22077]</td>\n",
       "      <td>3229.92</td>\n",
       "      <td>-306.576</td>\n",
       "      <td>[8.78123618264e-09, -7.4214590029e-09, 4944971...</td>\n",
       "      <td>8.78124e-09</td>\n",
       "      <td>-7.42146e-09</td>\n",
       "      <td>[5.67496440465e-11, -6.87074494521e-11, 808819...</td>\n",
       "      <td>155139</td>\n",
       "      <td>155139</td>\n",
       "      <td>1.60394e+06</td>\n",
       "      <td>1.41134e+06</td>\n",
       "      <td>1.54984e+09</td>\n",
       "    </tr>\n",
       "    <tr>\n",
       "      <th>2</th>\n",
       "      <td>pickle_02</td>\n",
       "      <td>376154</td>\n",
       "      <td>376154</td>\n",
       "      <td>4.59994e+06</td>\n",
       "      <td>253205</td>\n",
       "      <td>[3229.91890036, -306.57564716, -667090.683073]</td>\n",
       "      <td>[-3229.91890036, 306.575647158, 2840921.22077]</td>\n",
       "      <td>3229.92</td>\n",
       "      <td>-306.576</td>\n",
       "      <td>[8.78123618264e-09, -7.4214590029e-09, 4944971...</td>\n",
       "      <td>8.78124e-09</td>\n",
       "      <td>-7.42146e-09</td>\n",
       "      <td>[5.67496440465e-11, -6.87074494521e-11, 808819...</td>\n",
       "      <td>155139</td>\n",
       "      <td>155139</td>\n",
       "      <td>1.60394e+06</td>\n",
       "      <td>1.41134e+06</td>\n",
       "      <td>1.54984e+09</td>\n",
       "    </tr>\n",
       "    <tr>\n",
       "      <th>3</th>\n",
       "      <td>pickle_03</td>\n",
       "      <td>376154</td>\n",
       "      <td>376154</td>\n",
       "      <td>4.59994e+06</td>\n",
       "      <td>253205</td>\n",
       "      <td>[3229.91890036, -306.57564716, -667090.683073]</td>\n",
       "      <td>[-3229.91890036, 306.575647158, 2840921.22077]</td>\n",
       "      <td>3229.92</td>\n",
       "      <td>-306.576</td>\n",
       "      <td>[8.78123618264e-09, -7.4214590029e-09, 4944971...</td>\n",
       "      <td>8.78124e-09</td>\n",
       "      <td>-7.42146e-09</td>\n",
       "      <td>[5.67496440465e-11, -6.87074494521e-11, 808819...</td>\n",
       "      <td>155139</td>\n",
       "      <td>155139</td>\n",
       "      <td>1.60394e+06</td>\n",
       "      <td>1.41134e+06</td>\n",
       "      <td>1.54984e+09</td>\n",
       "    </tr>\n",
       "    <tr>\n",
       "      <th>4</th>\n",
       "      <td>pickle_04</td>\n",
       "      <td>376154</td>\n",
       "      <td>376154</td>\n",
       "      <td>4.59994e+06</td>\n",
       "      <td>253205</td>\n",
       "      <td>[3229.91890036, -306.57564716, -667090.683073]</td>\n",
       "      <td>[-3229.91890036, 306.575647158, 2840921.22077]</td>\n",
       "      <td>3229.92</td>\n",
       "      <td>-306.576</td>\n",
       "      <td>[8.78123618264e-09, -7.4214590029e-09, 4944971...</td>\n",
       "      <td>8.78124e-09</td>\n",
       "      <td>-7.42146e-09</td>\n",
       "      <td>[5.67496440465e-11, -6.87074494521e-11, 808819...</td>\n",
       "      <td>155139</td>\n",
       "      <td>155139</td>\n",
       "      <td>1.60394e+06</td>\n",
       "      <td>1.41134e+06</td>\n",
       "      <td>1.54984e+09</td>\n",
       "    </tr>\n",
       "  </tbody>\n",
       "</table>\n",
       "</div>"
      ],
      "text/plain": [
       "       index med_highFreqPerfect_L med_highFreqPerfect_R med_lowFreqPerfect  \\\n",
       "0  pickle_00                376154                376154        4.59994e+06   \n",
       "1  pickle_01                376154                376154        4.59994e+06   \n",
       "2  pickle_02                376154                376154        4.59994e+06   \n",
       "3  pickle_03                376154                376154        4.59994e+06   \n",
       "4  pickle_04                376154                376154        4.59994e+06   \n",
       "\n",
       "  med_rect                       normVec_highFreqPerfect_L  \\\n",
       "0   253205  [3229.91890036, -306.57564716, -667090.683073]   \n",
       "1   253205  [3229.91890036, -306.57564716, -667090.683073]   \n",
       "2   253205  [3229.91890036, -306.57564716, -667090.683073]   \n",
       "3   253205  [3229.91890036, -306.57564716, -667090.683073]   \n",
       "4   253205  [3229.91890036, -306.57564716, -667090.683073]   \n",
       "\n",
       "                        normVec_highFreqPerfect_R normVec_highFreqPerfect_R_x  \\\n",
       "0  [-3229.91890036, 306.575647158, 2840921.22077]                     3229.92   \n",
       "1  [-3229.91890036, 306.575647158, 2840921.22077]                     3229.92   \n",
       "2  [-3229.91890036, 306.575647158, 2840921.22077]                     3229.92   \n",
       "3  [-3229.91890036, 306.575647158, 2840921.22077]                     3229.92   \n",
       "4  [-3229.91890036, 306.575647158, 2840921.22077]                     3229.92   \n",
       "\n",
       "  normVec_highFreqPerfect_R_y  \\\n",
       "0                    -306.576   \n",
       "1                    -306.576   \n",
       "2                    -306.576   \n",
       "3                    -306.576   \n",
       "4                    -306.576   \n",
       "\n",
       "                              normVec_lowFreqPerfect normVec_lowFreqPerfect_x  \\\n",
       "0  [8.78123618264e-09, -7.4214590029e-09, 4944971...              8.78124e-09   \n",
       "1  [8.78123618264e-09, -7.4214590029e-09, 4944971...              8.78124e-09   \n",
       "2  [8.78123618264e-09, -7.4214590029e-09, 4944971...              8.78124e-09   \n",
       "3  [8.78123618264e-09, -7.4214590029e-09, 4944971...              8.78124e-09   \n",
       "4  [8.78123618264e-09, -7.4214590029e-09, 4944971...              8.78124e-09   \n",
       "\n",
       "  normVec_lowFreqPerfect_y                                       normVec_rect  \\\n",
       "0             -7.42146e-09  [5.67496440465e-11, -6.87074494521e-11, 808819...   \n",
       "1             -7.42146e-09  [5.67496440465e-11, -6.87074494521e-11, 808819...   \n",
       "2             -7.42146e-09  [5.67496440465e-11, -6.87074494521e-11, 808819...   \n",
       "3             -7.42146e-09  [5.67496440465e-11, -6.87074494521e-11, 808819...   \n",
       "4             -7.42146e-09  [5.67496440465e-11, -6.87074494521e-11, 808819...   \n",
       "\n",
       "  std_highFreqPerfect_L std_highFreqPerfect_R std_lowFreqPerfect     std_rect  \\\n",
       "0                155139                155139        1.60394e+06  1.41134e+06   \n",
       "1                155139                155139        1.60394e+06  1.41134e+06   \n",
       "2                155139                155139        1.60394e+06  1.41134e+06   \n",
       "3                155139                155139        1.60394e+06  1.41134e+06   \n",
       "4                155139                155139        1.60394e+06  1.41134e+06   \n",
       "\n",
       "          time  \n",
       "0  1.54984e+09  \n",
       "1  1.54984e+09  \n",
       "2  1.54984e+09  \n",
       "3  1.54984e+09  \n",
       "4  1.54984e+09  "
      ]
     },
     "execution_count": 60,
     "metadata": {},
     "output_type": "execute_result"
    }
   ],
   "source": [
    "d_df_amp.T.reset_index()"
   ]
  },
  {
   "cell_type": "code",
   "execution_count": 58,
   "metadata": {
    "collapsed": false
   },
   "outputs": [
    {
     "data": {
      "text/plain": [
       "Series([], dtype: float64)"
      ]
     },
     "execution_count": 58,
     "metadata": {},
     "output_type": "execute_result"
    }
   ],
   "source": [
    "pd.DataFrame.median(d_df_amp.T, skipna=True)"
   ]
  },
  {
   "cell_type": "code",
   "execution_count": 72,
   "metadata": {
    "collapsed": true
   },
   "outputs": [],
   "source": [
    "test_df = pd.DataFrame(d_df_amp.T.reset_index()[\"med_highFreqPerfect_L\"])"
   ]
  },
  {
   "cell_type": "code",
   "execution_count": 73,
   "metadata": {
    "collapsed": false
   },
   "outputs": [
    {
     "data": {
      "text/html": [
       "<div>\n",
       "<table border=\"1\" class=\"dataframe\">\n",
       "  <thead>\n",
       "    <tr style=\"text-align: right;\">\n",
       "      <th></th>\n",
       "      <th>med_highFreqPerfect_L</th>\n",
       "    </tr>\n",
       "    <tr>\n",
       "      <th>med_highFreqPerfect_R</th>\n",
       "      <th></th>\n",
       "    </tr>\n",
       "  </thead>\n",
       "  <tbody>\n",
       "    <tr>\n",
       "      <th>376154.307685</th>\n",
       "      <td>NaN</td>\n",
       "    </tr>\n",
       "    <tr>\n",
       "      <th>376154.307685</th>\n",
       "      <td>NaN</td>\n",
       "    </tr>\n",
       "    <tr>\n",
       "      <th>376154.307685</th>\n",
       "      <td>NaN</td>\n",
       "    </tr>\n",
       "    <tr>\n",
       "      <th>376154.307685</th>\n",
       "      <td>NaN</td>\n",
       "    </tr>\n",
       "    <tr>\n",
       "      <th>376154.307685</th>\n",
       "      <td>NaN</td>\n",
       "    </tr>\n",
       "  </tbody>\n",
       "</table>\n",
       "</div>"
      ],
      "text/plain": [
       "                      med_highFreqPerfect_L\n",
       "med_highFreqPerfect_R                      \n",
       "376154.307685                           NaN\n",
       "376154.307685                           NaN\n",
       "376154.307685                           NaN\n",
       "376154.307685                           NaN\n",
       "376154.307685                           NaN"
      ]
     },
     "execution_count": 73,
     "metadata": {},
     "output_type": "execute_result"
    }
   ],
   "source": [
    "test_df"
   ]
  },
  {
   "cell_type": "code",
   "execution_count": 65,
   "metadata": {
    "collapsed": false
   },
   "outputs": [
    {
     "data": {
      "text/plain": [
       "med_highFreqPerfect_L    376154.307685\n",
       "dtype: float64"
      ]
     },
     "execution_count": 65,
     "metadata": {},
     "output_type": "execute_result"
    }
   ],
   "source": [
    "pd.DataFrame.median(test_df)"
   ]
  },
  {
   "cell_type": "code",
   "execution_count": null,
   "metadata": {
    "collapsed": true
   },
   "outputs": [],
   "source": []
  }
 ],
 "metadata": {
  "kernelspec": {
   "display_name": "Python 2",
   "language": "python",
   "name": "python2"
  },
  "language_info": {
   "codemirror_mode": {
    "name": "ipython",
    "version": 2
   },
   "file_extension": ".py",
   "mimetype": "text/x-python",
   "name": "python",
   "nbconvert_exporter": "python",
   "pygments_lexer": "ipython2",
   "version": "2.7.11"
  }
 },
 "nbformat": 4,
 "nbformat_minor": 0
}
