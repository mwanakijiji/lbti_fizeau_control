{
 "cells": [
  {
   "cell_type": "code",
   "execution_count": null,
   "metadata": {
    "collapsed": true
   },
   "outputs": [],
   "source": [
    "# This is a testbed for reading in frames from LMIRcam and analyzing the PSF\n",
    "\n",
    "# created 2018 May 2 by E.S."
   ]
  },
  {
   "cell_type": "code",
   "execution_count": 41,
   "metadata": {},
   "outputs": [],
   "source": [
    "import numpy as np\n",
    "import matplotlib\n",
    "import matplotlib.pyplot as plt\n",
    "from astropy.io import fits\n",
    "import os\n",
    "import scipy.ndimage\n",
    "from scipy.optimize import curve_fit\n",
    "import glob\n",
    "import pandas as pd"
   ]
  },
  {
   "cell_type": "code",
   "execution_count": 3,
   "metadata": {},
   "outputs": [],
   "source": [
    "def make_cookie(image):\n",
    "    \n",
    "    # find the center of the PSF\n",
    "    # first pass: find the maximum value of the array when bad pixels are removed\n",
    "    space = 25\n",
    "    center_y, center_x = np.where(image == np.max(image)) # needs refining\n",
    "    cookie = image[center_y[0]-space:center_y[0]+space,center_x[0]-space:center_x[0]+space]\n",
    "    \n",
    "    return center_x[0], center_y[0], cookie"
   ]
  },
  {
   "cell_type": "code",
   "execution_count": 4,
   "metadata": {},
   "outputs": [],
   "source": [
    "# take FFT of a cookie cut-out\n",
    "\n",
    "def cookie_fft(cookie):\n",
    "    \n",
    "    padI = np.pad(cookie,len(cookie),'edge') # for addl padding\n",
    "    padI = np.fft.fftshift(padI) # to get rid of checkerboarding\n",
    "\n",
    "    PhaseExtract = np.fft.fft2(padI)\n",
    "    PhaseExtract = np.fft.fftshift(PhaseExtract)\n",
    "    \n",
    "    AmpPE = np.absolute(PhaseExtract)\n",
    "    ArgPE = np.angle(PhaseExtract)\n",
    "    ArgPE_deg = ArgPE*180./np.pi\n",
    "    \n",
    "    return AmpPE, ArgPE_deg"
   ]
  },
  {
   "cell_type": "code",
   "execution_count": 5,
   "metadata": {},
   "outputs": [],
   "source": [
    "# get list of all FITS files\n",
    "\n",
    "list_output_files_neg = [f for f in glob.glob(\"./junk/sim_psf*_opd_-*\")]\n",
    "list_output_files_pos = [f for f in glob.glob(\"./junk/sim_psf*_opd_0*\")]\n",
    "\n",
    "'''\n",
    "list_output_files = [name for name in os.listdir(dir_name) if \n",
    "                     os.path.isfile(os.path.join(dir_name, name))]\n",
    "'''\n",
    "list_output_files_neg = np.sort(list_output_files_neg)\n",
    "list_output_files_pos = np.sort(list_output_files_pos)\n",
    "files_of_interest = np.concatenate((np.flip(list_output_files_neg),list_output_files_pos))"
   ]
  },
  {
   "cell_type": "code",
   "execution_count": 6,
   "metadata": {},
   "outputs": [],
   "source": [
    "# will need to make user specify transmission, so that LMIR knows what curve to compare to"
   ]
  },
  {
   "cell_type": "code",
   "execution_count": 7,
   "metadata": {},
   "outputs": [
    {
     "data": {
      "text/plain": [
       "array(['./junk/sim_psf_00000001chrom_poly_avgwavel_3699_opd_-2000_tip_0000_tilt_0000_transl_000_PS_10.fits',\n",
       "       './junk/sim_psf_00000001chrom_poly_avgwavel_3699_opd_-1950_tip_0000_tilt_0000_transl_000_PS_10.fits',\n",
       "       './junk/sim_psf_00000001chrom_poly_avgwavel_3699_opd_-1900_tip_0000_tilt_0000_transl_000_PS_10.fits',\n",
       "       './junk/sim_psf_00000001chrom_poly_avgwavel_3699_opd_-1850_tip_0000_tilt_0000_transl_000_PS_10.fits',\n",
       "       './junk/sim_psf_00000001chrom_poly_avgwavel_3699_opd_-1800_tip_0000_tilt_0000_transl_000_PS_10.fits',\n",
       "       './junk/sim_psf_00000001chrom_poly_avgwavel_3699_opd_-1750_tip_0000_tilt_0000_transl_000_PS_10.fits',\n",
       "       './junk/sim_psf_00000001chrom_poly_avgwavel_3699_opd_-1700_tip_0000_tilt_0000_transl_000_PS_10.fits',\n",
       "       './junk/sim_psf_00000001chrom_poly_avgwavel_3699_opd_-1650_tip_0000_tilt_0000_transl_000_PS_10.fits',\n",
       "       './junk/sim_psf_00000001chrom_poly_avgwavel_3699_opd_-1600_tip_0000_tilt_0000_transl_000_PS_10.fits',\n",
       "       './junk/sim_psf_00000001chrom_poly_avgwavel_3699_opd_-1550_tip_0000_tilt_0000_transl_000_PS_10.fits',\n",
       "       './junk/sim_psf_00000001chrom_poly_avgwavel_3699_opd_-1500_tip_0000_tilt_0000_transl_000_PS_10.fits',\n",
       "       './junk/sim_psf_00000001chrom_poly_avgwavel_3699_opd_-1450_tip_0000_tilt_0000_transl_000_PS_10.fits',\n",
       "       './junk/sim_psf_00000001chrom_poly_avgwavel_3699_opd_-1400_tip_0000_tilt_0000_transl_000_PS_10.fits',\n",
       "       './junk/sim_psf_00000001chrom_poly_avgwavel_3699_opd_-1350_tip_0000_tilt_0000_transl_000_PS_10.fits',\n",
       "       './junk/sim_psf_00000001chrom_poly_avgwavel_3699_opd_-1300_tip_0000_tilt_0000_transl_000_PS_10.fits',\n",
       "       './junk/sim_psf_00000001chrom_poly_avgwavel_3699_opd_-1250_tip_0000_tilt_0000_transl_000_PS_10.fits',\n",
       "       './junk/sim_psf_00000001chrom_poly_avgwavel_3699_opd_-1200_tip_0000_tilt_0000_transl_000_PS_10.fits',\n",
       "       './junk/sim_psf_00000001chrom_poly_avgwavel_3699_opd_-1150_tip_0000_tilt_0000_transl_000_PS_10.fits',\n",
       "       './junk/sim_psf_00000001chrom_poly_avgwavel_3699_opd_-1100_tip_0000_tilt_0000_transl_000_PS_10.fits',\n",
       "       './junk/sim_psf_00000001chrom_poly_avgwavel_3699_opd_-1050_tip_0000_tilt_0000_transl_000_PS_10.fits',\n",
       "       './junk/sim_psf_00000001chrom_poly_avgwavel_3699_opd_-0999_tip_0000_tilt_0000_transl_000_PS_10.fits',\n",
       "       './junk/sim_psf_00000001chrom_poly_avgwavel_3699_opd_-0950_tip_0000_tilt_0000_transl_000_PS_10.fits',\n",
       "       './junk/sim_psf_00000001chrom_poly_avgwavel_3699_opd_-0900_tip_0000_tilt_0000_transl_000_PS_10.fits',\n",
       "       './junk/sim_psf_00000001chrom_poly_avgwavel_3699_opd_-0850_tip_0000_tilt_0000_transl_000_PS_10.fits',\n",
       "       './junk/sim_psf_00000001chrom_poly_avgwavel_3699_opd_-0800_tip_0000_tilt_0000_transl_000_PS_10.fits',\n",
       "       './junk/sim_psf_00000001chrom_poly_avgwavel_3699_opd_-0749_tip_0000_tilt_0000_transl_000_PS_10.fits',\n",
       "       './junk/sim_psf_00000001chrom_poly_avgwavel_3699_opd_-0699_tip_0000_tilt_0000_transl_000_PS_10.fits',\n",
       "       './junk/sim_psf_00000001chrom_poly_avgwavel_3699_opd_-0649_tip_0000_tilt_0000_transl_000_PS_10.fits',\n",
       "       './junk/sim_psf_00000001chrom_poly_avgwavel_3699_opd_-0600_tip_0000_tilt_0000_transl_000_PS_10.fits',\n",
       "       './junk/sim_psf_00000001chrom_poly_avgwavel_3699_opd_-0550_tip_0000_tilt_0000_transl_000_PS_10.fits',\n",
       "       './junk/sim_psf_00000001chrom_poly_avgwavel_3699_opd_-0499_tip_0000_tilt_0000_transl_000_PS_10.fits',\n",
       "       './junk/sim_psf_00000001chrom_poly_avgwavel_3699_opd_-0449_tip_0000_tilt_0000_transl_000_PS_10.fits',\n",
       "       './junk/sim_psf_00000001chrom_poly_avgwavel_3699_opd_-0399_tip_0000_tilt_0000_transl_000_PS_10.fits',\n",
       "       './junk/sim_psf_00000001chrom_poly_avgwavel_3699_opd_-0350_tip_0000_tilt_0000_transl_000_PS_10.fits',\n",
       "       './junk/sim_psf_00000001chrom_poly_avgwavel_3699_opd_-0299_tip_0000_tilt_0000_transl_000_PS_10.fits',\n",
       "       './junk/sim_psf_00000001chrom_poly_avgwavel_3699_opd_-0249_tip_0000_tilt_0000_transl_000_PS_10.fits',\n",
       "       './junk/sim_psf_00000001chrom_poly_avgwavel_3699_opd_-0199_tip_0000_tilt_0000_transl_000_PS_10.fits',\n",
       "       './junk/sim_psf_00000001chrom_poly_avgwavel_3699_opd_-0149_tip_0000_tilt_0000_transl_000_PS_10.fits',\n",
       "       './junk/sim_psf_00000001chrom_poly_avgwavel_3699_opd_-0099_tip_0000_tilt_0000_transl_000_PS_10.fits',\n",
       "       './junk/sim_psf_00000001chrom_poly_avgwavel_3699_opd_-0049_tip_0000_tilt_0000_transl_000_PS_10.fits',\n",
       "       './junk/sim_psf_00000001chrom_poly_avgwavel_3699_opd_00000_tip_0000_tilt_0000_transl_000_PS_10.fits',\n",
       "       './junk/sim_psf_00000001chrom_poly_avgwavel_3699_opd_00050_tip_0000_tilt_0000_transl_000_PS_10.fits',\n",
       "       './junk/sim_psf_00000001chrom_poly_avgwavel_3699_opd_00100_tip_0000_tilt_0000_transl_000_PS_10.fits',\n",
       "       './junk/sim_psf_00000001chrom_poly_avgwavel_3699_opd_00150_tip_0000_tilt_0000_transl_000_PS_10.fits',\n",
       "       './junk/sim_psf_00000001chrom_poly_avgwavel_3699_opd_00200_tip_0000_tilt_0000_transl_000_PS_10.fits',\n",
       "       './junk/sim_psf_00000001chrom_poly_avgwavel_3699_opd_00250_tip_0000_tilt_0000_transl_000_PS_10.fits',\n",
       "       './junk/sim_psf_00000001chrom_poly_avgwavel_3699_opd_00300_tip_0000_tilt_0000_transl_000_PS_10.fits',\n",
       "       './junk/sim_psf_00000001chrom_poly_avgwavel_3699_opd_00350_tip_0000_tilt_0000_transl_000_PS_10.fits',\n",
       "       './junk/sim_psf_00000001chrom_poly_avgwavel_3699_opd_00400_tip_0000_tilt_0000_transl_000_PS_10.fits',\n",
       "       './junk/sim_psf_00000001chrom_poly_avgwavel_3699_opd_00450_tip_0000_tilt_0000_transl_000_PS_10.fits',\n",
       "       './junk/sim_psf_00000001chrom_poly_avgwavel_3699_opd_00500_tip_0000_tilt_0000_transl_000_PS_10.fits',\n",
       "       './junk/sim_psf_00000001chrom_poly_avgwavel_3699_opd_00550_tip_0000_tilt_0000_transl_000_PS_10.fits',\n",
       "       './junk/sim_psf_00000001chrom_poly_avgwavel_3699_opd_00600_tip_0000_tilt_0000_transl_000_PS_10.fits',\n",
       "       './junk/sim_psf_00000001chrom_poly_avgwavel_3699_opd_00650_tip_0000_tilt_0000_transl_000_PS_10.fits',\n",
       "       './junk/sim_psf_00000001chrom_poly_avgwavel_3699_opd_00700_tip_0000_tilt_0000_transl_000_PS_10.fits',\n",
       "       './junk/sim_psf_00000001chrom_poly_avgwavel_3699_opd_00750_tip_0000_tilt_0000_transl_000_PS_10.fits',\n",
       "       './junk/sim_psf_00000001chrom_poly_avgwavel_3699_opd_00800_tip_0000_tilt_0000_transl_000_PS_10.fits',\n",
       "       './junk/sim_psf_00000001chrom_poly_avgwavel_3699_opd_00850_tip_0000_tilt_0000_transl_000_PS_10.fits',\n",
       "       './junk/sim_psf_00000001chrom_poly_avgwavel_3699_opd_00900_tip_0000_tilt_0000_transl_000_PS_10.fits',\n",
       "       './junk/sim_psf_00000001chrom_poly_avgwavel_3699_opd_00950_tip_0000_tilt_0000_transl_000_PS_10.fits',\n",
       "       './junk/sim_psf_00000001chrom_poly_avgwavel_3699_opd_01000_tip_0000_tilt_0000_transl_000_PS_10.fits',\n",
       "       './junk/sim_psf_00000001chrom_poly_avgwavel_3699_opd_01050_tip_0000_tilt_0000_transl_000_PS_10.fits',\n",
       "       './junk/sim_psf_00000001chrom_poly_avgwavel_3699_opd_01100_tip_0000_tilt_0000_transl_000_PS_10.fits',\n",
       "       './junk/sim_psf_00000001chrom_poly_avgwavel_3699_opd_01150_tip_0000_tilt_0000_transl_000_PS_10.fits',\n",
       "       './junk/sim_psf_00000001chrom_poly_avgwavel_3699_opd_01200_tip_0000_tilt_0000_transl_000_PS_10.fits',\n",
       "       './junk/sim_psf_00000001chrom_poly_avgwavel_3699_opd_01250_tip_0000_tilt_0000_transl_000_PS_10.fits',\n",
       "       './junk/sim_psf_00000001chrom_poly_avgwavel_3699_opd_01300_tip_0000_tilt_0000_transl_000_PS_10.fits',\n",
       "       './junk/sim_psf_00000001chrom_poly_avgwavel_3699_opd_01350_tip_0000_tilt_0000_transl_000_PS_10.fits',\n",
       "       './junk/sim_psf_00000001chrom_poly_avgwavel_3699_opd_01400_tip_0000_tilt_0000_transl_000_PS_10.fits',\n",
       "       './junk/sim_psf_00000001chrom_poly_avgwavel_3699_opd_01450_tip_0000_tilt_0000_transl_000_PS_10.fits',\n",
       "       './junk/sim_psf_00000001chrom_poly_avgwavel_3699_opd_01500_tip_0000_tilt_0000_transl_000_PS_10.fits',\n",
       "       './junk/sim_psf_00000001chrom_poly_avgwavel_3699_opd_01550_tip_0000_tilt_0000_transl_000_PS_10.fits',\n",
       "       './junk/sim_psf_00000001chrom_poly_avgwavel_3699_opd_01600_tip_0000_tilt_0000_transl_000_PS_10.fits',\n",
       "       './junk/sim_psf_00000001chrom_poly_avgwavel_3699_opd_01650_tip_0000_tilt_0000_transl_000_PS_10.fits',\n",
       "       './junk/sim_psf_00000001chrom_poly_avgwavel_3699_opd_01700_tip_0000_tilt_0000_transl_000_PS_10.fits',\n",
       "       './junk/sim_psf_00000001chrom_poly_avgwavel_3699_opd_01750_tip_0000_tilt_0000_transl_000_PS_10.fits',\n",
       "       './junk/sim_psf_00000001chrom_poly_avgwavel_3699_opd_01800_tip_0000_tilt_0000_transl_000_PS_10.fits',\n",
       "       './junk/sim_psf_00000001chrom_poly_avgwavel_3699_opd_01850_tip_0000_tilt_0000_transl_000_PS_10.fits',\n",
       "       './junk/sim_psf_00000001chrom_poly_avgwavel_3699_opd_01900_tip_0000_tilt_0000_transl_000_PS_10.fits',\n",
       "       './junk/sim_psf_00000001chrom_poly_avgwavel_3699_opd_01950_tip_0000_tilt_0000_transl_000_PS_10.fits',\n",
       "       './junk/sim_psf_00000001chrom_poly_avgwavel_3699_opd_02000_tip_0000_tilt_0000_transl_000_PS_10.fits'],\n",
       "      dtype='<U98')"
      ]
     },
     "execution_count": 7,
     "metadata": {},
     "output_type": "execute_result"
    }
   ],
   "source": [
    "files_of_interest"
   ]
  },
  {
   "cell_type": "code",
   "execution_count": 30,
   "metadata": {},
   "outputs": [
    {
     "name": "stdout",
     "output_type": "stream",
     "text": [
      "./junk/sim_psf_00000001chrom_poly_avgwavel_3699_opd_-2000_tip_0000_tilt_0000_transl_000_PS_10.fits\n",
      "./junk/sim_psf_00000001chrom_poly_avgwavel_3699_opd_-1950_tip_0000_tilt_0000_transl_000_PS_10.fits\n",
      "./junk/sim_psf_00000001chrom_poly_avgwavel_3699_opd_-1900_tip_0000_tilt_0000_transl_000_PS_10.fits\n",
      "./junk/sim_psf_00000001chrom_poly_avgwavel_3699_opd_-1850_tip_0000_tilt_0000_transl_000_PS_10.fits\n",
      "./junk/sim_psf_00000001chrom_poly_avgwavel_3699_opd_-1800_tip_0000_tilt_0000_transl_000_PS_10.fits\n",
      "./junk/sim_psf_00000001chrom_poly_avgwavel_3699_opd_-1750_tip_0000_tilt_0000_transl_000_PS_10.fits\n",
      "./junk/sim_psf_00000001chrom_poly_avgwavel_3699_opd_-1700_tip_0000_tilt_0000_transl_000_PS_10.fits\n",
      "./junk/sim_psf_00000001chrom_poly_avgwavel_3699_opd_-1650_tip_0000_tilt_0000_transl_000_PS_10.fits\n",
      "./junk/sim_psf_00000001chrom_poly_avgwavel_3699_opd_-1600_tip_0000_tilt_0000_transl_000_PS_10.fits\n",
      "./junk/sim_psf_00000001chrom_poly_avgwavel_3699_opd_-1550_tip_0000_tilt_0000_transl_000_PS_10.fits\n",
      "./junk/sim_psf_00000001chrom_poly_avgwavel_3699_opd_-1500_tip_0000_tilt_0000_transl_000_PS_10.fits\n",
      "./junk/sim_psf_00000001chrom_poly_avgwavel_3699_opd_-1450_tip_0000_tilt_0000_transl_000_PS_10.fits\n",
      "./junk/sim_psf_00000001chrom_poly_avgwavel_3699_opd_-1400_tip_0000_tilt_0000_transl_000_PS_10.fits\n",
      "./junk/sim_psf_00000001chrom_poly_avgwavel_3699_opd_-1350_tip_0000_tilt_0000_transl_000_PS_10.fits\n",
      "./junk/sim_psf_00000001chrom_poly_avgwavel_3699_opd_-1300_tip_0000_tilt_0000_transl_000_PS_10.fits\n",
      "./junk/sim_psf_00000001chrom_poly_avgwavel_3699_opd_-1250_tip_0000_tilt_0000_transl_000_PS_10.fits\n",
      "./junk/sim_psf_00000001chrom_poly_avgwavel_3699_opd_-1200_tip_0000_tilt_0000_transl_000_PS_10.fits\n",
      "./junk/sim_psf_00000001chrom_poly_avgwavel_3699_opd_-1150_tip_0000_tilt_0000_transl_000_PS_10.fits\n",
      "./junk/sim_psf_00000001chrom_poly_avgwavel_3699_opd_-1100_tip_0000_tilt_0000_transl_000_PS_10.fits\n",
      "./junk/sim_psf_00000001chrom_poly_avgwavel_3699_opd_-1050_tip_0000_tilt_0000_transl_000_PS_10.fits\n",
      "./junk/sim_psf_00000001chrom_poly_avgwavel_3699_opd_-0999_tip_0000_tilt_0000_transl_000_PS_10.fits\n",
      "./junk/sim_psf_00000001chrom_poly_avgwavel_3699_opd_-0950_tip_0000_tilt_0000_transl_000_PS_10.fits\n",
      "./junk/sim_psf_00000001chrom_poly_avgwavel_3699_opd_-0900_tip_0000_tilt_0000_transl_000_PS_10.fits\n",
      "./junk/sim_psf_00000001chrom_poly_avgwavel_3699_opd_-0850_tip_0000_tilt_0000_transl_000_PS_10.fits\n",
      "./junk/sim_psf_00000001chrom_poly_avgwavel_3699_opd_-0800_tip_0000_tilt_0000_transl_000_PS_10.fits\n",
      "./junk/sim_psf_00000001chrom_poly_avgwavel_3699_opd_-0749_tip_0000_tilt_0000_transl_000_PS_10.fits\n",
      "./junk/sim_psf_00000001chrom_poly_avgwavel_3699_opd_-0699_tip_0000_tilt_0000_transl_000_PS_10.fits\n",
      "./junk/sim_psf_00000001chrom_poly_avgwavel_3699_opd_-0649_tip_0000_tilt_0000_transl_000_PS_10.fits\n",
      "./junk/sim_psf_00000001chrom_poly_avgwavel_3699_opd_-0600_tip_0000_tilt_0000_transl_000_PS_10.fits\n",
      "./junk/sim_psf_00000001chrom_poly_avgwavel_3699_opd_-0550_tip_0000_tilt_0000_transl_000_PS_10.fits\n",
      "./junk/sim_psf_00000001chrom_poly_avgwavel_3699_opd_-0499_tip_0000_tilt_0000_transl_000_PS_10.fits\n",
      "./junk/sim_psf_00000001chrom_poly_avgwavel_3699_opd_-0449_tip_0000_tilt_0000_transl_000_PS_10.fits\n",
      "./junk/sim_psf_00000001chrom_poly_avgwavel_3699_opd_-0399_tip_0000_tilt_0000_transl_000_PS_10.fits\n",
      "./junk/sim_psf_00000001chrom_poly_avgwavel_3699_opd_-0350_tip_0000_tilt_0000_transl_000_PS_10.fits\n",
      "./junk/sim_psf_00000001chrom_poly_avgwavel_3699_opd_-0299_tip_0000_tilt_0000_transl_000_PS_10.fits\n",
      "./junk/sim_psf_00000001chrom_poly_avgwavel_3699_opd_-0249_tip_0000_tilt_0000_transl_000_PS_10.fits\n",
      "./junk/sim_psf_00000001chrom_poly_avgwavel_3699_opd_-0199_tip_0000_tilt_0000_transl_000_PS_10.fits\n",
      "./junk/sim_psf_00000001chrom_poly_avgwavel_3699_opd_-0149_tip_0000_tilt_0000_transl_000_PS_10.fits\n",
      "./junk/sim_psf_00000001chrom_poly_avgwavel_3699_opd_-0099_tip_0000_tilt_0000_transl_000_PS_10.fits\n",
      "./junk/sim_psf_00000001chrom_poly_avgwavel_3699_opd_-0049_tip_0000_tilt_0000_transl_000_PS_10.fits\n",
      "./junk/sim_psf_00000001chrom_poly_avgwavel_3699_opd_00000_tip_0000_tilt_0000_transl_000_PS_10.fits\n",
      "./junk/sim_psf_00000001chrom_poly_avgwavel_3699_opd_00050_tip_0000_tilt_0000_transl_000_PS_10.fits\n",
      "./junk/sim_psf_00000001chrom_poly_avgwavel_3699_opd_00100_tip_0000_tilt_0000_transl_000_PS_10.fits\n",
      "./junk/sim_psf_00000001chrom_poly_avgwavel_3699_opd_00150_tip_0000_tilt_0000_transl_000_PS_10.fits\n",
      "./junk/sim_psf_00000001chrom_poly_avgwavel_3699_opd_00200_tip_0000_tilt_0000_transl_000_PS_10.fits\n",
      "./junk/sim_psf_00000001chrom_poly_avgwavel_3699_opd_00250_tip_0000_tilt_0000_transl_000_PS_10.fits\n",
      "./junk/sim_psf_00000001chrom_poly_avgwavel_3699_opd_00300_tip_0000_tilt_0000_transl_000_PS_10.fits\n",
      "./junk/sim_psf_00000001chrom_poly_avgwavel_3699_opd_00350_tip_0000_tilt_0000_transl_000_PS_10.fits\n",
      "./junk/sim_psf_00000001chrom_poly_avgwavel_3699_opd_00400_tip_0000_tilt_0000_transl_000_PS_10.fits\n",
      "./junk/sim_psf_00000001chrom_poly_avgwavel_3699_opd_00450_tip_0000_tilt_0000_transl_000_PS_10.fits\n",
      "./junk/sim_psf_00000001chrom_poly_avgwavel_3699_opd_00500_tip_0000_tilt_0000_transl_000_PS_10.fits\n",
      "./junk/sim_psf_00000001chrom_poly_avgwavel_3699_opd_00550_tip_0000_tilt_0000_transl_000_PS_10.fits\n",
      "./junk/sim_psf_00000001chrom_poly_avgwavel_3699_opd_00600_tip_0000_tilt_0000_transl_000_PS_10.fits\n",
      "./junk/sim_psf_00000001chrom_poly_avgwavel_3699_opd_00650_tip_0000_tilt_0000_transl_000_PS_10.fits\n",
      "./junk/sim_psf_00000001chrom_poly_avgwavel_3699_opd_00700_tip_0000_tilt_0000_transl_000_PS_10.fits\n",
      "./junk/sim_psf_00000001chrom_poly_avgwavel_3699_opd_00750_tip_0000_tilt_0000_transl_000_PS_10.fits\n",
      "./junk/sim_psf_00000001chrom_poly_avgwavel_3699_opd_00800_tip_0000_tilt_0000_transl_000_PS_10.fits\n",
      "./junk/sim_psf_00000001chrom_poly_avgwavel_3699_opd_00850_tip_0000_tilt_0000_transl_000_PS_10.fits\n",
      "./junk/sim_psf_00000001chrom_poly_avgwavel_3699_opd_00900_tip_0000_tilt_0000_transl_000_PS_10.fits\n",
      "./junk/sim_psf_00000001chrom_poly_avgwavel_3699_opd_00950_tip_0000_tilt_0000_transl_000_PS_10.fits\n",
      "./junk/sim_psf_00000001chrom_poly_avgwavel_3699_opd_01000_tip_0000_tilt_0000_transl_000_PS_10.fits\n",
      "./junk/sim_psf_00000001chrom_poly_avgwavel_3699_opd_01050_tip_0000_tilt_0000_transl_000_PS_10.fits\n",
      "./junk/sim_psf_00000001chrom_poly_avgwavel_3699_opd_01100_tip_0000_tilt_0000_transl_000_PS_10.fits\n",
      "./junk/sim_psf_00000001chrom_poly_avgwavel_3699_opd_01150_tip_0000_tilt_0000_transl_000_PS_10.fits\n",
      "./junk/sim_psf_00000001chrom_poly_avgwavel_3699_opd_01200_tip_0000_tilt_0000_transl_000_PS_10.fits\n",
      "./junk/sim_psf_00000001chrom_poly_avgwavel_3699_opd_01250_tip_0000_tilt_0000_transl_000_PS_10.fits\n",
      "./junk/sim_psf_00000001chrom_poly_avgwavel_3699_opd_01300_tip_0000_tilt_0000_transl_000_PS_10.fits\n",
      "./junk/sim_psf_00000001chrom_poly_avgwavel_3699_opd_01350_tip_0000_tilt_0000_transl_000_PS_10.fits\n",
      "./junk/sim_psf_00000001chrom_poly_avgwavel_3699_opd_01400_tip_0000_tilt_0000_transl_000_PS_10.fits\n",
      "./junk/sim_psf_00000001chrom_poly_avgwavel_3699_opd_01450_tip_0000_tilt_0000_transl_000_PS_10.fits\n",
      "./junk/sim_psf_00000001chrom_poly_avgwavel_3699_opd_01500_tip_0000_tilt_0000_transl_000_PS_10.fits\n",
      "./junk/sim_psf_00000001chrom_poly_avgwavel_3699_opd_01550_tip_0000_tilt_0000_transl_000_PS_10.fits\n",
      "./junk/sim_psf_00000001chrom_poly_avgwavel_3699_opd_01600_tip_0000_tilt_0000_transl_000_PS_10.fits\n",
      "./junk/sim_psf_00000001chrom_poly_avgwavel_3699_opd_01650_tip_0000_tilt_0000_transl_000_PS_10.fits\n",
      "./junk/sim_psf_00000001chrom_poly_avgwavel_3699_opd_01700_tip_0000_tilt_0000_transl_000_PS_10.fits\n",
      "./junk/sim_psf_00000001chrom_poly_avgwavel_3699_opd_01750_tip_0000_tilt_0000_transl_000_PS_10.fits\n",
      "./junk/sim_psf_00000001chrom_poly_avgwavel_3699_opd_01800_tip_0000_tilt_0000_transl_000_PS_10.fits\n",
      "./junk/sim_psf_00000001chrom_poly_avgwavel_3699_opd_01850_tip_0000_tilt_0000_transl_000_PS_10.fits\n",
      "./junk/sim_psf_00000001chrom_poly_avgwavel_3699_opd_01900_tip_0000_tilt_0000_transl_000_PS_10.fits\n",
      "./junk/sim_psf_00000001chrom_poly_avgwavel_3699_opd_01950_tip_0000_tilt_0000_transl_000_PS_10.fits\n",
      "./junk/sim_psf_00000001chrom_poly_avgwavel_3699_opd_02000_tip_0000_tilt_0000_transl_000_PS_10.fits\n"
     ]
    }
   ],
   "source": [
    "# for-loop to read in frames at different OPD, try to extract OPD\n",
    "\n",
    "stepArray = []\n",
    "xposArray = []\n",
    "yposArray = []\n",
    "highfreq_ampl = []\n",
    "\n",
    "init_array = np.ones((len(files_of_interest),2))\n",
    "high_freq_mtf_ampl = pd.DataFrame(init_array, columns=[\"opd\",\"ampl\"])\n",
    "\n",
    "for num2 in range(0,len(files_of_interest)):\n",
    "    print(files_of_interest[num2])\n",
    "    fits_image_filename = files_of_interest[num2]\n",
    "\n",
    "    image, header = fits.getdata(fits_image_filename,0,header=True)\n",
    "    image = image[1,:,:]\n",
    "    \n",
    "    high_freq_max = np.max(image[947:1110,1388:1540])\n",
    "    \n",
    "    high_freq_mtf_ampl[\"opd\"].iloc[num2] = header[\"OPD_UM\"]\n",
    "    high_freq_mtf_ampl[\"ampl\"].iloc[num2] = high_freq_max"
   ]
  },
  {
   "cell_type": "code",
   "execution_count": 37,
   "metadata": {},
   "outputs": [],
   "source": [
    "high_freq_mtf_ampl.to_csv(\"high_freq_ampl_data.csv\")"
   ]
  },
  {
   "cell_type": "code",
   "execution_count": 43,
   "metadata": {},
   "outputs": [
    {
     "data": {
      "image/png": "[encoded data removed]",
      "text/plain": [
       "<Figure size 864x432 with 1 Axes>"
      ]
     },
     "metadata": {
      "needs_background": "light"
     },
     "output_type": "display_data"
    }
   ],
   "source": [
    "plt.figure(figsize=(12,6))\n",
    "plt.scatter(high_freq_mtf_ampl[\"opd\"],np.divide(high_freq_mtf_ampl[\"ampl\"],\n",
    "                                                np.max(high_freq_mtf_ampl[\"ampl\"])))\n",
    "#plt.fill_between([-5,5])\n",
    "plt.xlabel(\"OPD ($\\mu$m)\", fontsize=16)\n",
    "plt.ylabel(\"Normalized amplitude of\\nMTF high-frequency lobe\", fontsize=16)\n",
    "#matplotlib.rcParams.update({'font.size': 16})\n",
    "plt.rcParams.update({'font.size': 16})\n",
    "plt.show()"
   ]
  },
  {
   "cell_type": "code",
   "execution_count": 15,
   "metadata": {},
   "outputs": [],
   "source": [
    "fits_image_filename = dir_name + files_of_interest[0]\n",
    "hdul = fits.open(fits_image_filename)\n",
    "image = hdul[0].data\n",
    "#test = image\n",
    "test = scipy.ndimage.interpolation.shift(image,[5,0])"
   ]
  },
  {
   "cell_type": "code",
   "execution_count": 16,
   "metadata": {},
   "outputs": [],
   "source": [
    "x, y, test2 = make_cookie(test)\n",
    "AmpPE, ArgPE_deg = cookie_fft(test2)"
   ]
  },
  {
   "cell_type": "code",
   "execution_count": 17,
   "metadata": {},
   "outputs": [],
   "source": [
    "plt.imshow(AmpPE)\n",
    "plt.show()"
   ]
  },
  {
   "cell_type": "code",
   "execution_count": 13,
   "metadata": {},
   "outputs": [],
   "source": [
    "plt.imshow(ArgPE_deg)\n",
    "plt.show()"
   ]
  },
  {
   "cell_type": "code",
   "execution_count": 15,
   "metadata": {
    "collapsed": true
   },
   "outputs": [],
   "source": [
    "import scipy.ndimage"
   ]
  },
  {
   "cell_type": "code",
   "execution_count": 43,
   "metadata": {},
   "outputs": [],
   "source": [
    "plt.plot(highfreq_ampl)\n",
    "plt.plot((np.subtract(xposArray,1027.5))*1000)\n",
    "plt.xlabel('OPD (2*N um)')\n",
    "plt.ylabel('FT ampl high-freq amplitude + rescaled x-coord of found center')\n",
    "plt.show()"
   ]
  },
  {
   "cell_type": "code",
   "execution_count": 46,
   "metadata": {},
   "outputs": [],
   "source": [
    "# define gaussian\n",
    "\n",
    "def gauss(x, *p):\n",
    "    \n",
    "    a, b, c, d = p\n",
    "    y = a*np.exp(-np.power((x - b), 2.)/(2. * c**2.)) + d\n",
    "\n",
    "    return y"
   ]
  },
  {
   "cell_type": "code",
   "execution_count": 7,
   "metadata": {},
   "outputs": [],
   "source": [
    "# define parabola\n",
    "\n",
    "def parab(x, *p):\n",
    "    \n",
    "    a, b, d = p\n",
    "    y = a*np.power((x - b), 2.) + d\n",
    "\n",
    "    return y"
   ]
  },
  {
   "cell_type": "code",
   "execution_count": 8,
   "metadata": {},
   "outputs": [],
   "source": [
    "# fit a parabola to datapoints 0:30\n",
    "\n",
    "p_initial = [np.max(highfreq_ampl), 0.0, np.max(highfreq_ampl)]\n",
    "popt, pcov = curve_fit(parab, stepArray[0:30], highfreq_ampl[0:30], p0=p_initial)\n",
    "\n",
    "# Generate y-data based on the fit.\n",
    "y_fit = parab(stepArray, *popt)"
   ]
  },
  {
   "cell_type": "code",
   "execution_count": 60,
   "metadata": {},
   "outputs": [
    {
     "name": "stdout",
     "output_type": "stream",
     "text": [
      "[ -4.08437873e+02   9.29858015e-01   7.26566748e+05]\n"
     ]
    }
   ],
   "source": [
    "print(popt)"
   ]
  },
  {
   "cell_type": "code",
   "execution_count": 9,
   "metadata": {},
   "outputs": [],
   "source": [
    "plt.plot(stepArray,highfreq_ampl)\n",
    "plt.plot(stepArray,y_fit)\n",
    "plt.ylim([0,1e6])\n",
    "plt.show()"
   ]
  },
  {
   "cell_type": "code",
   "execution_count": null,
   "metadata": {
    "collapsed": true
   },
   "outputs": [],
   "source": [
    "# shift the PSF left-right (3 pix) to try to maximize the low-freq ampl lobe (in parallel)\n",
    "\n",
    "# wait-- if OPD!=0, will this really center the PSF?"
   ]
  },
  {
   "cell_type": "code",
   "execution_count": null,
   "metadata": {
    "collapsed": true
   },
   "outputs": [],
   "source": [
    "# shift the PSF up-down (3 pix) to try to maximize the low-freq ampl lobe"
   ]
  },
  {
   "cell_type": "code",
   "execution_count": null,
   "metadata": {
    "collapsed": true
   },
   "outputs": [],
   "source": [
    "# Analysis based on this single epoch\n",
    "\n",
    "\n",
    "\n",
    "# Is an OPD scan warranted? (simple for-loop; not parallel)\n"
   ]
  },
  {
   "cell_type": "code",
   "execution_count": null,
   "metadata": {
    "collapsed": true
   },
   "outputs": [],
   "source": [
    "# Take a scan in OPD"
   ]
  }
 ],
 "metadata": {
  "kernelspec": {
   "display_name": "Python 3",
   "language": "python",
   "name": "python3"
  },
  "language_info": {
   "codemirror_mode": {
    "name": "ipython",
    "version": 3
   },
   "file_extension": ".py",
   "mimetype": "text/x-python",
   "name": "python",
   "nbconvert_exporter": "python",
   "pygments_lexer": "ipython3",
   "version": "3.6.6"
  }
 },
 "nbformat": 4,
 "nbformat_minor": 1
}
