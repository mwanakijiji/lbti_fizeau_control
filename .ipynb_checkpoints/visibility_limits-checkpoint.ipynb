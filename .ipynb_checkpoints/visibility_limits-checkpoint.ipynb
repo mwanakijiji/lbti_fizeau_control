{
 "cells": [
  {
   "cell_type": "code",
   "execution_count": null,
   "metadata": {
    "collapsed": true
   },
   "outputs": [],
   "source": [
    "# This plots LBTI Phasecam visibility limits, based on tests with a few stars\n",
    "\n",
    "# Created 2019 Apr. 12 by E.S."
   ]
  },
  {
   "cell_type": "code",
   "execution_count": 1,
   "metadata": {
    "collapsed": true
   },
   "outputs": [],
   "source": [
    "import numpy as np\n",
    "import matplotlib.pyplot as plt\n",
    "import scipy.special"
   ]
  },
  {
   "cell_type": "code",
   "execution_count": 2,
   "metadata": {
    "collapsed": true
   },
   "outputs": [],
   "source": [
    "masec_per_rad = np.divide(1000.*180.*3600.,np.pi)"
   ]
  },
  {
   "cell_type": "code",
   "execution_count": 4,
   "metadata": {
    "collapsed": true
   },
   "outputs": [],
   "source": [
    "# diameters of some stars of interest; note that there are further complications\n",
    "# like limb-darkening, flattening, etc.-- but these values are sufficient for \n",
    "# our purposes\n",
    "\n",
    "# Arcturus diameter (H-band, IOTA; Lacour+ 2008 A&A 485, 561-570)\n",
    "diam_arcturus = 21 # mas\n",
    "\n",
    "# Altair diameter (H/K-bands, VLTI/VINCI; de Souza+ 2005 A&A 442, 567–578)\n",
    "diam_altair = 3.2\n",
    "\n",
    "# Vega diameter (K'-band, CHARA; Aufdenberg+ 2006 645:664–675; also consistent \n",
    "# with visible measurements by Quirrenbach+ 1996 1996A&A...312..160Q)\n",
    "diam_vega = 3.3\n",
    "\n",
    "# beta And diameter (UD B/V/R/I; JMMC)\n",
    "diam_betaAnd = 13"
   ]
  },
  {
   "cell_type": "code",
   "execution_count": 23,
   "metadata": {
    "collapsed": true
   },
   "outputs": [],
   "source": [
    "def vis2_fcn_theta(theta_array, wavel_um, baseline_m):\n",
    "    '''\n",
    "    This plots the visibility curve as function of stellar diameter (as a simple circle), \n",
    "    depending on wavelength and baseline\n",
    "    (e.g., Eqn. 2.29 in Lawson, ed., 1999, Principles of Long Baseline Stellar Interferometry)\n",
    "    \n",
    "    INPUTS:\n",
    "    theta_array: array of angular diameters\n",
    "    wavel: wavelength in um\n",
    "    baseline: baseline in m\n",
    "    \n",
    "    OUTPUTS:\n",
    "    '''\n",
    "    z_array = np.divide(np.pi*theta_array*baseline_m,wavel_um) # pi*theta*baseline_perp/wavel\n",
    "    \n",
    "    z_array = np.divide(np.multiply(z_array,1e6),masec_per_rad) # convert to radians\n",
    "    \n",
    "    vis = np.divide(2*scipy.special.jv(1, z_array),z_array)\n",
    "    vis2 = np.multiply(vis,np.conj(vis))\n",
    "    \n",
    "    return vis2"
   ]
  },
  {
   "cell_type": "code",
   "execution_count": 34,
   "metadata": {
    "collapsed": true
   },
   "outputs": [],
   "source": [
    "def vis2_fcn_baseline(theta, wavel_um, baseline_m_array):\n",
    "    '''\n",
    "    This is a function to check by comparing with the Fig. 2 in Berger, Introduction to Visibility Modeling\n",
    "    \n",
    "    OUTPUTS:\n",
    "    '''\n",
    "    z_array = np.divide(np.pi*theta*baseline_m_array,wavel_um) # pi*theta*baseline_perp/wavel\n",
    "    \n",
    "    z_array = np.divide(np.multiply(z_array,1e6),masec_per_rad) # convert to radians\n",
    "    \n",
    "    vis = np.divide(2*scipy.special.jv(1, z_array),z_array)\n",
    "    vis2 = np.multiply(vis,np.conj(vis))\n",
    "    \n",
    "    return vis, vis2"
   ]
  },
  {
   "cell_type": "code",
   "execution_count": 48,
   "metadata": {
    "collapsed": false
   },
   "outputs": [
    {
     "name": "stderr",
     "output_type": "stream",
     "text": [
      "/Users/nyumbani/anaconda3/lib/python3.5/site-packages/ipykernel_launcher.py:18: RuntimeWarning: invalid value encountered in true_divide\n"
     ]
    }
   ],
   "source": [
    "# find visibilities for Phasecam\n",
    "\n",
    "theta_mas = np.arange(0,60)\n",
    "k_band = vis2_fcn_theta(theta_array=theta_mas, wavel_um=2.2, baseline_m=14.4)"
   ]
  },
  {
   "cell_type": "code",
   "execution_count": 51,
   "metadata": {
    "collapsed": false
   },
   "outputs": [
    {
     "data": {
      "image/png": "[encoded data removed]",
      "text/plain": [
       "<Figure size 432x288 with 1 Axes>"
      ]
     },
     "metadata": {
      "needs_background": "light"
     },
     "output_type": "display_data"
    }
   ],
   "source": [
    "fig, ax = plt.subplots()\n",
    "\n",
    "ax.axvline(diam_arcturus, linestyle = '--', linewidth = 4, color=\"red\")\n",
    "ax.axvline(diam_altair, linestyle = '--', linewidth = 4, color=\"green\")\n",
    "ax.axvline(diam_vega, linestyle = '--', linewidth = 4, color=\"green\")\n",
    "ax.axvline(diam_betaAnd, linestyle = '--', linewidth = 4, color=\"green\")\n",
    "ax.plot(theta_mas,k_band)\n",
    "ax.set_xlim([0,40])\n",
    "ax.set_ylim([0,1])\n",
    "ax.set_ylabel(\"V-squared (solid disk approximation)\")\n",
    "ax.set_xlabel(\"Stellar diameter (mas)\")\n",
    "ax.annotate('Arcturus', xy=(diam_arcturus, 1), xytext=(diam_arcturus, 0.5))\n",
    "ax.annotate('Altair', xy=(diam_altair, 1), xytext=(diam_altair, 0.5))\n",
    "ax.annotate('Vega', xy=(diam_vega, 1), xytext=(diam_vega, 0.6))\n",
    "ax.annotate('beta And', xy=(diam_betaAnd, 1), xytext=(diam_betaAnd, 0.5))\n",
    "'''\n",
    "ax.plot(t, s, lw=2)\n",
    "\n",
    "ax.annotate('local max', xy=(2, 1), xytext=(3, 1.5),\n",
    "            arrowprops=dict(facecolor='black', shrink=0.05),\n",
    "            )\n",
    "ax.set_ylim(-2, 2)\n",
    "plt.show()\n",
    "\n",
    "\n",
    "plt.annotate()\n",
    "plt.plot(theta_mas,k_band)\n",
    "\n",
    "'''\n",
    "plt.title(\"Visibilities of stars as seen by Phasecam\\n(green: can close phase loop; red: cannot close)\")\n",
    "plt.savefig(\"phasecam_visibilities.pdf\")"
   ]
  },
  {
   "cell_type": "code",
   "execution_count": null,
   "metadata": {
    "collapsed": true
   },
   "outputs": [],
   "source": []
  }
 ],
 "metadata": {
  "kernelspec": {
   "display_name": "Python 3",
   "language": "python",
   "name": "python3"
  },
  "language_info": {
   "codemirror_mode": {
    "name": "ipython",
    "version": 3
   },
   "file_extension": ".py",
   "mimetype": "text/x-python",
   "name": "python",
   "nbconvert_exporter": "python",
   "pygments_lexer": "ipython3",
   "version": "3.5.4"
  }
 },
 "nbformat": 4,
 "nbformat_minor": 0
}
