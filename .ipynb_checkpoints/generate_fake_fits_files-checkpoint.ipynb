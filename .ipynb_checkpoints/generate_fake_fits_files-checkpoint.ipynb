{
 "cells": [
  {
   "cell_type": "code",
   "execution_count": null,
   "metadata": {
    "collapsed": true
   },
   "outputs": [],
   "source": [
    "# This generates blank FITS files at a cadence meant to mimic LMIRcam during Fizeau observations.\n",
    "# (These FITS files are read in by another script to extract FFT information.)\n",
    "\n",
    "# created 2019 Jan 29 by E.S."
   ]
  },
  {
   "cell_type": "code",
   "execution_count": 1,
   "metadata": {
    "collapsed": false
   },
   "outputs": [
    {
     "name": "stderr",
     "output_type": "stream",
     "text": [
      "/Users/nyumbani/anaconda3/envs/py27/lib/python2.7/site-packages/pyfits/__init__.py:22: PyFITSDeprecationWarning: PyFITS is deprecated, please use astropy.io.fits\n",
      "  PyFITSDeprecationWarning)  # noqa\n"
     ]
    }
   ],
   "source": [
    "import pyfits\n",
    "import numpy as np\n",
    "import sched, time"
   ]
  },
  {
   "cell_type": "code",
   "execution_count": 2,
   "metadata": {
    "collapsed": true
   },
   "outputs": [],
   "source": [
    "retrieve_dir = \"retrieve_dir\" # directory where we retrieve already-written frames"
   ]
  },
  {
   "cell_type": "code",
   "execution_count": 3,
   "metadata": {
    "collapsed": true
   },
   "outputs": [],
   "source": [
    "def write_fake_fits(framenum):\n",
    "    '''\n",
    "    Write entirely new frames\n",
    "    '''\n",
    "    fake_frame = np.random.rand(2048,2048).astype(np.uint16)\n",
    "    hdu = pyfits.PrimaryHDU(fake_frame)\n",
    "    #hdulist = pyfits.HDUList([hdu])\n",
    "    hdu.writeto(\"check_dir/lm_180507fake_\"+str(\"{:0>6d}\".format(framenum))+\".fits\", clobber=True)"
   ]
  },
  {
   "cell_type": "code",
   "execution_count": 5,
   "metadata": {
    "collapsed": true
   },
   "outputs": [],
   "source": [
    "def move_mimic_fits(framenum):\n",
    "    '''\n",
    "    Move old frames to another directory, to mimic\n",
    "    writing new files to that directory\n",
    "    '''\n",
    "    fake_frame = pyfits.open(\"retrieve_dir/lm_180507_\"+str(\"{:0>6d}\".format(framenum))+\".fits\")\n",
    "    hdu = pyfits.PrimaryHDU(fake_frame)\n",
    "    #hdulist = pyfits.HDUList([hdu])\n",
    "    hdu.writeto(\"check_dir/lm_180507fake_\"+str(\"{:0>6d}\".format(framenum))+\".fits\", clobber=True)"
   ]
  },
  {
   "cell_type": "code",
   "execution_count": 4,
   "metadata": {
    "collapsed": false
   },
   "outputs": [
    {
     "name": "stderr",
     "output_type": "stream",
     "text": [
      "/Users/nyumbani/anaconda3/envs/py27/lib/python2.7/site-packages/pyfits/file.py:372: UserWarning: Overwriting existing file 'check_dir/lm_180507fake_000000.fits'.\n",
      "  warnings.warn(\"Overwriting existing file %r.\" % self.name)\n"
     ]
    },
    {
     "name": "stdout",
     "output_type": "stream",
     "text": [
      "written, time elapsed\n",
      "0.432849168777\n"
     ]
    },
    {
     "name": "stderr",
     "output_type": "stream",
     "text": [
      "/Users/nyumbani/anaconda3/envs/py27/lib/python2.7/site-packages/pyfits/file.py:372: UserWarning: Overwriting existing file 'check_dir/lm_180507fake_000001.fits'.\n",
      "  warnings.warn(\"Overwriting existing file %r.\" % self.name)\n"
     ]
    },
    {
     "name": "stdout",
     "output_type": "stream",
     "text": [
      "written, time elapsed\n",
      "0.330583095551\n"
     ]
    },
    {
     "name": "stderr",
     "output_type": "stream",
     "text": [
      "/Users/nyumbani/anaconda3/envs/py27/lib/python2.7/site-packages/pyfits/file.py:372: UserWarning: Overwriting existing file 'check_dir/lm_180507fake_000002.fits'.\n",
      "  warnings.warn(\"Overwriting existing file %r.\" % self.name)\n"
     ]
    },
    {
     "name": "stdout",
     "output_type": "stream",
     "text": [
      "written, time elapsed\n",
      "0.329258203506\n"
     ]
    },
    {
     "name": "stderr",
     "output_type": "stream",
     "text": [
      "/Users/nyumbani/anaconda3/envs/py27/lib/python2.7/site-packages/pyfits/file.py:372: UserWarning: Overwriting existing file 'check_dir/lm_180507fake_000003.fits'.\n",
      "  warnings.warn(\"Overwriting existing file %r.\" % self.name)\n"
     ]
    },
    {
     "name": "stdout",
     "output_type": "stream",
     "text": [
      "written, time elapsed\n",
      "0.318542957306\n"
     ]
    },
    {
     "name": "stderr",
     "output_type": "stream",
     "text": [
      "/Users/nyumbani/anaconda3/envs/py27/lib/python2.7/site-packages/pyfits/file.py:372: UserWarning: Overwriting existing file 'check_dir/lm_180507fake_000004.fits'.\n",
      "  warnings.warn(\"Overwriting existing file %r.\" % self.name)\n"
     ]
    },
    {
     "name": "stdout",
     "output_type": "stream",
     "text": [
      "written, time elapsed\n",
      "0.320232152939\n",
      "written, time elapsed\n",
      "0.313787937164\n"
     ]
    },
    {
     "name": "stderr",
     "output_type": "stream",
     "text": [
      "/Users/nyumbani/anaconda3/envs/py27/lib/python2.7/site-packages/pyfits/file.py:372: UserWarning: Overwriting existing file 'check_dir/lm_180507fake_000005.fits'.\n",
      "  warnings.warn(\"Overwriting existing file %r.\" % self.name)\n"
     ]
    },
    {
     "ename": "KeyboardInterrupt",
     "evalue": "",
     "output_type": "error",
     "traceback": [
      "\u001b[0;31m---------------------------------------------------------------------------\u001b[0m",
      "\u001b[0;31mKeyboardInterrupt\u001b[0m                         Traceback (most recent call last)",
      "\u001b[0;32m<ipython-input-4-15627613859b>\u001b[0m in \u001b[0;36m<module>\u001b[0;34m()\u001b[0m\n\u001b[1;32m      3\u001b[0m \u001b[0;32mwhile\u001b[0m \u001b[0mTrue\u001b[0m\u001b[0;34m:\u001b[0m\u001b[0;34m\u001b[0m\u001b[0m\n\u001b[1;32m      4\u001b[0m     \u001b[0mtime_start\u001b[0m \u001b[0;34m=\u001b[0m \u001b[0mtime\u001b[0m\u001b[0;34m.\u001b[0m\u001b[0mtime\u001b[0m\u001b[0;34m(\u001b[0m\u001b[0;34m)\u001b[0m\u001b[0;34m\u001b[0m\u001b[0m\n\u001b[0;32m----> 5\u001b[0;31m     \u001b[0mtime\u001b[0m\u001b[0;34m.\u001b[0m\u001b[0msleep\u001b[0m\u001b[0;34m(\u001b[0m\u001b[0;36m0.2\u001b[0m\u001b[0;34m)\u001b[0m\u001b[0;34m\u001b[0m\u001b[0m\n\u001b[0m\u001b[1;32m      6\u001b[0m     \u001b[0mwrite_fake_fits\u001b[0m\u001b[0;34m(\u001b[0m\u001b[0mframenum\u001b[0m\u001b[0;34m)\u001b[0m\u001b[0;34m\u001b[0m\u001b[0m\n\u001b[1;32m      7\u001b[0m     \u001b[0mframenum\u001b[0m \u001b[0;34m+=\u001b[0m \u001b[0;36m1\u001b[0m\u001b[0;34m\u001b[0m\u001b[0m\n",
      "\u001b[0;31mKeyboardInterrupt\u001b[0m: "
     ]
    }
   ],
   "source": [
    "framenum = 0\n",
    "\n",
    "while True:\n",
    "    time_start = time.time()\n",
    "    time.sleep(0.2)\n",
    "    #write_fake_fits(framenum)\n",
    "    move_mimic_fits(framenum)\n",
    "    framenum += 1\n",
    "    print('written, time elapsed')\n",
    "    print(str(time.time() - time_start))"
   ]
  },
  {
   "cell_type": "code",
   "execution_count": null,
   "metadata": {
    "collapsed": true
   },
   "outputs": [],
   "source": []
  },
  {
   "cell_type": "code",
   "execution_count": null,
   "metadata": {
    "collapsed": true
   },
   "outputs": [],
   "source": []
  }
 ],
 "metadata": {
  "kernelspec": {
   "display_name": "Python 2",
   "language": "python",
   "name": "python2"
  },
  "language_info": {
   "codemirror_mode": {
    "name": "ipython",
    "version": 2
   },
   "file_extension": ".py",
   "mimetype": "text/x-python",
   "name": "python",
   "nbconvert_exporter": "python",
   "pygments_lexer": "ipython2",
   "version": "2.7.11"
  }
 },
 "nbformat": 4,
 "nbformat_minor": 0
}
