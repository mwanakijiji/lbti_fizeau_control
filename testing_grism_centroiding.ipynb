{
 "cells": [
  {
   "cell_type": "code",
   "execution_count": null,
   "metadata": {
    "collapsed": true
   },
   "outputs": [],
   "source": [
    "# This notebook tests different bits and pieces that will go into the Fizeau control loop\n",
    "\n",
    "# created 2018 June 26 by E.S."
   ]
  },
  {
   "cell_type": "code",
   "execution_count": 1,
   "metadata": {
    "collapsed": true
   },
   "outputs": [],
   "source": [
    "import numpy as np\n",
    "import matplotlib.pyplot as plt\n",
    "import scipy\n",
    "import numpy.ma as ma\n",
    "from scipy import misc, signal\n",
    "from astropy.io import fits\n",
    "% matplotlib inline"
   ]
  },
  {
   "cell_type": "code",
   "execution_count": 2,
   "metadata": {
    "collapsed": true
   },
   "outputs": [],
   "source": [
    "# set some approximate parameters of the observed grism PSF\n",
    "\n",
    "sig = 5 # sigma of Gaussian profile in x\n",
    "length_y = 200 # length in y of the psf"
   ]
  },
  {
   "cell_type": "code",
   "execution_count": 3,
   "metadata": {
    "collapsed": false
   },
   "outputs": [],
   "source": [
    "# define a Gaussian for correlating it to a grism-ed PSF in x\n",
    "\n",
    "def gaussian_x(x, mu, sig):    \n",
    "    \n",
    "    shape_gaussian = np.exp(-np.power(x - mu, 2.) / (2 * np.power(sig, 2.)))\n",
    "        \n",
    "    return shape_gaussian"
   ]
  },
  {
   "cell_type": "code",
   "execution_count": 21,
   "metadata": {
    "collapsed": true
   },
   "outputs": [],
   "source": [
    "# read in a file with a grism PSF\n",
    "\n",
    "fits_image_filename = \"images/lm_180507_007017.fits\"\n",
    "hdul = fits.open(fits_image_filename)\n",
    "image = hdul[0].data"
   ]
  },
  {
   "cell_type": "code",
   "execution_count": 22,
   "metadata": {
    "collapsed": false
   },
   "outputs": [],
   "source": [
    "# generate the Gaussian\n",
    "\n",
    "mu_x_center = 0.5*image.shape[1] # initially center the probe shape for correlation\n",
    "x_probe_gaussian = gaussian_x(np.arange(image.shape[1]), mu_x_center, sig)"
   ]
  },
  {
   "cell_type": "code",
   "execution_count": 23,
   "metadata": {
    "collapsed": false
   },
   "outputs": [],
   "source": [
    "# generate a top hat for correlating it to a grism-ed PSF in y\n",
    "\n",
    "y_abcissa = np.arange(image.shape[0])\n",
    "y_probe_tophat = np.zeros(image.shape[0])\n",
    "y_probe_tophat[np.logical_and(y_abcissa > 0.5*image.shape[0]-0.5*length_y,\n",
    "                          y_abcissa <= 0.5*image.shape[0]+0.5*length_y)] = 1"
   ]
  },
  {
   "cell_type": "code",
   "execution_count": 24,
   "metadata": {
    "collapsed": true
   },
   "outputs": [],
   "source": [
    "# dampen edge effects\n",
    "\n",
    "repl_val = np.median(image)\n",
    "image[0:4,:] = repl_val\n",
    "image[-5:-1,:] = repl_val\n",
    "image[:,0:4] = repl_val\n",
    "image[:,-5:-1] = repl_val"
   ]
  },
  {
   "cell_type": "code",
   "execution_count": 25,
   "metadata": {
    "collapsed": false
   },
   "outputs": [],
   "source": [
    "# correlate real PSF and probe shape in x\n",
    "\n",
    "corr_x = signal.correlate(np.sum(image,axis=0), x_probe_gaussian, mode='same')"
   ]
  },
  {
   "cell_type": "code",
   "execution_count": 26,
   "metadata": {
    "collapsed": false
   },
   "outputs": [],
   "source": [
    "# correlate real PSF and probe shape in y\n",
    "\n",
    "# this essentially integrates along x and subtracts the background shape\n",
    "profile_y = np.subtract(np.sum(image,axis=1), image.shape[1]*np.median(image,axis=1)) \n",
    "\n",
    "corr_y = signal.correlate(profile_y, y_probe_tophat, mode='same')"
   ]
  },
  {
   "cell_type": "code",
   "execution_count": 27,
   "metadata": {
    "collapsed": false
   },
   "outputs": [],
   "source": [
    "# find centers of psfs\n",
    "\n",
    "psf_center_x = np.argmax(corr_x)\n",
    "psf_center_y = np.argmax(corr_y)"
   ]
  },
  {
   "cell_type": "code",
   "execution_count": null,
   "metadata": {
    "collapsed": true
   },
   "outputs": [],
   "source": []
  }
 ],
 "metadata": {
  "kernelspec": {
   "display_name": "Python 3",
   "language": "python",
   "name": "python3"
  },
  "language_info": {
   "codemirror_mode": {
    "name": "ipython",
    "version": 3
   },
   "file_extension": ".py",
   "mimetype": "text/x-python",
   "name": "python",
   "nbconvert_exporter": "python",
   "pygments_lexer": "ipython3",
   "version": "3.5.4"
  }
 },
 "nbformat": 4,
 "nbformat_minor": 0
}
