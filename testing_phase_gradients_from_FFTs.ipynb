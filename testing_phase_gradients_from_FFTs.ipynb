{
 "cells": [
  {
   "cell_type": "code",
   "execution_count": null,
   "metadata": {
    "collapsed": true
   },
   "outputs": [],
   "source": [
    "# This notebook reads in simulated Fizeau PSFs and checks the gradients in the \n",
    "# PTF, so as to try to get a better intuition for what the gradient is saying \n",
    "# about needed tip-tilt offsets\n",
    "\n",
    "# Created 2019 Feb 13 by E.S. (by branching off of (testing_making_set_masks.ipynb)"
   ]
  },
  {
   "cell_type": "code",
   "execution_count": 28,
   "metadata": {},
   "outputs": [],
   "source": [
    "import numpy as np\n",
    "import matplotlib.pyplot as plt\n",
    "import scipy\n",
    "import numpy.ma as ma\n",
    "import os.path\n",
    "from scipy import misc, signal, ndimage\n",
    "from astropy.io import fits\n",
    "from matplotlib.colors import LogNorm\n",
    "from astropy.coordinates import Angle, SkyCoord\n",
    "from astropy.nddata.utils import extract_array\n",
    "from regions import PixCoord, CircleSkyRegion, CirclePixelRegion, PolygonPixelRegion\n",
    "from pyregion import read_region_as_imagecoord, get_mask\n",
    "import csv\n",
    "import time\n",
    "import pickle \n",
    "% matplotlib inline"
   ]
  },
  {
   "cell_type": "code",
   "execution_count": 29,
   "metadata": {},
   "outputs": [],
   "source": [
    "from lmircam_tools import *\n",
    "from lmircam_tools import overlap_psfs"
   ]
  },
  {
   "cell_type": "code",
   "execution_count": 30,
   "metadata": {},
   "outputs": [],
   "source": [
    "# for starters, read in some real data and FFT the Fizeau/Airy PSFs"
   ]
  },
  {
   "cell_type": "code",
   "execution_count": 31,
   "metadata": {},
   "outputs": [
    {
     "data": {
      "text/plain": [
       "\"\\nstem = ('/home/../../media/unasemaje/Elements/lbti_data_reduction/'+\\n        '180507_fizeau_altair/03_ramp_removed_pca_background_subted/')\\n\""
      ]
     },
     "execution_count": 31,
     "metadata": {},
     "output_type": "execute_result"
    }
   ],
   "source": [
    "'''\n",
    "stem = ('/home/../../media/unasemaje/Elements/lbti_data_reduction/'+\n",
    "        '180507_fizeau_altair/03_ramp_removed_pca_background_subted/')\n",
    "'''"
   ]
  },
  {
   "cell_type": "code",
   "execution_count": 32,
   "metadata": {},
   "outputs": [],
   "source": [
    "stem_pickle = ('/pickle_files/') # the PSFs are stored with other things in pickle files"
   ]
  },
  {
   "cell_type": "code",
   "execution_count": 5,
   "metadata": {},
   "outputs": [
    {
     "name": "stdout",
     "output_type": "stream",
     "text": [
      "0\n",
      "2\n",
      "4\n",
      "6\n",
      "8\n",
      "10\n"
     ]
    }
   ],
   "source": [
    "# if I want to read in a test frame of a simulated PSF, retrieve the pickle file and save the relevant\n",
    "# array as a FITS file\n",
    "\n",
    "# loop over tilt increments\n",
    "for i in range(0,6):\n",
    "    f = 2*i\n",
    "    print(f)\n",
    "\n",
    "    dict_file = open('./pickle_files/chrom_mono_avgwavel_5000_opd_00000_tip_0000'+\\\n",
    "                 '_tilt_'+str(\"{:0>4d}\".format(f))+'_transl_000_PS_10.pkl', 'r')\n",
    "    dict_pkld = pickle.load(dict_file)\n",
    "\n",
    "    hdu = fits.PrimaryHDU(dict_pkld['PSF_image'])\n",
    "    hdul = fits.HDUList([hdu])\n",
    "    hdul.writeto('./pickle_files/fits_equivalents/chrom_mono_avgwavel_5000_opd_00000_tip_0000'+\\\n",
    "                 '_tilt_'+str(\"{:0>4d}\".format(f))+'_transl_000_PS_10.fits', overwrite=True)\n"
   ]
  },
  {
   "cell_type": "code",
   "execution_count": 33,
   "metadata": {},
   "outputs": [
    {
     "name": "stdout",
     "output_type": "stream",
     "text": [
      "0\n"
     ]
    }
   ],
   "source": [
    "# (this for single images)\n",
    "\n",
    "# loop over tilt increments\n",
    "for i in range(0,1):\n",
    "    f = 2*i\n",
    "    print(f)\n",
    "    filename_str = './pickle_files/chrom_mono_avgwavel_5000_opd_00000_tip_0000_tilt_0500_transl_000_PS_10.pkl'    \n",
    "    dict_file = open(filename_str, 'r')\n",
    "    dict_pkld = pickle.load(dict_file)\n",
    "\n",
    "    hdu = fits.PrimaryHDU(dict_pkld['PSF_image'])\n",
    "    hdul = fits.HDUList([hdu])\n",
    "    hdul.writeto('junk.fits', overwrite=True)\n"
   ]
  },
  {
   "cell_type": "code",
   "execution_count": 7,
   "metadata": {},
   "outputs": [
    {
     "data": {
      "text/plain": [
       "\"\\na = 116\\nb = 1\\nc = 10\\n\\nxcoords_1d = np.arange(0,2048)\\nycoords_1d = np.copy(xcoords_1d)\\n\\nxv, yv = np.meshgrid(xcoords_1d, ycoords_1d)\\nzv_right = a*xv + b*yv + c\\n\\nzv_left = c*xv + a*yv + b\\n\\n\\n# test to make sure I'm making the image I think I'm making\\nx_test = 99\\ny_test = 999\\nprint(a*x_test + b*y_test + c)\\nprint(zv[999][99])\\n\\nplt.imshow(zv)\\nplt.colorbar()\\nplt.show()\\n\\nhdu = fits.PrimaryHDU(zv)\\nhdul = fits.HDUList([hdu])\\nhdul.writeto('slope_test_psf.fits', overwrite=True)\\n\""
      ]
     },
     "execution_count": 7,
     "metadata": {},
     "output_type": "execute_result"
    }
   ],
   "source": [
    "# if I want to make a fake test frame involving simple gradients, generate it here\n",
    "# and save array as a FITS file\n",
    "\n",
    "# For a plane ax+by+c=z\n",
    "\n",
    "'''\n",
    "a = 116\n",
    "b = 1\n",
    "c = 10\n",
    "\n",
    "xcoords_1d = np.arange(0,2048)\n",
    "ycoords_1d = np.copy(xcoords_1d)\n",
    "\n",
    "xv, yv = np.meshgrid(xcoords_1d, ycoords_1d)\n",
    "zv_right = a*xv + b*yv + c\n",
    "\n",
    "zv_left = c*xv + a*yv + b\n",
    "\n",
    "\n",
    "# test to make sure I'm making the image I think I'm making\n",
    "x_test = 99\n",
    "y_test = 999\n",
    "print(a*x_test + b*y_test + c)\n",
    "print(zv[999][99])\n",
    "\n",
    "plt.imshow(zv)\n",
    "plt.colorbar()\n",
    "plt.show()\n",
    "\n",
    "hdu = fits.PrimaryHDU(zv)\n",
    "hdul = fits.HDUList([hdu])\n",
    "hdul.writeto('slope_test_psf.fits', overwrite=True)\n",
    "'''"
   ]
  },
  {
   "cell_type": "code",
   "execution_count": 6,
   "metadata": {},
   "outputs": [],
   "source": [
    "# set units of the observation\n",
    "\n",
    "wavel_lambda = 5.0e-6 # filter central wavel (meters); n.b. Br-alpha is 4.051 um\n",
    "D = 8.25 # diameter of one downstopped primary mirror (meters)\n",
    "B_c2c = 14.4 # center-to-center separation (meters)\n",
    "B_e2e = 22.65 # edge-to-edge separation (meters)\n",
    "plateScale = 0.0107 # (asec/pixel)\n",
    "global asecInRad # define global value\n",
    "asecInRad = 206264.81 # (asec/rad)"
   ]
  },
  {
   "cell_type": "code",
   "execution_count": 7,
   "metadata": {},
   "outputs": [],
   "source": [
    "# locations of Airy minima/maxima (units lambda/D)\n",
    "\n",
    "max1 = 0\n",
    "min1 = 1.220\n",
    "max2 = 1.635\n",
    "min2 = 2.233\n",
    "max3 = 2.679\n",
    "min3 = 3.238\n",
    "max4 = 3.699"
   ]
  },
  {
   "cell_type": "code",
   "execution_count": 8,
   "metadata": {},
   "outputs": [],
   "source": [
    "def findFFTloc(baseline,imageShapeAlong1Axis,wavel_lambda,plateScale,lOverD=1.):\n",
    "    '''\n",
    "    Returns the FFT pixel locations equivalent to a certain pixel distance on the science image \n",
    "    '''\n",
    "    \n",
    "    # baseline: distance in physical space in the pupil plane (m)\n",
    "    # imageShapeAlong1Axis: length of one side of the input image (needs to be square)\n",
    "    # wavel_lambda: wavelength of light (m)\n",
    "    # plateScale: detector plate scale (asec/pix)\n",
    "    # lOverD: option if we are interested in the circular Airy rings (values 1.22, etc.); otherwise, just leave as 1\n",
    "    \n",
    "    line_diam_pixOnScience = lOverD*(wavel_lambda*asecInRad)/(baseline*plateScale) # distance in pixels on science detector\n",
    "    line_diam_freq = np.divide(1.,line_diam_pixOnScience) # the corresponding frequency\n",
    "\n",
    "    # find number of 'frequency pixels' multiply by units of l/D (like 1.22), and add to central x frequency pixel\n",
    "    line_diam_pixOnFFT_L = 0.5*imageShapeAlong1Axis - np.divide(line_diam_freq,np.divide(1.,imageShapeAlong1Axis)) \n",
    "    line_diam_pixOnFFT_H = 0.5*imageShapeAlong1Axis + np.divide(line_diam_freq,np.divide(1.,imageShapeAlong1Axis))\n",
    "    \n",
    "    return line_diam_pixOnFFT_L, line_diam_pixOnFFT_H # the lower and higher values around freq of zero"
   ]
  },
  {
   "cell_type": "code",
   "execution_count": 9,
   "metadata": {},
   "outputs": [],
   "source": [
    "def normalVector(sciImg):\n",
    "    '''\n",
    "    Fit a plane by finding the (normalized) normal vector to the best-fit plane\n",
    "    \n",
    "    INPUTS:\n",
    "    sciImg: 2D image to fit a plane to\n",
    "    \n",
    "    OUTPUTS:\n",
    "    normVec: the normal vector to the image data (note the normal vector is not normalIZED)\n",
    "    '''\n",
    "    \n",
    "    # make x, y coords and flatten x, y, and z for putting into least-squares matrix equation\n",
    "    X,Y = np.meshgrid(np.arange(0,np.shape(sciImg)[0]),\n",
    "                  np.arange(0,np.shape(sciImg)[1]))\n",
    "    Xflat_T = np.transpose(X.flatten())\n",
    "    Yflat_T = np.transpose(Y.flatten())\n",
    "    onesVec = np.ones(np.size(Xflat_T))\n",
    "    Zflat_T = np.transpose(sciImg.flatten())\n",
    "\n",
    "    # remove nans so we can fit planes\n",
    "    Xflat_T = Xflat_T[~np.isnan(Zflat_T)]\n",
    "    Yflat_T = Yflat_T[~np.isnan(Zflat_T)]\n",
    "    onesVec = onesVec[~np.isnan(Zflat_T)]\n",
    "    Zflat_T = Zflat_T[~np.isnan(Zflat_T)]\n",
    "    \n",
    "    # For a plane ax+by+c=z, the normal vector is [a,b,c]. To find this,\n",
    "    # solve the matrix equation \n",
    "    \n",
    "    # AC = B, where \n",
    "    # A are the x and y coords: [[x0,y0,1],[x1,y1,1],...[xN,yN,1]]\n",
    "    # C are the coefficients we want: [[a],[b],[c]]\n",
    "    # B is the z data: [[z0],[z1],...[zN]]\n",
    "    \n",
    "    # C = A+B, where A+ is the pseudoinverse of A, or A+ = ((A.T*A)^(-1))*A.T*B\n",
    "    \n",
    "    Amatrix = np.transpose(np.concatenate(([Xflat_T],[Yflat_T],[onesVec]), axis = 0))\n",
    "    Bmatrix = Zflat_T\n",
    "    \n",
    "    # note that normVec = C\n",
    "    normVec = np.dot(np.dot( np.linalg.pinv(np.dot(Amatrix.transpose(), Amatrix)), Amatrix.transpose()), Bmatrix)\n",
    "\n",
    "    return normVec"
   ]
  },
  {
   "cell_type": "code",
   "execution_count": 10,
   "metadata": {},
   "outputs": [],
   "source": [
    "def fftMask(sciImg,wavel_lambda,plateScale,fyi_string=''):\n",
    "    '''\n",
    "    Take a FFT image, generate masks to select interesting areas of the FFT, and \n",
    "    return data about those areas (amplitudes, normal vectors, etc.)\n",
    "    \n",
    "    INPUTS:\n",
    "    sciImg: this is actually the FFT image, not the science detector image\n",
    "    wavel_lambda: wavelength of the observation\n",
    "    plateScale: plate scale of the detector (asec/pixel)\n",
    "    fyi_string: an FYI string that could be used for plots\n",
    "    \n",
    "    OUTPUTS:\n",
    "    dictFFTstuff: dictionary with keys corresponding to different parts of the FFT\n",
    "    '''\n",
    "    \n",
    "    # make division lines separating different parts of the PSF\n",
    "    line_M1diam_pixOnFFT = findFFTloc(D,np.shape(sciImg)[0],wavel_lambda,plateScale)\n",
    "    line_center2center_pixOnFFT = findFFTloc(B_c2c,np.shape(sciImg)[0],wavel_lambda,plateScale)\n",
    "    line_edge2edge_pixOnFFT = findFFTloc(B_e2e,np.shape(sciImg)[0],wavel_lambda,plateScale) \n",
    "        \n",
    "        \n",
    "    # define circles\n",
    "    circRad = 60 # pixels in FFT space\n",
    "    circle_highFreqPerfect_L = CirclePixelRegion(center=PixCoord(x=line_center2center_pixOnFFT[0], y=0.5*np.shape(sciImg)[0]), radius=circRad)\n",
    "    circle_highFreqPerfect_R = CirclePixelRegion(center=PixCoord(x=line_center2center_pixOnFFT[1], y=0.5*np.shape(sciImg)[0]), radius=circRad)\n",
    "    circle_lowFreqPerfect = CirclePixelRegion(center=PixCoord(x=0.5*np.shape(sciImg)[1], y=0.5*np.shape(sciImg)[0]), radius=circRad)\n",
    "    \n",
    "    # define central rectangular region that includes all three nodes\n",
    "    rect_pix = PolygonPixelRegion(vertices=PixCoord(x=[line_edge2edge_pixOnFFT[0],line_edge2edge_pixOnFFT[1],line_edge2edge_pixOnFFT[1],line_edge2edge_pixOnFFT[0]], \n",
    "                                                       y=[line_M1diam_pixOnFFT[1],line_M1diam_pixOnFFT[1],line_M1diam_pixOnFFT[0],line_M1diam_pixOnFFT[0]]))\n",
    "    \n",
    "    # make the masks \n",
    "    mask_circHighFreq_L = circle_highFreqPerfect_L.to_mask()\n",
    "    mask_circHighFreq_R = circle_highFreqPerfect_R.to_mask()\n",
    "    mask_circLowFreq = circle_lowFreqPerfect.to_mask()\n",
    "    mask_rect = rect_pix.to_mask()\n",
    "\n",
    "    \n",
    "    ## apply the masks\n",
    "    \n",
    "    # initialize arrays of same size as science image\n",
    "    sciImg1 = np.copy(sciImg) \n",
    "    sciImg2 = np.copy(sciImg)\n",
    "    sciImg3 = np.copy(sciImg)\n",
    "    sciImg4 = np.copy(sciImg)\n",
    "    \n",
    "    # region 1: high-freq lobe, left\n",
    "    sciImg1.fill(np.nan) # initialize arrays of nans\n",
    "    mask_circHighFreq_L.data[mask_circHighFreq_L.data == 0] = np.nan    # make zeros within mask cutout (but not in the mask itself) nans\n",
    "    sciImg1[mask_circHighFreq_L.bbox.slices] = mask_circHighFreq_L.data  # place the mask cutout (consisting only of 1s) onto the array of nans\n",
    "    sciImg1 = np.multiply(sciImg1,sciImg) # 'transmit' the original science image through the mask\n",
    "    sciImg1 = sciImg1.filled(fill_value=np.nan) # turn all masked '--' elements to nans\n",
    "    \n",
    "    # region 2: high-freq lobe, right\n",
    "    sciImg2.fill(np.nan) # initialize arrays of nans\n",
    "    mask_circHighFreq_R.data[mask_circHighFreq_R.data == 0] = np.nan    # make zeros within mask cutout (but not in the mask itself) nans\n",
    "    sciImg2[mask_circHighFreq_R.bbox.slices] = mask_circHighFreq_R.data  # place the mask cutout (consisting only of 1s) onto the array of nans\n",
    "    sciImg2 = np.multiply(sciImg2,sciImg) # 'transmit' the original science image through the mask\n",
    "    sciImg2 = sciImg2.filled(fill_value=np.nan) # turn all masked '--' elements to nans\n",
    "    \n",
    "    # region 3: low-freq lobe\n",
    "    sciImg3.fill(np.nan) # initialize arrays of nans\n",
    "    mask_circLowFreq.data[mask_circLowFreq.data == 0] = np.nan    # make zeros within mask cutout (but not in the mask itself) nans\n",
    "    sciImg3[mask_circLowFreq.bbox.slices] = mask_circLowFreq.data  # place the mask cutout (consisting only of 1s) onto the array of nans\n",
    "    sciImg3 = np.multiply(sciImg3,sciImg) # 'transmit' the original science image through the mask\n",
    "    sciImg3 = sciImg3.filled(fill_value=np.nan) # turn all masked '--' elements to nans\n",
    "    \n",
    "    # region 4: rectangular region containing parts of all lobes\n",
    "    sciImg4.fill(np.nan) # initialize arrays of nans\n",
    "    mask_rect.data[mask_rect.data == 0] = np.nan    # make zeros within mask cutout (but not in the mask itself) nans\n",
    "    sciImg4[mask_rect.bbox.slices] = mask_rect.data  # place the mask cutout (consisting only of 1s) onto the array of nans\n",
    "    sciImg4 = np.multiply(sciImg4,sciImg) # 'transmit' the original science image through the mask\n",
    "    sciImg4 = sciImg4.filled(fill_value=np.nan) # turn all masked '--' elements to nans\n",
    "    \n",
    "    ## ## TEST\n",
    "    #sciImg3 = np.multiply(sciImg3,zv_right[0:1200,0:1200])\n",
    "    \n",
    "    # return medians of regions under masks\n",
    "    med_highFreqPerfect_L = np.nanmedian(sciImg1)\n",
    "    med_highFreqPerfect_R = np.nanmedian(sciImg2)\n",
    "    med_lowFreqPerfect = np.nanmedian(sciImg3)\n",
    "    med_rect = np.nanmedian(sciImg4)\n",
    "    \n",
    "    # return normal vectors corresponding to [x,y,z] to surfaces (x- and y- components are of interest)\n",
    "    \n",
    "    normVec_highFreqPerfect_L = normalVector(sciImg1)\n",
    "    normVec_highFreqPerfect_R = normalVector(sciImg2)\n",
    "    normVec_lowFreqPerfect = normalVector(sciImg3)\n",
    "    normVec_rect = normalVector(sciImg4)\n",
    "        \n",
    "    # generate images showing footprints of regions of interest\n",
    "    # (comment this bit in/out as desired)\n",
    "    \n",
    "    ''' \n",
    "    %matplotlib auto\n",
    "    plt.imshow(sciImg1, origin='lower')\n",
    "    plt.colorbar()\n",
    "    plt.show()\n",
    "    \n",
    "    plt.imshow(sciImg2, origin='lower')\n",
    "    plt.title('Region 2, frame '+fyi_string)\n",
    "    plt.colorbar()\n",
    "    plt.show()\n",
    "    \n",
    "    plt.imshow(sciImg3, origin='lower')\n",
    "    plt.title('Region 3, frame '+fyi_string)\n",
    "    plt.colorbar()\n",
    "    plt.show()\n",
    "    \n",
    "    plt.imshow(sciImg4, origin='lower')\n",
    "    plt.title('Region 4, frame '+fyi_string)\n",
    "    plt.colorbar()\n",
    "    plt.show()\n",
    "    '''\n",
    "    \n",
    "    # generate image with lines denoting regions\n",
    "    # (comment this in/out as desired)\n",
    "    '''\n",
    "    plt.clf()\n",
    "    fig = plt.figure()\n",
    "    ax = fig.add_subplot(1, 1, 1)\n",
    "    cax = ax.imshow(sciImg, origin=\"lower\")\n",
    "    ax.axhline(line_M1diam_pixOnFFT[0])\n",
    "    ax.axhline(line_M1diam_pixOnFFT[1])\n",
    "    ax.axvline(line_M1diam_pixOnFFT[0])\n",
    "    ax.axvline(line_M1diam_pixOnFFT[1])\n",
    "    ax.axvline(line_center2center_pixOnFFT[0])\n",
    "    ax.axvline(line_center2center_pixOnFFT[1])\n",
    "    ax.axvline(line_edge2edge_pixOnFFT[0]) \n",
    "    ax.axvline(line_edge2edge_pixOnFFT[1]) \n",
    "    ax.add_patch(circle_highFreqPerfect_L.as_patch(facecolor='none', edgecolor='blue')) \n",
    "    ax.add_patch(circle_highFreqPerfect_R.as_patch(facecolor='none', edgecolor='blue')) \n",
    "    ax.add_patch(circle_lowFreqPerfect.as_patch(facecolor='none', edgecolor='blue')) \n",
    "    ax.add_patch(rect_pix.as_patch(facecolor='none', edgecolor='red')) \n",
    "    cbar = fig.colorbar(cax)\n",
    "    plt.savefig(\"junk.pdf\")\n",
    "    '''\n",
    "    \n",
    "    # initialize dictionary to contain FFT data\n",
    "    # N.b. all the info in this dictionary is EITHER for\n",
    "    # the FFT amplitude OR the FFT phase, depending on what\n",
    "    # the 'sciImg' is\n",
    "    dictFFTstuff = {}\n",
    "    \n",
    "    # median of high-freq lobe on left side, within circular region centered around \n",
    "    # where a perfect high-freq lobe would be\n",
    "    dictFFTstuff[\"med_highFreqPerfect_L\"] = med_highFreqPerfect_L\n",
    "    \n",
    "    # median of right-side high-freq lobe\n",
    "    dictFFTstuff[\"med_highFreqPerfect_R\"] = med_highFreqPerfect_R\n",
    "    \n",
    "    # median of low-frequency lobe\n",
    "    dictFFTstuff[\"med_lowFreqPerfect\"] = med_lowFreqPerfect\n",
    "    \n",
    "    # median of rectangle that is drawn to contain both high- and low-freq lobes\n",
    "    dictFFTstuff[\"med_rect\"] = med_rect\n",
    "    \n",
    "    # normal vectors to the high- and low- frequency \n",
    "    # note vectors are [a,b,c] corresponding to the eqn Z = a*X + b*Y + c\n",
    "    dictFFTstuff[\"normVec_highFreqPerfect_L\"] = normVec_highFreqPerfect_L\n",
    "    dictFFTstuff[\"normVec_highFreqPerfect_R\"] = normVec_highFreqPerfect_R\n",
    "    dictFFTstuff[\"normVec_lowFreqPerfect\"] = normVec_lowFreqPerfect\n",
    "    dictFFTstuff[\"normVec_rect\"] = normVec_rect\n",
    "        \n",
    "    return dictFFTstuff"
   ]
  },
  {
   "cell_type": "code",
   "execution_count": 12,
   "metadata": {},
   "outputs": [
    {
     "name": "stdout",
     "output_type": "stream",
     "text": [
      "Working on frame 000000 ...\n",
      "(2048, 2048)\n",
      "{'med_lowFreqPerfect': -1.4366251537890481e-15, 'normVec_lowFreqPerfect': array([ 4.12710416e-17,  3.86520059e-17, -8.32294029e-14]), 'med_rect': -1.1543790353334537e-15, 'med_highFreqPerfect_R': -5.554486498232432e-16, 'normVec_highFreqPerfect_L': array([-1.24793396e-17,  4.64989198e-17, -4.22618014e-14]), 'normVec_highFreqPerfect_R': array([-1.08827369e-17,  4.71631081e-17, -3.46414870e-14]), 'normVec_rect': array([ 5.77249358e-17,  3.39696738e-16, -3.95417768e-13]), 'med_highFreqPerfect_L': -3.564290126023207e-15}\n"
     ]
    },
    {
     "name": "stderr",
     "output_type": "stream",
     "text": [
      "WARNING: AstropyDeprecationWarning: \"clobber\" was deprecated in version 2.0 and will be removed in a future version. Use argument \"overwrite\" instead. [astropy.utils.decorators]\n"
     ]
    },
    {
     "name": "stdout",
     "output_type": "stream",
     "text": [
      "64.6575050354\n",
      "-----\n",
      "Frame 000001 not found.\n",
      "4.81605529785e-05\n",
      "-----\n",
      "Working on frame 000002 ...\n",
      "(2048, 2048)\n",
      "{'med_lowFreqPerfect': -6.867568408717054e-16, 'normVec_lowFreqPerfect': array([-1.64343693e-02, -1.83351850e-15,  1.68287942e+01]), 'med_rect': -8.128176610809647e-16, 'med_highFreqPerfect_R': 0.00514829619511792, 'normVec_highFreqPerfect_L': array([-1.64343693e-02, -1.51052735e-15,  1.17947289e+01]), 'normVec_highFreqPerfect_R': array([-1.64343693e-02, -1.65985343e-15,  2.18628595e+01]), 'normVec_rect': array([-1.84279620e-03, -1.55286983e-16,  1.88702331e+00]), 'med_highFreqPerfect_L': -0.0051482961951205405}\n",
      "45.9623908997\n",
      "-----\n",
      "Frame 000003 not found.\n",
      "0.000118970870972\n",
      "-----\n",
      "Working on frame 000004 ...\n",
      "(2048, 2048)\n",
      "{'med_lowFreqPerfect': -5.352919838862847e-16, 'normVec_lowFreqPerfect': array([-3.28687386e-02, -3.70007891e-15,  3.36575884e+01]), 'med_rect': -5.685772652732954e-16, 'med_highFreqPerfect_R': 0.010296592390228463, 'normVec_highFreqPerfect_L': array([-3.28687386e-02, -3.05455133e-15,  2.35894578e+01]), 'normVec_highFreqPerfect_R': array([-3.28687386e-02, -3.35204732e-15,  4.37257190e+01]), 'normVec_rect': array([-3.68531246e-03,  4.12585759e-17,  3.77375996e+00]), 'med_highFreqPerfect_L': -0.01029659239023349}\n",
      "56.1658830643\n",
      "-----\n",
      "Frame 000005 not found.\n",
      "6.00814819336e-05\n",
      "-----\n",
      "Working on frame 000006 ...\n",
      "(2048, 2048)\n",
      "{'med_lowFreqPerfect': -7.462002521572536e-16, 'normVec_lowFreqPerfect': array([-4.93031080e-02, -5.56338462e-15,  5.04863826e+01]), 'med_rect': -7.462002521572536e-16, 'med_highFreqPerfect_R': 0.015444888585342428, 'normVec_highFreqPerfect_L': array([-4.93031080e-02, -4.58106714e-15,  3.53841866e+01]), 'normVec_highFreqPerfect_R': array([-4.93031080e-02, -5.02605227e-15,  6.55885785e+01]), 'normVec_rect': array([-5.52726586e-03, -1.36629922e-16,  5.65992024e+00]), 'med_highFreqPerfect_L': -0.015444888585346605}\n",
      "64.6548531055\n",
      "-----\n",
      "Frame 000007 not found.\n",
      "0.000300884246826\n",
      "-----\n",
      "Working on frame 000008 ...\n",
      "(2048, 2048)\n",
      "{'med_lowFreqPerfect': -2.7606194069788837e-16, 'normVec_lowFreqPerfect': array([-6.57374773e-02, -7.41087433e-15,  6.73151767e+01]), 'med_rect': -2.6383944697658454e-16, 'med_highFreqPerfect_R': 0.02059318478045837, 'normVec_highFreqPerfect_L': array([-6.57374773e-02, -6.11398732e-15,  4.71789155e+01]), 'normVec_highFreqPerfect_R': array([-6.57374773e-02, -6.71283178e-15,  8.74514380e+01]), 'normVec_rect': array([-7.36836747e-03,  1.20813019e-16,  7.54520829e+00]), 'med_highFreqPerfect_L': -0.02059318478046171}\n",
      "51.5251538754\n",
      "-----\n",
      "Frame 000009 not found.\n",
      "4.19616699219e-05\n",
      "-----\n",
      "Working on frame 000010 ...\n",
      "(2048, 2048)\n",
      "{'med_lowFreqPerfect': -5.823329268747175e-16, 'normVec_lowFreqPerfect': array([-8.21718466e-02, -9.29673292e-15,  8.41439709e+01]), 'med_rect': -5.233599044504229e-16, 'med_highFreqPerfect_R': 0.025741480975571475, 'normVec_highFreqPerfect_L': array([-8.21718466e-02, -7.68317512e-15,  5.89736444e+01]), 'normVec_highFreqPerfect_R': array([-8.21718466e-02, -8.43188724e-15,  1.09314297e+02]), 'normVec_rect': array([-9.20831918e-03, -7.00685013e-16,  9.42931884e+00]), 'med_highFreqPerfect_L': -0.025741480975577113}\n",
      "63.3670420647\n",
      "-----\n"
     ]
    },
    {
     "data": {
      "text/plain": [
       "<Figure size 1440x360 with 0 Axes>"
      ]
     },
     "metadata": {},
     "output_type": "display_data"
    },
    {
     "data": {
      "text/plain": [
       "<Figure size 1440x360 with 0 Axes>"
      ]
     },
     "metadata": {},
     "output_type": "display_data"
    },
    {
     "data": {
      "text/plain": [
       "<Figure size 1440x360 with 0 Axes>"
      ]
     },
     "metadata": {},
     "output_type": "display_data"
    },
    {
     "data": {
      "text/plain": [
       "<Figure size 1440x360 with 0 Axes>"
      ]
     },
     "metadata": {},
     "output_type": "display_data"
    },
    {
     "data": {
      "text/plain": [
       "<Figure size 1440x360 with 0 Axes>"
      ]
     },
     "metadata": {},
     "output_type": "display_data"
    },
    {
     "data": {
      "text/plain": [
       "<Figure size 1440x360 with 0 Axes>"
      ]
     },
     "metadata": {},
     "output_type": "display_data"
    }
   ],
   "source": [
    "# for loop over science images to take FFT and analyze it\n",
    "\n",
    "ampArray = []\n",
    "framenumArray = []\n",
    "\n",
    "counter_num = 0\n",
    "\n",
    "#datafilename = \"test.csv\"\n",
    "\n",
    "startFrame = 0\n",
    "stopFrame = 10 # (inclusive)\n",
    "\n",
    "for f in range(startFrame,stopFrame+1):  # full Altair dataset: 4249,11497\n",
    "\n",
    "    start = time.time() # start timer\n",
    "    \n",
    "    # for changes in tilt (x)\n",
    "    #filename_str = ('./pickle_files/fits_equivalents/'+\n",
    "    #                'chrom_mono_avgwavel_3699_opd_00000_tip_0000_'+\n",
    "    #                'tilt_'+str(\"{:0>4d}\".format(f))+'_transl_000_PS_10.fits')\n",
    "    \n",
    "    # for changes in tip (y)\n",
    "    \n",
    "    filename_str = ('./pickle_files/fits_equivalents/'+\n",
    "                    'chrom_mono_avgwavel_5000_opd_00000_tip_0000'+\\\n",
    "                 '_tilt_'+str(\"{:0>4d}\".format(f))+'_transl_000_PS_10.fits')\n",
    "    \n",
    "    #filename_str = 'junk.fits'    \n",
    "    \n",
    "    if os.path.isfile(filename_str): # if FITS file exists in the first place\n",
    "            \n",
    "        print('Working on frame '+str(\"{:0>6d}\".format(f))+' ...')\n",
    "        \n",
    "        image, header = fits.getdata(filename_str,0,header=True) \n",
    "        \n",
    "        print(np.shape(image))\n",
    "\n",
    "        # test: a perfect PSF\n",
    "        #image, header = fits.getdata('perfect_psf.fits',0,header=True) \n",
    "    \n",
    "        #plt.imshow(image)\n",
    "        #plt.show()\n",
    "    \n",
    "        # locate PSF\n",
    "        psf_loc = overlap_psfs.find_airy_psf(image)\n",
    "    \n",
    "        # size of cookie cut-out (measured center-to-edge)\n",
    "        cookie_size = 100 # maximum control radius as of 2018 July corresponds to 130.0 pixels\n",
    "    \n",
    "        # take FFT\n",
    "        #cookie_cut = image[psf_loc[0]-cookie_size:psf_loc[0]+cookie_size,psf_loc[1]-cookie_size:psf_loc[1]+cookie_size]\n",
    "        #amp, arg = fft_img(cookie_cut).fft(padding=int(5*cookie_size), mask_thresh=1e5)\n",
    "        cookie_cut = image\n",
    "        amp, arg = fft_img(cookie_cut).fft(padding=0, mask_thresh=1e5)\n",
    "        \n",
    "\n",
    "        # test: image with a perfect slope\n",
    "        '''\n",
    "        testing, header = fits.getdata('slope_test_psf.fits',0,header=True)\n",
    "        cookie_cut_testing = testing[psf_loc[0]-cookie_size:psf_loc[0]+\n",
    "                                   cookie_size,psf_loc[1]-cookie_size:psf_loc[1]+cookie_size]\n",
    "        #sciImg = ma.asarray(sciImg)\n",
    "        amp[np.isfinite(amp)] = -1 #cookie_cut_testing[np.isfinite(amp)] \n",
    "        '''\n",
    "        \n",
    "        # sanity check (and to avoid getting for loop stuck)\n",
    "        if (np.shape(amp)[0]!=np.shape(amp)[1]): # if the FFT doesn't make sense (i.e., if PSF was not found)\n",
    "            print('PSF does not make sense ... aborting this one ...')\n",
    "            continue\n",
    "            \n",
    "            \n",
    "        # analyze FFTs\n",
    "        fftInfo_amp = fftMask(amp,wavel_lambda,plateScale,\n",
    "                              fyi_string=str(\"{:0>6d}\".format(f))+' FFT amp')\n",
    "        fftInfo_arg = fftMask(arg,wavel_lambda,plateScale,\n",
    "                              fyi_string=str(\"{:0>6d}\".format(f))+' FFT phase')\n",
    "        \n",
    "        print(fftInfo_arg)\n",
    "                \n",
    "        # save fyi FITS files\n",
    "        \n",
    "        hdu = fits.PrimaryHDU(arg.data)\n",
    "        hdulist = fits.HDUList([hdu])\n",
    "        hdu.writeto(\"ptf_\"+str(\"{:0>6d}\".format(f))+\".fits\", clobber=True)\n",
    "        \n",
    "\n",
    "        # save a fyi PNG file\n",
    "        \n",
    "        fig, (ax0, ax1, ax2) = plt.subplots(ncols=3,figsize=(20,5))\n",
    "        im0 = ax0.imshow(cookie_cut, origin=\"lower\") \n",
    "        ax0.plot([int(0.5*np.shape(cookie_cut)[0]),int(0.5*np.shape(cookie_cut)[0])],\n",
    "                 [int(0.5*np.shape(cookie_cut)[0]),int(0.5*np.shape(cookie_cut)[0])],\n",
    "                 marker=\"+\", color=\"r\") # put red cross at center\n",
    "        ax0.set_xlim([0,np.shape(cookie_cut)[0]])\n",
    "        ax0.set_ylim([0,np.shape(cookie_cut)[0]])\n",
    "        im1 = ax1.imshow(amp, origin=\"lower\") \n",
    "        im2 = ax2.imshow(arg, origin=\"lower\") \n",
    "        fig.colorbar(im0, ax=ax0)\n",
    "        fig.colorbar(im1, ax=ax1)\n",
    "        fig.colorbar(im2, ax=ax2)\n",
    "        ax0.set_xlabel('Physical PSF (color = counts)')\n",
    "        ax1.set_xlabel('FFT Ampl (color = relative)')\n",
    "        ax2.set_xlabel('FFT Phase (color = degrees)')\n",
    "        #if (header['PCCLOSED']==1): # if Phasecam loop was closed\n",
    "        #    pc_string = 'PC **CLOSED**'\n",
    "        #else:\n",
    "        #    pc_string = 'PC OPEN'\n",
    "        plt.suptitle(str(\"{:0>6d}\".format(f)) + ', ')\n",
    "        plt.savefig('png_thumbnails/test_data_avgwavel_4749_opd_00000_tip_'+str(\"{:0>4d}\".format(f))+\n",
    "                    '_tilt_0000_transl_000_PS_10.png', dpi=300, overwrite=True)\n",
    "        plt.clf()\n",
    "        \n",
    "        \n",
    "        # write data to text file\n",
    "        # CAUTION IF EDITING THE BELOW; NEED TO\n",
    "        # MAKE SURE COLUMN HEADERS AND DATA AGREE\n",
    "        \n",
    "        # this snippet can be commented out if you \n",
    "        # dont want to erase a pre-existing csv file\n",
    "        if (f==startFrame): # write column headers in file\n",
    "            colheaders = [\"framenum\",\n",
    "                          \"ampl_med_highFreqPerfect_L\",\n",
    "                          \"ampl_med_highFreqPerfect_R\",\n",
    "                          \"ampl_med_lowFreqPerfect\",\n",
    "                          \"ampl_med_rect\",\n",
    "                          \"ampl_normVec_highFreqPerfect_L_x\",\n",
    "                          \"ampl_normVec_highFreqPerfect_L_y\",\n",
    "                          \"ampl_normVec_highFreqPerfect_R_x\",\n",
    "                          \"ampl_normVec_highFreqPerfect_R_y\",\n",
    "                          \"ampl_normVec_lowFreqPerfect_x\",\n",
    "                          \"ampl_normVec_lowFreqPerfect_y\",\n",
    "                          \"ampl_normVec_rect_x\",\n",
    "                          \"ampl_normVec_rect_y\",\n",
    "                          \"phase_med_highFreqPerfect_L\",\n",
    "                          \"phase_med_highFreqPerfect_R\",\n",
    "                          \"phase_med_lowFreqPerfect\",\n",
    "                          \"phase_med_rect\",\n",
    "                          \"phase_normVec_highFreqPerfect_L_x\",\n",
    "                          \"phase_normVec_highFreqPerfect_L_y\",\n",
    "                          \"phase_normVec_highFreqPerfect_R_x\",\n",
    "                          \"phase_normVec_highFreqPerfect_R_y\",\n",
    "                          \"phase_normVec_lowFreqPerfect_x\",\n",
    "                          \"phase_normVec_lowFreqPerfect_y\",\n",
    "                          \"phase_normVec_rect_x\",\n",
    "                          \"phase_normVec_rect_y\"]\n",
    "            with open(r'test.csv', 'w') as csvfile:\n",
    "                writer = csv.writer(csvfile)\n",
    "                writer.writerow(colheaders)\n",
    "        \n",
    "        # append to file:\n",
    "        # [0]: frame number\n",
    "        # [1-12]: FFT amplitude data\n",
    "        # [13-24]: FFT phase data\n",
    "        fields=[str(\"{:0>6d}\".format(f)),\n",
    "                fftInfo_amp[\"med_highFreqPerfect_L\"],\n",
    "                fftInfo_amp[\"med_highFreqPerfect_R\"],\n",
    "                fftInfo_amp[\"med_lowFreqPerfect\"],\n",
    "                fftInfo_amp[\"med_rect\"],\n",
    "                fftInfo_amp[\"normVec_highFreqPerfect_L\"][0],\n",
    "                fftInfo_amp[\"normVec_highFreqPerfect_L\"][1],\n",
    "                fftInfo_amp[\"normVec_highFreqPerfect_R\"][0],\n",
    "                fftInfo_amp[\"normVec_highFreqPerfect_R\"][1],\n",
    "                fftInfo_amp[\"normVec_lowFreqPerfect\"][0],\n",
    "                fftInfo_amp[\"normVec_lowFreqPerfect\"][1],\n",
    "                fftInfo_amp[\"normVec_rect\"][0],\n",
    "                fftInfo_amp[\"normVec_rect\"][1],\n",
    "                fftInfo_arg[\"med_highFreqPerfect_L\"],\n",
    "                fftInfo_arg[\"med_highFreqPerfect_R\"],\n",
    "                fftInfo_arg[\"med_lowFreqPerfect\"],\n",
    "                fftInfo_arg[\"med_rect\"],\n",
    "                fftInfo_arg[\"normVec_highFreqPerfect_L\"][0],\n",
    "                fftInfo_arg[\"normVec_highFreqPerfect_L\"][1],\n",
    "                fftInfo_arg[\"normVec_highFreqPerfect_R\"][0],\n",
    "                fftInfo_arg[\"normVec_highFreqPerfect_R\"][1],\n",
    "                fftInfo_arg[\"normVec_lowFreqPerfect\"][0],\n",
    "                fftInfo_arg[\"normVec_lowFreqPerfect\"][1],\n",
    "                fftInfo_arg[\"normVec_rect\"][0],\n",
    "                fftInfo_arg[\"normVec_rect\"][1]]\n",
    "        with open(r'test.csv', 'a') as csvfile:\n",
    "            writer = csv.writer(csvfile)\n",
    "            writer.writerow(fields)\n",
    "            \n",
    "    else: # if file does not exist\n",
    "        print('Frame '+str(\"{:0>6d}\".format(f))+' not found.')\n",
    "            \n",
    "    end = time.time()\n",
    "    print(end - start)\n",
    "    print('-----')"
   ]
  },
  {
   "cell_type": "code",
   "execution_count": 24,
   "metadata": {},
   "outputs": [
    {
     "name": "stdout",
     "output_type": "stream",
     "text": [
      "Working on frame 000000 ...\n",
      "(2048, 2048)\n",
      "{'med_lowFreqPerfect': -1.3612031920678276e-15, 'normVec_lowFreqPerfect': array([ 1.55315166e-17,  1.61860851e-17, -3.38829005e-14]), 'med_rect': -1.51449966433718e-15, 'med_highFreqPerfect_R': -2.77958271030052e-15, 'normVec_highFreqPerfect_L': array([-2.44820328e-17,  1.70138526e-17, -1.57267142e-15]), 'normVec_highFreqPerfect_R': array([-2.02541464e-17,  1.82820126e-17,  5.43276690e-15]), 'normVec_rect': array([ 2.90188121e-16,  5.19423268e-16, -8.15809359e-13]), 'med_highFreqPerfect_L': -1.626528511525825e-15}\n"
     ]
    },
    {
     "name": "stderr",
     "output_type": "stream",
     "text": [
      "WARNING: AstropyDeprecationWarning: \"clobber\" was deprecated in version 2.0 and will be removed in a future version. Use argument \"overwrite\" instead. [astropy.utils.decorators]\n"
     ]
    },
    {
     "name": "stdout",
     "output_type": "stream",
     "text": [
      "49.585146904\n",
      "-----\n",
      "Frame 000001 not found.\n",
      "5.69820404053e-05\n",
      "-----\n",
      "Working on frame 000002 ...\n",
      "(1024, 1024)\n",
      "{'med_lowFreqPerfect': -5.438465279664796e-16, 'normVec_lowFreqPerfect': array([-1.64343693e-02, -2.97387871e-14,  8.41439709e+00]), 'med_rect': -6.437536678491675e-16, 'med_highFreqPerfect_R': -0.8573461401380676, 'normVec_highFreqPerfect_L': array([ 5.22985874e-02,  7.76599835e-14, -1.85909235e+01]), 'normVec_highFreqPerfect_R': array([ 5.22985874e-02,  8.62087880e-14, -3.49628300e+01]), 'normVec_rect': array([ 1.75771437e-03,  2.36927030e-16, -8.99949756e-01]), 'med_highFreqPerfect_L': 0.857346140138091}\n",
      "17.3113927841\n",
      "-----\n",
      "Frame 000003 not found.\n",
      "5.98430633545e-05\n",
      "-----\n",
      "Working on frame 000004 ...\n",
      "(1024, 1024)\n",
      "{'med_lowFreqPerfect': -5.735433912750401e-16, 'normVec_lowFreqPerfect': array([-3.28687386e-02, -5.94821812e-14,  1.68287942e+01]), 'med_rect': -7.450231555731443e-16, 'med_highFreqPerfect_R': -1.7112196658385315, 'normVec_highFreqPerfect_L': array([ 1.04610213e-01,  1.54947887e-13, -3.71878799e+01]), 'normVec_highFreqPerfect_R': array([ 1.04610213e-01,  1.72050547e-13, -6.99329780e+01]), 'normVec_rect': array([ 3.51888837e-03, -1.15518005e-16, -1.80167084e+00]), 'med_highFreqPerfect_L': 1.7112196658385508}\n",
      "13.5105109215\n",
      "-----\n",
      "Frame 000005 not found.\n",
      "5.91278076172e-05\n",
      "-----\n",
      "Working on frame 000006 ...\n",
      "(1024, 1024)\n",
      "{'med_lowFreqPerfect': -5.700444810561081e-16, 'normVec_lowFreqPerfect': array([-4.93031080e-02, -8.92067061e-14,  2.52431913e+01]), 'med_rect': -7.907054081536069e-16, 'med_highFreqPerfect_R': -2.558068658148746, 'normVec_highFreqPerfect_L': array([ 1.56947966e-01,  2.32859787e-13, -5.57969359e+01]), 'normVec_highFreqPerfect_R': array([ 1.56947966e-01,  2.58478083e-13, -1.04917782e+02]), 'normVec_rect': array([ 5.28701844e-03,  3.63322069e-16, -2.70695344e+00]), 'med_highFreqPerfect_L': 2.5580686581487444}\n",
      "8.7720489502\n",
      "-----\n",
      "Frame 000007 not found.\n",
      "0.000431060791016\n",
      "-----\n",
      "Working on frame 000008 ...\n",
      "(1024, 1024)\n",
      "{'med_lowFreqPerfect': -5.087314438103652e-16, 'normVec_lowFreqPerfect': array([-6.57374773e-02, -1.18939586e-13,  3.36575884e+01]), 'med_rect': -7.068431157912532e-16, 'med_highFreqPerfect_R': -3.3941790306554753, 'normVec_highFreqPerfect_L': array([ 2.09325043e-01,  3.10512791e-13, -7.44242256e+01]), 'normVec_highFreqPerfect_R': array([ 2.09325043e-01,  3.44659166e-13, -1.39924619e+02]), 'normVec_rect': array([ 7.06567535e-03,  4.18324124e-16, -3.61762578e+00]), 'med_highFreqPerfect_L': 3.394179030655496}\n",
      "9.75193214417\n",
      "-----\n",
      "Frame 000009 not found.\n",
      "0.000289916992188\n",
      "-----\n",
      "Working on frame 000010 ...\n",
      "(1024, 1024)\n",
      "{'med_lowFreqPerfect': -5.484865980024727e-16, 'normVec_lowFreqPerfect': array([-8.21718466e-02, -1.48693958e-13,  4.20719855e+01]), 'med_rect': -6.11106225534332e-16, 'med_highFreqPerfect_R': -4.215584285118205, 'normVec_highFreqPerfect_L': array([ 2.61754792e-01,  3.88403232e-13, -9.30759839e+01]), 'normVec_highFreqPerfect_R': array([ 2.61754792e-01,  4.31022973e-13, -1.74960923e+02]), 'normVec_rect': array([ 8.85854317e-03,  5.82430263e-16, -4.53557410e+00]), 'med_highFreqPerfect_L': 4.215584285118224}\n",
      "15.8860719204\n",
      "-----\n"
     ]
    },
    {
     "data": {
      "text/plain": [
       "<Figure size 1440x360 with 0 Axes>"
      ]
     },
     "metadata": {},
     "output_type": "display_data"
    },
    {
     "data": {
      "text/plain": [
       "<Figure size 1440x360 with 0 Axes>"
      ]
     },
     "metadata": {},
     "output_type": "display_data"
    },
    {
     "data": {
      "text/plain": [
       "<Figure size 1440x360 with 0 Axes>"
      ]
     },
     "metadata": {},
     "output_type": "display_data"
    },
    {
     "data": {
      "text/plain": [
       "<Figure size 1440x360 with 0 Axes>"
      ]
     },
     "metadata": {},
     "output_type": "display_data"
    },
    {
     "data": {
      "text/plain": [
       "<Figure size 1440x360 with 0 Axes>"
      ]
     },
     "metadata": {},
     "output_type": "display_data"
    },
    {
     "data": {
      "text/plain": [
       "<Figure size 1440x360 with 0 Axes>"
      ]
     },
     "metadata": {},
     "output_type": "display_data"
    }
   ],
   "source": [
    "# for loop over science images to take FFT and analyze it\n",
    "\n",
    "ampArray = []\n",
    "framenumArray = []\n",
    "\n",
    "counter_num = 0\n",
    "\n",
    "#datafilename = \"test.csv\"\n",
    "\n",
    "startFrame = 0\n",
    "stopFrame = 10 # (inclusive)\n",
    "\n",
    "for f in range(startFrame,stopFrame+1):  # full Altair dataset: 4249,11497\n",
    "\n",
    "    start = time.time() # start timer\n",
    "    \n",
    "    # for changes in tilt (x)\n",
    "    #filename_str = ('./pickle_files/fits_equivalents/'+\n",
    "    #                'chrom_mono_avgwavel_3699_opd_00000_tip_0000_'+\n",
    "    #                'tilt_'+str(\"{:0>4d}\".format(f))+'_transl_000_PS_10.fits')\n",
    "    \n",
    "    # for changes in tip (y)\n",
    "    \n",
    "    filename_str = ('./pickle_files/fits_equivalents/'+\n",
    "                    'chrom_mono_avgwavel_5000_opd_00000_tip_0000'+\\\n",
    "                 '_tilt_'+str(\"{:0>4d}\".format(f))+'_transl_000_PS_10.fits')\n",
    "    \n",
    "    #filename_str = 'junk.fits'    \n",
    "    \n",
    "    if os.path.isfile(filename_str): # if FITS file exists in the first place\n",
    "            \n",
    "        print('Working on frame '+str(\"{:0>6d}\".format(f))+' ...')\n",
    "        \n",
    "        image, header = fits.getdata(filename_str,0,header=True) \n",
    "        \n",
    "        print(np.shape(image))\n",
    "\n",
    "        # test: a perfect PSF\n",
    "        #image, header = fits.getdata('perfect_psf.fits',0,header=True) \n",
    "    \n",
    "        #plt.imshow(image)\n",
    "        #plt.show()\n",
    "    \n",
    "        # locate PSF\n",
    "        psf_loc = overlap_psfs.find_airy_psf(image)\n",
    "    \n",
    "        # size of cookie cut-out (measured center-to-edge)\n",
    "        cookie_size = 100 # maximum control radius as of 2018 July corresponds to 130.0 pixels\n",
    "    \n",
    "        # take FFT\n",
    "        cookie_cut = image[psf_loc[0]-cookie_size:psf_loc[0]+cookie_size,psf_loc[1]-cookie_size:psf_loc[1]+cookie_size]\n",
    "        amp, arg = fft_img(image).fft(padding=0, mask_thresh=1e5)\n",
    "\n",
    "        # test: image with a perfect slope\n",
    "        '''\n",
    "        testing, header = fits.getdata('slope_test_psf.fits',0,header=True)\n",
    "        cookie_cut_testing = testing[psf_loc[0]-cookie_size:psf_loc[0]+\n",
    "                                   cookie_size,psf_loc[1]-cookie_size:psf_loc[1]+cookie_size]\n",
    "        #sciImg = ma.asarray(sciImg)\n",
    "        amp[np.isfinite(amp)] = -1 #cookie_cut_testing[np.isfinite(amp)] \n",
    "        '''\n",
    "        \n",
    "        # sanity check (and to avoid getting for loop stuck)\n",
    "        if (np.shape(amp)[0]!=np.shape(amp)[1]): # if the FFT doesn't make sense (i.e., if PSF was not found)\n",
    "            print('PSF does not make sense ... aborting this one ...')\n",
    "            continue\n",
    "            \n",
    "            \n",
    "        # analyze FFTs\n",
    "        fftInfo_amp = fftMask(amp,wavel_lambda,plateScale,\n",
    "                              fyi_string=str(\"{:0>6d}\".format(f))+' FFT amp')\n",
    "        fftInfo_arg = fftMask(arg,wavel_lambda,plateScale,\n",
    "                              fyi_string=str(\"{:0>6d}\".format(f))+' FFT phase')\n",
    "        \n",
    "        print(fftInfo_arg)\n",
    "                \n",
    "        # save fyi FITS files\n",
    "        \n",
    "        hdu = fits.PrimaryHDU(arg.data)\n",
    "        hdulist = fits.HDUList([hdu])\n",
    "        hdu.writeto(\"junk_arg.fits\", clobber=True)\n",
    "        \n",
    "\n",
    "        # save a fyi PNG file\n",
    "        \n",
    "        fig, (ax0, ax1, ax2) = plt.subplots(ncols=3,figsize=(20,5))\n",
    "        im0 = ax0.imshow(cookie_cut, origin=\"lower\") \n",
    "        ax0.plot([int(0.5*np.shape(cookie_cut)[0]),int(0.5*np.shape(cookie_cut)[0])],\n",
    "                 [int(0.5*np.shape(cookie_cut)[0]),int(0.5*np.shape(cookie_cut)[0])],\n",
    "                 marker=\"+\", color=\"r\") # put red cross at center\n",
    "        ax0.set_xlim([0,np.shape(cookie_cut)[0]])\n",
    "        ax0.set_ylim([0,np.shape(cookie_cut)[0]])\n",
    "        im1 = ax1.imshow(amp, origin=\"lower\") \n",
    "        im2 = ax2.imshow(arg, origin=\"lower\") \n",
    "        fig.colorbar(im0, ax=ax0)\n",
    "        fig.colorbar(im1, ax=ax1)\n",
    "        fig.colorbar(im2, ax=ax2)\n",
    "        ax0.set_xlabel('Physical PSF (color = counts)')\n",
    "        ax1.set_xlabel('FFT Ampl (color = relative)')\n",
    "        ax2.set_xlabel('FFT Phase (color = degrees)')\n",
    "        #if (header['PCCLOSED']==1): # if Phasecam loop was closed\n",
    "        #    pc_string = 'PC **CLOSED**'\n",
    "        #else:\n",
    "        #    pc_string = 'PC OPEN'\n",
    "        plt.suptitle(str(\"{:0>6d}\".format(f)) + ', ')\n",
    "        plt.savefig('png_thumbnails/test_data_avgwavel_4749_opd_00000_tip_'+str(\"{:0>4d}\".format(f))+\n",
    "                    '_tilt_0000_transl_000_PS_10.png', dpi=300, overwrite=True)\n",
    "        plt.clf()\n",
    "        \n",
    "        \n",
    "        # write data to text file\n",
    "        # CAUTION IF EDITING THE BELOW; NEED TO\n",
    "        # MAKE SURE COLUMN HEADERS AND DATA AGREE\n",
    "        \n",
    "        # this snippet can be commented out if you \n",
    "        # dont want to erase a pre-existing csv file\n",
    "        if (f==startFrame): # write column headers in file\n",
    "            colheaders = [\"framenum\",\n",
    "                          \"ampl_med_highFreqPerfect_L\",\n",
    "                          \"ampl_med_highFreqPerfect_R\",\n",
    "                          \"ampl_med_lowFreqPerfect\",\n",
    "                          \"ampl_med_rect\",\n",
    "                          \"ampl_normVec_highFreqPerfect_L_x\",\n",
    "                          \"ampl_normVec_highFreqPerfect_L_y\",\n",
    "                          \"ampl_normVec_highFreqPerfect_R_x\",\n",
    "                          \"ampl_normVec_highFreqPerfect_R_y\",\n",
    "                          \"ampl_normVec_lowFreqPerfect_x\",\n",
    "                          \"ampl_normVec_lowFreqPerfect_y\",\n",
    "                          \"ampl_normVec_rect_x\",\n",
    "                          \"ampl_normVec_rect_y\",\n",
    "                          \"phase_med_highFreqPerfect_L\",\n",
    "                          \"phase_med_highFreqPerfect_R\",\n",
    "                          \"phase_med_lowFreqPerfect\",\n",
    "                          \"phase_med_rect\",\n",
    "                          \"phase_normVec_highFreqPerfect_L_x\",\n",
    "                          \"phase_normVec_highFreqPerfect_L_y\",\n",
    "                          \"phase_normVec_highFreqPerfect_R_x\",\n",
    "                          \"phase_normVec_highFreqPerfect_R_y\",\n",
    "                          \"phase_normVec_lowFreqPerfect_x\",\n",
    "                          \"phase_normVec_lowFreqPerfect_y\",\n",
    "                          \"phase_normVec_rect_x\",\n",
    "                          \"phase_normVec_rect_y\"]\n",
    "            with open(r'test.csv', 'w') as csvfile:\n",
    "                writer = csv.writer(csvfile)\n",
    "                writer.writerow(colheaders)\n",
    "        \n",
    "        # append to file:\n",
    "        # [0]: frame number\n",
    "        # [1-12]: FFT amplitude data\n",
    "        # [13-24]: FFT phase data\n",
    "        fields=[str(\"{:0>6d}\".format(f)),\n",
    "                fftInfo_amp[\"med_highFreqPerfect_L\"],\n",
    "                fftInfo_amp[\"med_highFreqPerfect_R\"],\n",
    "                fftInfo_amp[\"med_lowFreqPerfect\"],\n",
    "                fftInfo_amp[\"med_rect\"],\n",
    "                fftInfo_amp[\"normVec_highFreqPerfect_L\"][0],\n",
    "                fftInfo_amp[\"normVec_highFreqPerfect_L\"][1],\n",
    "                fftInfo_amp[\"normVec_highFreqPerfect_R\"][0],\n",
    "                fftInfo_amp[\"normVec_highFreqPerfect_R\"][1],\n",
    "                fftInfo_amp[\"normVec_lowFreqPerfect\"][0],\n",
    "                fftInfo_amp[\"normVec_lowFreqPerfect\"][1],\n",
    "                fftInfo_amp[\"normVec_rect\"][0],\n",
    "                fftInfo_amp[\"normVec_rect\"][1],\n",
    "                fftInfo_arg[\"med_highFreqPerfect_L\"],\n",
    "                fftInfo_arg[\"med_highFreqPerfect_R\"],\n",
    "                fftInfo_arg[\"med_lowFreqPerfect\"],\n",
    "                fftInfo_arg[\"med_rect\"],\n",
    "                fftInfo_arg[\"normVec_highFreqPerfect_L\"][0],\n",
    "                fftInfo_arg[\"normVec_highFreqPerfect_L\"][1],\n",
    "                fftInfo_arg[\"normVec_highFreqPerfect_R\"][0],\n",
    "                fftInfo_arg[\"normVec_highFreqPerfect_R\"][1],\n",
    "                fftInfo_arg[\"normVec_lowFreqPerfect\"][0],\n",
    "                fftInfo_arg[\"normVec_lowFreqPerfect\"][1],\n",
    "                fftInfo_arg[\"normVec_rect\"][0],\n",
    "                fftInfo_arg[\"normVec_rect\"][1]]\n",
    "        with open(r'test.csv', 'a') as csvfile:\n",
    "            writer = csv.writer(csvfile)\n",
    "            writer.writerow(fields)\n",
    "            \n",
    "    else: # if file does not exist\n",
    "        print('Frame '+str(\"{:0>6d}\".format(f))+' not found.')\n",
    "            \n",
    "    end = time.time()\n",
    "    print(end - start)\n",
    "    print('-----')"
   ]
  },
  {
   "cell_type": "code",
   "execution_count": 13,
   "metadata": {},
   "outputs": [],
   "source": [
    "import pandas as pd\n",
    "df = pd.read_csv(\"test.csv\")"
   ]
  },
  {
   "cell_type": "code",
   "execution_count": 14,
   "metadata": {},
   "outputs": [
    {
     "data": {
      "text/plain": [
       "0    4.716311e-17\n",
       "1   -1.659853e-15\n",
       "2   -3.352047e-15\n",
       "3   -5.026052e-15\n",
       "4   -6.712832e-15\n",
       "5   -8.431887e-15\n",
       "Name: phase_normVec_highFreqPerfect_R_y, dtype: float64"
      ]
     },
     "execution_count": 14,
     "metadata": {},
     "output_type": "execute_result"
    }
   ],
   "source": [
    "df[\"phase_normVec_highFreqPerfect_R_y\"]"
   ]
  },
  {
   "cell_type": "code",
   "execution_count": 15,
   "metadata": {},
   "outputs": [
    {
     "data": {
      "text/plain": [
       "0   -1.088274e-17\n",
       "1   -1.643437e-02\n",
       "2   -3.286874e-02\n",
       "3   -4.930311e-02\n",
       "4   -6.573748e-02\n",
       "5   -8.217185e-02\n",
       "Name: phase_normVec_highFreqPerfect_R_x, dtype: float64"
      ]
     },
     "execution_count": 15,
     "metadata": {},
     "output_type": "execute_result"
    }
   ],
   "source": [
    "df[\"phase_normVec_highFreqPerfect_R_x\"]"
   ]
  },
  {
   "cell_type": "code",
   "execution_count": 18,
   "metadata": {},
   "outputs": [],
   "source": [
    "mas_steps = 2*np.arange(0,6)"
   ]
  },
  {
   "cell_type": "code",
   "execution_count": 19,
   "metadata": {},
   "outputs": [
    {
     "data": {
      "text/plain": [
       "array([ 0,  2,  4,  6,  8, 10])"
      ]
     },
     "execution_count": 19,
     "metadata": {},
     "output_type": "execute_result"
    }
   ],
   "source": [
    "mas_steps"
   ]
  },
  {
   "cell_type": "code",
   "execution_count": 34,
   "metadata": {},
   "outputs": [],
   "source": [
    "predicted_alpha = -0.5*2.867e-4*mas_steps*(180/np.pi)"
   ]
  },
  {
   "cell_type": "code",
   "execution_count": 41,
   "metadata": {},
   "outputs": [
    {
     "data": {
      "image/png": "[encoded data removed]",
      "text/plain": [
       "<Figure size 432x288 with 1 Axes>"
      ]
     },
     "metadata": {
      "needs_background": "light"
     },
     "output_type": "display_data"
    }
   ],
   "source": [
    "plt.scatter(mas_steps,df[\"phase_normVec_highFreqPerfect_R_y\"], color='b')\n",
    "plt.scatter(mas_steps,np.add(predicted_alpha,0.002), color='g')\n",
    "#plt.scatter(mas_steps,df[\"phase_normVec_lowFreqPerfect_y\"], color='g')\n",
    "plt.scatter(mas_steps,df[\"phase_normVec_highFreqPerfect_R_x\"], color='r')\n",
    "#plt.scatter(df[\"framenum\"],df[\"ampl_med_rect\"], color='k')\n",
    "plt.xlabel(\"mas differential tilt (i.e., in x)\")\n",
    "plt.ylabel(\"coefficient a (x; red from simulation,\\n green from expression I found) or b (y; blue)\")\n",
    "#plt.show()\n",
    "#plt.savefig(\"coefficients_from_tilt_Neq2048.png\")"
   ]
  },
  {
   "cell_type": "code",
   "execution_count": 32,
   "metadata": {},
   "outputs": [
    {
     "data": {
      "image/png": "[encoded data removed]",
      "text/plain": [
       "<matplotlib.figure.Figure at 0xa4ce3bac>"
      ]
     },
     "metadata": {},
     "output_type": "display_data"
    }
   ],
   "source": [
    "#plt.scatter(df[\"framenum\"],df[\"phase_normVec_highFreqPerfect_L_x\"], color='b')\n",
    "#plt.scatter(df[\"framenum\"],df[\"phase_normVec_highFreqPerfect_L_y\"], color='r')\n",
    "plt.scatter(df[\"framenum\"],np.sqrt(np.power(df[\"phase_normVec_highFreqPerfect_L_x\"].values,2.),\n",
    "                                   np.power(df[\"phase_normVec_highFreqPerfect_L_y\"].values,2.)), color='k')\n",
    "plt.show()"
   ]
  },
  {
   "cell_type": "code",
   "execution_count": 31,
   "metadata": {},
   "outputs": [
    {
     "data": {
      "text/plain": [
       "array([-0.22388664,  0.03532201,  0.04263646,  0.09670333,  0.13806682,\n",
       "        0.06264305,  0.07437832,  0.10406917,  0.13770817,  0.0130518 ,\n",
       "        0.04849938,  0.07805505,  0.16507925, -0.11828314,  0.10587168,\n",
       "        0.01997622,  0.04414176,  0.04174093,  0.20225613,  0.1573356 ,\n",
       "        0.16340876, -0.05937441,  0.01921177,  0.04834072,  0.03569861,\n",
       "        0.20098138,  0.29882959, -0.06531678,  0.02702249, -0.01544348,\n",
       "       -0.00905657, -0.02664275,  0.06245704,  0.10148444,  0.05575474,\n",
       "        0.16293086,  0.1253292 ,  0.07855067,  0.09040437,  0.20554595,\n",
       "        0.10896996,  0.01830214,  0.22330628,  0.13376922, -0.02249788,\n",
       "        0.03710376,  0.01961676,  0.01056479,  0.21352153,  0.20020515,\n",
       "       -0.01058913])"
      ]
     },
     "execution_count": 31,
     "metadata": {},
     "output_type": "execute_result"
    }
   ],
   "source": [
    "df[\"phase_normVec_highFreqPerfect_L_x\"].values"
   ]
  },
  {
   "cell_type": "code",
   "execution_count": null,
   "metadata": {
    "collapsed": true
   },
   "outputs": [],
   "source": [
    "# read in PSF analysis file and make plots\n",
    "\n",
    "import pandas as pd\n",
    "import matplotlib.pyplot as plt\n",
    "%matplotlib inline\n",
    "psf_analysis = pd.read_csv(\"psf_analysis_altair_data.csv\", na_values=\"--\")"
   ]
  },
  {
   "cell_type": "code",
   "execution_count": 36,
   "metadata": {},
   "outputs": [
    {
     "name": "stdout",
     "output_type": "stream",
     "text": [
      "framenum\n",
      "amp_med_highFreqPerfect_L\n",
      "amp_med_highFreqPerfect_R\n",
      "amp_med_lowFreqPerfect\n",
      "amp_med_rect\n",
      "amp_normVec_highFreqPerfect_L_x\n",
      "amp_normVec_highFreqPerfect_L_y\n",
      "amp_normVec_highFreqPerfect_R_x\n",
      "amp_normVec_highFreqPerfect_R_y\n",
      "amp_normVec_lowFreqPerfect_x\n",
      "amp_normVec_lowFreqPerfect_y\n",
      "amp_normVec_rect_x\n",
      "amp_normVec_rect_y\n",
      "arg_med_highFreqPerfect_L\n",
      "arg_med_highFreqPerfect_R\n",
      "arg_med_lowFreqPerfect\n",
      "arg_med_rect\n",
      "arg_normVec_highFreqPerfect_L_x\n",
      "arg_normVec_highFreqPerfect_L_y\n",
      "arg_normVec_highFreqPerfect_R_x\n",
      "arg_normVec_highFreqPerfect_R_y\n",
      "arg_normVec_lowFreqPerfect_x\n",
      "arg_normVec_lowFreqPerfect_y\n",
      "arg_normVec_rect_x\n",
      "arg_normVec_rect_y\n"
     ]
    },
    {
     "data": {
      "text/plain": [
       "[None,\n",
       " None,\n",
       " None,\n",
       " None,\n",
       " None,\n",
       " None,\n",
       " None,\n",
       " None,\n",
       " None,\n",
       " None,\n",
       " None,\n",
       " None,\n",
       " None,\n",
       " None,\n",
       " None,\n",
       " None,\n",
       " None,\n",
       " None,\n",
       " None,\n",
       " None,\n",
       " None,\n",
       " None,\n",
       " None,\n",
       " None,\n",
       " None]"
      ]
     },
     "execution_count": 36,
     "metadata": {},
     "output_type": "execute_result"
    }
   ],
   "source": [
    "[print(i) for i in psf_analysis.keys()]"
   ]
  },
  {
   "cell_type": "code",
   "execution_count": 46,
   "metadata": {},
   "outputs": [
    {
     "data": {
      "image/png": "[encoded data removed]",
      "text/plain": [
       "<matplotlib.figure.Figure at 0xa692b5cc>"
      ]
     },
     "metadata": {},
     "output_type": "display_data"
    }
   ],
   "source": [
    "x_axis = \"framenum\"\n",
    "y_axis = \"arg_normVec_rect_y\"\n",
    "plt.scatter(psf_analysis[x_axis][6500:6600],psf_analysis[y_axis][6500:6600])\n",
    "plt.xlabel(x_axis)\n",
    "plt.ylabel(y_axis)\n",
    "#plt.ylim([-0.00005,0.00005])\n",
    "plt.tight_layout()\n",
    "plt.savefig(y_axis+\"_vs_\"+x_axis+\"_testDetail.pdf\")\n",
    "#plt.show()"
   ]
  },
  {
   "cell_type": "code",
   "execution_count": null,
   "metadata": {
    "collapsed": true
   },
   "outputs": [],
   "source": [
    "# how are FFTs affected by\n",
    "# 1. fringe movement\n",
    "# 2. changing visibility\n",
    "# 3. stuff listed in my table\n",
    "\n",
    "# ... and how good am I at finding the center of the PSF?"
   ]
  },
  {
   "cell_type": "code",
   "execution_count": null,
   "metadata": {
    "collapsed": true
   },
   "outputs": [],
   "source": [
    "# based on the images, decide whether to move HPC in piston, tip, tilt\n",
    "# iterate?\n",
    "# maybe I don't want to move HPC in piston, because I found the center of the envelope with the grism,\n",
    "# and Phasecam isn't closed yet"
   ]
  }
 ],
 "metadata": {
  "kernelspec": {
   "display_name": "Python 2",
   "language": "python",
   "name": "python2"
  },
  "language_info": {
   "codemirror_mode": {
    "name": "ipython",
    "version": 2
   },
   "file_extension": ".py",
   "mimetype": "text/x-python",
   "name": "python",
   "nbconvert_exporter": "python",
   "pygments_lexer": "ipython2",
   "version": "2.7.15"
  }
 },
 "nbformat": 4,
 "nbformat_minor": 1
}
