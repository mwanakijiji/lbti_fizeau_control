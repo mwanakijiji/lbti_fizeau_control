{
 "cells": [
  {
   "cell_type": "code",
   "execution_count": null,
   "metadata": {
    "collapsed": true
   },
   "outputs": [],
   "source": [
    "# This notebook tests the making of pre-made masks for the Fizeau PSF FFT\n",
    "\n",
    "# created 2018 July 16 by E.S."
   ]
  },
  {
   "cell_type": "code",
   "execution_count": 29,
   "metadata": {
    "collapsed": false
   },
   "outputs": [],
   "source": [
    "import numpy as np\n",
    "import matplotlib.pyplot as plt\n",
    "import scipy\n",
    "import numpy.ma as ma\n",
    "import os.path\n",
    "from scipy import misc, signal, ndimage\n",
    "from astropy.io import fits\n",
    "from matplotlib.colors import LogNorm\n",
    "from astropy.coordinates import Angle, SkyCoord\n",
    "from astropy.nddata.utils import extract_array\n",
    "from regions import PixCoord, CircleSkyRegion, CirclePixelRegion, PolygonPixelRegion\n",
    "from pyregion import read_region_as_imagecoord, get_mask\n",
    "#% matplotlib inline"
   ]
  },
  {
   "cell_type": "code",
   "execution_count": 3,
   "metadata": {
    "collapsed": false
   },
   "outputs": [],
   "source": [
    "from lmircam_tools import *\n",
    "from lmircam_tools import overlap_psfs"
   ]
  },
  {
   "cell_type": "code",
   "execution_count": 4,
   "metadata": {
    "collapsed": true
   },
   "outputs": [],
   "source": [
    "# for starters, read in some real data and FFT the Fizeau/Airy PSFs"
   ]
  },
  {
   "cell_type": "code",
   "execution_count": 5,
   "metadata": {
    "collapsed": true
   },
   "outputs": [],
   "source": [
    "stem = ('/home/../../media/unasemaje/Seagate Expansion Drive/lbti_data_reduction/180507_fizeau_altair/01_fix_pixed/')"
   ]
  },
  {
   "cell_type": "code",
   "execution_count": 6,
   "metadata": {
    "collapsed": true
   },
   "outputs": [],
   "source": [
    "# set units of the observation\n",
    "\n",
    "wavel_lambda = 3.7e-6 # meters\n",
    "D = 8.25 # meters\n",
    "B_c2c = 14.4 # meters\n",
    "B_e2e = 22.65 # meters\n",
    "plateScale = 0.0107 # asec/pixel\n",
    "global asecInRad\n",
    "asecInRad = 206264.81"
   ]
  },
  {
   "cell_type": "code",
   "execution_count": 7,
   "metadata": {
    "collapsed": true
   },
   "outputs": [],
   "source": [
    "# locations of Airy minima/maxima (units lambda/D)\n",
    "\n",
    "max1 = 0\n",
    "min1 = 1.220\n",
    "max2 = 1.635\n",
    "min2 = 2.233\n",
    "max3 = 2.679\n",
    "min3 = 3.238\n",
    "max4 = 3.699"
   ]
  },
  {
   "cell_type": "code",
   "execution_count": 8,
   "metadata": {
    "collapsed": true
   },
   "outputs": [],
   "source": [
    "# put in init\n",
    "\n",
    "def findFFTloc(baseline,imageShapeAlong1Axis,wavel_lambda,plateScale,lOverD=1.):\n",
    "    # returns the FFT pixel locations equivalent to a certain pixel distance on the science image \n",
    "    \n",
    "    # baseline: distance in physical space in the pupil plane (in m)\n",
    "    # imageShapeAlong1Axis: length of one side of the input image (needs to be square)\n",
    "    # wavel_lambda: wavelength of light (in m)\n",
    "    # plateScale: detector plate scale (in asec/pix)\n",
    "    # lOverD: option if we are interested in the circular Airy rings (values 1.22, etc.)\n",
    "    \n",
    "    line_diam_pixOnScience = lOverD*(wavel_lambda*asecInRad)/(baseline*plateScale) # distance in pixels on science detector\n",
    "    line_diam_freq = np.divide(1.,line_diam_pixOnScience) # the corresponding frequency\n",
    "    line_diam_pixOnFFT_L = 0.5*imageShapeAlong1Axis - np.divide(line_diam_freq,np.divide(1.,imageShapeAlong1Axis)) # find number of 'frequency pixels' multiply by units of l/D (like 1.22), and add to central x frequency pixel\n",
    "    line_diam_pixOnFFT_H = 0.5*imageShapeAlong1Axis + np.divide(line_diam_freq,np.divide(1.,imageShapeAlong1Axis)) # find number of 'frequency pixels' multiply by units of l/D (like 1.22), and add to central x frequency pixel\n",
    "    \n",
    "    return line_diam_pixOnFFT_L, line_diam_pixOnFFT_H # the lower and higher values around freq of zero"
   ]
  },
  {
   "cell_type": "code",
   "execution_count": 149,
   "metadata": {
    "collapsed": true
   },
   "outputs": [],
   "source": [
    "def normalVector(sciImg):\n",
    "    ## fit a plane by finding the (normalized) normal vector to the best-fit plane\n",
    "    \n",
    "    # make x, y coords and flatten x, y, and z for putting into least-squares matrix equation\n",
    "    X,Y = np.meshgrid(np.arange(0,np.shape(sciImg)[0]),\n",
    "                  np.arange(0,np.shape(sciImg)[1]))\n",
    "    Xflat_T = np.transpose(X.flatten())\n",
    "    Yflat_T = np.transpose(Y.flatten())\n",
    "    onesVec = np.ones(np.size(Xflat_T))\n",
    "    Zflat_T = np.transpose(np.flipud(sciImg).flatten()) # flipping up-down to avoid some weirdness that happens in the later dot product\n",
    "\n",
    "    # remove nans so we can fit planes\n",
    "    Xflat_T = Xflat_T[~np.isnan(Zflat_T)]\n",
    "    Yflat_T = Yflat_T[~np.isnan(Zflat_T)]\n",
    "    onesVec = onesVec[~np.isnan(Zflat_T)]\n",
    "    Zflat_T = Zflat_T[~np.isnan(Zflat_T)]\n",
    "    \n",
    "    # For a plane ax+by+c=z, the normal vector is [a,b,c]. To find this,\n",
    "    # solve the matrix equation \n",
    "    \n",
    "    # AC = B, where \n",
    "    # A are the x and y coords: [[x0,y0,1],[x1,y1,1],...[xN,yN,1]]\n",
    "    # C are the coefficients we want: [[a],[b],[c]]\n",
    "    # B is the z data: [[z0],[z1],...[zN]]\n",
    "    \n",
    "    # C = A+B, where A+ is the pseudoinverse of A, or A+ = ((A.T*A)^(-1))*A.T*B\n",
    "    \n",
    "    Amatrix = np.transpose(np.concatenate(([Xflat_T],[Yflat_T],[onesVec]), axis =0))\n",
    "    Bmatrix = Zflat_T\n",
    "    \n",
    "    # note normVec_unnorm = C\n",
    "    normVec_unnorm = np.dot(np.dot( np.linalg.pinv(np.dot(Amatrix.transpose(), Amatrix)), Amatrix.transpose()), Bmatrix)\n",
    "    normVec = np.divide(normVec_unnorm, np.linalg.norm(normVec_unnorm)) # normalize\n",
    "\n",
    "    return normVec"
   ]
  },
  {
   "cell_type": "code",
   "execution_count": 159,
   "metadata": {
    "collapsed": true
   },
   "outputs": [],
   "source": [
    "def fftMask(sciImg,wavel_lambda,plateScale):\n",
    "    # sciImg: this is actually the FFT image, not the science detector image\n",
    "    # wavel_lambda: wavelenth of the observation\n",
    "    # plateScale: plate scale of the detector (asec/pixel)\n",
    "    \n",
    "    # make division lines separating different parts of the PSF\n",
    "    line_M1diam_pixOnFFT = findFFTloc(8.25,np.shape(sciImg)[0],wavel_lambda,plateScale)\n",
    "    line_center2center_pixOnFFT = findFFTloc(14.4,np.shape(sciImg)[0],wavel_lambda,plateScale)\n",
    "    line_edge2edge_pixOnFFT = findFFTloc(22.65,np.shape(sciImg)[0],wavel_lambda,plateScale) \n",
    "        \n",
    "    # define circles\n",
    "    circRad = 100 # pixels in FFT space\n",
    "    circle_highFreqPerfect_L = CirclePixelRegion(center=PixCoord(x=line_center2center_pixOnFFT[0], y=0.5*np.shape(sciImg)[0]), radius=circRad)\n",
    "    circle_highFreqPerfect_R = CirclePixelRegion(center=PixCoord(x=line_center2center_pixOnFFT[1], y=0.5*np.shape(sciImg)[0]), radius=circRad)\n",
    "    circle_lowFreqPerfect = CirclePixelRegion(center=PixCoord(x=0.5*np.shape(sciImg)[1], y=0.5*np.shape(sciImg)[0]), radius=circRad)\n",
    "    \n",
    "    # define central rectangular region that includes all three nodes\n",
    "    rect_pix = PolygonPixelRegion(vertices=PixCoord(x=[line_edge2edge_pixOnFFT[0],line_edge2edge_pixOnFFT[1],line_edge2edge_pixOnFFT[1],line_edge2edge_pixOnFFT[0]], \n",
    "                                                       y=[line_M1diam_pixOnFFT[1],line_M1diam_pixOnFFT[1],line_M1diam_pixOnFFT[0],line_M1diam_pixOnFFT[0]]))\n",
    "    \n",
    "    # make the masks \n",
    "    mask_circHighFreq_L = circle_highFreqPerfect_L.to_mask()\n",
    "    mask_circHighFreq_R = circle_highFreqPerfect_R.to_mask()\n",
    "    mask_circLowFreq = circle_lowFreqPerfect.to_mask()\n",
    "    mask_rect = rect_pix.to_mask()\n",
    "\n",
    "    # apply the masks\n",
    "    sciImg1 = np.copy(sciImg)\n",
    "    sciImg2 = np.copy(sciImg)\n",
    "    sciImg3 = np.copy(sciImg)\n",
    "    sciImg4 = np.copy(sciImg)\n",
    "    mask_circHighFreq_L.data[mask_circHighFreq_L.data == 0] = np.nan    # make zeros within mask square nans\n",
    "    sciImg1[mask_circHighFreq_L.bbox.slices] *= mask_circHighFreq_L.data   \n",
    "    mask_circHighFreq_R.data[mask_circHighFreq_R.data == 0] = np.nan    # make zeros within mask square nans\n",
    "    sciImg2[mask_circHighFreq_R.bbox.slices] *= mask_circHighFreq_R.data   \n",
    "    mask_circLowFreq.data[mask_circLowFreq.data == 0] = np.nan    # make zeros within mask square nans\n",
    "    sciImg3[mask_circLowFreq.bbox.slices] *= mask_circLowFreq.data   \n",
    "    mask_rect.data[mask_rect.data == 0] = np.nan    # make zeros within mask square nans\n",
    "    sciImg4[mask_rect.bbox.slices] *= mask_rect.data   \n",
    "    \n",
    "    # return bits of the image that are masked, their medians, \n",
    "    # their x- and y-slopes, and an image indicating the regions\n",
    "    med_highFreqPerfect_L = np.nanmedian(sciImg1[mask_circHighFreq_L.bbox.slices])\n",
    "    med_highFreqPerfect_R = np.nanmedian(sciImg2[mask_circHighFreq_R.bbox.slices])\n",
    "    med_lowFreqPerfect = np.nanmedian(sciImg3[mask_circLowFreq.bbox.slices])\n",
    "    med_rect = np.nanmedian(sciImg4[mask_rect.bbox.slices])\n",
    "    \n",
    "    # return normal vectors to surfaces\n",
    "    normVec_highFreqPerfect_L = normalVector(sciImg1[mask_circHighFreq_L.bbox.slices])\n",
    "    normVec_highFreqPerfect_R = normalVector(sciImg2[mask_circHighFreq_R.bbox.slices])\n",
    "    normVec_lowFreqPerfect = normalVector(sciImg3[mask_circLowFreq.bbox.slices])\n",
    "    normVec_rect = normalVector(sciImg4[mask_rect.bbox.slices])\n",
    "        \n",
    "    # generate an image showing footprints of regions of interest\n",
    "    plt.clf()\n",
    "    fig = plt.figure()\n",
    "    ax = fig.add_subplot(1, 1, 1)\n",
    "    cax = ax.imshow(arg, origin=\"lower\")\n",
    "    ax.axhline(line_M1diam_pixOnFFT[0])\n",
    "    ax.axhline(line_M1diam_pixOnFFT[1])\n",
    "    ax.axvline(line_M1diam_pixOnFFT[0])\n",
    "    ax.axvline(line_M1diam_pixOnFFT[1])\n",
    "    ax.axvline(line_center2center_pixOnFFT[0])\n",
    "    ax.axvline(line_center2center_pixOnFFT[1])\n",
    "    ax.axvline(line_edge2edge_pixOnFFT[0]) \n",
    "    ax.axvline(line_edge2edge_pixOnFFT[1]) \n",
    "    ax.add_patch(circle_highFreqPerfect_L.as_patch(facecolor='none', edgecolor='blue')) \n",
    "    ax.add_patch(circle_highFreqPerfect_R.as_patch(facecolor='none', edgecolor='blue')) \n",
    "    ax.add_patch(circle_lowFreqPerfect.as_patch(facecolor='none', edgecolor='blue')) \n",
    "    ax.add_patch(rect_pix.as_patch(facecolor='none', edgecolor='red')) \n",
    "    cbar = fig.colorbar(cax)\n",
    "    plt.savefig(\"junk.pdf\")\n",
    "        \n",
    "    dictFFTstuff = {}\n",
    "    dictFFTstuff[\"med_highFreqPerfect_L\"] = med_highFreqPerfect_L\n",
    "    dictFFTstuff[\"med_highFreqPerfect_R\"] = med_highFreqPerfect_R\n",
    "    dictFFTstuff[\"med_lowFreqPerfect\"] = med_lowFreqPerfect\n",
    "    dictFFTstuff[\"med_rect\"] = med_rect\n",
    "    dictFFTstuff[\"normVec_highFreqPerfect_L\"] = normVec_highFreqPerfect_L\n",
    "    dictFFTstuff[\"normVec_highFreqPerfect_R\"] = normVec_highFreqPerfect_R\n",
    "    dictFFTstuff[\"normVec_lowFreqPerfect\"] = normVec_lowFreqPerfect\n",
    "    dictFFTstuff[\"normVec_rect\"] = normVec_rect\n",
    "    dictFFTstuff[\"global\"] = ax\n",
    "    \n",
    "    return dictFFTstuff\n",
    "    \n",
    "    "
   ]
  },
  {
   "cell_type": "code",
   "execution_count": null,
   "metadata": {
    "collapsed": false
   },
   "outputs": [
    {
     "name": "stdout",
     "output_type": "stream",
     "text": [
      "Working on frame 008608 ...\n",
      "{'med_lowFreqPerfect': 0.0, 'normVec_lowFreqPerfect': array([ 0.00499412,  0.00500563, -0.999975  ]), 'med_rect': 0.0, 'med_highFreqPerfect_R': 17.978174968786252, 'global': <matplotlib.axes._subplots.AxesSubplot object at 0xa54fa5ac>, 'normVec_highFreqPerfect_L': array([-0.01896313,  0.00818746,  0.99978666]), 'normVec_highFreqPerfect_R': array([-0.01641075,  0.00708546,  0.99984023]), 'normVec_rect': array([  1.48557435e-04,   2.57046510e-03,  -9.99996685e-01]), 'med_highFreqPerfect_L': -17.978174968786483}\n"
     ]
    }
   ],
   "source": [
    "# beta ver\n",
    "\n",
    "ampArray = []\n",
    "framenumArray = []\n",
    "for f in range(8608,8609):  # 9510\n",
    "\n",
    "    filename_str = stem+'lm_180507_'+str(\"{:0>6d}\".format(f))+'.fits'\n",
    "    \n",
    "    if os.path.isfile(filename_str): # if FITS file exists in the first place\n",
    "    \n",
    "        print('Working on frame '+str(\"{:0>6d}\".format(f))+' ...')\n",
    "        \n",
    "        image, header = fits.getdata(filename_str,0,header=True) \n",
    "        \n",
    "        # a perfect PSF\n",
    "        #image, header = fits.getdata(stem+'perfect_psf.fits',0,header=True) \n",
    "    \n",
    "        # locate PSF\n",
    "        psf_loc = overlap_psfs.find_airy_psf(image)\n",
    "        #print(psf_loc)\n",
    "    \n",
    "        # size of cookie cut-out (measured center-to-edge)\n",
    "        cookie_size = 100 # maximum control radius as of 2018 July corresponds to 130.0 pixels\n",
    "    \n",
    "        # take FFT\n",
    "        cookie_cut = image[psf_loc[0]-cookie_size:psf_loc[0]+cookie_size,psf_loc[1]-cookie_size:psf_loc[1]+cookie_size]\n",
    "        amp, arg = fft_img(cookie_cut).fft(padding=int(5*cookie_size), mask_thresh=1e5)\n",
    "    \n",
    "        #print(np.shape(cookie_cut))\n",
    "    \n",
    "        #plt.imshow(cookie_cut)\n",
    "        #plt.show()\n",
    "    \n",
    "        if (np.shape(amp)[0]!=np.shape(amp)[1]): # if the FFT doesn't make sense (i.e., if PSF was not found)\n",
    "            print('PSF does not make sense ... aborting this one ...')\n",
    "            continue\n",
    "            \n",
    "        fftInfo = fftMask(arg,wavel_lambda,plateScale)\n",
    "        print(fftInfo)\n",
    "            \n",
    "        plt.show()\n",
    "        \n",
    "        #highFreqNode = amp[line_M1diam_pixOnFFT[0]:line_M1diam_pixOnFFT[1],line_M1diam_pixOnFFT[1]:line_edge2edge_pixOnFFT[1]]\n",
    "        \n",
    "        ampArray = np.concatenate((ampArray, [np.median(highFreqNode)]))\n",
    "        framenumArray = np.concatenate((framenumArray, [f]))\n",
    "        \n",
    "        #plt.clf()\n",
    "        #plt.imshow(highFreqNode)\n",
    "        \n",
    "        \n",
    "        \n",
    "        \n",
    "    \n",
    "        #plt.savefig(\"images/psf_altair_fft_check_\"+str(\"{:0>6d}\".format(f))+\".png\", dpi=300, overwrite=False)\n",
    "        #plt.savefig(\"images/test.pdf\", dpi=300, overwrite=True)\n",
    "        #plt.clf()"
   ]
  },
  {
   "cell_type": "code",
   "execution_count": 28,
   "metadata": {
    "collapsed": false
   },
   "outputs": [
    {
     "name": "stdout",
     "output_type": "stream",
     "text": [
      "Working on frame 007608 ...\n",
      "129.449968559\n"
     ]
    }
   ],
   "source": [
    "# for loop to take cookie cut-outs of Fizeau/Airy PSFs, and take FFTs\n",
    "\n",
    "ampArray = []\n",
    "framenumArray = []\n",
    "for f in range(7608,7609):  # 9510\n",
    "\n",
    "    filename_str = stem+'lm_180507_'+str(\"{:0>6d}\".format(f))+'.fits'\n",
    "    \n",
    "    if os.path.isfile(filename_str): # if FITS file exists in the first place\n",
    "    \n",
    "        print('Working on frame '+str(\"{:0>6d}\".format(f))+' ...')\n",
    "        \n",
    "        image, header = fits.getdata(filename_str,0,header=True) \n",
    "        \n",
    "        # a perfect PSF\n",
    "        #image, header = fits.getdata(stem+'perfect_psf.fits',0,header=True) \n",
    "    \n",
    "        # locate PSF\n",
    "        psf_loc = overlap_psfs.find_airy_psf(image)\n",
    "        #print(psf_loc)\n",
    "    \n",
    "        # size of cookie cut-out (measured center-to-edge)\n",
    "        cookie_size = 100 # maximum control radius as of 2018 July corresponds to 130.0 pixels\n",
    "    \n",
    "        # take FFT\n",
    "        cookie_cut = image[psf_loc[0]-cookie_size:psf_loc[0]+cookie_size,psf_loc[1]-cookie_size:psf_loc[1]+cookie_size]\n",
    "        amp, arg = fft_img(cookie_cut).fft(padding=int(5*cookie_size), mask_thresh=1e5)\n",
    "    \n",
    "        #print(np.shape(cookie_cut))\n",
    "    \n",
    "        #plt.imshow(cookie_cut)\n",
    "        #plt.show()\n",
    "    \n",
    "        if (np.shape(amp)[0]!=np.shape(amp)[1]): # if the FFT doesn't make sense (i.e., if PSF was not found)\n",
    "            print('PSF does not make sense ... aborting this one ...')\n",
    "            continue\n",
    "            \n",
    "        # make division lines separating different parts of the PSF\n",
    "        line_M1diam_pixOnFFT = findFFTloc(8.25,np.shape(amp)[0],wavel_lambda,plateScale)\n",
    "        line_center2center_pixOnFFT = findFFTloc(14.4,np.shape(amp)[0],wavel_lambda,plateScale)\n",
    "        line_edge2edge_pixOnFFT = findFFTloc(22.65,np.shape(amp)[0],wavel_lambda,plateScale)    \n",
    "    \n",
    "        # make the actual masks\n",
    "        highFreqPerfect_R = CirclePixelRegion(center=PixCoord(x=line_center2center_pixOnFFT[1], y=0.5*np.shape(amp)[0]), radius=50)\n",
    "        circle = CirclePixelRegion(center=PixCoord(x=line_center2center_pixOnFFT[1], y=0.5*np.shape(amp)[0]), radius=100)\n",
    "        mask = circle.to_mask()\n",
    "        mask2 = highFreqPerfect_R.to_mask()\n",
    "        mask.data[mask.data == 0] = np.nan    # make zeros within mask square nans\n",
    "        arg[mask.bbox.slices] *= mask.data\n",
    "        print(np.median(arg[mask.bbox.slices]))\n",
    "        \n",
    "        #arg[~mask] *= np.nan\n",
    "        \n",
    "        #print(type(mask2))\n",
    "        #print(mask2)\n",
    "        #cutout = ma.masked_array(arg, mask=mask2.data)\n",
    "        #arg[mask2.bbox.slices] = np.nan\n",
    "        #cutout = arg[~arg.mask]  #cutout(arg) * mask.data\n",
    "        #plt.imshow(arg)\n",
    "        #ax = fig.add_subplot(1, 1, 1)\n",
    "        #ax.add_patch(circle.as_patch(facecolor='none', edgecolor='blue'))\n",
    "        #plt.imshow(mask.data)\n",
    "        #plt.show()\n",
    "    \n",
    "        #plt.imshow(cookie_cut, origin='lower')\n",
    "        #plt.show()\n",
    "            \n",
    "        plt.clf()\n",
    "        fig = plt.figure()\n",
    "        ax = fig.add_subplot(1, 1, 1)\n",
    "        ax.imshow(arg, origin=\"lower\")\n",
    "        ax.axhline(line_M1diam_pixOnFFT[0])\n",
    "        ax.axhline(line_M1diam_pixOnFFT[1])\n",
    "        ax.axvline(line_M1diam_pixOnFFT[0])\n",
    "        ax.axvline(line_M1diam_pixOnFFT[1])\n",
    "        ax.axvline(line_center2center_pixOnFFT[0])\n",
    "        ax.axvline(line_center2center_pixOnFFT[1])\n",
    "        ax.axvline(line_edge2edge_pixOnFFT[0]) \n",
    "        ax.axvline(line_edge2edge_pixOnFFT[1]) \n",
    "        ax.add_patch(circle.as_patch(facecolor='none', edgecolor='blue')) \n",
    "        plt.show()\n",
    "        \n",
    "        #highFreqNode = amp[line_M1diam_pixOnFFT[0]:line_M1diam_pixOnFFT[1],line_M1diam_pixOnFFT[1]:line_edge2edge_pixOnFFT[1]]\n",
    "        \n",
    "        ampArray = np.concatenate((ampArray, [np.median(highFreqNode)]))\n",
    "        framenumArray = np.concatenate((framenumArray, [f]))\n",
    "        \n",
    "        #plt.clf()\n",
    "        #plt.imshow(highFreqNode)\n",
    "        \n",
    "        \n",
    "        \n",
    "        \n",
    "    \n",
    "        #plt.savefig(\"images/psf_altair_fft_check_\"+str(\"{:0>6d}\".format(f))+\".png\", dpi=300, overwrite=False)\n",
    "        #plt.savefig(\"images/test.pdf\", dpi=300, overwrite=True)\n",
    "        #plt.clf()"
   ]
  },
  {
   "cell_type": "code",
   "execution_count": 1,
   "metadata": {
    "collapsed": false
   },
   "outputs": [],
   "source": [
    "import matplotlib.pyplot as plt\n",
    "import numpy as np\n",
    "from regions import CirclePixelRegion, PixCoord\n",
    "center=PixCoord(10,10)\n",
    "circle=CirclePixelRegion(center, 5)\n",
    "fig = plt.figure()\n",
    "ax = fig.add_subplot(1, 1, 1)\n",
    "np.random.seed(12345)\n",
    "data=np.random.random((20,20))\n",
    "mask=circle.to_mask()\n",
    "data[mask.bbox.slices] *= 1 - mask.data\n",
    "ax.imshow(data, interpolation='nearest', cmap='viridis')\n",
    "ax.add_patch(circle.as_patch(facecolor='none', edgecolor='red'))\n",
    "plt.show()"
   ]
  },
  {
   "cell_type": "code",
   "execution_count": 13,
   "metadata": {
    "collapsed": false
   },
   "outputs": [
    {
     "data": {
      "image/png": "[encoded data removed]",
      "text/plain": [
       "<matplotlib.figure.Figure at 0xab1b35ec>"
      ]
     },
     "metadata": {},
     "output_type": "display_data"
    }
   ],
   "source": [
    "plt.scatter(framenumArray,ampArray)\n",
    "plt.show()"
   ]
  },
  {
   "cell_type": "code",
   "execution_count": null,
   "metadata": {
    "collapsed": true
   },
   "outputs": [],
   "source": [
    "# how are FFTs affected by\n",
    "# 1. fringe movement\n",
    "# 2. changing visibility\n",
    "# 3. stuff listed in my table\n",
    "\n",
    "# ... and how good am I at finding the center of the PSF?"
   ]
  },
  {
   "cell_type": "code",
   "execution_count": null,
   "metadata": {
    "collapsed": true
   },
   "outputs": [],
   "source": [
    "# based on the images, decide whether to move HPC in piston, tip, tilt\n",
    "# iterate?\n",
    "# maybe I don't want to move HPC in piston, because I found the center of the envelope with the grism,\n",
    "# and Phasecam isn't closed yet"
   ]
  }
 ],
 "metadata": {
  "kernelspec": {
   "display_name": "Python 2",
   "language": "python",
   "name": "python2"
  },
  "language_info": {
   "codemirror_mode": {
    "name": "ipython",
    "version": 2
   },
   "file_extension": ".py",
   "mimetype": "text/x-python",
   "name": "python",
   "nbconvert_exporter": "python",
   "pygments_lexer": "ipython2",
   "version": "2.7.11"
  }
 },
 "nbformat": 4,
 "nbformat_minor": 0
}
