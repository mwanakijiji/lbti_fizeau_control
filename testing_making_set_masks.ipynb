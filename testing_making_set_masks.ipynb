{
 "cells": [
  {
   "cell_type": "code",
   "execution_count": null,
   "metadata": {
    "collapsed": true
   },
   "outputs": [],
   "source": [
    "# This notebook tests the making of pre-made masks for the Fizeau PSF FFT\n",
    "\n",
    "# created 2018 July 16 by E.S."
   ]
  },
  {
   "cell_type": "code",
   "execution_count": 1,
   "metadata": {
    "collapsed": false
   },
   "outputs": [],
   "source": [
    "import numpy as np\n",
    "import matplotlib.pyplot as plt\n",
    "import scipy\n",
    "import numpy.ma as ma\n",
    "import os.path\n",
    "from scipy import misc, signal, ndimage\n",
    "from astropy.io import fits\n",
    "from matplotlib.colors import LogNorm\n",
    "% matplotlib inline"
   ]
  },
  {
   "cell_type": "code",
   "execution_count": 2,
   "metadata": {
    "collapsed": false
   },
   "outputs": [],
   "source": [
    "from lmircam_tools import *\n",
    "from lmircam_tools import overlap_psfs"
   ]
  },
  {
   "cell_type": "code",
   "execution_count": 3,
   "metadata": {
    "collapsed": true
   },
   "outputs": [],
   "source": [
    "# for starters, read in some real data and FFT the Fizeau/Airy PSFs"
   ]
  },
  {
   "cell_type": "code",
   "execution_count": 4,
   "metadata": {
    "collapsed": true
   },
   "outputs": [],
   "source": [
    "stem = ('/home/../../media/unasemaje/Seagate Expansion Drive/lbti_data_reduction/180507_fizeau_altair/01_fix_pixed/')"
   ]
  },
  {
   "cell_type": "code",
   "execution_count": 5,
   "metadata": {
    "collapsed": true
   },
   "outputs": [],
   "source": [
    "# set units of the observation\n",
    "\n",
    "wavel_lambda = 3.7e-6 # meters\n",
    "D = 8.25 # meters\n",
    "B_c2c = 14.4 # meters\n",
    "B_e2e = 22.65 # meters\n",
    "plateScale = 0.0107 # asec/pixel\n",
    "global asecInRad\n",
    "asecInRad = 206264.81"
   ]
  },
  {
   "cell_type": "code",
   "execution_count": 6,
   "metadata": {
    "collapsed": true
   },
   "outputs": [],
   "source": [
    "# locations of Airy minima/maxima (units lambda/D)\n",
    "\n",
    "max1 = 0\n",
    "min1 = 1.220\n",
    "max2 = 1.635\n",
    "min2 = 2.233\n",
    "max3 = 2.679\n",
    "min3 = 3.238\n",
    "max4 = 3.699"
   ]
  },
  {
   "cell_type": "code",
   "execution_count": 30,
   "metadata": {
    "collapsed": true
   },
   "outputs": [],
   "source": [
    "def findFFTloc(baseline,imageShapeAlong1Axis,wavel_lambda,plateScale,lOverD=1.):\n",
    "    # baseline: distance in physical space in the pupil plane (in m)\n",
    "    # imageShapeAlong1Axis: length of one side of the input image (needs to be square)\n",
    "    # wavel_lambda: wavelength of light (in m)\n",
    "    # plateScale: detector plate scale (in asec/pix)\n",
    "    # lOverD: option if we are interested in the circular Airy rings (values 1.22, etc.)\n",
    "    \n",
    "    line_diam_pixOnScience = lOverD*(wavel_lambda*asecInRad)/(baseline*plateScale) # distance in pixels on science detector\n",
    "    line_diam_freq = np.divide(1.,line_diam_pixOnScience) # the corresponding frequency\n",
    "    line_diam_pixOnFFT_L = 0.5*imageShapeAlong1Axis - np.divide(line_diam_freq,np.divide(1.,imageShapeAlong1Axis)) # find number of 'frequency pixels' multiply by units of l/D (like 1.22), and add to central x frequency pixel\n",
    "    line_diam_pixOnFFT_H = 0.5*imageShapeAlong1Axis + np.divide(line_diam_freq,np.divide(1.,imageShapeAlong1Axis)) # find number of 'frequency pixels' multiply by units of l/D (like 1.22), and add to central x frequency pixel\n",
    "    \n",
    "    return line_diam_pixOnFFT_L, line_diam_pixOnFFT_H # the lower and higher values around freq of zero"
   ]
  },
  {
   "cell_type": "code",
   "execution_count": 44,
   "metadata": {
    "collapsed": false
   },
   "outputs": [
    {
     "name": "stdout",
     "output_type": "stream",
     "text": [
      "Working on frame 009400 ...\n",
      "Working on frame 009401 ...\n",
      "Working on frame 009402 ...\n",
      "Working on frame 009403 ...\n",
      "Working on frame 009404 ...\n",
      "Working on frame 009405 ...\n",
      "Working on frame 009406 ...\n",
      "Working on frame 009407 ...\n",
      "Working on frame 009408 ...\n",
      "Working on frame 009409 ...\n",
      "Working on frame 009410 ...\n",
      "Working on frame 009411 ...\n",
      "Working on frame 009412 ...\n",
      "Working on frame 009413 ...\n",
      "Working on frame 009414 ...\n",
      "Working on frame 009415 ...\n",
      "Working on frame 009416 ...\n",
      "Working on frame 009417 ...\n",
      "Working on frame 009418 ...\n",
      "Working on frame 009419 ...\n",
      "Working on frame 009420 ...\n",
      "Working on frame 009421 ...\n",
      "Working on frame 009422 ...\n",
      "Working on frame 009423 ...\n",
      "Working on frame 009424 ...\n",
      "Working on frame 009425 ...\n",
      "Working on frame 009426 ...\n",
      "Working on frame 009427 ...\n",
      "Working on frame 009428 ...\n",
      "Working on frame 009429 ...\n",
      "Working on frame 009430 ...\n",
      "Working on frame 009431 ...\n",
      "Working on frame 009432 ...\n",
      "Working on frame 009433 ...\n",
      "Working on frame 009434 ...\n",
      "Working on frame 009435 ...\n",
      "Working on frame 009436 ...\n",
      "Working on frame 009437 ...\n",
      "Working on frame 009438 ...\n",
      "Working on frame 009439 ...\n",
      "Working on frame 009440 ...\n",
      "Working on frame 009441 ...\n",
      "Working on frame 009442 ...\n",
      "Working on frame 009443 ...\n",
      "Working on frame 009444 ...\n",
      "Working on frame 009445 ...\n",
      "Working on frame 009446 ...\n",
      "Working on frame 009447 ...\n",
      "Working on frame 009448 ...\n",
      "Working on frame 009449 ...\n",
      "Working on frame 009450 ...\n",
      "Working on frame 009451 ...\n",
      "Working on frame 009452 ...\n",
      "Working on frame 009453 ...\n",
      "Working on frame 009454 ...\n",
      "Working on frame 009455 ...\n",
      "Working on frame 009456 ...\n",
      "Working on frame 009457 ...\n",
      "Working on frame 009458 ...\n",
      "Working on frame 009459 ...\n",
      "Working on frame 009460 ...\n",
      "Working on frame 009461 ...\n",
      "Working on frame 009462 ...\n",
      "Working on frame 009463 ...\n",
      "Working on frame 009464 ...\n",
      "Working on frame 009465 ...\n",
      "Working on frame 009466 ...\n",
      "Working on frame 009467 ...\n",
      "Working on frame 009468 ...\n",
      "Working on frame 009469 ...\n",
      "Working on frame 009470 ...\n",
      "Working on frame 009471 ...\n",
      "Working on frame 009472 ...\n",
      "Working on frame 009473 ...\n",
      "Working on frame 009474 ...\n",
      "Working on frame 009475 ...\n",
      "Working on frame 009476 ...\n",
      "Working on frame 009477 ...\n",
      "Working on frame 009478 ...\n",
      "Working on frame 009479 ...\n",
      "Working on frame 009480 ...\n",
      "Working on frame 009481 ...\n",
      "Working on frame 009482 ...\n",
      "Working on frame 009483 ...\n",
      "Working on frame 009484 ...\n",
      "Working on frame 009485 ...\n",
      "Working on frame 009486 ...\n",
      "Working on frame 009487 ...\n",
      "Working on frame 009488 ...\n",
      "Working on frame 009489 ...\n",
      "Working on frame 009490 ...\n",
      "Working on frame 009491 ...\n",
      "Working on frame 009492 ...\n",
      "Working on frame 009493 ...\n",
      "Working on frame 009494 ...\n",
      "Working on frame 009495 ...\n",
      "Working on frame 009496 ...\n",
      "Working on frame 009497 ...\n",
      "Working on frame 009498 ...\n",
      "Working on frame 009499 ...\n"
     ]
    },
    {
     "data": {
      "image/png": "[encoded data removed]",
      "text/plain": [
       "<matplotlib.figure.Figure at 0xaada0b4c>"
      ]
     },
     "metadata": {},
     "output_type": "display_data"
    }
   ],
   "source": [
    "# for loop to take cookie cut-outs of Fizeau/Airy PSFs, and take FFTs\n",
    "\n",
    "ampArray = []\n",
    "for f in range(9400,9500):  # 9510\n",
    "\n",
    "    filename_str = stem+'lm_180507_'+str(\"{:0>6d}\".format(f))+'.fits'\n",
    "    \n",
    "    if os.path.isfile(filename_str): # if FITS file exists in the first place\n",
    "    \n",
    "        print('Working on frame '+str(\"{:0>6d}\".format(f))+' ...')\n",
    "        \n",
    "        image, header = fits.getdata(filename_str,0,header=True) \n",
    "        \n",
    "        # a perfect PSF\n",
    "        #image, header = fits.getdata(stem+'perfect_psf.fits',0,header=True) \n",
    "    \n",
    "        # locate PSF\n",
    "        psf_loc = overlap_psfs.find_airy_psf(image)\n",
    "        #print(psf_loc)\n",
    "    \n",
    "        # size of cookie cut-out (measured center-to-edge)\n",
    "        cookie_size = 100 # maximum control radius as of 2018 July corresponds to 130.0 pixels\n",
    "    \n",
    "        # take FFT\n",
    "        cookie_cut = image[psf_loc[0]-cookie_size:psf_loc[0]+cookie_size,psf_loc[1]-cookie_size:psf_loc[1]+cookie_size]\n",
    "        amp, arg = fft_img(cookie_cut).fft(padding=int(5*cookie_size), mask_thresh=1e5)\n",
    "    \n",
    "        #print(np.shape(cookie_cut))\n",
    "    \n",
    "        #plt.imshow(cookie_cut)\n",
    "        #plt.show()\n",
    "    \n",
    "        if (np.shape(amp)[0]!=np.shape(amp)[1]): # if the FFT doesn't make sense (i.e., if PSF was not found)\n",
    "            print('PSF does not make sense ... aborting this one ...')\n",
    "            continue\n",
    "            \n",
    "        # make division lines separating different parts of the PSF\n",
    "        line_M1diam_pixOnFFT = findFFTloc(8.25,np.shape(amp)[0],wavel_lambda,plateScale)\n",
    "        line_center2center_pixOnFFT = findFFTloc(14.4,np.shape(amp)[0],wavel_lambda,plateScale)\n",
    "        line_edge2edge_pixOnFFT = findFFTloc(22.65,np.shape(amp)[0],wavel_lambda,plateScale)    \n",
    "    \n",
    "    \n",
    "        #plt.imshow(cookie_cut, origin='lower')\n",
    "        #plt.show()\n",
    "            \n",
    "        plt.clf()\n",
    "        plt.imshow(amp, origin=\"lower\")\n",
    "        plt.axhline(line_M1diam_pixOnFFT[0])\n",
    "        plt.axhline(line_M1diam_pixOnFFT[1])\n",
    "        plt.axvline(line_M1diam_pixOnFFT[0])\n",
    "        plt.axvline(line_M1diam_pixOnFFT[1])\n",
    "        plt.axvline(line_center2center_pixOnFFT[0])\n",
    "        plt.axvline(line_center2center_pixOnFFT[1])\n",
    "        plt.axvline(line_edge2edge_pixOnFFT[0]) \n",
    "        plt.axvline(line_edge2edge_pixOnFFT[1]) \n",
    "        \n",
    "        highFreqNode = amp[line_M1diam_pixOnFFT[0]:line_M1diam_pixOnFFT[1],line_M1diam_pixOnFFT[1]:line_edge2edge_pixOnFFT[1]]\n",
    "        \n",
    "        ampArray = np.concatenate((ampArray, [np.median(highFreqNode)]))\n",
    "        \n",
    "        #plt.clf()\n",
    "        #plt.imshow(highFreqNode)\n",
    "        #plt.show()\n",
    "        \n",
    "        \n",
    "        \n",
    "    \n",
    "        #plt.savefig(\"images/psf_altair_fft_check_\"+str(\"{:0>6d}\".format(f))+\".png\", dpi=300, overwrite=False)\n",
    "        #plt.savefig(\"images/test.pdf\", dpi=300, overwrite=True)\n",
    "        #plt.clf()"
   ]
  },
  {
   "cell_type": "code",
   "execution_count": 45,
   "metadata": {
    "collapsed": false
   },
   "outputs": [
    {
     "data": {
      "image/png": "[encoded data removed]",
      "text/plain": [
       "<matplotlib.figure.Figure at 0xaada5a6c>"
      ]
     },
     "metadata": {},
     "output_type": "display_data"
    }
   ],
   "source": [
    "plt.plot(ampArray)\n",
    "plt.show()"
   ]
  },
  {
   "cell_type": "code",
   "execution_count": null,
   "metadata": {
    "collapsed": true
   },
   "outputs": [],
   "source": [
    "# how are FFTs affected by\n",
    "# 1. fringe movement\n",
    "# 2. changing visibility\n",
    "# 3. stuff listed in my table\n",
    "\n",
    "# ... and how good am I at finding the center of the PSF?"
   ]
  },
  {
   "cell_type": "code",
   "execution_count": null,
   "metadata": {
    "collapsed": true
   },
   "outputs": [],
   "source": [
    "# based on the images, decide whether to move HPC in piston, tip, tilt\n",
    "# iterate?\n",
    "# maybe I don't want to move HPC in piston, because I found the center of the envelope with the grism,\n",
    "# and Phasecam isn't closed yet"
   ]
  }
 ],
 "metadata": {
  "kernelspec": {
   "display_name": "Python 2",
   "language": "python",
   "name": "python2"
  },
  "language_info": {
   "codemirror_mode": {
    "name": "ipython",
    "version": 2
   },
   "file_extension": ".py",
   "mimetype": "text/x-python",
   "name": "python",
   "nbconvert_exporter": "python",
   "pygments_lexer": "ipython2",
   "version": "2.7.11"
  }
 },
 "nbformat": 4,
 "nbformat_minor": 0
}
