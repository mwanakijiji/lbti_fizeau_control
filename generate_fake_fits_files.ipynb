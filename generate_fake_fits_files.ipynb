{
 "cells": [
  {
   "cell_type": "code",
   "execution_count": null,
   "metadata": {
    "collapsed": true
   },
   "outputs": [],
   "source": [
    "# This generates blank FITS files at a cadence meant to mimic LMIRcam during Fizeau observations.\n",
    "# (These FITS files are read in by another script to extract FFT information.)\n",
    "\n",
    "# created 2019 Jan 29 by E.S."
   ]
  },
  {
   "cell_type": "code",
   "execution_count": 4,
   "metadata": {
    "collapsed": false
   },
   "outputs": [],
   "source": [
    "import pyfits\n",
    "import numpy as np\n",
    "import sched, time"
   ]
  },
  {
   "cell_type": "code",
   "execution_count": 5,
   "metadata": {
    "collapsed": true
   },
   "outputs": [],
   "source": [
    "def write_fake_fits(framenum):\n",
    "    fake_frame = np.random.rand(2048,2048).astype(np.uint16)\n",
    "    hdu = pyfits.PrimaryHDU(fake_frame)\n",
    "    hdulist = pyfits.HDUList([hdu])\n",
    "    hdu.writeto(\"check_dir/lm_180507fake_\"+str(\"{:0>6d}\".format(framenum))+\".fits\", clobber=True)"
   ]
  },
  {
   "cell_type": "code",
   "execution_count": null,
   "metadata": {
    "collapsed": false
   },
   "outputs": [
    {
     "name": "stdout",
     "output_type": "stream",
     "text": [
      "written, time elapsed\n",
      "0.306865215302\n",
      "written, time elapsed\n",
      "0.318226099014\n",
      "written, time elapsed\n",
      "0.416264057159\n",
      "written, time elapsed\n",
      "0.364852905273\n",
      "written, time elapsed\n",
      "0.327049016953\n",
      "written, time elapsed\n",
      "0.317435026169\n",
      "written, time elapsed\n",
      "0.327919960022\n",
      "written, time elapsed\n",
      "0.34801697731\n",
      "written, time elapsed\n",
      "0.322162866592\n",
      "written, time elapsed\n",
      "0.346008062363\n",
      "written, time elapsed\n",
      "0.40017914772\n",
      "written, time elapsed\n",
      "0.310530900955\n",
      "written, time elapsed\n",
      "0.337080955505\n",
      "written, time elapsed\n",
      "0.320229053497\n",
      "written, time elapsed\n",
      "0.329243898392\n",
      "written, time elapsed\n",
      "0.318104028702\n",
      "written, time elapsed\n",
      "0.329013109207\n",
      "written, time elapsed\n",
      "0.437695980072\n",
      "written, time elapsed\n",
      "0.314233779907\n",
      "written, time elapsed\n",
      "0.313476085663\n",
      "written, time elapsed\n",
      "0.314056873322\n",
      "written, time elapsed\n",
      "0.31294298172\n",
      "written, time elapsed\n",
      "0.315798997879\n",
      "written, time elapsed\n",
      "0.321734905243\n",
      "written, time elapsed\n",
      "0.428480863571\n",
      "written, time elapsed\n",
      "0.392137050629\n",
      "written, time elapsed\n",
      "0.321773052216\n",
      "written, time elapsed\n",
      "0.319427967072\n"
     ]
    },
    {
     "name": "stderr",
     "output_type": "stream",
     "text": [
      "/Users/nyumbani/anaconda3/envs/py27/lib/python2.7/site-packages/pyfits/file.py:372: UserWarning: Overwriting existing file 'check_dir/lm_180507fake_000028.fits'.\n",
      "  warnings.warn(\"Overwriting existing file %r.\" % self.name)\n"
     ]
    },
    {
     "name": "stdout",
     "output_type": "stream",
     "text": [
      "written, time elapsed\n",
      "0.327409982681\n"
     ]
    },
    {
     "name": "stderr",
     "output_type": "stream",
     "text": [
      "/Users/nyumbani/anaconda3/envs/py27/lib/python2.7/site-packages/pyfits/file.py:372: UserWarning: Overwriting existing file 'check_dir/lm_180507fake_000029.fits'.\n",
      "  warnings.warn(\"Overwriting existing file %r.\" % self.name)\n"
     ]
    },
    {
     "name": "stdout",
     "output_type": "stream",
     "text": [
      "written, time elapsed\n",
      "0.322158098221\n"
     ]
    },
    {
     "name": "stderr",
     "output_type": "stream",
     "text": [
      "/Users/nyumbani/anaconda3/envs/py27/lib/python2.7/site-packages/pyfits/file.py:372: UserWarning: Overwriting existing file 'check_dir/lm_180507fake_000030.fits'.\n",
      "  warnings.warn(\"Overwriting existing file %r.\" % self.name)\n"
     ]
    },
    {
     "name": "stdout",
     "output_type": "stream",
     "text": [
      "written, time elapsed\n",
      "0.319813966751\n"
     ]
    },
    {
     "name": "stderr",
     "output_type": "stream",
     "text": [
      "/Users/nyumbani/anaconda3/envs/py27/lib/python2.7/site-packages/pyfits/file.py:372: UserWarning: Overwriting existing file 'check_dir/lm_180507fake_000031.fits'.\n",
      "  warnings.warn(\"Overwriting existing file %r.\" % self.name)\n"
     ]
    },
    {
     "name": "stdout",
     "output_type": "stream",
     "text": [
      "written, time elapsed\n",
      "0.32865691185\n"
     ]
    },
    {
     "name": "stderr",
     "output_type": "stream",
     "text": [
      "/Users/nyumbani/anaconda3/envs/py27/lib/python2.7/site-packages/pyfits/file.py:372: UserWarning: Overwriting existing file 'check_dir/lm_180507fake_000032.fits'.\n",
      "  warnings.warn(\"Overwriting existing file %r.\" % self.name)\n"
     ]
    },
    {
     "name": "stdout",
     "output_type": "stream",
     "text": [
      "written, time elapsed\n",
      "0.433320999146\n"
     ]
    },
    {
     "name": "stderr",
     "output_type": "stream",
     "text": [
      "/Users/nyumbani/anaconda3/envs/py27/lib/python2.7/site-packages/pyfits/file.py:372: UserWarning: Overwriting existing file 'check_dir/lm_180507fake_000033.fits'.\n",
      "  warnings.warn(\"Overwriting existing file %r.\" % self.name)\n"
     ]
    },
    {
     "name": "stdout",
     "output_type": "stream",
     "text": [
      "written, time elapsed\n",
      "0.31341791153\n"
     ]
    },
    {
     "name": "stderr",
     "output_type": "stream",
     "text": [
      "/Users/nyumbani/anaconda3/envs/py27/lib/python2.7/site-packages/pyfits/file.py:372: UserWarning: Overwriting existing file 'check_dir/lm_180507fake_000034.fits'.\n",
      "  warnings.warn(\"Overwriting existing file %r.\" % self.name)\n"
     ]
    },
    {
     "name": "stdout",
     "output_type": "stream",
     "text": [
      "written, time elapsed\n",
      "0.309945106506\n"
     ]
    },
    {
     "name": "stderr",
     "output_type": "stream",
     "text": [
      "/Users/nyumbani/anaconda3/envs/py27/lib/python2.7/site-packages/pyfits/file.py:372: UserWarning: Overwriting existing file 'check_dir/lm_180507fake_000035.fits'.\n",
      "  warnings.warn(\"Overwriting existing file %r.\" % self.name)\n"
     ]
    },
    {
     "name": "stdout",
     "output_type": "stream",
     "text": [
      "written, time elapsed\n",
      "0.322546958923\n"
     ]
    },
    {
     "name": "stderr",
     "output_type": "stream",
     "text": [
      "/Users/nyumbani/anaconda3/envs/py27/lib/python2.7/site-packages/pyfits/file.py:372: UserWarning: Overwriting existing file 'check_dir/lm_180507fake_000036.fits'.\n",
      "  warnings.warn(\"Overwriting existing file %r.\" % self.name)\n"
     ]
    },
    {
     "name": "stdout",
     "output_type": "stream",
     "text": [
      "written, time elapsed\n",
      "0.320432901382\n"
     ]
    },
    {
     "name": "stderr",
     "output_type": "stream",
     "text": [
      "/Users/nyumbani/anaconda3/envs/py27/lib/python2.7/site-packages/pyfits/file.py:372: UserWarning: Overwriting existing file 'check_dir/lm_180507fake_000037.fits'.\n",
      "  warnings.warn(\"Overwriting existing file %r.\" % self.name)\n"
     ]
    },
    {
     "name": "stdout",
     "output_type": "stream",
     "text": [
      "written, time elapsed\n",
      "0.327860116959\n"
     ]
    },
    {
     "name": "stderr",
     "output_type": "stream",
     "text": [
      "/Users/nyumbani/anaconda3/envs/py27/lib/python2.7/site-packages/pyfits/file.py:372: UserWarning: Overwriting existing file 'check_dir/lm_180507fake_000038.fits'.\n",
      "  warnings.warn(\"Overwriting existing file %r.\" % self.name)\n"
     ]
    },
    {
     "name": "stdout",
     "output_type": "stream",
     "text": [
      "written, time elapsed\n",
      "0.310513019562\n",
      "written, time elapsed\n",
      "0.514435052872\n",
      "written, time elapsed\n",
      "0.386623859406\n",
      "written, time elapsed\n",
      "0.317451000214\n",
      "written, time elapsed\n",
      "0.332458019257\n",
      "written, time elapsed\n",
      "0.316520929337\n",
      "written, time elapsed\n",
      "0.326719999313\n",
      "written, time elapsed\n",
      "0.321650028229\n",
      "written, time elapsed\n",
      "0.501582860947\n",
      "written, time elapsed\n",
      "0.329576969147\n",
      "written, time elapsed\n",
      "0.338370084763\n",
      "written, time elapsed\n",
      "0.321595191956\n",
      "written, time elapsed\n",
      "0.31644320488\n",
      "written, time elapsed\n",
      "0.321352005005\n",
      "written, time elapsed\n",
      "0.336254835129\n",
      "written, time elapsed\n",
      "0.472851991653\n",
      "written, time elapsed\n",
      "0.338364839554\n",
      "written, time elapsed\n",
      "0.31787109375\n",
      "written, time elapsed\n",
      "0.324746131897\n",
      "written, time elapsed\n",
      "0.309503078461\n",
      "written, time elapsed\n",
      "0.333199977875\n"
     ]
    }
   ],
   "source": [
    "framenum = 0\n",
    "\n",
    "while True:\n",
    "    time_start = time.time()\n",
    "    time.sleep(0.2)\n",
    "    write_fake_fits(framenum)\n",
    "    framenum += 1\n",
    "    print('written, time elapsed')\n",
    "    print(str(time.time() - time_start))"
   ]
  },
  {
   "cell_type": "code",
   "execution_count": null,
   "metadata": {
    "collapsed": true
   },
   "outputs": [],
   "source": []
  },
  {
   "cell_type": "code",
   "execution_count": null,
   "metadata": {
    "collapsed": true
   },
   "outputs": [],
   "source": []
  }
 ],
 "metadata": {
  "kernelspec": {
   "display_name": "Python 2",
   "language": "python",
   "name": "python2"
  },
  "language_info": {
   "codemirror_mode": {
    "name": "ipython",
    "version": 2
   },
   "file_extension": ".py",
   "mimetype": "text/x-python",
   "name": "python",
   "nbconvert_exporter": "python",
   "pygments_lexer": "ipython2",
   "version": "2.7.11"
  }
 },
 "nbformat": 4,
 "nbformat_minor": 0
}
