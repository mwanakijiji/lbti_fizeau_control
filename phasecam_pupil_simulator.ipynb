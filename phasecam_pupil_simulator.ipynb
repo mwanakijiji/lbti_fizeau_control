{
 "cells": [
  {
   "cell_type": "code",
   "execution_count": 1,
   "metadata": {
    "collapsed": true
   },
   "outputs": [],
   "source": [
    "# This simulates Phasecam pupil images\n",
    "# (original purpose: drawing a cartoon)\n",
    "\n",
    "# The most important thing to calculate here is the tilt between the two beams at K and H\n",
    "\n",
    "# created 2019 Mar 15 by E.S."
   ]
  },
  {
   "cell_type": "code",
   "execution_count": 2,
   "metadata": {
    "collapsed": false
   },
   "outputs": [],
   "source": [
    "import numpy as np\n",
    "import matplotlib.pyplot as plt\n",
    "import scipy\n",
    "import pandas as pd\n",
    "from scipy import ndimage\n",
    "from astropy.io import fits\n",
    "\n",
    "%matplotlib inline"
   ]
  },
  {
   "cell_type": "code",
   "execution_count": 3,
   "metadata": {
    "collapsed": true
   },
   "outputs": [],
   "source": [
    "lmir_PS = 0.0107 # LMIR plate scale (asec per pixel)\n",
    "pc_PS = 0.078 # PC plate scale (asec per pixel; Defrere+ 2015)\n",
    "lambda_K = 2.2e-6 # wavelength of Phasecam (m)\n",
    "lambda_H = 1.6e-6 # wavelength of Phasecam (m)\n",
    "c = 3e8 # speed of light (m/s)"
   ]
  },
  {
   "cell_type": "code",
   "execution_count": 4,
   "metadata": {
    "collapsed": true
   },
   "outputs": [],
   "source": [
    "# calculate angle due to dispersion"
   ]
  },
  {
   "cell_type": "code",
   "execution_count": 1,
   "metadata": {
    "collapsed": true
   },
   "outputs": [],
   "source": [
    "# dispersion relation for ZnSe (Connolly et al. 1979: n 0.54-18.2 µm)\n",
    "# (as posted on https://refractiveindex.info/?shelf=main&book=ZnSe&page=Connolly)\n",
    "\n",
    "def n_znse(lambda_um):\n",
    "    '''\n",
    "    Index of refraction for Ge\n",
    "    \n",
    "    INPUT:\n",
    "    wavelength (um)\n",
    "    \n",
    "    OUTPUT:\n",
    "    index of ref n\n",
    "    '''\n",
    "    \n",
    "    # read in csv and find n at nearest wavelength\n",
    "    n_znse_list = pd.read_csv(\"data/n_znse.csv\")\n",
    "    \n",
    "    # interpolate\n",
    "    n = np.interp(lambda_um, n_znse_list[\"wavel_um\"], n_znse_list[\"n\"])\n",
    "    \n",
    "    return n"
   ]
  },
  {
   "cell_type": "code",
   "execution_count": 2,
   "metadata": {
    "collapsed": true
   },
   "outputs": [],
   "source": [
    "# dispersion relation for Ge (Li 1980: n 1.9-18 µm; 100 K)\n",
    "# (as posted on https://refractiveindex.info/?shelf=main&book=Ge&page=Li-100K)\n",
    "\n",
    "def n_ge(lambda_um):\n",
    "    '''\n",
    "    Index of refraction for Ge\n",
    "    \n",
    "    INPUT:\n",
    "    wavelength (um)\n",
    "    \n",
    "    OUTPUT:\n",
    "    index of ref n\n",
    "    '''\n",
    "    \n",
    "    # read in csv and find n at nearest wavelength\n",
    "    n_ge_list = pd.read_csv(\"data/n_ge.csv\")\n",
    "    \n",
    "    # interpolate\n",
    "    n = np.interp(lambda_um, n_ge_list[\"wavel_um\"], n_ge_list[\"n\"])\n",
    "    \n",
    "    return n"
   ]
  },
  {
   "cell_type": "code",
   "execution_count": 7,
   "metadata": {
    "collapsed": false
   },
   "outputs": [],
   "source": [
    "def snell_theta_t(ni, nt, theta_i):\n",
    "    '''\n",
    "    Finds the transmitted angle via Snell's law\n",
    "    \n",
    "    INPUTS:\n",
    "    ni: index of refraction of incident material (ASSUMED CONSTANT HERE)\n",
    "    nt: index of refraction of transmission material\n",
    "    theta_i: incident angle (in deg)\n",
    "    '''\n",
    "    \n",
    "    sin_theta_t = np.divide(ni,nt)*np.sin(theta_i*np.pi/180.)\n",
    "    theta_t = np.arcsin(sin_theta_t)*180./np.pi\n",
    "    \n",
    "    return theta_t"
   ]
  },
  {
   "cell_type": "code",
   "execution_count": 11,
   "metadata": {
    "collapsed": true
   },
   "outputs": [],
   "source": [
    "# see Buscher+ 2015, sec. 1.4\n",
    "\n",
    "def illum_PC(lambda_PC, beta_PC, tao12_PC, x_coord_pre_rot, deg_rot=0):\n",
    "    '''\n",
    "    Generate a pupil image of fringes\n",
    "    \n",
    "    INPUTS:\n",
    "    lambda_PC: wavelength of Phasecam (m)\n",
    "    beta_PC: angle of converging beams (deg)\n",
    "    tao12_PC: phase shift (deg)\n",
    "    x_coord_pre_rot: x pixel coordinate of image, before any rotation\n",
    "    deg_rot: degrees to rotate CW\n",
    "    '''\n",
    "    \n",
    "    # argument of the exp part\n",
    "    arg_exp = np.divide(2*np.pi*1j,lambda_PC)*(2*np.divide(pc_PS*x_coord_pre_rot,206265)*\\\n",
    "                                               np.sin(beta_PC*np.pi/180.) + c*tao12_PC*np.pi/180.)\n",
    "    \n",
    "    # illumination before any rotation\n",
    "    i_x_pre_rot = 1 + np.real(np.exp(arg_exp))\n",
    "    \n",
    "    # apply rotation (+ -> CW)\n",
    "    if (deg_rot != 0):\n",
    "        i_x_post_rot = scipy.ndimage.rotate(i_x_pre_rot, angle=deg_rot)\n",
    "        return i_x_post_rot\n",
    "    else:\n",
    "        return i_x_pre_rot"
   ]
  },
  {
   "cell_type": "code",
   "execution_count": 4,
   "metadata": {
    "collapsed": true
   },
   "outputs": [],
   "source": [
    "# circular mask\n",
    "\n",
    "def create_circular_mask(image, center=None, radius=None):\n",
    "\n",
    "    h, w = np.shape(image)\n",
    "    \n",
    "    if center is None: # use the middle of the image\n",
    "        center = [int(w/2), int(h/2)]\n",
    "    if radius is None: # use the smallest distance between the center and image walls\n",
    "        radius = min(center[0], center[1], w-center[0], h-center[1])\n",
    "\n",
    "    Y, X = np.ogrid[:h, :w]\n",
    "    dist_from_center = np.sqrt((X - center[0])**2 + (Y-center[1])**2)\n",
    "\n",
    "    mask = dist_from_center <= radius\n",
    "    return mask"
   ]
  },
  {
   "cell_type": "code",
   "execution_count": 5,
   "metadata": {
    "collapsed": true
   },
   "outputs": [],
   "source": [
    "# initialize a grid\n",
    "\n",
    "x = np.arange(0, 100)\n",
    "y = np.arange(0, 100)\n",
    "xv, yv = np.meshgrid(x, y)"
   ]
  },
  {
   "cell_type": "code",
   "execution_count": 6,
   "metadata": {
    "collapsed": false
   },
   "outputs": [],
   "source": [
    "pc_image_K = illum_PC(lambda_PC=lambda_K, \n",
    "                beta_PC=45, \n",
    "                tao12_PC=0, \n",
    "                x_coord_pre_rot=xv,\n",
    "                deg_rot=10)\n",
    "mask_circle = create_circular_mask(pc_image_K, radius = 5)\n",
    "pc_image_K = np.multiply(pc_image_K,mask_circle)"
   ]
  },
  {
   "cell_type": "code",
   "execution_count": 10,
   "metadata": {
    "collapsed": false
   },
   "outputs": [],
   "source": [
    "pc_image_H = illum_PC(lambda_PC=lambda_H, \n",
    "                beta_PC=45, \n",
    "                tao12_PC=0, \n",
    "                x_coord_pre_rot=xv,\n",
    "                deg_rot=10)\n",
    "mask_circle = create_circular_mask(pc_image_H, radius = 5)\n",
    "pc_image_H = np.multiply(pc_image_H,mask_circle)"
   ]
  },
  {
   "cell_type": "code",
   "execution_count": 13,
   "metadata": {
    "collapsed": false
   },
   "outputs": [
    {
     "data": {
      "image/png": "[encoded data removed]",
      "text/plain": [
       "<Figure size 432x288 with 2 Axes>"
      ]
     },
     "metadata": {
      "needs_background": "light"
     },
     "output_type": "display_data"
    }
   ],
   "source": [
    "plt.imshow(pc_image_K, origin=\"lower\")\n",
    "plt.colorbar()\n",
    "plt.show()"
   ]
  },
  {
   "cell_type": "code",
   "execution_count": 14,
   "metadata": {
    "collapsed": false
   },
   "outputs": [
    {
     "data": {
      "image/png": "[encoded data removed]",
      "text/plain": [
       "<Figure size 432x288 with 2 Axes>"
      ]
     },
     "metadata": {
      "needs_background": "light"
     },
     "output_type": "display_data"
    }
   ],
   "source": [
    "plt.imshow(pc_image_H, origin=\"lower\")\n",
    "plt.colorbar()\n",
    "plt.show()"
   ]
  },
  {
   "cell_type": "code",
   "execution_count": 15,
   "metadata": {
    "collapsed": false
   },
   "outputs": [],
   "source": [
    "# write FITS\n",
    "\n",
    "hdu = fits.PrimaryHDU(pc_image_K)\n",
    "hdul = fits.HDUList([hdu])\n",
    "hdul.writeto('junk_K.fits', overwrite=True)"
   ]
  },
  {
   "cell_type": "code",
   "execution_count": 16,
   "metadata": {
    "collapsed": false
   },
   "outputs": [],
   "source": [
    "# write FITS\n",
    "\n",
    "hdu = fits.PrimaryHDU(pc_image_H)\n",
    "hdul = fits.HDUList([hdu])\n",
    "hdul.writeto('junk_H.fits', overwrite=True)"
   ]
  },
  {
   "cell_type": "code",
   "execution_count": null,
   "metadata": {
    "collapsed": true
   },
   "outputs": [],
   "source": []
  }
 ],
 "metadata": {
  "kernelspec": {
   "display_name": "Python 3",
   "language": "python",
   "name": "python3"
  },
  "language_info": {
   "codemirror_mode": {
    "name": "ipython",
    "version": 3
   },
   "file_extension": ".py",
   "mimetype": "text/x-python",
   "name": "python",
   "nbconvert_exporter": "python",
   "pygments_lexer": "ipython3",
   "version": "3.5.4"
  }
 },
 "nbformat": 4,
 "nbformat_minor": 0
}
