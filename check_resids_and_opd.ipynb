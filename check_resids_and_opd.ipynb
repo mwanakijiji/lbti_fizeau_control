{
 "cells": [
  {
   "cell_type": "code",
   "execution_count": 1,
   "metadata": {
    "collapsed": true
   },
   "outputs": [],
   "source": [
    "# This notebook reads in .csvs containing correlation residuals from Fizeau\n",
    "# grism PSFs and plots them as a function of OPD (or translation/piezo piston)\n",
    "# to see if we really have passed over zero OPD\n",
    "\n",
    "# created 2018 Dec 21 by E.S."
   ]
  },
  {
   "cell_type": "code",
   "execution_count": 1,
   "metadata": {
    "collapsed": true
   },
   "outputs": [],
   "source": [
    "import numpy as np\n",
    "import matplotlib.pyplot as plt\n",
    "import pandas as pd\n",
    "% matplotlib inline"
   ]
  },
  {
   "cell_type": "code",
   "execution_count": 2,
   "metadata": {
    "collapsed": true
   },
   "outputs": [],
   "source": [
    "###################################"
   ]
  },
  {
   "cell_type": "markdown",
   "metadata": {},
   "source": [
    "# Test residuals of grism scan"
   ]
  },
  {
   "cell_type": "code",
   "execution_count": 3,
   "metadata": {
    "collapsed": true
   },
   "outputs": [],
   "source": [
    "df = pd.read_csv(\"resids_test.csv\")"
   ]
  },
  {
   "cell_type": "code",
   "execution_count": 4,
   "metadata": {
    "collapsed": false
   },
   "outputs": [
    {
     "data": {
      "text/plain": [
       "Index(['Unnamed: 0', 'step', 'spc_trans_position', 'spc_trans_position_opd_um',\n",
       "       'hpc_piezo_piston', 'hpc_piezo_piston_opd_um', 'fpc_piezo_piston',\n",
       "       'fpc_piezo_piston_opd_um', 'resid'],\n",
       "      dtype='object')"
      ]
     },
     "execution_count": 4,
     "metadata": {},
     "output_type": "execute_result"
    }
   ],
   "source": [
    "df.keys()"
   ]
  },
  {
   "cell_type": "code",
   "execution_count": 7,
   "metadata": {
    "collapsed": true
   },
   "outputs": [],
   "source": [
    "# coefficients of fit\n",
    "\n",
    "coeffs = [1.09819684e+05, -8.94695081e+10,  1.82191771e+16]"
   ]
  },
  {
   "cell_type": "code",
   "execution_count": 8,
   "metadata": {
    "collapsed": false
   },
   "outputs": [],
   "source": [
    "y_series = coeffs[2] + coeffs[1]*df[\"spc_trans_position\"] + coeffs[0]*df[\"spc_trans_position\"]**2"
   ]
  },
  {
   "cell_type": "code",
   "execution_count": 10,
   "metadata": {
    "collapsed": false
   },
   "outputs": [
    {
     "data": {
      "image/png": "[encoded data removed]",
      "text/plain": [
       "<Figure size 432x288 with 1 Axes>"
      ]
     },
     "metadata": {
      "needs_background": "light"
     },
     "output_type": "display_data"
    },
    {
     "data": {
      "text/plain": [
       "<Figure size 432x288 with 0 Axes>"
      ]
     },
     "metadata": {},
     "output_type": "display_data"
    }
   ],
   "source": [
    "## do I want np.abs(df[\"resid\"]) instead?\n",
    "\n",
    "plt.plot(df[\"spc_trans_position\"],df[\"resid\"])\n",
    "plt.scatter(df[\"spc_trans_position\"],df[\"resid\"])\n",
    "plt.plot(df[\"spc_trans_position\"], y_series)\n",
    "plt.show()\n",
    "plt.savefig('scan_test_polyn.png')"
   ]
  },
  {
   "cell_type": "code",
   "execution_count": 23,
   "metadata": {
    "collapsed": false
   },
   "outputs": [
    {
     "data": {
      "text/plain": [
       "0    416851.0\n",
       "1    416876.0\n",
       "2    416901.0\n",
       "3    416926.0\n",
       "Name: spc_trans_position, dtype: float64"
      ]
     },
     "execution_count": 23,
     "metadata": {},
     "output_type": "execute_result"
    }
   ],
   "source": [
    "df[\"spc_trans_position\"]"
   ]
  },
  {
   "cell_type": "markdown",
   "metadata": {
    "collapsed": true
   },
   "source": [
    "# Test FFT quantities from a series of Fizeau Airy PSFs, to see of it makes sense to base a correction off a median"
   ]
  },
  {
   "cell_type": "code",
   "execution_count": 2,
   "metadata": {
    "collapsed": false
   },
   "outputs": [],
   "source": [
    "fftInfo_amp = pd.read_csv(\"fft_amp.csv\")\n",
    "fftInfo_arg = pd.read_csv(\"fft_arg.csv\")"
   ]
  },
  {
   "cell_type": "code",
   "execution_count": 3,
   "metadata": {
    "collapsed": false
   },
   "outputs": [
    {
     "data": {
      "text/plain": [
       "Index(['Unnamed: 0', 'med_highFreqPerfect_L', 'med_highFreqPerfect_R',\n",
       "       'med_lowFreqPerfect', 'med_rect', 'normVec_highFreqPerfect_L',\n",
       "       'normVec_highFreqPerfect_R', 'normVec_highFreqPerfect_R_x',\n",
       "       'normVec_highFreqPerfect_R_y', 'normVec_lowFreqPerfect',\n",
       "       'normVec_lowFreqPerfect_x', 'normVec_lowFreqPerfect_y', 'normVec_rect',\n",
       "       'std_highFreqPerfect_L', 'std_highFreqPerfect_R', 'std_lowFreqPerfect',\n",
       "       'std_rect', 'time'],\n",
       "      dtype='object')"
      ]
     },
     "execution_count": 3,
     "metadata": {},
     "output_type": "execute_result"
    }
   ],
   "source": [
    "fftInfo_amp.keys()"
   ]
  },
  {
   "cell_type": "code",
   "execution_count": 4,
   "metadata": {
    "collapsed": false
   },
   "outputs": [
    {
     "data": {
      "text/plain": [
       "Index(['Unnamed: 0', 'med_highFreqPerfect_L', 'med_highFreqPerfect_R',\n",
       "       'med_lowFreqPerfect', 'med_rect', 'normVec_highFreqPerfect_L',\n",
       "       'normVec_highFreqPerfect_R', 'normVec_highFreqPerfect_R_x',\n",
       "       'normVec_highFreqPerfect_R_y', 'normVec_lowFreqPerfect',\n",
       "       'normVec_lowFreqPerfect_x', 'normVec_lowFreqPerfect_y', 'normVec_rect',\n",
       "       'std_highFreqPerfect_L', 'std_highFreqPerfect_R', 'std_lowFreqPerfect',\n",
       "       'std_rect', 'time'],\n",
       "      dtype='object')"
      ]
     },
     "execution_count": 4,
     "metadata": {},
     "output_type": "execute_result"
    }
   ],
   "source": [
    "fftInfo_arg.keys()"
   ]
  },
  {
   "cell_type": "markdown",
   "metadata": {},
   "source": [
    "# Overlap of the Airy PSF, or TT in Fizeau PSF: med_highFreqPerfect_R\n",
    "# (see also phase gradient further below; this can indicate TT)"
   ]
  },
  {
   "cell_type": "code",
   "execution_count": 5,
   "metadata": {
    "collapsed": false
   },
   "outputs": [
    {
     "data": {
      "image/png": "[encoded data removed]",
      "text/plain": [
       "<Figure size 432x288 with 1 Axes>"
      ]
     },
     "metadata": {
      "needs_background": "light"
     },
     "output_type": "display_data"
    }
   ],
   "source": [
    "plt.title(\"Overlap of the Airy PSF, or TT in \\nFizeau PSF: std_lowFreqPerfect\")\n",
    "plt.plot(fftInfo_arg[\"std_lowFreqPerfect\"])\n",
    "plt.axhline(np.median(fftInfo_arg[\"std_lowFreqPerfect\"]), linestyle='--')\n",
    "#plt.scatter(df[\"spc_trans_position\"],df[\"resid\"])\n",
    "plt.show()\n",
    "#plt.savefig('')"
   ]
  },
  {
   "cell_type": "markdown",
   "metadata": {},
   "source": [
    "# High-freq fringe visibility (median)"
   ]
  },
  {
   "cell_type": "code",
   "execution_count": 6,
   "metadata": {
    "collapsed": false
   },
   "outputs": [
    {
     "data": {
      "image/png": "[encoded data removed]",
      "text/plain": [
       "<Figure size 432x288 with 1 Axes>"
      ]
     },
     "metadata": {
      "needs_background": "light"
     },
     "output_type": "display_data"
    }
   ],
   "source": [
    "plt.title(\"Overlap of the Airy PSF, or TT in \\nFizeau PSF: med_highFreqPerfect_R\")\n",
    "plt.plot(fftInfo_amp[\"med_highFreqPerfect_R\"])\n",
    "plt.axhline(np.median(fftInfo_amp[\"med_highFreqPerfect_R\"]), linestyle='--')\n",
    "#plt.scatter(df[\"spc_trans_position\"],df[\"resid\"])\n",
    "plt.show()\n",
    "#plt.savefig('')"
   ]
  },
  {
   "cell_type": "markdown",
   "metadata": {},
   "source": [
    "# Staircase phase? (can indicate nonzero OPD)"
   ]
  },
  {
   "cell_type": "code",
   "execution_count": 7,
   "metadata": {
    "collapsed": false
   },
   "outputs": [
    {
     "data": {
      "image/png": "[encoded data removed]",
      "text/plain": [
       "<Figure size 432x288 with 1 Axes>"
      ]
     },
     "metadata": {
      "needs_background": "light"
     },
     "output_type": "display_data"
    }
   ],
   "source": [
    "plt.title(\"Check for staircase phase\")\n",
    "plt.plot(fftInfo_arg[\"med_highFreqPerfect_R\"], color = 'blue')\n",
    "plt.plot(fftInfo_arg[\"med_lowFreqPerfect\"], color = 'red')\n",
    "#plt.scatter(df[\"spc_trans_position\"],df[\"resid\"])\n",
    "plt.show()\n",
    "#plt.savefig('')"
   ]
  },
  {
   "cell_type": "markdown",
   "metadata": {},
   "source": [
    "# Phase gradients"
   ]
  },
  {
   "cell_type": "code",
   "execution_count": 8,
   "metadata": {
    "collapsed": false
   },
   "outputs": [],
   "source": [
    "# high-freq node\n",
    "x_grad_high = fftInfo_arg[\"normVec_highFreqPerfect_R_x\"]\n",
    "y_grad_high = fftInfo_arg[\"normVec_highFreqPerfect_R_y\"]\n",
    "sqrtx2y2_high = np.sqrt(np.add(np.power(x_grad_high,2),np.power(y_grad_high,2)))\n",
    "\n",
    "# low-freq node\n",
    "x_grad_low = fftInfo_arg[\"normVec_lowFreqPerfect_x\"]\n",
    "y_grad_low = fftInfo_arg[\"normVec_lowFreqPerfect_y\"]\n",
    "sqrtx2y2_low = np.sqrt(np.add(np.power(x_grad_low,2),np.power(y_grad_low,2)))"
   ]
  },
  {
   "cell_type": "code",
   "execution_count": 9,
   "metadata": {
    "collapsed": false
   },
   "outputs": [
    {
     "data": {
      "image/png": "[encoded data removed]",
      "text/plain": [
       "<Figure size 432x288 with 1 Axes>"
      ]
     },
     "metadata": {
      "needs_background": "light"
     },
     "output_type": "display_data"
    }
   ],
   "source": [
    "plt.title(\"Phase gradients of high freq node\\nred: x; blue: y\")\n",
    "plt.plot(x_grad_high, color=\"red\")\n",
    "plt.plot(y_grad_high, color=\"blue\")\n",
    "plt.plot(sqrtx2y2_high, color=\"k\")\n",
    "plt.axhline(np.median(x_grad_high), linestyle='--')\n",
    "plt.axhline(np.median(y_grad_high), linestyle=':')\n",
    "#plt.scatter(df[\"spc_trans_position\"],df[\"resid\"])\n",
    "plt.show()\n",
    "#plt.savefig('')"
   ]
  },
  {
   "cell_type": "code",
   "execution_count": 18,
   "metadata": {
    "collapsed": false
   },
   "outputs": [
    {
     "data": {
      "image/png": "[encoded data removed]",
      "text/plain": [
       "<Figure size 432x288 with 1 Axes>"
      ]
     },
     "metadata": {
      "needs_background": "light"
     },
     "output_type": "display_data"
    }
   ],
   "source": [
    "plt.title(\"Phase gradients of low freq node\\nred: x; blue: y\")\n",
    "plt.plot(x_grad_low, color=\"red\")\n",
    "plt.plot(y_grad_low, color=\"blue\")\n",
    "plt.plot(sqrtx2y2_low, color=\"k\")\n",
    "plt.axhline(np.median(x_grad_low), linestyle='--')\n",
    "plt.axhline(np.median(y_grad_low), linestyle=':')\n",
    "#plt.scatter(df[\"spc_trans_position\"],df[\"resid\"])\n",
    "plt.show()\n",
    "#plt.savefig('')"
   ]
  },
  {
   "cell_type": "code",
   "execution_count": null,
   "metadata": {
    "collapsed": true
   },
   "outputs": [],
   "source": []
  }
 ],
 "metadata": {
  "kernelspec": {
   "display_name": "Python 3",
   "language": "python",
   "name": "python3"
  },
  "language_info": {
   "codemirror_mode": {
    "name": "ipython",
    "version": 3
   },
   "file_extension": ".py",
   "mimetype": "text/x-python",
   "name": "python",
   "nbconvert_exporter": "python",
   "pygments_lexer": "ipython3",
   "version": "3.5.4"
  }
 },
 "nbformat": 4,
 "nbformat_minor": 1
}
